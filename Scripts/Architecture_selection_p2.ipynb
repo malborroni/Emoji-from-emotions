{
  "nbformat": 4,
  "nbformat_minor": 0,
  "metadata": {
    "colab": {
      "name": "Architecture_selection-p2.ipynb",
      "provenance": [],
      "collapsed_sections": [],
      "toc_visible": true,
      "machine_shape": "hm"
    },
    "kernelspec": {
      "name": "python3",
      "display_name": "Python 3"
    },
    "accelerator": "GPU"
  },
  "cells": [
    {
      "cell_type": "markdown",
      "metadata": {
        "id": "view-in-github",
        "colab_type": "text"
      },
      "source": [
        "<a href=\"https://colab.research.google.com/github/malborroni/RECMojion/blob/master/CNN.ipynb\" target=\"_parent\"><img src=\"https://colab.research.google.com/assets/colab-badge.svg\" alt=\"Open In Colab\"/></a>"
      ]
    },
    {
      "cell_type": "markdown",
      "metadata": {
        "id": "RLDHG0X9zF1_",
        "colab_type": "text"
      },
      "source": [
        "# Librerie"
      ]
    },
    {
      "cell_type": "code",
      "metadata": {
        "id": "70BdwpFflJUu",
        "colab_type": "code",
        "outputId": "e5d4a66e-058f-4fdd-86e8-d8c6b87e410f",
        "colab": {
          "base_uri": "https://localhost:8080/",
          "height": 339
        }
      },
      "source": [
        "! sudo pip install git+https://github.com/rcmalli/keras-vggface.git"
      ],
      "execution_count": 3,
      "outputs": [
        {
          "output_type": "stream",
          "text": [
            "Collecting git+https://github.com/rcmalli/keras-vggface.git\n",
            "  Cloning https://github.com/rcmalli/keras-vggface.git to /tmp/pip-req-build-t6vcr5z7\n",
            "  Running command git clone -q https://github.com/rcmalli/keras-vggface.git /tmp/pip-req-build-t6vcr5z7\n",
            "Requirement already satisfied (use --upgrade to upgrade): keras-vggface==0.6 from git+https://github.com/rcmalli/keras-vggface.git in /usr/local/lib/python3.6/dist-packages\n",
            "Requirement already satisfied: numpy>=1.9.1 in /usr/local/lib/python3.6/dist-packages (from keras-vggface==0.6) (1.17.5)\n",
            "Requirement already satisfied: scipy>=0.14 in /usr/local/lib/python3.6/dist-packages (from keras-vggface==0.6) (1.4.1)\n",
            "Requirement already satisfied: h5py in /usr/local/lib/python3.6/dist-packages (from keras-vggface==0.6) (2.8.0)\n",
            "Requirement already satisfied: pillow in /usr/local/lib/python3.6/dist-packages (from keras-vggface==0.6) (6.2.2)\n",
            "Requirement already satisfied: keras in /usr/local/lib/python3.6/dist-packages (from keras-vggface==0.6) (2.2.5)\n",
            "Requirement already satisfied: six>=1.9.0 in /usr/local/lib/python3.6/dist-packages (from keras-vggface==0.6) (1.12.0)\n",
            "Requirement already satisfied: pyyaml in /usr/local/lib/python3.6/dist-packages (from keras-vggface==0.6) (3.13)\n",
            "Requirement already satisfied: keras-applications>=1.0.8 in /usr/local/lib/python3.6/dist-packages (from keras->keras-vggface==0.6) (1.0.8)\n",
            "Requirement already satisfied: keras-preprocessing>=1.1.0 in /usr/local/lib/python3.6/dist-packages (from keras->keras-vggface==0.6) (1.1.0)\n",
            "Building wheels for collected packages: keras-vggface\n",
            "  Building wheel for keras-vggface (setup.py) ... \u001b[?25l\u001b[?25hdone\n",
            "  Created wheel for keras-vggface: filename=keras_vggface-0.6-cp36-none-any.whl size=8311 sha256=be267561bd8e2a32dab5b222d6ae93e1b8b9b6bd1739bbc36ddd37a6272b9314\n",
            "  Stored in directory: /tmp/pip-ephem-wheel-cache-_p_yz70t/wheels/36/07/46/06c25ce8e9cd396dabe151ea1d8a2bc28dafcb11321c1f3a6d\n",
            "Successfully built keras-vggface\n"
          ],
          "name": "stdout"
        }
      ]
    },
    {
      "cell_type": "code",
      "metadata": {
        "id": "8qN64RcDITqM",
        "colab_type": "code",
        "colab": {}
      },
      "source": [
        "# Example of face detection with a vggface2 model\n",
        "import numpy as np\n",
        "import cv2 as cv\n",
        "import matplotlib.pyplot as plt\n",
        "import pandas as pd\n",
        "import random as rnd\n",
        "\n",
        "import seaborn as sns\n",
        "from matplotlib import style\n",
        "style.use('seaborn-pastel')\n",
        "\n",
        "import keras\n",
        "from keras.layers import Dense, Dropout, Flatten, Activation, Conv2D, MaxPooling2D\n",
        "from keras.models import Model, Sequential, load_model\n",
        "from keras.utils import to_categorical\n",
        "from keras.applications.mobilenet_v2 import MobileNetV2, preprocess_input\n",
        "import keras_vggface\n",
        "from keras_vggface.vggface import VGGFace\n",
        "from keras_vggface.utils import preprocess_input, decode_predictions\n",
        "from keras import regularizers\n",
        "from keras.callbacks import EarlyStopping, ModelCheckpoint \n",
        "from sklearn.metrics import accuracy_score, classification_report, confusion_matrix\n",
        "\n",
        "import os\n",
        "from sklearn.preprocessing import LabelEncoder\n",
        "from sklearn.model_selection import train_test_split,StratifiedKFold\n",
        "\n",
        "import random\n",
        "import pickle"
      ],
      "execution_count": 0,
      "outputs": []
    },
    {
      "cell_type": "code",
      "metadata": {
        "id": "C__a-Uam2wZ4",
        "colab_type": "code",
        "colab": {}
      },
      "source": [
        "# fix random seed for reproducibility\n",
        "seed = 42\n",
        "np.random.seed(seed)"
      ],
      "execution_count": 0,
      "outputs": []
    },
    {
      "cell_type": "markdown",
      "metadata": {
        "id": "wImN4Bm8FyeX",
        "colab_type": "text"
      },
      "source": [
        "# Funzioni"
      ]
    },
    {
      "cell_type": "code",
      "metadata": {
        "id": "wZnf56LVu-Tn",
        "colab_type": "code",
        "colab": {}
      },
      "source": [
        "def graph(history):\n",
        "  # funzione che prende in input il modello fittato e fa un plot della loss in validation e train\n",
        "  epochs=len(history.history['loss'])\n",
        "  x_plot = list(range(1,epochs+1))\n",
        "  plt.figure()\n",
        "  \n",
        "  plt.subplot(1, 2, 1)\n",
        "  plt.xlabel('Epochs')\n",
        "  plt.ylabel('Loss')\n",
        "  plt.plot(x_plot, history.history['loss'])\n",
        "  plt.plot(x_plot, history.history['val_loss'])\n",
        "  plt.legend(['Training', 'Validation'])\n",
        "\n",
        "  \n",
        "  plt.subplot(1, 2, 2)\n",
        "  plt.xlabel('Epochs')\n",
        "  plt.ylabel('Acc')\n",
        "  plt.plot(x_plot, history.history['acc'])\n",
        "  plt.plot(x_plot, history.history['val_acc'])\n",
        "  plt.legend(['Training', 'Validation'])\n",
        "  \n",
        "  plt.tight_layout()\n",
        "  plt.show()\n"
      ],
      "execution_count": 0,
      "outputs": []
    },
    {
      "cell_type": "markdown",
      "metadata": {
        "id": "HBb8ltGpzJZ4",
        "colab_type": "text"
      },
      "source": [
        "#Dataset"
      ]
    },
    {
      "cell_type": "markdown",
      "metadata": {
        "id": "QSU2PFz-HMpI",
        "colab_type": "text"
      },
      "source": [
        "Il dataset si trova in un file chiamato XY.pkl nel drive "
      ]
    },
    {
      "cell_type": "code",
      "metadata": {
        "id": "_cxeiY2HG5BH",
        "colab_type": "code",
        "outputId": "f38b93c0-ea21-4407-8b88-4366f140bbce",
        "colab": {
          "base_uri": "https://localhost:8080/",
          "height": 126
        }
      },
      "source": [
        "from google.colab import drive\n",
        "drive.mount('/content/drive')"
      ],
      "execution_count": 7,
      "outputs": [
        {
          "output_type": "stream",
          "text": [
            "Go to this URL in a browser: https://accounts.google.com/o/oauth2/auth?client_id=947318989803-6bn6qk8qdgf4n4g3pfee6491hc0brc4i.apps.googleusercontent.com&redirect_uri=urn%3aietf%3awg%3aoauth%3a2.0%3aoob&response_type=code&scope=email%20https%3a%2f%2fwww.googleapis.com%2fauth%2fdocs.test%20https%3a%2f%2fwww.googleapis.com%2fauth%2fdrive%20https%3a%2f%2fwww.googleapis.com%2fauth%2fdrive.photos.readonly%20https%3a%2f%2fwww.googleapis.com%2fauth%2fpeopleapi.readonly\n",
            "\n",
            "Enter your authorization code:\n",
            "··········\n",
            "Mounted at /content/drive\n"
          ],
          "name": "stdout"
        }
      ]
    },
    {
      "cell_type": "code",
      "metadata": {
        "id": "nIDLsPlfbLvG",
        "colab_type": "code",
        "colab": {}
      },
      "source": [
        "data = np.load('/content/drive/My Drive/data_prep.npz')"
      ],
      "execution_count": 0,
      "outputs": []
    },
    {
      "cell_type": "code",
      "metadata": {
        "id": "xs-6IWngzoWK",
        "colab_type": "code",
        "outputId": "93d4e296-34af-46d5-e171-0ed348de642b",
        "colab": {
          "base_uri": "https://localhost:8080/",
          "height": 71
        }
      },
      "source": [
        "# training set\n",
        "x_train = data['x_train_fe']\n",
        "y_train = data['y_train']\n",
        "\n",
        "# validation set\n",
        "x_val = data['x_val_fe']\n",
        "y_val = data['y_val']\n",
        "\n",
        "# test set\n",
        "x_test = data['x_test_fe']\n",
        "y_test = data['y_test']\n",
        "\n",
        "print('Shape del training set: {} --- {}\\nShape del validation set: {} --- {}\\nShape del test set: {} --- {}'. format(x_train.shape, y_train.shape,\n",
        "                                                                                                                 x_val.shape, y_val.shape,\n",
        "                                                                                                                 x_test.shape, y_test.shape))"
      ],
      "execution_count": 9,
      "outputs": [
        {
          "output_type": "stream",
          "text": [
            "Shape del training set: (2157, 14, 14, 1024) --- (2157,)\n",
            "Shape del validation set: (415, 14, 14, 1024) --- (415,)\n",
            "Shape del test set: (518, 14, 14, 1024) --- (518,)\n"
          ],
          "name": "stdout"
        }
      ]
    },
    {
      "cell_type": "code",
      "metadata": {
        "id": "rjCAYz44hIHT",
        "colab_type": "code",
        "colab": {}
      },
      "source": [
        "le = LabelEncoder()\n",
        "y_train = le.fit_transform(y_train)\n",
        "y_train = to_categorical(y_train, num_classes = 7)\n",
        "y_test = le.fit_transform(y_test)\n",
        "y_test = to_categorical(y_test, num_classes = 7)\n",
        "y_val = le.fit_transform(y_val)\n",
        "y_val = to_categorical(y_val, num_classes = 7)"
      ],
      "execution_count": 0,
      "outputs": []
    },
    {
      "cell_type": "code",
      "metadata": {
        "id": "7t6d7920v-Ey",
        "colab_type": "code",
        "colab": {}
      },
      "source": [
        "def create_model(C=1,D=1):\n",
        "  # Create model\n",
        "  model = Sequential()\n",
        "  # C1\n",
        "  model.add(Conv2D(32, kernel_size=1, activation='relu', input_shape=(14, 14, 1024)))\n",
        "  model.add(Conv2D(128, kernel_size=3, activation='relu'))\n",
        "  model.add(Conv2D(32, kernel_size=1, activation='relu'))\n",
        "  # C2\n",
        "  if(C>1):\n",
        "    model.add(MaxPooling2D(pool_size=(2, 2)))\n",
        "    model.add(Conv2D(32, kernel_size=1, activation='relu'))\n",
        "  # C3\n",
        "  if(C>2):\n",
        "    model.add(Conv2D(32, kernel_size=3, activation='relu'))\n",
        "    model.add(Conv2D(32, kernel_size=1, activation='relu'))\n",
        "  \n",
        "  model.add(Flatten())\n",
        "  \n",
        "  # D1\n",
        "  model.add(Dense(112, activation='relu',kernel_regularizer=regularizers.l2(0.01)))\n",
        "  model.add(Dropout(0.5))\n",
        "  # D2\n",
        "  if(D>1):\n",
        "    model.add(Dense(56, activation='relu',kernel_regularizer=regularizers.l2(0.01)))\n",
        "    model.add(Dropout(0.3))\n",
        "  # D3\n",
        "  if(D>2):\n",
        "    model.add(Dense(21, activation='relu',kernel_regularizer=regularizers.l2(0.01)))\n",
        "    model.add(Dropout(0.3))\n",
        "  \n",
        "  model.add(Dense(7, activation='softmax'))\n",
        "\n",
        "  # Compile model\n",
        "  model.compile(loss=keras.losses.categorical_crossentropy,\n",
        "              optimizer=keras.optimizers.Adam(),\n",
        "              metrics=['acc'])\n",
        "  \n",
        "  # name\n",
        "  if C == 2 and D == 3:\n",
        "    string_name = 'C1-C2-D1-D2-D3'\n",
        "    model.name = string_name\n",
        "  if C == 1 and D == 3:\n",
        "    string_name = 'C1-D1-D2-D3'\n",
        "    model.name = string_name\n",
        "  if C == 2 and D == 2:\n",
        "    string_name = 'C1-C2-D1-D2'\n",
        "    model.name = string_name\n",
        "  if C == 1 and D == 2:\n",
        "    string_name = 'C1-D1-D2'\n",
        "    model.name = string_name\n",
        "\n",
        "  return model"
      ],
      "execution_count": 0,
      "outputs": []
    },
    {
      "cell_type": "code",
      "metadata": {
        "id": "ib8QICoS1ag6",
        "colab_type": "code",
        "colab": {}
      },
      "source": [
        "results = dict()"
      ],
      "execution_count": 0,
      "outputs": []
    },
    {
      "cell_type": "code",
      "metadata": {
        "id": "u4hNvb8NwUnG",
        "colab_type": "code",
        "outputId": "023d6368-8fa0-4250-fa4c-098f05c75d37",
        "colab": {
          "base_uri": "https://localhost:8080/",
          "height": 1000
        }
      },
      "source": [
        "# config model\n",
        "batch_size = 128\n",
        "num_epoch = 100\n",
        "\n",
        "\n",
        "acc_scores_tmp= []\n",
        "loss_scores_tmp = []\n",
        "fold = 10\n",
        "\n",
        "for i in range(fold):\n",
        "  model = create_model(C=1, D=2)\n",
        "  name_model = model.name\n",
        "  print('Start {}/{} in Model: {}'.format(i+1, fold, name_model))\n",
        "  # callbacks\n",
        "  filepath = \"/content/drive/My Drive/Colab Notebooks/AML/{}.h5\".format(name_model)\n",
        "  checkpoint = ModelCheckpoint(filepath, monitor='val_acc', verbose=0, save_best_only=True, mode='max')\n",
        "  early_stop = EarlyStopping(monitor='val_loss', patience=4, verbose=1,restore_best_weights=True) \n",
        "  callbacks_list = [early_stop, checkpoint]\n",
        "  \n",
        "  model.compile(loss=keras.losses.categorical_crossentropy,\n",
        "                    optimizer=keras.optimizers.Adam(),\n",
        "                    metrics=['acc'])\n",
        "        \n",
        "  # Fit the model\n",
        "  model_log = model.fit(x_train, y_train,\n",
        "          batch_size=batch_size,\n",
        "          epochs=num_epoch,\n",
        "          verbose=0,\n",
        "          validation_data=(x_val, y_val),\n",
        "          callbacks=callbacks_list)\n",
        "\n",
        "  # visualize graph\n",
        "  # graph(model_log)\n",
        "\n",
        "  # Evaluate the model\n",
        "  # model.load_weights(filepath)\n",
        "  scores = model.evaluate(x_test, y_test, verbose=1)\n",
        "  accuracy = 100*scores[1]\n",
        "  loss = scores[0]\n",
        "  print(\"Post-training accuracy: {} %\".format(round(accuracy, 3)))\n",
        "  print(\"Post-training loss: {}\".format(round(loss, 4)))\n",
        "  acc_scores_tmp.append(accuracy)\n",
        "  loss_scores_tmp.append(loss)\n",
        "\n",
        "results[model.name] = (np.mean(acc_scores_tmp), np.std(acc_scores_tmp), np.mean(loss_scores_tmp), np.std(loss_scores_tmp))\n"
      ],
      "execution_count": 46,
      "outputs": [
        {
          "output_type": "stream",
          "text": [
            "Start 1/10 in Model: C1-D1-D2\n",
            "Restoring model weights from the end of the best epoch\n",
            "Epoch 00026: early stopping\n",
            "518/518 [==============================] - 0s 484us/step\n",
            "Post-training accuracy: 91.313 %\n",
            "Post-training loss: 0.507\n",
            "Start 2/10 in Model: C1-D1-D2\n",
            "Restoring model weights from the end of the best epoch\n",
            "Epoch 00023: early stopping\n",
            "518/518 [==============================] - 0s 487us/step\n",
            "Post-training accuracy: 90.927 %\n",
            "Post-training loss: 0.5191\n",
            "Start 3/10 in Model: C1-D1-D2\n",
            "Restoring model weights from the end of the best epoch\n",
            "Epoch 00021: early stopping\n",
            "518/518 [==============================] - 0s 513us/step\n",
            "Post-training accuracy: 89.768 %\n",
            "Post-training loss: 0.6003\n",
            "Start 4/10 in Model: C1-D1-D2\n",
            "Restoring model weights from the end of the best epoch\n",
            "Epoch 00033: early stopping\n",
            "518/518 [==============================] - 0s 498us/step\n",
            "Post-training accuracy: 91.506 %\n",
            "Post-training loss: 0.4507\n",
            "Start 5/10 in Model: C1-D1-D2\n",
            "Restoring model weights from the end of the best epoch\n",
            "Epoch 00021: early stopping\n",
            "518/518 [==============================] - 0s 519us/step\n",
            "Post-training accuracy: 89.961 %\n",
            "Post-training loss: 0.6044\n",
            "Start 6/10 in Model: C1-D1-D2\n",
            "Restoring model weights from the end of the best epoch\n",
            "Epoch 00038: early stopping\n",
            "518/518 [==============================] - 0s 507us/step\n",
            "Post-training accuracy: 90.734 %\n",
            "Post-training loss: 0.4215\n",
            "Start 7/10 in Model: C1-D1-D2\n",
            "Restoring model weights from the end of the best epoch\n",
            "Epoch 00031: early stopping\n",
            "518/518 [==============================] - 0s 518us/step\n",
            "Post-training accuracy: 91.313 %\n",
            "Post-training loss: 0.4438\n",
            "Start 8/10 in Model: C1-D1-D2\n",
            "Restoring model weights from the end of the best epoch\n",
            "Epoch 00024: early stopping\n",
            "518/518 [==============================] - 0s 493us/step\n",
            "Post-training accuracy: 91.506 %\n",
            "Post-training loss: 0.5547\n",
            "Start 9/10 in Model: C1-D1-D2\n",
            "Restoring model weights from the end of the best epoch\n",
            "Epoch 00030: early stopping\n",
            "518/518 [==============================] - 0s 505us/step\n",
            "Post-training accuracy: 92.085 %\n",
            "Post-training loss: 0.4459\n",
            "Start 10/10 in Model: C1-D1-D2\n",
            "Restoring model weights from the end of the best epoch\n",
            "Epoch 00031: early stopping\n",
            "518/518 [==============================] - 0s 503us/step\n",
            "Post-training accuracy: 91.313 %\n",
            "Post-training loss: 0.4292\n"
          ],
          "name": "stdout"
        }
      ]
    },
    {
      "cell_type": "code",
      "metadata": {
        "id": "pCyQgpodHzEJ",
        "colab_type": "code",
        "outputId": "0a9ead80-e395-493d-8557-88c4dc4cb97d",
        "colab": {
          "base_uri": "https://localhost:8080/",
          "height": 303
        }
      },
      "source": [
        "results"
      ],
      "execution_count": 47,
      "outputs": [
        {
          "output_type": "execute_result",
          "data": {
            "text/plain": [
              "{'C1-C2-D1-D2': (89.7490347582401,\n",
              "  0.8256140956987499,\n",
              "  0.580214705200269,\n",
              "  0.06162796557299608),\n",
              " 'C1-C2-D1-D2-D3': (86.31274132539866,\n",
              "  4.834317586350704,\n",
              "  0.6827254400059983,\n",
              "  0.10628690698927971),\n",
              " 'C1-D1-D2': (91.04247105167642,\n",
              "  0.6808954471733075,\n",
              "  0.4976640829938718,\n",
              "  0.06634651321456955),\n",
              " 'C1-D1-D2-D3': (90.65637066557602,\n",
              "  1.1130143019526728,\n",
              "  0.6422132091172414,\n",
              "  0.07035462879079615)}"
            ]
          },
          "metadata": {
            "tags": []
          },
          "execution_count": 47
        }
      ]
    },
    {
      "cell_type": "code",
      "metadata": {
        "id": "Ou7NDYK-93NS",
        "colab_type": "code",
        "colab": {}
      },
      "source": [
        "results_copy = results.copy()"
      ],
      "execution_count": 0,
      "outputs": []
    },
    {
      "cell_type": "code",
      "metadata": {
        "id": "-DJAd6iOs-8j",
        "colab_type": "code",
        "colab": {}
      },
      "source": [
        "import json"
      ],
      "execution_count": 0,
      "outputs": []
    },
    {
      "cell_type": "code",
      "metadata": {
        "id": "-hW69cKVxBol",
        "colab_type": "code",
        "colab": {}
      },
      "source": [
        "json = json.dumps(results)\n",
        "\n",
        "f = open(\"/content/drive/My Drive/Colab Notebooks/AML/result_architecture_selection_max.json\",\"w\")\n",
        "f.write(json)\n",
        "f.close()"
      ],
      "execution_count": 0,
      "outputs": []
    },
    {
      "cell_type": "code",
      "metadata": {
        "id": "s_z35w0CFhKC",
        "colab_type": "code",
        "colab": {}
      },
      "source": [
        "df = pd.DataFrame(results)"
      ],
      "execution_count": 0,
      "outputs": []
    },
    {
      "cell_type": "code",
      "metadata": {
        "id": "NpfNk5PAttfa",
        "colab_type": "code",
        "colab": {}
      },
      "source": [
        "df.to_csv('/content/drive/My Drive/Colab Notebooks/AML/result_architecture_selection_max.csv')"
      ],
      "execution_count": 0,
      "outputs": []
    }
  ]
}