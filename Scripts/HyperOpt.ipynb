{
  "nbformat": 4,
  "nbformat_minor": 0,
  "metadata": {
    "colab": {
      "name": "HyperOpt.ipynb",
      "provenance": [],
      "collapsed_sections": [],
      "machine_shape": "hm"
    },
    "kernelspec": {
      "name": "python3",
      "display_name": "Python 3"
    },
    "accelerator": "GPU"
  },
  "cells": [
    {
      "cell_type": "markdown",
      "metadata": {
        "id": "sU2cQjUvQFTj",
        "colab_type": "text"
      },
      "source": [
        "# Import Optuna and Packages\n",
        "\n",
        "---\n",
        "\n"
      ]
    },
    {
      "cell_type": "code",
      "metadata": {
        "id": "5bL92OidN3fl",
        "colab_type": "code",
        "outputId": "1d4331ac-1442-48ca-aa26-4ecadd2818d7",
        "colab": {
          "base_uri": "https://localhost:8080/",
          "height": 1000
        }
      },
      "source": [
        "try:\n",
        "  !pip install git+https://github.com/optuna/optuna.git\n",
        "  !pip install scikit-optimize\n",
        "except:\n",
        "  print('Problem')"
      ],
      "execution_count": 0,
      "outputs": [
        {
          "output_type": "stream",
          "text": [
            "Collecting git+https://github.com/optuna/optuna.git\n",
            "  Cloning https://github.com/optuna/optuna.git to /tmp/pip-req-build-74ybvvw4\n",
            "  Running command git clone -q https://github.com/optuna/optuna.git /tmp/pip-req-build-74ybvvw4\n",
            "Collecting alembic\n",
            "\u001b[?25l  Downloading https://files.pythonhosted.org/packages/dc/6d/3c1411dfdcf089ec89ce5e2222deb2292f39b6b1a5911222e15af9fe5a92/alembic-1.3.2.tar.gz (1.1MB)\n",
            "\u001b[K     |████████████████████████████████| 1.1MB 4.7MB/s \n",
            "\u001b[?25hCollecting cliff\n",
            "\u001b[?25l  Downloading https://files.pythonhosted.org/packages/55/2f/f1484035545a36de978c686b90a6d81c0b09a8e3002faf761737eef54cdc/cliff-2.18.0-py2.py3-none-any.whl (79kB)\n",
            "\u001b[K     |████████████████████████████████| 81kB 5.0MB/s \n",
            "\u001b[?25hCollecting colorlog\n",
            "  Downloading https://files.pythonhosted.org/packages/00/0d/22c73c2eccb21dd3498df7d22c0b1d4a30f5a5fb3feb64e1ce06bc247747/colorlog-4.1.0-py2.py3-none-any.whl\n",
            "Requirement already satisfied: numpy in /usr/local/lib/python3.6/dist-packages (from optuna==1.0.0) (1.17.5)\n",
            "Requirement already satisfied: scipy!=1.4.0 in /usr/local/lib/python3.6/dist-packages (from optuna==1.0.0) (1.4.1)\n",
            "Requirement already satisfied: sqlalchemy>=1.1.0 in /usr/local/lib/python3.6/dist-packages (from optuna==1.0.0) (1.3.12)\n",
            "Requirement already satisfied: tqdm in /usr/local/lib/python3.6/dist-packages (from optuna==1.0.0) (4.28.1)\n",
            "Requirement already satisfied: joblib in /usr/local/lib/python3.6/dist-packages (from optuna==1.0.0) (0.14.1)\n",
            "Collecting Mako\n",
            "\u001b[?25l  Downloading https://files.pythonhosted.org/packages/b0/3c/8dcd6883d009f7cae0f3157fb53e9afb05a0d3d33b3db1268ec2e6f4a56b/Mako-1.1.0.tar.gz (463kB)\n",
            "\u001b[K     |████████████████████████████████| 471kB 24.9MB/s \n",
            "\u001b[?25hCollecting python-editor>=0.3\n",
            "  Downloading https://files.pythonhosted.org/packages/c6/d3/201fc3abe391bbae6606e6f1d598c15d367033332bd54352b12f35513717/python_editor-1.0.4-py3-none-any.whl\n",
            "Requirement already satisfied: python-dateutil in /usr/local/lib/python3.6/dist-packages (from alembic->optuna==1.0.0) (2.6.1)\n",
            "Requirement already satisfied: six>=1.10.0 in /usr/local/lib/python3.6/dist-packages (from cliff->optuna==1.0.0) (1.12.0)\n",
            "Collecting cmd2!=0.8.3,<0.9.0,>=0.8.0\n",
            "\u001b[?25l  Downloading https://files.pythonhosted.org/packages/e9/40/a71caa2aaff10c73612a7106e2d35f693e85b8cf6e37ab0774274bca3cf9/cmd2-0.8.9-py2.py3-none-any.whl (53kB)\n",
            "\u001b[K     |████████████████████████████████| 61kB 12.0MB/s \n",
            "\u001b[?25hRequirement already satisfied: PrettyTable<0.8,>=0.7.2 in /usr/local/lib/python3.6/dist-packages (from cliff->optuna==1.0.0) (0.7.2)\n",
            "Collecting pbr!=2.1.0,>=2.0.0\n",
            "\u001b[?25l  Downloading https://files.pythonhosted.org/packages/7a/db/a968fd7beb9fe06901c1841cb25c9ccb666ca1b9a19b114d1bbedf1126fc/pbr-5.4.4-py2.py3-none-any.whl (110kB)\n",
            "\u001b[K     |████████████████████████████████| 112kB 28.2MB/s \n",
            "\u001b[?25hRequirement already satisfied: PyYAML>=3.12 in /usr/local/lib/python3.6/dist-packages (from cliff->optuna==1.0.0) (3.13)\n",
            "Requirement already satisfied: pyparsing>=2.1.0 in /usr/local/lib/python3.6/dist-packages (from cliff->optuna==1.0.0) (2.4.6)\n",
            "Collecting stevedore>=1.20.0\n",
            "\u001b[?25l  Downloading https://files.pythonhosted.org/packages/b1/e1/f5ddbd83f60b03f522f173c03e406c1bff8343f0232a292ac96aa633b47a/stevedore-1.31.0-py2.py3-none-any.whl (43kB)\n",
            "\u001b[K     |████████████████████████████████| 51kB 9.3MB/s \n",
            "\u001b[?25hRequirement already satisfied: MarkupSafe>=0.9.2 in /usr/local/lib/python3.6/dist-packages (from Mako->alembic->optuna==1.0.0) (1.1.1)\n",
            "Collecting pyperclip\n",
            "  Downloading https://files.pythonhosted.org/packages/2d/0f/4eda562dffd085945d57c2d9a5da745cfb5228c02bc90f2c74bbac746243/pyperclip-1.7.0.tar.gz\n",
            "Requirement already satisfied: wcwidth; sys_platform != \"win32\" in /usr/local/lib/python3.6/dist-packages (from cmd2!=0.8.3,<0.9.0,>=0.8.0->cliff->optuna==1.0.0) (0.1.8)\n",
            "Building wheels for collected packages: optuna, alembic, Mako, pyperclip\n",
            "  Building wheel for optuna (setup.py) ... \u001b[?25l\u001b[?25hdone\n",
            "  Created wheel for optuna: filename=optuna-1.0.0-cp36-none-any.whl size=185569 sha256=62a6ea111ebb59fd92239bcc36a15f5ecbd4b95feb6f6b45d0b05c5532edd429\n",
            "  Stored in directory: /tmp/pip-ephem-wheel-cache-ejmyldl7/wheels/7c/1e/3e/4c91637ddd97448a8daf4600bd12ddf42e1e38bdc28d255ef1\n",
            "  Building wheel for alembic (setup.py) ... \u001b[?25l\u001b[?25hdone\n",
            "  Created wheel for alembic: filename=alembic-1.3.2-py2.py3-none-any.whl size=151128 sha256=58ff4d71415f8ac503df9f4837fc0799206d0395fccf46d5809e46eeb290425c\n",
            "  Stored in directory: /root/.cache/pip/wheels/5c/66/53/e0633382ac8625ab1c099db6a290d1b6b24f849a4666a57105\n",
            "  Building wheel for Mako (setup.py) ... \u001b[?25l\u001b[?25hdone\n",
            "  Created wheel for Mako: filename=Mako-1.1.0-cp36-none-any.whl size=75363 sha256=e2b70ae3e300d4d4990462cd765652d13189dae4fe0f81df9f4f3bfb86342bef\n",
            "  Stored in directory: /root/.cache/pip/wheels/98/32/7b/a291926643fc1d1e02593e0d9e247c5a866a366b8343b7aa27\n",
            "  Building wheel for pyperclip (setup.py) ... \u001b[?25l\u001b[?25hdone\n",
            "  Created wheel for pyperclip: filename=pyperclip-1.7.0-cp36-none-any.whl size=8359 sha256=97e188b63c64b64f556491828947f659be1055db60f824de8b052317df04b158\n",
            "  Stored in directory: /root/.cache/pip/wheels/92/f0/ac/2ba2972034e98971c3654ece337ac61e546bdeb34ca960dc8c\n",
            "Successfully built optuna alembic Mako pyperclip\n",
            "Installing collected packages: Mako, python-editor, alembic, pyperclip, cmd2, pbr, stevedore, cliff, colorlog, optuna\n",
            "Successfully installed Mako-1.1.0 alembic-1.3.2 cliff-2.18.0 cmd2-0.8.9 colorlog-4.1.0 optuna-1.0.0 pbr-5.4.4 pyperclip-1.7.0 python-editor-1.0.4 stevedore-1.31.0\n",
            "Collecting scikit-optimize\n",
            "\u001b[?25l  Downloading https://files.pythonhosted.org/packages/f4/44/60f82c97d1caa98752c7da2c1681cab5c7a390a0fdd3a55fac672b321cac/scikit_optimize-0.5.2-py2.py3-none-any.whl (74kB)\n",
            "\u001b[K     |████████████████████████████████| 81kB 3.9MB/s \n",
            "\u001b[?25hRequirement already satisfied: numpy in /usr/local/lib/python3.6/dist-packages (from scikit-optimize) (1.17.5)\n",
            "Requirement already satisfied: scipy>=0.14.0 in /usr/local/lib/python3.6/dist-packages (from scikit-optimize) (1.4.1)\n",
            "Requirement already satisfied: scikit-learn>=0.19.1 in /usr/local/lib/python3.6/dist-packages (from scikit-optimize) (0.22.1)\n",
            "Requirement already satisfied: joblib>=0.11 in /usr/local/lib/python3.6/dist-packages (from scikit-learn>=0.19.1->scikit-optimize) (0.14.1)\n",
            "Installing collected packages: scikit-optimize\n",
            "Successfully installed scikit-optimize-0.5.2\n"
          ],
          "name": "stdout"
        }
      ]
    },
    {
      "cell_type": "code",
      "metadata": {
        "id": "6HdgxMyFVo_J",
        "colab_type": "code",
        "outputId": "79ac0fdc-3a4a-4474-9196-164ffe653b6b",
        "colab": {
          "base_uri": "https://localhost:8080/",
          "height": 100
        }
      },
      "source": [
        "import numpy as np\n",
        "import cv2 as cv\n",
        "import matplotlib.pyplot as plt\n",
        "import pandas as pd\n",
        "import random as rnd\n",
        "\n",
        "import seaborn as sns\n",
        "from matplotlib import style\n",
        "style.use('seaborn-pastel')\n",
        "\n",
        "import keras\n",
        "from keras import backend as K\n",
        "from keras.layers import Dense, Dropout, Flatten, Activation, Conv2D, MaxPooling2D, LeakyReLU, ReLU\n",
        "from keras.models import Model, Sequential, load_model\n",
        "from keras.utils import to_categorical\n",
        "from keras.applications.mobilenet_v2 import MobileNetV2, preprocess_input\n",
        "from keras import regularizers\n",
        "from keras.callbacks import EarlyStopping, ModelCheckpoint \n",
        "from sklearn.metrics import accuracy_score, classification_report, confusion_matrix\n",
        "\n",
        "import os\n",
        "from sklearn.preprocessing import LabelEncoder\n",
        "from sklearn.model_selection import train_test_split,StratifiedKFold\n",
        "\n",
        "import random\n",
        "import pickle\n",
        "\n",
        "import warnings\n",
        "warnings.filterwarnings(\"ignore\")\n",
        "\n",
        "import optuna \n",
        "print('Optuna', optuna.__version__)"
      ],
      "execution_count": 0,
      "outputs": [
        {
          "output_type": "stream",
          "text": [
            "Using TensorFlow backend.\n"
          ],
          "name": "stderr"
        },
        {
          "output_type": "display_data",
          "data": {
            "text/html": [
              "<p style=\"color: red;\">\n",
              "The default version of TensorFlow in Colab will soon switch to TensorFlow 2.x.<br>\n",
              "We recommend you <a href=\"https://www.tensorflow.org/guide/migrate\" target=\"_blank\">upgrade</a> now \n",
              "or ensure your notebook will continue to use TensorFlow 1.x via the <code>%tensorflow_version 1.x</code> magic:\n",
              "<a href=\"https://colab.research.google.com/notebooks/tensorflow_version.ipynb\" target=\"_blank\">more info</a>.</p>\n"
            ],
            "text/plain": [
              "<IPython.core.display.HTML object>"
            ]
          },
          "metadata": {
            "tags": []
          }
        },
        {
          "output_type": "stream",
          "text": [
            "Optuna 1.0.0\n"
          ],
          "name": "stdout"
        }
      ]
    },
    {
      "cell_type": "code",
      "metadata": {
        "id": "NrMq8qRUWC_e",
        "colab_type": "code",
        "colab": {}
      },
      "source": [
        "# fix random seed for reproducibility\n",
        "seed = 42\n",
        "np.random.seed(seed)"
      ],
      "execution_count": 0,
      "outputs": []
    },
    {
      "cell_type": "markdown",
      "metadata": {
        "id": "NlU77t20cTmV",
        "colab_type": "text"
      },
      "source": [
        "## Prepare Data and ENV\n",
        "\n",
        "---\n",
        "\n"
      ]
    },
    {
      "cell_type": "code",
      "metadata": {
        "id": "NoudujfEWEwe",
        "colab_type": "code",
        "outputId": "85191795-bfac-40d1-bc6c-557027856709",
        "colab": {
          "base_uri": "https://localhost:8080/",
          "height": 126
        }
      },
      "source": [
        "from google.colab import drive\n",
        "drive.mount('/content/drive')"
      ],
      "execution_count": 0,
      "outputs": [
        {
          "output_type": "stream",
          "text": [
            "Go to this URL in a browser: https://accounts.google.com/o/oauth2/auth?client_id=947318989803-6bn6qk8qdgf4n4g3pfee6491hc0brc4i.apps.googleusercontent.com&redirect_uri=urn%3aietf%3awg%3aoauth%3a2.0%3aoob&response_type=code&scope=email%20https%3a%2f%2fwww.googleapis.com%2fauth%2fdocs.test%20https%3a%2f%2fwww.googleapis.com%2fauth%2fdrive%20https%3a%2f%2fwww.googleapis.com%2fauth%2fdrive.photos.readonly%20https%3a%2f%2fwww.googleapis.com%2fauth%2fpeopleapi.readonly\n",
            "\n",
            "Enter your authorization code:\n",
            "··········\n",
            "Mounted at /content/drive\n"
          ],
          "name": "stdout"
        }
      ]
    },
    {
      "cell_type": "markdown",
      "metadata": {
        "id": "qFVGpRwxQY8b",
        "colab_type": "text"
      },
      "source": [
        "Collegamento al server sqlite per salvare automaticamente ogni trial dell'oggeto study di ottimizzazione"
      ]
    },
    {
      "cell_type": "code",
      "metadata": {
        "id": "oJWLUUOEbW5B",
        "colab_type": "code",
        "outputId": "d6e63f3a-a269-4ee5-cad6-929bd5161c26",
        "colab": {
          "base_uri": "https://localhost:8080/",
          "height": 53
        }
      },
      "source": [
        "import sqlite3\n",
        "from sqlite3 import Error\n",
        "\n",
        "# /content/drive/My Drive/sqlite/db/opt.db --> LCB (RF)\n",
        "# /content/drive/My Drive/sqlite/db/opt_ei_rf.db --> EI (RF)\n",
        " \n",
        "def create_connection(db_file):\n",
        "    \"\"\" create a database connection to a SQLite database \"\"\"\n",
        "    conn = None\n",
        "    try:\n",
        "        conn = sqlite3.connect(db_file)\n",
        "        print('Version sqlite: {}'.format(sqlite3.version))\n",
        "        print('Connected')\n",
        "    except Error as e:\n",
        "        print(e)\n",
        "    finally:\n",
        "        if conn:\n",
        "            conn.close()\n",
        " \n",
        " \n",
        "if __name__ == '__main__':\n",
        "    create_connection('/content/drive/My Drive/sqlite/db/optuna.db')"
      ],
      "execution_count": 0,
      "outputs": [
        {
          "output_type": "stream",
          "text": [
            "Version sqlite: 2.6.0\n",
            "Connected\n"
          ],
          "name": "stdout"
        }
      ]
    },
    {
      "cell_type": "code",
      "metadata": {
        "id": "yIFW-12F2EhZ",
        "colab_type": "code",
        "colab": {}
      },
      "source": [
        "with np.load('/content/drive/My Drive/extracted_3fold1.npz') as data:\n",
        "  # training set\n",
        "  x_train1 = data['x_train1']\n",
        "  y_train1 = data['y_train1']\n",
        "\n",
        "  # validation set\n",
        "  x_val1 = data['x_val1']\n",
        "  y_val1 = data['y_val1']\n",
        "\n",
        "  # test set\n",
        "  x_test1 = data['x_test1']\n",
        "  y_test1 = data['y_test1']"
      ],
      "execution_count": 0,
      "outputs": []
    },
    {
      "cell_type": "code",
      "metadata": {
        "id": "TKf93Y-A3n-u",
        "colab_type": "code",
        "outputId": "1164ce2b-4f7d-405a-92f0-b5aa94a85aac",
        "colab": {
          "base_uri": "https://localhost:8080/",
          "height": 71
        }
      },
      "source": [
        "print('Shape del training set: {} --- {}\\nShape del validation set: {} --- {}\\nShape del test set: {} --- {}'. format(x_train1.shape, y_train1.shape,\n",
        "                                                                                                                 x_val1.shape, y_val1.shape,\n",
        "                                                                                                                 x_test1.shape, y_test1.shape))"
      ],
      "execution_count": 0,
      "outputs": [
        {
          "output_type": "stream",
          "text": [
            "Shape del training set: (5176, 14, 14, 1024) --- (5176,)\n",
            "Shape del validation set: (432, 14, 14, 1024) --- (432,)\n",
            "Shape del test set: (864, 14, 14, 1024) --- (864,)\n"
          ],
          "name": "stdout"
        }
      ]
    },
    {
      "cell_type": "code",
      "metadata": {
        "id": "k-5SIXgX3Tcy",
        "colab_type": "code",
        "colab": {}
      },
      "source": [
        "with np.load('/content/drive/My Drive/extracted_3fold2.npz') as data:\n",
        "  # training set\n",
        "  x_train2 = data['x_train2']\n",
        "  y_train2 = data['y_train2']\n",
        "\n",
        "  # validation set\n",
        "  x_val2 = data['x_val2']\n",
        "  y_val2 = data['y_val2']\n",
        "\n",
        "  # test set\n",
        "  x_test2 = data['x_test2']\n",
        "  y_test2 = data['y_test2']"
      ],
      "execution_count": 0,
      "outputs": []
    },
    {
      "cell_type": "code",
      "metadata": {
        "id": "9fG5hGtB4iQj",
        "colab_type": "code",
        "outputId": "89256659-bfbd-4edf-f28b-80f5f4580ae3",
        "colab": {
          "base_uri": "https://localhost:8080/",
          "height": 71
        }
      },
      "source": [
        "print('Shape del training set: {} --- {}\\nShape del validation set: {} --- {}\\nShape del test set: {} --- {}'. format(x_train2.shape, y_train2.shape,\n",
        "                                                                                                                 x_val2.shape, y_val2.shape,\n",
        "                                                                                                                 x_test2.shape, y_test2.shape))"
      ],
      "execution_count": 0,
      "outputs": [
        {
          "output_type": "stream",
          "text": [
            "Shape del training set: (5180, 14, 14, 1024) --- (5180,)\n",
            "Shape del validation set: (432, 14, 14, 1024) --- (432,)\n",
            "Shape del test set: (863, 14, 14, 1024) --- (863,)\n"
          ],
          "name": "stdout"
        }
      ]
    },
    {
      "cell_type": "code",
      "metadata": {
        "id": "SR6xNjBZ4qqM",
        "colab_type": "code",
        "colab": {}
      },
      "source": [
        "with np.load('/content/drive/My Drive/extracted_3fold3.npz') as data:\n",
        "  # training set\n",
        "  x_train3 = data['x_train3']\n",
        "  y_train3 = data['y_train3']\n",
        "\n",
        "  # validation set\n",
        "  x_val3 = data['x_val3']\n",
        "  y_val3 = data['y_val3']\n",
        "\n",
        "  # test set\n",
        "  x_test3 = data['x_test3']\n",
        "  y_test3 = data['y_test3']"
      ],
      "execution_count": 0,
      "outputs": []
    },
    {
      "cell_type": "code",
      "metadata": {
        "id": "xa48hag54vs9",
        "colab_type": "code",
        "outputId": "9fdc8f61-a9ff-47c5-f473-0e917a951276",
        "colab": {
          "base_uri": "https://localhost:8080/",
          "height": 71
        }
      },
      "source": [
        "print('Shape del training set: {} --- {}\\nShape del validation set: {} --- {}\\nShape del test set: {} --- {}'. format(x_train3.shape, y_train3.shape,\n",
        "                                                                                                                 x_val3.shape, y_val3.shape,\n",
        "                                                                                                                 x_test3.shape, y_test3.shape))"
      ],
      "execution_count": 0,
      "outputs": [
        {
          "output_type": "stream",
          "text": [
            "Shape del training set: (5180, 14, 14, 1024) --- (5180,)\n",
            "Shape del validation set: (432, 14, 14, 1024) --- (432,)\n",
            "Shape del test set: (863, 14, 14, 1024) --- (863,)\n"
          ],
          "name": "stdout"
        }
      ]
    },
    {
      "cell_type": "code",
      "metadata": {
        "id": "skRJ4lOtuStF",
        "colab_type": "code",
        "colab": {}
      },
      "source": [
        "le = LabelEncoder()\n",
        "\n",
        "# y1\n",
        "y_train1 = le.fit_transform(y_train1)\n",
        "y_train1 = to_categorical(y_train1, num_classes = 7)\n",
        "y_test1 = le.fit_transform(y_test1)\n",
        "y_test1 = to_categorical(y_test1, num_classes = 7)\n",
        "y_val1 = le.fit_transform(y_val1)\n",
        "y_val1 = to_categorical(y_val1, num_classes = 7)\n",
        "\n",
        "# y2\n",
        "y_train2 = le.fit_transform(y_train2)\n",
        "y_train2 = to_categorical(y_train2, num_classes = 7)\n",
        "y_test2 = le.fit_transform(y_test2)\n",
        "y_test2 = to_categorical(y_test2, num_classes = 7)\n",
        "y_val2 = le.fit_transform(y_val2)\n",
        "y_val2 = to_categorical(y_val2, num_classes = 7)\n",
        "\n",
        "# y3\n",
        "y_train3 = le.fit_transform(y_train3)\n",
        "y_train3 = to_categorical(y_train3, num_classes = 7)\n",
        "y_test3 = le.fit_transform(y_test3)\n",
        "y_test3 = to_categorical(y_test3, num_classes = 7)\n",
        "y_val3 = le.fit_transform(y_val3)\n",
        "y_val3 = to_categorical(y_val3, num_classes = 7)"
      ],
      "execution_count": 0,
      "outputs": []
    },
    {
      "cell_type": "markdown",
      "metadata": {
        "id": "C6OvZkWKcMjD",
        "colab_type": "text"
      },
      "source": [
        "## Optimization with Optuna\n",
        "\n",
        "---\n",
        "\n"
      ]
    },
    {
      "cell_type": "code",
      "metadata": {
        "id": "PiCMix9d6ipH",
        "colab_type": "code",
        "colab": {}
      },
      "source": [
        "filepath = \"/content/drive/My Drive/model_opt/opt_best_{val_acc:.2f}.h5\"\n",
        "checkpoint = ModelCheckpoint(filepath, monitor='val_acc', verbose=0, save_best_only=True, mode='max')\n",
        "es = EarlyStopping(monitor='val_acc', mode='max', patience=10, restore_best_weights=True)\n",
        "\n",
        "# objective function \n",
        "\n",
        "def objective(trial):\n",
        "  \n",
        "  callbacks_list = [optuna.integration.KerasPruningCallback(trial, 'val_acc'), checkpoint, es]\n",
        "  K.clear_session()\n",
        "\n",
        "  accuracy_tmp = []\n",
        "  # init params and callbacks\n",
        "  batch_size = 128\n",
        "  epochs = 30\n",
        "  \n",
        "\n",
        "  # params to optimize\n",
        "  dropout_rate = trial.suggest_discrete_uniform('dropout_rate', 0, 1, .1)\n",
        "  nlayer_d1 = trial.suggest_int('neurons_dense', 21, 490)\n",
        "  activation = trial.suggest_categorical('activation', ['relu', 'leakyRelu'])\n",
        "  optimizers = trial.suggest_categorical('optimizer', ['Adam', 'rmsprop', 'nadam'])\n",
        "  lr = trial.suggest_loguniform('lr', 1e-6, 1e-2)\n",
        "  filters = trial.suggest_int('filters', 32, 256)\n",
        "  kernelSize = trial.suggest_int('size_filters', 1, 5)\n",
        "\n",
        "  ######################################## fold 1 ########################################\n",
        "  # Create model\n",
        "  \n",
        "  model = Sequential()\n",
        "  if activation == 'relu':\n",
        "    # C1\n",
        "    model.add(Conv2D(filters, kernel_size=kernelSize, input_shape=(14,14,1024)))\n",
        "    model.add(ReLU())\n",
        "    model.add(Conv2D(filters, kernel_size=kernelSize))\n",
        "    model.add(ReLU())\n",
        "    model.add(Conv2D(filters, kernel_size=kernelSize))\n",
        "    model.add(ReLU())\n",
        "  else:\n",
        "    # C1\n",
        "    model.add(Conv2D(filters, kernel_size=kernelSize, input_shape=(14,14,1024)))\n",
        "    model.add(LeakyReLU())\n",
        "    model.add(Conv2D(filters, kernel_size=kernelSize))\n",
        "    model.add(LeakyReLU())\n",
        "    model.add(Conv2D(filters, kernel_size=kernelSize))\n",
        "    model.add(LeakyReLU())  \n",
        "  # flat\n",
        "  model.add(Flatten())\n",
        "  if activation == 'relu':\n",
        "    # D1\n",
        "    model.add(Dense(nlayer_d1,\n",
        "                    kernel_regularizer=regularizers.l2(0.01)))\n",
        "    model.add(ReLU())\n",
        "  else:\n",
        "    # D1\n",
        "    model.add(Dense(nlayer_d1,\n",
        "                    kernel_regularizer=regularizers.l2(0.01)))\n",
        "    model.add(LeakyReLU())\n",
        "  # dropout\n",
        "  model.add(Dropout(dropout_rate))\n",
        "  # output\n",
        "  model.add(Dense(7, activation='softmax'))\n",
        "  # optimizer\n",
        "  if optimizers == 'Adam':\n",
        "    OPTIMIZER = keras.optimizers.Adam(lr=lr)\n",
        "  elif optimizers == 'nadam':\n",
        "    OPTIMIZER = keras.optimizers.nadam(lr=lr)\n",
        "  else:\n",
        "    OPTIMIZER = keras.optimizers.rmsprop(lr=lr)\n",
        "    # Compile model\n",
        "  model.compile(loss = keras.losses.categorical_crossentropy,\n",
        "                  optimizer = OPTIMIZER,\n",
        "                  metrics = ['acc'])\n",
        "  # fit model\n",
        "  model.fit(x_train1, y_train1, \n",
        "            validation_data=(x_val1, y_val1),\n",
        "            shuffle=True,\n",
        "            batch_size = batch_size, epochs = epochs,\n",
        "            callbacks=callbacks_list,\n",
        "            verbose=0)\n",
        "  # evaluate model\n",
        "  #model.load_weights(filepath)\n",
        "  scores = model.evaluate(x_test1, y_test1, verbose=0)\n",
        "  accuracy_tmp.append(scores[1])\n",
        "\n",
        "  K.clear_session()\n",
        "  ######################################## fold 2 ########################################\n",
        "  # Create model\n",
        "  model = Sequential()\n",
        "  if activation == 'relu':\n",
        "    # C1\n",
        "    model.add(Conv2D(filters, kernel_size=kernelSize, input_shape=(14,14,1024)))\n",
        "    model.add(ReLU())\n",
        "    model.add(Conv2D(filters, kernel_size=kernelSize))\n",
        "    model.add(ReLU())\n",
        "    model.add(Conv2D(filters, kernel_size=kernelSize))\n",
        "    model.add(ReLU())\n",
        "  else:\n",
        "    # C1\n",
        "    model.add(Conv2D(filters, kernel_size=kernelSize, input_shape=(14,14,1024)))\n",
        "    model.add(LeakyReLU())\n",
        "    model.add(Conv2D(filters, kernel_size=kernelSize))\n",
        "    model.add(LeakyReLU())\n",
        "    model.add(Conv2D(filters, kernel_size=kernelSize))\n",
        "    model.add(LeakyReLU())   \n",
        "  # flat\n",
        "  model.add(Flatten())\n",
        "  if activation == 'relu':\n",
        "    # D1\n",
        "    model.add(Dense(nlayer_d1,\n",
        "                    kernel_regularizer=regularizers.l2(0.01)))\n",
        "    model.add(ReLU())\n",
        "  else:\n",
        "    # D1\n",
        "    model.add(Dense(nlayer_d1,\n",
        "                    kernel_regularizer=regularizers.l2(0.01)))\n",
        "    model.add(LeakyReLU())\n",
        "  # dropout\n",
        "  model.add(Dropout(dropout_rate))\n",
        "  # output\n",
        "  model.add(Dense(7, activation='softmax'))\n",
        "  # optimizer\n",
        "  if optimizers == 'Adam':\n",
        "    OPTIMIZER = keras.optimizers.Adam(lr=lr)\n",
        "  elif optimizers == 'nadam':\n",
        "    OPTIMIZER = keras.optimizers.nadam(lr=lr)\n",
        "  else:\n",
        "    OPTIMIZER = keras.optimizers.rmsprop(lr=lr)\n",
        "    # Compile model\n",
        "  model.compile(loss = keras.losses.categorical_crossentropy,\n",
        "                  optimizer = OPTIMIZER,\n",
        "                  metrics = ['acc'])\n",
        "  # fit model\n",
        "  model.fit(x_train2, y_train2, \n",
        "            validation_data=(x_val2, y_val2),\n",
        "            shuffle=True,\n",
        "            batch_size = batch_size, epochs = epochs,\n",
        "            callbacks=callbacks_list,\n",
        "            verbose=0)\n",
        "  # evaluate model\n",
        "  #model.load_weights(filepath)\n",
        "  scores = model.evaluate(x_test2, y_test2, verbose=0)\n",
        "  accuracy_tmp.append(scores[1])\n",
        "\n",
        "  K.clear_session()\n",
        "  ######################################## fold 3 ########################################\n",
        "  # Create model\n",
        "  model = Sequential()\n",
        "  if activation == 'relu':\n",
        "    # C1\n",
        "    model.add(Conv2D(filters, kernel_size=kernelSize, input_shape=(14,14,1024)))\n",
        "    model.add(ReLU())\n",
        "    model.add(Conv2D(filters, kernel_size=kernelSize))\n",
        "    model.add(ReLU())\n",
        "    model.add(Conv2D(filters, kernel_size=kernelSize))\n",
        "    model.add(ReLU())\n",
        "  else:\n",
        "    # C1\n",
        "    model.add(Conv2D(filters, kernel_size=kernelSize, input_shape=(14,14,1024)))\n",
        "    model.add(LeakyReLU())\n",
        "    model.add(Conv2D(filters, kernel_size=kernelSize))\n",
        "    model.add(LeakyReLU())\n",
        "    model.add(Conv2D(filters, kernel_size=kernelSize))\n",
        "    model.add(LeakyReLU())  \n",
        "  # flat\n",
        "  model.add(Flatten())\n",
        "  if activation == 'relu':\n",
        "    # D1\n",
        "    model.add(Dense(nlayer_d1,\n",
        "                    kernel_regularizer=regularizers.l2(0.01)))\n",
        "    model.add(ReLU())\n",
        "  else:\n",
        "    # D1\n",
        "    model.add(Dense(nlayer_d1,\n",
        "                    kernel_regularizer=regularizers.l2(0.01)))\n",
        "  # dropout\n",
        "  model.add(Dropout(dropout_rate))\n",
        "  # output\n",
        "  model.add(Dense(7, activation='softmax'))\n",
        "  # optimizer\n",
        "  if optimizers == 'Adam':\n",
        "    OPTIMIZER = keras.optimizers.Adam(lr=lr)\n",
        "  elif optimizers == 'nadam':\n",
        "    OPTIMIZER = keras.optimizers.nadam(lr=lr)\n",
        "  else:\n",
        "    OPTIMIZER = keras.optimizers.rmsprop(lr=lr)\n",
        "  # Compile model\n",
        "  model.compile(loss = keras.losses.categorical_crossentropy,\n",
        "                  optimizer = OPTIMIZER,\n",
        "                  metrics = ['acc'])  \n",
        "  # fit model\n",
        "  model.fit(x_train3, y_train3, \n",
        "            validation_data=(x_val3, y_val3),\n",
        "            shuffle=True,\n",
        "            batch_size = batch_size, epochs = epochs,\n",
        "            callbacks=callbacks_list,\n",
        "            verbose=0)\n",
        "  # evaluate model\n",
        "  #model.load_weights(filepath)\n",
        "  scores = model.evaluate(x_test3, y_test3, verbose=0)\n",
        "  accuracy_tmp.append(scores[1])\n",
        "  \n",
        "  ######################################## VALUTATION FINAL ########################################\n",
        "  accuracy = np.mean(accuracy_tmp)\n",
        "\n",
        "  return (1-accuracy) # value to minimize\n"
      ],
      "execution_count": 0,
      "outputs": []
    },
    {
      "cell_type": "markdown",
      "metadata": {
        "id": "wN3DjrYIcGbv",
        "colab_type": "text"
      },
      "source": [
        "**RF - LCB**\n",
        "\n"
      ]
    },
    {
      "cell_type": "code",
      "metadata": {
        "id": "elcg2N3gdEJL",
        "colab_type": "code",
        "outputId": "bfa5cf78-6bdd-41da-cb55-0713cbb765fa",
        "colab": {
          "base_uri": "https://localhost:8080/",
          "height": 35
        }
      },
      "source": [
        "# best in _Simple_CV_RF(LCB)_Checkpoint_EarlyStopping\n",
        "\n",
        "# Load or create a new study\n",
        "dataset_name = 'CNN'\n",
        "study_name = dataset_name + '_Simple_CV_RF(LCB)_Checkpoint_EarlyStopping'\n",
        "\n",
        "study = optuna.create_study(study_name=study_name,\n",
        "                            direction='minimize',\n",
        "                            sampler = optuna.integration.SkoptSampler(independent_sampler=optuna.samplers.TPESampler(),\n",
        "                                                                      warn_independent_sampling = True,\n",
        "                                                                      skopt_kwargs={'base_estimator':'RF', 'acq_func':'LCB'}),\n",
        "                                   storage='sqlite:////content/drive/My Drive/sqlite/db/optuna.db', load_if_exists=True)"
      ],
      "execution_count": 0,
      "outputs": [
        {
          "output_type": "stream",
          "text": [
            "\u001b[32m[I 2020-01-16 13:56:50,956]\u001b[0m Using an existing study with name 'CNN_Simple_CV_RF(LCB)_Checkpoint_EarlyStopping' instead of creating a new one.\u001b[0m\n"
          ],
          "name": "stderr"
        }
      ]
    },
    {
      "cell_type": "code",
      "metadata": {
        "id": "6IZvFEns5fYm",
        "colab_type": "code",
        "outputId": "d56662f8-43eb-4bf9-93c9-cedbd7fdb481",
        "colab": {
          "base_uri": "https://localhost:8080/",
          "height": 1000
        }
      },
      "source": [
        "# optimize object study\n",
        "study.optimize(objective, n_trials = 49) # n_trials or timeout (sec)"
      ],
      "execution_count": 0,
      "outputs": [
        {
          "output_type": "stream",
          "text": [
            "WARNING:tensorflow:From /usr/local/lib/python3.6/dist-packages/keras/backend/tensorflow_backend.py:107: The name tf.reset_default_graph is deprecated. Please use tf.compat.v1.reset_default_graph instead.\n",
            "\n",
            "WARNING:tensorflow:From /usr/local/lib/python3.6/dist-packages/keras/backend/tensorflow_backend.py:111: The name tf.placeholder_with_default is deprecated. Please use tf.compat.v1.placeholder_with_default instead.\n",
            "\n",
            "WARNING:tensorflow:From /usr/local/lib/python3.6/dist-packages/keras/backend/tensorflow_backend.py:66: The name tf.get_default_graph is deprecated. Please use tf.compat.v1.get_default_graph instead.\n",
            "\n",
            "WARNING:tensorflow:From /usr/local/lib/python3.6/dist-packages/keras/backend/tensorflow_backend.py:541: The name tf.placeholder is deprecated. Please use tf.compat.v1.placeholder instead.\n",
            "\n",
            "WARNING:tensorflow:From /usr/local/lib/python3.6/dist-packages/keras/backend/tensorflow_backend.py:4432: The name tf.random_uniform is deprecated. Please use tf.random.uniform instead.\n",
            "\n",
            "WARNING:tensorflow:From /usr/local/lib/python3.6/dist-packages/keras/backend/tensorflow_backend.py:3733: calling dropout (from tensorflow.python.ops.nn_ops) with keep_prob is deprecated and will be removed in a future version.\n",
            "Instructions for updating:\n",
            "Please use `rate` instead of `keep_prob`. Rate should be set to `rate = 1 - keep_prob`.\n",
            "WARNING:tensorflow:Large dropout rate: 0.9 (>0.5). In TensorFlow 2.x, dropout() uses dropout rate instead of keep_prob. Please ensure that this is intended.\n",
            "WARNING:tensorflow:From /usr/local/lib/python3.6/dist-packages/keras/optimizers.py:793: The name tf.train.Optimizer is deprecated. Please use tf.compat.v1.train.Optimizer instead.\n",
            "\n",
            "WARNING:tensorflow:From /usr/local/lib/python3.6/dist-packages/keras/backend/tensorflow_backend.py:3576: The name tf.log is deprecated. Please use tf.math.log instead.\n",
            "\n",
            "WARNING:tensorflow:From /usr/local/lib/python3.6/dist-packages/tensorflow_core/python/ops/math_grad.py:1424: where (from tensorflow.python.ops.array_ops) is deprecated and will be removed in a future version.\n",
            "Instructions for updating:\n",
            "Use tf.where in 2.0, which has the same broadcast rule as np.where\n",
            "WARNING:tensorflow:From /usr/local/lib/python3.6/dist-packages/keras/backend/tensorflow_backend.py:1033: The name tf.assign_add is deprecated. Please use tf.compat.v1.assign_add instead.\n",
            "\n",
            "WARNING:tensorflow:From /usr/local/lib/python3.6/dist-packages/keras/backend/tensorflow_backend.py:1020: The name tf.assign is deprecated. Please use tf.compat.v1.assign instead.\n",
            "\n",
            "WARNING:tensorflow:From /usr/local/lib/python3.6/dist-packages/keras/backend/tensorflow_backend.py:3005: The name tf.Session is deprecated. Please use tf.compat.v1.Session instead.\n",
            "\n",
            "WARNING:tensorflow:From /usr/local/lib/python3.6/dist-packages/keras/backend/tensorflow_backend.py:190: The name tf.get_default_session is deprecated. Please use tf.compat.v1.get_default_session instead.\n",
            "\n",
            "WARNING:tensorflow:From /usr/local/lib/python3.6/dist-packages/keras/backend/tensorflow_backend.py:197: The name tf.ConfigProto is deprecated. Please use tf.compat.v1.ConfigProto instead.\n",
            "\n",
            "WARNING:tensorflow:From /usr/local/lib/python3.6/dist-packages/keras/backend/tensorflow_backend.py:207: The name tf.global_variables is deprecated. Please use tf.compat.v1.global_variables instead.\n",
            "\n",
            "WARNING:tensorflow:From /usr/local/lib/python3.6/dist-packages/keras/backend/tensorflow_backend.py:216: The name tf.is_variable_initialized is deprecated. Please use tf.compat.v1.is_variable_initialized instead.\n",
            "\n",
            "WARNING:tensorflow:From /usr/local/lib/python3.6/dist-packages/keras/backend/tensorflow_backend.py:223: The name tf.variables_initializer is deprecated. Please use tf.compat.v1.variables_initializer instead.\n",
            "\n",
            "WARNING:tensorflow:Large dropout rate: 0.9 (>0.5). In TensorFlow 2.x, dropout() uses dropout rate instead of keep_prob. Please ensure that this is intended.\n",
            "WARNING:tensorflow:Large dropout rate: 0.9 (>0.5). In TensorFlow 2.x, dropout() uses dropout rate instead of keep_prob. Please ensure that this is intended.\n"
          ],
          "name": "stdout"
        },
        {
          "output_type": "stream",
          "text": [
            "\u001b[32m[I 2020-01-16 14:09:32,962]\u001b[0m Finished trial#54 resulted in value: 0.1023190173888181. Current best value is 0.04013820999745066 with parameters: {'activation': 'leakyRelu', 'dropout_rate': 0.5, 'filters': 191, 'lr': 1.364710328809509e-05, 'neurons_dense': 346, 'optimizer': 'Adam', 'size_filters': 4}.\u001b[0m\n",
            "\u001b[32m[I 2020-01-16 14:09:42,276]\u001b[0m Setting status of trial#55 as TrialState.PRUNED. Trial was pruned at epoch 1.\u001b[0m\n",
            "\u001b[32m[I 2020-01-16 14:09:50,852]\u001b[0m Setting status of trial#56 as TrialState.PRUNED. Trial was pruned at epoch 1.\u001b[0m\n",
            "\u001b[32m[I 2020-01-16 14:09:58,619]\u001b[0m Setting status of trial#57 as TrialState.PRUNED. Trial was pruned at epoch 1.\u001b[0m\n",
            "\u001b[32m[I 2020-01-16 14:10:06,801]\u001b[0m Setting status of trial#58 as TrialState.PRUNED. Trial was pruned at epoch 1.\u001b[0m\n"
          ],
          "name": "stderr"
        },
        {
          "output_type": "stream",
          "text": [
            "WARNING:tensorflow:Large dropout rate: 0.9 (>0.5). In TensorFlow 2.x, dropout() uses dropout rate instead of keep_prob. Please ensure that this is intended.\n",
            "WARNING:tensorflow:Large dropout rate: 0.9 (>0.5). In TensorFlow 2.x, dropout() uses dropout rate instead of keep_prob. Please ensure that this is intended.\n"
          ],
          "name": "stdout"
        },
        {
          "output_type": "stream",
          "text": [
            "\u001b[32m[I 2020-01-16 14:14:24,832]\u001b[0m Finished trial#59 resulted in value: 0.0961434956173538. Current best value is 0.04013820999745066 with parameters: {'activation': 'leakyRelu', 'dropout_rate': 0.5, 'filters': 191, 'lr': 1.364710328809509e-05, 'neurons_dense': 346, 'optimizer': 'Adam', 'size_filters': 4}.\u001b[0m\n",
            "\u001b[32m[I 2020-01-16 14:17:58,516]\u001b[0m Finished trial#60 resulted in value: 0.8428567979915025. Current best value is 0.04013820999745066 with parameters: {'activation': 'leakyRelu', 'dropout_rate': 0.5, 'filters': 191, 'lr': 1.364710328809509e-05, 'neurons_dense': 346, 'optimizer': 'Adam', 'size_filters': 4}.\u001b[0m\n",
            "\u001b[32m[I 2020-01-16 14:19:47,765]\u001b[0m Finished trial#61 resulted in value: 0.8513542873696408. Current best value is 0.04013820999745066 with parameters: {'activation': 'leakyRelu', 'dropout_rate': 0.5, 'filters': 191, 'lr': 1.364710328809509e-05, 'neurons_dense': 346, 'optimizer': 'Adam', 'size_filters': 4}.\u001b[0m\n",
            "\u001b[32m[I 2020-01-16 14:23:11,627]\u001b[0m Finished trial#62 resulted in value: 0.08609877259637877. Current best value is 0.04013820999745066 with parameters: {'activation': 'leakyRelu', 'dropout_rate': 0.5, 'filters': 191, 'lr': 1.364710328809509e-05, 'neurons_dense': 346, 'optimizer': 'Adam', 'size_filters': 4}.\u001b[0m\n",
            "\u001b[32m[I 2020-01-16 14:23:20,744]\u001b[0m Setting status of trial#63 as TrialState.PRUNED. Trial was pruned at epoch 1.\u001b[0m\n",
            "\u001b[32m[I 2020-01-16 14:23:29,995]\u001b[0m Setting status of trial#64 as TrialState.PRUNED. Trial was pruned at epoch 1.\u001b[0m\n",
            "\u001b[32m[I 2020-01-16 14:26:34,162]\u001b[0m Finished trial#65 resulted in value: 0.09228323565120089. Current best value is 0.04013820999745066 with parameters: {'activation': 'leakyRelu', 'dropout_rate': 0.5, 'filters': 191, 'lr': 1.364710328809509e-05, 'neurons_dense': 346, 'optimizer': 'Adam', 'size_filters': 4}.\u001b[0m\n",
            "\u001b[32m[I 2020-01-16 14:28:59,249]\u001b[0m Finished trial#66 resulted in value: 0.09922946826483214. Current best value is 0.04013820999745066 with parameters: {'activation': 'leakyRelu', 'dropout_rate': 0.5, 'filters': 191, 'lr': 1.364710328809509e-05, 'neurons_dense': 346, 'optimizer': 'Adam', 'size_filters': 4}.\u001b[0m\n",
            "\u001b[32m[I 2020-01-16 14:31:08,215]\u001b[0m Finished trial#67 resulted in value: 0.8432430475086906. Current best value is 0.04013820999745066 with parameters: {'activation': 'leakyRelu', 'dropout_rate': 0.5, 'filters': 191, 'lr': 1.364710328809509e-05, 'neurons_dense': 346, 'optimizer': 'Adam', 'size_filters': 4}.\u001b[0m\n",
            "\u001b[32m[I 2020-01-16 14:31:17,450]\u001b[0m Setting status of trial#68 as TrialState.PRUNED. Trial was pruned at epoch 1.\u001b[0m\n",
            "\u001b[32m[I 2020-01-16 14:31:26,806]\u001b[0m Setting status of trial#69 as TrialState.PRUNED. Trial was pruned at epoch 1.\u001b[0m\n",
            "\u001b[32m[I 2020-01-16 14:35:51,089]\u001b[0m Finished trial#70 resulted in value: 0.08880475474473526. Current best value is 0.04013820999745066 with parameters: {'activation': 'leakyRelu', 'dropout_rate': 0.5, 'filters': 191, 'lr': 1.364710328809509e-05, 'neurons_dense': 346, 'optimizer': 'Adam', 'size_filters': 4}.\u001b[0m\n",
            "\u001b[32m[I 2020-01-16 14:36:00,777]\u001b[0m Setting status of trial#71 as TrialState.PRUNED. Trial was pruned at epoch 1.\u001b[0m\n",
            "\u001b[32m[I 2020-01-16 14:40:33,054]\u001b[0m Finished trial#72 resulted in value: 0.09343349031279369. Current best value is 0.04013820999745066 with parameters: {'activation': 'leakyRelu', 'dropout_rate': 0.5, 'filters': 191, 'lr': 1.364710328809509e-05, 'neurons_dense': 346, 'optimizer': 'Adam', 'size_filters': 4}.\u001b[0m\n",
            "\u001b[32m[I 2020-01-16 14:40:41,579]\u001b[0m Setting status of trial#73 as TrialState.PRUNED. Trial was pruned at epoch 1.\u001b[0m\n",
            "\u001b[32m[I 2020-01-16 14:44:31,704]\u001b[0m Finished trial#74 resulted in value: 0.09343751375677556. Current best value is 0.04013820999745066 with parameters: {'activation': 'leakyRelu', 'dropout_rate': 0.5, 'filters': 191, 'lr': 1.364710328809509e-05, 'neurons_dense': 346, 'optimizer': 'Adam', 'size_filters': 4}.\u001b[0m\n",
            "\u001b[32m[I 2020-01-16 14:48:38,108]\u001b[0m Finished trial#75 resulted in value: 0.09382733960082634. Current best value is 0.04013820999745066 with parameters: {'activation': 'leakyRelu', 'dropout_rate': 0.5, 'filters': 191, 'lr': 1.364710328809509e-05, 'neurons_dense': 346, 'optimizer': 'Adam', 'size_filters': 4}.\u001b[0m\n",
            "\u001b[32m[I 2020-01-16 14:52:02,045]\u001b[0m Finished trial#76 resulted in value: 0.09382555148919514. Current best value is 0.04013820999745066 with parameters: {'activation': 'leakyRelu', 'dropout_rate': 0.5, 'filters': 191, 'lr': 1.364710328809509e-05, 'neurons_dense': 346, 'optimizer': 'Adam', 'size_filters': 4}.\u001b[0m\n",
            "\u001b[32m[I 2020-01-16 14:52:11,243]\u001b[0m Setting status of trial#77 as TrialState.PRUNED. Trial was pruned at epoch 1.\u001b[0m\n",
            "\u001b[32m[I 2020-01-16 14:52:20,037]\u001b[0m Setting status of trial#78 as TrialState.PRUNED. Trial was pruned at epoch 1.\u001b[0m\n",
            "\u001b[32m[I 2020-01-16 14:52:28,857]\u001b[0m Setting status of trial#79 as TrialState.PRUNED. Trial was pruned at epoch 1.\u001b[0m\n",
            "\u001b[32m[I 2020-01-16 14:57:01,231]\u001b[0m Finished trial#80 resulted in value: 0.1220114840236125. Current best value is 0.04013820999745066 with parameters: {'activation': 'leakyRelu', 'dropout_rate': 0.5, 'filters': 191, 'lr': 1.364710328809509e-05, 'neurons_dense': 346, 'optimizer': 'Adam', 'size_filters': 4}.\u001b[0m\n",
            "\u001b[32m[I 2020-01-16 15:01:25,463]\u001b[0m Finished trial#81 resulted in value: 0.13511803891306362. Current best value is 0.04013820999745066 with parameters: {'activation': 'leakyRelu', 'dropout_rate': 0.5, 'filters': 191, 'lr': 1.364710328809509e-05, 'neurons_dense': 346, 'optimizer': 'Adam', 'size_filters': 4}.\u001b[0m\n",
            "\u001b[32m[I 2020-01-16 15:01:34,624]\u001b[0m Setting status of trial#82 as TrialState.PRUNED. Trial was pruned at epoch 1.\u001b[0m\n",
            "\u001b[32m[I 2020-01-16 15:04:58,108]\u001b[0m Finished trial#83 resulted in value: 0.09537099651391079. Current best value is 0.04013820999745066 with parameters: {'activation': 'leakyRelu', 'dropout_rate': 0.5, 'filters': 191, 'lr': 1.364710328809509e-05, 'neurons_dense': 346, 'optimizer': 'Adam', 'size_filters': 4}.\u001b[0m\n",
            "\u001b[32m[I 2020-01-16 15:05:07,103]\u001b[0m Setting status of trial#84 as TrialState.PRUNED. Trial was pruned at epoch 1.\u001b[0m\n",
            "\u001b[32m[I 2020-01-16 15:05:16,785]\u001b[0m Setting status of trial#85 as TrialState.PRUNED. Trial was pruned at epoch 1.\u001b[0m\n",
            "\u001b[32m[I 2020-01-16 15:05:24,617]\u001b[0m Setting status of trial#86 as TrialState.PRUNED. Trial was pruned at epoch 1.\u001b[0m\n",
            "\u001b[32m[I 2020-01-16 15:05:33,636]\u001b[0m Setting status of trial#87 as TrialState.PRUNED. Trial was pruned at epoch 1.\u001b[0m\n",
            "\u001b[32m[I 2020-01-16 15:10:43,150]\u001b[0m Finished trial#88 resulted in value: 0.13590573753517354. Current best value is 0.04013820999745066 with parameters: {'activation': 'leakyRelu', 'dropout_rate': 0.5, 'filters': 191, 'lr': 1.364710328809509e-05, 'neurons_dense': 346, 'optimizer': 'Adam', 'size_filters': 4}.\u001b[0m\n",
            "\u001b[32m[I 2020-01-16 15:15:21,658]\u001b[0m Finished trial#89 resulted in value: 0.08841939933516285. Current best value is 0.04013820999745066 with parameters: {'activation': 'leakyRelu', 'dropout_rate': 0.5, 'filters': 191, 'lr': 1.364710328809509e-05, 'neurons_dense': 346, 'optimizer': 'Adam', 'size_filters': 4}.\u001b[0m\n",
            "\u001b[32m[I 2020-01-16 15:19:33,453]\u001b[0m Finished trial#90 resulted in value: 0.09266456761679132. Current best value is 0.04013820999745066 with parameters: {'activation': 'leakyRelu', 'dropout_rate': 0.5, 'filters': 191, 'lr': 1.364710328809509e-05, 'neurons_dense': 346, 'optimizer': 'Adam', 'size_filters': 4}.\u001b[0m\n",
            "\u001b[32m[I 2020-01-16 15:22:02,499]\u001b[0m Finished trial#91 resulted in value: 0.8432430475086906. Current best value is 0.04013820999745066 with parameters: {'activation': 'leakyRelu', 'dropout_rate': 0.5, 'filters': 191, 'lr': 1.364710328809509e-05, 'neurons_dense': 346, 'optimizer': 'Adam', 'size_filters': 4}.\u001b[0m\n",
            "\u001b[32m[I 2020-01-16 15:25:06,466]\u001b[0m Finished trial#92 resulted in value: 0.7100307747188537. Current best value is 0.04013820999745066 with parameters: {'activation': 'leakyRelu', 'dropout_rate': 0.5, 'filters': 191, 'lr': 1.364710328809509e-05, 'neurons_dense': 346, 'optimizer': 'Adam', 'size_filters': 4}.\u001b[0m\n",
            "\u001b[32m[I 2020-01-16 15:28:08,053]\u001b[0m Finished trial#93 resulted in value: 0.0942118009373164. Current best value is 0.04013820999745066 with parameters: {'activation': 'leakyRelu', 'dropout_rate': 0.5, 'filters': 191, 'lr': 1.364710328809509e-05, 'neurons_dense': 346, 'optimizer': 'Adam', 'size_filters': 4}.\u001b[0m\n",
            "\u001b[32m[I 2020-01-16 15:28:16,675]\u001b[0m Setting status of trial#94 as TrialState.PRUNED. Trial was pruned at epoch 1.\u001b[0m\n",
            "\u001b[32m[I 2020-01-16 15:28:25,630]\u001b[0m Setting status of trial#95 as TrialState.PRUNED. Trial was pruned at epoch 1.\u001b[0m\n",
            "\u001b[32m[I 2020-01-16 15:28:36,109]\u001b[0m Setting status of trial#96 as TrialState.PRUNED. Trial was pruned at epoch 1.\u001b[0m\n",
            "\u001b[32m[I 2020-01-16 15:31:41,332]\u001b[0m Finished trial#97 resulted in value: 0.09961929418946092. Current best value is 0.04013820999745066 with parameters: {'activation': 'leakyRelu', 'dropout_rate': 0.5, 'filters': 191, 'lr': 1.364710328809509e-05, 'neurons_dense': 346, 'optimizer': 'Adam', 'size_filters': 4}.\u001b[0m\n",
            "\u001b[32m[I 2020-01-16 15:31:49,422]\u001b[0m Setting status of trial#98 as TrialState.PRUNED. Trial was pruned at epoch 1.\u001b[0m\n",
            "\u001b[32m[I 2020-01-16 15:31:59,018]\u001b[0m Setting status of trial#99 as TrialState.PRUNED. Trial was pruned at epoch 1.\u001b[0m\n",
            "\u001b[32m[I 2020-01-16 15:32:08,701]\u001b[0m Setting status of trial#100 as TrialState.PRUNED. Trial was pruned at epoch 1.\u001b[0m\n",
            "\u001b[32m[I 2020-01-16 15:32:17,558]\u001b[0m Setting status of trial#101 as TrialState.PRUNED. Trial was pruned at epoch 1.\u001b[0m\n",
            "\u001b[32m[I 2020-01-16 15:35:02,881]\u001b[0m Finished trial#102 resulted in value: 0.0965252745504187. Current best value is 0.04013820999745066 with parameters: {'activation': 'leakyRelu', 'dropout_rate': 0.5, 'filters': 191, 'lr': 1.364710328809509e-05, 'neurons_dense': 346, 'optimizer': 'Adam', 'size_filters': 4}.\u001b[0m\n"
          ],
          "name": "stderr"
        }
      ]
    },
    {
      "cell_type": "code",
      "metadata": {
        "id": "jAgvTh_64UsN",
        "colab_type": "code",
        "outputId": "efca0767-f18b-4b77-f0fd-60a7a0850a0b",
        "colab": {
          "base_uri": "https://localhost:8080/",
          "height": 108
        }
      },
      "source": [
        "print('Best trial number: ', study.best_trial.number)\n",
        "print('Best value:', 1-study.best_trial.value)\n",
        "print('Best parameters: \\n', study.best_trial.params)"
      ],
      "execution_count": 0,
      "outputs": [
        {
          "output_type": "stream",
          "text": [
            "Best trial number:  2\n",
            "Best value: 0.9598617900025493\n",
            "Best parameters: \n",
            " {'activation': 'leakyRelu', 'dropout_rate': 0.5, 'filters': 191, 'lr': 1.364710328809509e-05, 'neurons_dense': 346, 'optimizer': 'Adam', 'size_filters': 4}\n"
          ],
          "name": "stdout"
        }
      ]
    },
    {
      "cell_type": "markdown",
      "metadata": {
        "id": "UmuwQNjTdrvS",
        "colab_type": "text"
      },
      "source": [
        "## Visualizations\n",
        "\n",
        "---\n",
        "\n"
      ]
    },
    {
      "cell_type": "code",
      "metadata": {
        "id": "TJPpsQh_Kvvw",
        "colab_type": "code",
        "colab": {}
      },
      "source": [
        "study.trials_dataframe(attrs=('number', 'value', 'params', 'state'))"
      ],
      "execution_count": 0,
      "outputs": []
    },
    {
      "cell_type": "code",
      "metadata": {
        "id": "gcL8-gtVY4CQ",
        "colab_type": "code",
        "outputId": "69325e48-3563-4c48-dd90-9f0f704a938e",
        "colab": {
          "base_uri": "https://localhost:8080/",
          "height": 71
        }
      },
      "source": [
        "df = study.trials_dataframe(attrs=('number', 'value', 'params', 'state'))\n",
        "print('Trail completed: {}'.format(len(df[study.trials_dataframe(attrs=('number', 'value', 'params', 'state'))['state']=='COMPLETE'])))\n",
        "print('Trail pruned: {}'.format(len(df[study.trials_dataframe(attrs=('number', 'value', 'params', 'state'))['state']=='PRUNED'])))\n",
        "print('Trail failed: {}'.format(len(df[study.trials_dataframe(attrs=('number', 'value', 'params', 'state'))['state']=='FAIL'])))"
      ],
      "execution_count": 0,
      "outputs": [
        {
          "output_type": "stream",
          "text": [
            "Trail completed: 58\n",
            "Trail pruned: 43\n",
            "Trail failed: 2\n"
          ],
          "name": "stdout"
        }
      ]
    },
    {
      "cell_type": "code",
      "metadata": {
        "id": "IdF8HNW04cFV",
        "colab_type": "code",
        "outputId": "43992b78-c3b7-4446-9337-bde6bae0d77f",
        "colab": {
          "base_uri": "https://localhost:8080/",
          "height": 542
        }
      },
      "source": [
        "optuna.visualization.plot_parallel_coordinate(study)"
      ],
      "execution_count": 0,
      "outputs": [
        {
          "output_type": "display_data",
          "data": {
            "text/html": [
              "<html>\n",
              "<head><meta charset=\"utf-8\" /></head>\n",
              "<body>\n",
              "    <div>\n",
              "            <script src=\"https://cdnjs.cloudflare.com/ajax/libs/mathjax/2.7.5/MathJax.js?config=TeX-AMS-MML_SVG\"></script><script type=\"text/javascript\">if (window.MathJax) {MathJax.Hub.Config({SVG: {font: \"STIX-Web\"}});}</script>\n",
              "                <script type=\"text/javascript\">window.PlotlyConfig = {MathJaxConfig: 'local'};</script>\n",
              "        <script src=\"https://cdn.plot.ly/plotly-latest.min.js\"></script>    \n",
              "            <div id=\"a6cf047c-278c-445d-af98-71079fca8420\" class=\"plotly-graph-div\" style=\"height:525px; width:100%;\"></div>\n",
              "            <script type=\"text/javascript\">\n",
              "                \n",
              "                    window.PLOTLYENV=window.PLOTLYENV || {};\n",
              "                    \n",
              "                if (document.getElementById(\"a6cf047c-278c-445d-af98-71079fca8420\")) {\n",
              "                    Plotly.newPlot(\n",
              "                        'a6cf047c-278c-445d-af98-71079fca8420',\n",
              "                        [{\"dimensions\": [{\"label\": \"Objective Value\", \"range\": [0.04013820999745066, 0.8679469228788463], \"values\": [0.8432430475086906, 0.04013820999745066, 0.09768268199235941, 0.09266680284554185, 0.09035064680599214, 0.08648681060506558, 0.09305260537223325, 0.09150805428246622, 0.12239415720242663, 0.08610413744927348, 0.09614483671546614, 0.8432430475086906, 0.09382733958931533, 0.09266546177045154, 0.8509590968914067, 0.09305081716851282, 0.8428572450395548, 0.8513453464085948, 0.843243494556743, 0.09305037009743833, 0.8432430475086906, 0.08610369011344288, 0.8505728473742186, 0.8501955388180765, 0.8540580339899575, 0.850968484900505, 0.1166057790212327, 0.8467197402114358, 0.09150894844763757, 0.8679469228788463, 0.3483608537841, 0.8428572450395548, 0.09576037539048732, 0.09575501052608137, 0.1023190173888181, 0.0961434956173538, 0.8428567979915025, 0.8513542873696408, 0.08609877259637877, 0.09228323565120089, 0.09922946826483214, 0.8432430475086906, 0.08880475474473526, 0.09343349031279369, 0.09343751375677556, 0.09382733960082634, 0.09382555148919514, 0.1220114840236125, 0.13511803891306362, 0.09537099651391079, 0.13590573753517354, 0.08841939933516285, 0.09266456761679132, 0.8432430475086906, 0.7100307747188537, 0.0942118009373164, 0.09961929418946092, 0.0965252745504187]}, {\"label\": \"activation\", \"range\": [0, 1], \"ticktext\": [[\"relu\", 0], [\"leakyRelu\", 1]], \"tickvals\": [0, 1], \"values\": [0, 1, 1, 1, 0, 0, 0, 0, 1, 0, 0, 0, 0, 1, 0, 0, 1, 1, 1, 0, 1, 1, 1, 1, 1, 1, 1, 1, 0, 1, 1, 0, 0, 0, 0, 0, 1, 1, 0, 0, 0, 1, 0, 0, 0, 0, 0, 0, 0, 0, 1, 0, 0, 0, 0, 0, 0, 0]}, {\"label\": \"dropout_rate\", \"range\": [0.0, 0.9], \"values\": [0.9, 0.5, 0.8, 0.6000000000000001, 0.1, 0.6000000000000001, 0.4, 0.2, 0.9, 0.30000000000000004, 0.8, 0.9, 0.1, 0.4, 0.4, 0.5, 0.5, 0.1, 0.4, 0.0, 0.0, 0.0, 0.2, 0.1, 0.1, 0.6000000000000001, 0.4, 0.30000000000000004, 0.9, 0.2, 0.1, 0.9, 0.6000000000000001, 0.30000000000000004, 0.9, 0.9, 0.4, 0.5, 0.5, 0.0, 0.0, 0.4, 0.6000000000000001, 0.30000000000000004, 0.1, 0.0, 0.2, 0.0, 0.2, 0.7000000000000001, 0.4, 0.7000000000000001, 0.8, 0.8, 0.9, 0.1, 0.6000000000000001, 0.1]}, {\"label\": \"filters\", \"range\": [44, 255], \"values\": [212, 191, 68, 115, 44, 254, 127, 115, 97, 167, 198, 252, 213, 219, 236, 195, 204, 179, 172, 191, 203, 255, 255, 121, 163, 233, 229, 152, 250, 188, 157, 188, 185, 205, 190, 252, 157, 176, 190, 252, 211, 199, 198, 210, 192, 209, 249, 215, 239, 123, 194, 193, 195, 190, 194, 175, 185, 95]}, {\"label\": \"lr\", \"range\": [1.1606295546930186e-06, 0.007336035557256374], \"values\": [0.007336035557256374, 1.364710328809509e-05, 2.2121697115992597e-05, 0.00022384915511476628, 0.00028757977075099834, 0.0003369682711331964, 6.840759034577169e-06, 3.284395474159213e-05, 6.47034498762356e-06, 0.00014104877731799424, 0.0009964620006557541, 0.006415017545466177, 0.0005638551337989577, 7.719350203318938e-06, 0.0032546740758086085, 0.0012502138272094264, 0.0015337686470509571, 0.0012294509360283035, 0.0010401951218371255, 0.0009056454940439872, 0.0010107980934205571, 0.0009830881871373395, 0.0009969443318676467, 0.0009912754057644505, 0.0009578044975746275, 0.0007847918584880578, 1.5275600704481295e-06, 0.0006897070346375877, 0.00047581232350380365, 0.0005565349923177317, 0.0005271718480763044, 0.000670223501478429, 0.0005624918509164675, 0.0006162237953903007, 0.0006307598604512671, 0.0006482405777477221, 0.0006551569460801883, 0.000564934612855144, 0.0005570912748964225, 0.000666496241061904, 0.0009832912495302381, 0.00024367142826214015, 7.861717719413516e-05, 0.0006110622186946638, 0.00027677531230372747, 0.0009241256555248157, 0.0008356671759738401, 0.0006657593089329607, 0.000990593227536673, 0.0005822381562336566, 1.1606295546930186e-06, 0.0007264729937835038, 0.0008827001662140298, 0.0008242358240231032, 0.0008929525980815949, 0.0008513388604202165, 0.0008306682388326554, 0.0007466762297266629]}, {\"label\": \"neurons_dense\", \"range\": [32, 485], \"values\": [45, 346, 193, 141, 198, 111, 105, 395, 396, 334, 95, 32, 114, 103, 373, 272, 384, 461, 437, 337, 397, 275, 356, 485, 462, 361, 352, 321, 454, 393, 312, 100, 111, 197, 219, 406, 341, 462, 472, 272, 118, 478, 450, 482, 482, 209, 267, 424, 267, 483, 421, 66, 380, 43, 56, 376, 361, 425]}, {\"label\": \"optimizer\", \"range\": [0, 2], \"ticktext\": [[\"nadam\", 0], [\"Adam\", 1], [\"rmsprop\", 2]], \"tickvals\": [0, 1, 2], \"values\": [0, 1, 2, 2, 0, 2, 1, 1, 2, 2, 1, 0, 0, 0, 0, 1, 1, 1, 1, 1, 0, 1, 1, 0, 1, 1, 1, 1, 1, 1, 1, 1, 2, 1, 2, 1, 0, 2, 2, 1, 1, 2, 0, 0, 2, 2, 1, 2, 2, 0, 2, 0, 0, 1, 0, 1, 1, 1]}, {\"label\": \"size_filters\", \"range\": [1, 5], \"values\": [4, 4, 3, 4, 3, 1, 5, 2, 1, 2, 5, 4, 4, 4, 3, 1, 2, 5, 4, 3, 2, 1, 3, 4, 5, 4, 3, 5, 5, 5, 5, 1, 3, 1, 4, 4, 4, 4, 2, 1, 1, 4, 1, 2, 4, 3, 4, 5, 3, 3, 4, 2, 2, 4, 2, 2, 3, 5]}], \"line\": {\"color\": [0.8432430475086906, 0.04013820999745066, 0.09768268199235941, 0.09266680284554185, 0.09035064680599214, 0.08648681060506558, 0.09305260537223325, 0.09150805428246622, 0.12239415720242663, 0.08610413744927348, 0.09614483671546614, 0.8432430475086906, 0.09382733958931533, 0.09266546177045154, 0.8509590968914067, 0.09305081716851282, 0.8428572450395548, 0.8513453464085948, 0.843243494556743, 0.09305037009743833, 0.8432430475086906, 0.08610369011344288, 0.8505728473742186, 0.8501955388180765, 0.8540580339899575, 0.850968484900505, 0.1166057790212327, 0.8467197402114358, 0.09150894844763757, 0.8679469228788463, 0.3483608537841, 0.8428572450395548, 0.09576037539048732, 0.09575501052608137, 0.1023190173888181, 0.0961434956173538, 0.8428567979915025, 0.8513542873696408, 0.08609877259637877, 0.09228323565120089, 0.09922946826483214, 0.8432430475086906, 0.08880475474473526, 0.09343349031279369, 0.09343751375677556, 0.09382733960082634, 0.09382555148919514, 0.1220114840236125, 0.13511803891306362, 0.09537099651391079, 0.13590573753517354, 0.08841939933516285, 0.09266456761679132, 0.8432430475086906, 0.7100307747188537, 0.0942118009373164, 0.09961929418946092, 0.0965252745504187], \"colorbar\": {\"title\": {\"text\": \"Objective Value\"}}, \"colorscale\": [[0.0, \"rgb(247,251,255)\"], [0.125, \"rgb(222,235,247)\"], [0.25, \"rgb(198,219,239)\"], [0.375, \"rgb(158,202,225)\"], [0.5, \"rgb(107,174,214)\"], [0.625, \"rgb(66,146,198)\"], [0.75, \"rgb(33,113,181)\"], [0.875, \"rgb(8,81,156)\"], [1.0, \"rgb(8,48,107)\"]], \"reversescale\": true, \"showscale\": true}, \"type\": \"parcoords\"}],\n",
              "                        {\"template\": {\"data\": {\"bar\": [{\"error_x\": {\"color\": \"#2a3f5f\"}, \"error_y\": {\"color\": \"#2a3f5f\"}, \"marker\": {\"line\": {\"color\": \"#E5ECF6\", \"width\": 0.5}}, \"type\": \"bar\"}], \"barpolar\": [{\"marker\": {\"line\": {\"color\": \"#E5ECF6\", \"width\": 0.5}}, \"type\": \"barpolar\"}], \"carpet\": [{\"aaxis\": {\"endlinecolor\": \"#2a3f5f\", \"gridcolor\": \"white\", \"linecolor\": \"white\", \"minorgridcolor\": \"white\", \"startlinecolor\": \"#2a3f5f\"}, \"baxis\": {\"endlinecolor\": \"#2a3f5f\", \"gridcolor\": \"white\", \"linecolor\": \"white\", \"minorgridcolor\": \"white\", \"startlinecolor\": \"#2a3f5f\"}, \"type\": \"carpet\"}], \"choropleth\": [{\"colorbar\": {\"outlinewidth\": 0, \"ticks\": \"\"}, \"type\": \"choropleth\"}], \"contour\": [{\"colorbar\": {\"outlinewidth\": 0, \"ticks\": \"\"}, \"colorscale\": [[0.0, \"#0d0887\"], [0.1111111111111111, \"#46039f\"], [0.2222222222222222, \"#7201a8\"], [0.3333333333333333, \"#9c179e\"], [0.4444444444444444, \"#bd3786\"], [0.5555555555555556, \"#d8576b\"], [0.6666666666666666, \"#ed7953\"], [0.7777777777777778, \"#fb9f3a\"], [0.8888888888888888, \"#fdca26\"], [1.0, \"#f0f921\"]], \"type\": \"contour\"}], \"contourcarpet\": [{\"colorbar\": {\"outlinewidth\": 0, \"ticks\": \"\"}, \"type\": \"contourcarpet\"}], \"heatmap\": [{\"colorbar\": {\"outlinewidth\": 0, \"ticks\": \"\"}, \"colorscale\": [[0.0, \"#0d0887\"], [0.1111111111111111, \"#46039f\"], [0.2222222222222222, \"#7201a8\"], [0.3333333333333333, \"#9c179e\"], [0.4444444444444444, \"#bd3786\"], [0.5555555555555556, \"#d8576b\"], [0.6666666666666666, \"#ed7953\"], [0.7777777777777778, \"#fb9f3a\"], [0.8888888888888888, \"#fdca26\"], [1.0, \"#f0f921\"]], \"type\": \"heatmap\"}], \"heatmapgl\": [{\"colorbar\": {\"outlinewidth\": 0, \"ticks\": \"\"}, \"colorscale\": [[0.0, \"#0d0887\"], [0.1111111111111111, \"#46039f\"], [0.2222222222222222, \"#7201a8\"], [0.3333333333333333, \"#9c179e\"], [0.4444444444444444, \"#bd3786\"], [0.5555555555555556, \"#d8576b\"], [0.6666666666666666, \"#ed7953\"], [0.7777777777777778, \"#fb9f3a\"], [0.8888888888888888, \"#fdca26\"], [1.0, \"#f0f921\"]], \"type\": \"heatmapgl\"}], \"histogram\": [{\"marker\": {\"colorbar\": {\"outlinewidth\": 0, \"ticks\": \"\"}}, \"type\": \"histogram\"}], \"histogram2d\": [{\"colorbar\": {\"outlinewidth\": 0, \"ticks\": \"\"}, \"colorscale\": [[0.0, \"#0d0887\"], [0.1111111111111111, \"#46039f\"], [0.2222222222222222, \"#7201a8\"], [0.3333333333333333, \"#9c179e\"], [0.4444444444444444, \"#bd3786\"], [0.5555555555555556, \"#d8576b\"], [0.6666666666666666, \"#ed7953\"], [0.7777777777777778, \"#fb9f3a\"], [0.8888888888888888, \"#fdca26\"], [1.0, \"#f0f921\"]], \"type\": \"histogram2d\"}], \"histogram2dcontour\": [{\"colorbar\": {\"outlinewidth\": 0, \"ticks\": \"\"}, \"colorscale\": [[0.0, \"#0d0887\"], [0.1111111111111111, \"#46039f\"], [0.2222222222222222, \"#7201a8\"], [0.3333333333333333, \"#9c179e\"], [0.4444444444444444, \"#bd3786\"], [0.5555555555555556, \"#d8576b\"], [0.6666666666666666, \"#ed7953\"], [0.7777777777777778, \"#fb9f3a\"], [0.8888888888888888, \"#fdca26\"], [1.0, \"#f0f921\"]], \"type\": \"histogram2dcontour\"}], \"mesh3d\": [{\"colorbar\": {\"outlinewidth\": 0, \"ticks\": \"\"}, \"type\": \"mesh3d\"}], \"parcoords\": [{\"line\": {\"colorbar\": {\"outlinewidth\": 0, \"ticks\": \"\"}}, \"type\": \"parcoords\"}], \"pie\": [{\"automargin\": true, \"type\": \"pie\"}], \"scatter\": [{\"marker\": {\"colorbar\": {\"outlinewidth\": 0, \"ticks\": \"\"}}, \"type\": \"scatter\"}], \"scatter3d\": [{\"line\": {\"colorbar\": {\"outlinewidth\": 0, \"ticks\": \"\"}}, \"marker\": {\"colorbar\": {\"outlinewidth\": 0, \"ticks\": \"\"}}, \"type\": \"scatter3d\"}], \"scattercarpet\": [{\"marker\": {\"colorbar\": {\"outlinewidth\": 0, \"ticks\": \"\"}}, \"type\": \"scattercarpet\"}], \"scattergeo\": [{\"marker\": {\"colorbar\": {\"outlinewidth\": 0, \"ticks\": \"\"}}, \"type\": \"scattergeo\"}], \"scattergl\": [{\"marker\": {\"colorbar\": {\"outlinewidth\": 0, \"ticks\": \"\"}}, \"type\": \"scattergl\"}], \"scattermapbox\": [{\"marker\": {\"colorbar\": {\"outlinewidth\": 0, \"ticks\": \"\"}}, \"type\": \"scattermapbox\"}], \"scatterpolar\": [{\"marker\": {\"colorbar\": {\"outlinewidth\": 0, \"ticks\": \"\"}}, \"type\": \"scatterpolar\"}], \"scatterpolargl\": [{\"marker\": {\"colorbar\": {\"outlinewidth\": 0, \"ticks\": \"\"}}, \"type\": \"scatterpolargl\"}], \"scatterternary\": [{\"marker\": {\"colorbar\": {\"outlinewidth\": 0, \"ticks\": \"\"}}, \"type\": \"scatterternary\"}], \"surface\": [{\"colorbar\": {\"outlinewidth\": 0, \"ticks\": \"\"}, \"colorscale\": [[0.0, \"#0d0887\"], [0.1111111111111111, \"#46039f\"], [0.2222222222222222, \"#7201a8\"], [0.3333333333333333, \"#9c179e\"], [0.4444444444444444, \"#bd3786\"], [0.5555555555555556, \"#d8576b\"], [0.6666666666666666, \"#ed7953\"], [0.7777777777777778, \"#fb9f3a\"], [0.8888888888888888, \"#fdca26\"], [1.0, \"#f0f921\"]], \"type\": \"surface\"}], \"table\": [{\"cells\": {\"fill\": {\"color\": \"#EBF0F8\"}, \"line\": {\"color\": \"white\"}}, \"header\": {\"fill\": {\"color\": \"#C8D4E3\"}, \"line\": {\"color\": \"white\"}}, \"type\": \"table\"}]}, \"layout\": {\"annotationdefaults\": {\"arrowcolor\": \"#2a3f5f\", \"arrowhead\": 0, \"arrowwidth\": 1}, \"coloraxis\": {\"colorbar\": {\"outlinewidth\": 0, \"ticks\": \"\"}}, \"colorscale\": {\"diverging\": [[0, \"#8e0152\"], [0.1, \"#c51b7d\"], [0.2, \"#de77ae\"], [0.3, \"#f1b6da\"], [0.4, \"#fde0ef\"], [0.5, \"#f7f7f7\"], [0.6, \"#e6f5d0\"], [0.7, \"#b8e186\"], [0.8, \"#7fbc41\"], [0.9, \"#4d9221\"], [1, \"#276419\"]], \"sequential\": [[0.0, \"#0d0887\"], [0.1111111111111111, \"#46039f\"], [0.2222222222222222, \"#7201a8\"], [0.3333333333333333, \"#9c179e\"], [0.4444444444444444, \"#bd3786\"], [0.5555555555555556, \"#d8576b\"], [0.6666666666666666, \"#ed7953\"], [0.7777777777777778, \"#fb9f3a\"], [0.8888888888888888, \"#fdca26\"], [1.0, \"#f0f921\"]], \"sequentialminus\": [[0.0, \"#0d0887\"], [0.1111111111111111, \"#46039f\"], [0.2222222222222222, \"#7201a8\"], [0.3333333333333333, \"#9c179e\"], [0.4444444444444444, \"#bd3786\"], [0.5555555555555556, \"#d8576b\"], [0.6666666666666666, \"#ed7953\"], [0.7777777777777778, \"#fb9f3a\"], [0.8888888888888888, \"#fdca26\"], [1.0, \"#f0f921\"]]}, \"colorway\": [\"#636efa\", \"#EF553B\", \"#00cc96\", \"#ab63fa\", \"#FFA15A\", \"#19d3f3\", \"#FF6692\", \"#B6E880\", \"#FF97FF\", \"#FECB52\"], \"font\": {\"color\": \"#2a3f5f\"}, \"geo\": {\"bgcolor\": \"white\", \"lakecolor\": \"white\", \"landcolor\": \"#E5ECF6\", \"showlakes\": true, \"showland\": true, \"subunitcolor\": \"white\"}, \"hoverlabel\": {\"align\": \"left\"}, \"hovermode\": \"closest\", \"mapbox\": {\"style\": \"light\"}, \"paper_bgcolor\": \"white\", \"plot_bgcolor\": \"#E5ECF6\", \"polar\": {\"angularaxis\": {\"gridcolor\": \"white\", \"linecolor\": \"white\", \"ticks\": \"\"}, \"bgcolor\": \"#E5ECF6\", \"radialaxis\": {\"gridcolor\": \"white\", \"linecolor\": \"white\", \"ticks\": \"\"}}, \"scene\": {\"xaxis\": {\"backgroundcolor\": \"#E5ECF6\", \"gridcolor\": \"white\", \"gridwidth\": 2, \"linecolor\": \"white\", \"showbackground\": true, \"ticks\": \"\", \"zerolinecolor\": \"white\"}, \"yaxis\": {\"backgroundcolor\": \"#E5ECF6\", \"gridcolor\": \"white\", \"gridwidth\": 2, \"linecolor\": \"white\", \"showbackground\": true, \"ticks\": \"\", \"zerolinecolor\": \"white\"}, \"zaxis\": {\"backgroundcolor\": \"#E5ECF6\", \"gridcolor\": \"white\", \"gridwidth\": 2, \"linecolor\": \"white\", \"showbackground\": true, \"ticks\": \"\", \"zerolinecolor\": \"white\"}}, \"shapedefaults\": {\"line\": {\"color\": \"#2a3f5f\"}}, \"ternary\": {\"aaxis\": {\"gridcolor\": \"white\", \"linecolor\": \"white\", \"ticks\": \"\"}, \"baxis\": {\"gridcolor\": \"white\", \"linecolor\": \"white\", \"ticks\": \"\"}, \"bgcolor\": \"#E5ECF6\", \"caxis\": {\"gridcolor\": \"white\", \"linecolor\": \"white\", \"ticks\": \"\"}}, \"title\": {\"x\": 0.05}, \"xaxis\": {\"automargin\": true, \"gridcolor\": \"white\", \"linecolor\": \"white\", \"ticks\": \"\", \"title\": {\"standoff\": 15}, \"zerolinecolor\": \"white\", \"zerolinewidth\": 2}, \"yaxis\": {\"automargin\": true, \"gridcolor\": \"white\", \"linecolor\": \"white\", \"ticks\": \"\", \"title\": {\"standoff\": 15}, \"zerolinecolor\": \"white\", \"zerolinewidth\": 2}}}, \"title\": {\"text\": \"Parallel Coordinate Plot\"}},\n",
              "                        {\"responsive\": true}\n",
              "                    ).then(function(){\n",
              "                            \n",
              "var gd = document.getElementById('a6cf047c-278c-445d-af98-71079fca8420');\n",
              "var x = new MutationObserver(function (mutations, observer) {{\n",
              "        var display = window.getComputedStyle(gd).display;\n",
              "        if (!display || display === 'none') {{\n",
              "            console.log([gd, 'removed!']);\n",
              "            Plotly.purge(gd);\n",
              "            observer.disconnect();\n",
              "        }}\n",
              "}});\n",
              "\n",
              "// Listen for the removal of the full notebook cells\n",
              "var notebookContainer = gd.closest('#notebook-container');\n",
              "if (notebookContainer) {{\n",
              "    x.observe(notebookContainer, {childList: true});\n",
              "}}\n",
              "\n",
              "// Listen for the clearing of the current output cell\n",
              "var outputEl = gd.closest('.output');\n",
              "if (outputEl) {{\n",
              "    x.observe(outputEl, {childList: true});\n",
              "}}\n",
              "\n",
              "                        })\n",
              "                };\n",
              "                \n",
              "            </script>\n",
              "        </div>\n",
              "</body>\n",
              "</html>"
            ]
          },
          "metadata": {
            "tags": []
          }
        }
      ]
    },
    {
      "cell_type": "code",
      "metadata": {
        "id": "KoMkG-Ez4nth",
        "colab_type": "code",
        "outputId": "a2089ef9-fa4c-47ad-dff6-055033e54e62",
        "colab": {
          "base_uri": "https://localhost:8080/",
          "height": 542
        }
      },
      "source": [
        "optuna.visualization.plot_contour(study, ['activation', 'neurons_dense', 'filters', 'size_filters'])"
      ],
      "execution_count": 0,
      "outputs": [
        {
          "output_type": "display_data",
          "data": {
            "text/html": [
              "<html>\n",
              "<head><meta charset=\"utf-8\" /></head>\n",
              "<body>\n",
              "    <div>\n",
              "            <script src=\"https://cdnjs.cloudflare.com/ajax/libs/mathjax/2.7.5/MathJax.js?config=TeX-AMS-MML_SVG\"></script><script type=\"text/javascript\">if (window.MathJax) {MathJax.Hub.Config({SVG: {font: \"STIX-Web\"}});}</script>\n",
              "                <script type=\"text/javascript\">window.PlotlyConfig = {MathJaxConfig: 'local'};</script>\n",
              "        <script src=\"https://cdn.plot.ly/plotly-latest.min.js\"></script>    \n",
              "            <div id=\"3114832a-55b6-4c82-ba23-b68ddbdca4ae\" class=\"plotly-graph-div\" style=\"height:525px; width:100%;\"></div>\n",
              "            <script type=\"text/javascript\">\n",
              "                \n",
              "                    window.PLOTLYENV=window.PLOTLYENV || {};\n",
              "                    \n",
              "                if (document.getElementById(\"3114832a-55b6-4c82-ba23-b68ddbdca4ae\")) {\n",
              "                    Plotly.newPlot(\n",
              "                        '3114832a-55b6-4c82-ba23-b68ddbdca4ae',\n",
              "                        [{\"type\": \"scatter\", \"xaxis\": \"x\", \"yaxis\": \"y\"}, {\"colorbar\": {\"title\": {\"text\": \"Objective Value\"}}, \"colorscale\": [[0, \"rgb(220,220,220)\"], [0.30000000000000004, \"rgb(106,137,247)\"], [0.4, \"rgb(90,120,245)\"], [0.5, \"rgb(70,100,245)\"], [0.65, \"rgb(40,60,190)\"], [1, \"rgb(5,10,172)\"]], \"connectgaps\": true, \"contours\": {\"coloring\": \"heatmap\"}, \"hoverinfo\": \"none\", \"line\": {\"smoothing\": 1.3}, \"showscale\": true, \"type\": \"contour\", \"x\": [\"leakyRelu\", \"relu\"], \"xaxis\": \"x5\", \"y\": [44, 68, 95, 97, 115, 121, 123, 127, 152, 157, 163, 167, 172, 175, 176, 179, 185, 188, 190, 191, 192, 193, 194, 195, 198, 199, 203, 204, 205, 209, 210, 211, 212, 213, 215, 219, 229, 233, 236, 239, 249, 250, 252, 254, 255], \"yaxis\": \"y5\", \"z\": [[null, 0.09035064680599214], [0.09768268199235941, null], [null, 0.0965252745504187], [0.12239415720242663, null], [0.09266680284554185, 0.09150805428246622], [0.8501955388180765, null], [null, 0.09537099651391079], [null, 0.09305260537223325], [0.8467197402114358, null], [0.8428567979915025, null], [0.8540580339899575, null], [null, 0.08610413744927348], [0.843243494556743, null], [null, 0.0942118009373164], [0.8513542873696408, null], [0.8513453464085948, null], [null, 0.09961929418946092], [0.8679469228788463, 0.8428572450395548], [null, 0.8432430475086906], [0.04013820999745066, 0.09305037009743833], [null, 0.09343751375677556], [null, 0.08841939933516285], [0.13590573753517354, 0.7100307747188537], [null, 0.09266456761679132], [null, 0.08880475474473526], [0.8432430475086906, null], [0.8432430475086906, null], [0.8428572450395548, null], [null, 0.09575501052608137], [null, 0.09382733960082634], [null, 0.09343349031279369], [null, 0.09922946826483214], [null, 0.8432430475086906], [null, 0.09382733958931533], [null, 0.1220114840236125], [0.09266546177045154, null], [0.1166057790212327, null], [0.850968484900505, null], [null, 0.8509590968914067], [null, 0.13511803891306362], [null, 0.09382555148919514], [null, 0.09150894844763757], [null, 0.09228323565120089], [null, 0.08648681060506558], [0.8505728473742186, null]]}, {\"marker\": {\"color\": \"black\"}, \"mode\": \"markers\", \"showlegend\": false, \"type\": \"scatter\", \"x\": [\"relu\", \"leakyRelu\", \"leakyRelu\", \"leakyRelu\", \"relu\", \"relu\", \"relu\", \"relu\", \"leakyRelu\", \"relu\", \"relu\", \"relu\", \"relu\", \"leakyRelu\", \"relu\", \"relu\", \"leakyRelu\", \"leakyRelu\", \"leakyRelu\", \"relu\", \"leakyRelu\", \"leakyRelu\", \"leakyRelu\", \"leakyRelu\", \"leakyRelu\", \"leakyRelu\", \"leakyRelu\", \"leakyRelu\", \"relu\", \"leakyRelu\", \"leakyRelu\", \"relu\", \"relu\", \"relu\", \"relu\", \"relu\", \"leakyRelu\", \"leakyRelu\", \"relu\", \"relu\", \"relu\", \"leakyRelu\", \"relu\", \"relu\", \"relu\", \"relu\", \"relu\", \"relu\", \"relu\", \"relu\", \"leakyRelu\", \"relu\", \"relu\", \"relu\", \"relu\", \"relu\", \"relu\", \"relu\"], \"xaxis\": \"x5\", \"y\": [212, 191, 68, 115, 44, 254, 127, 115, 97, 167, 198, 252, 213, 219, 236, 195, 204, 179, 172, 191, 203, 255, 255, 121, 163, 233, 229, 152, 250, 188, 157, 188, 185, 205, 190, 252, 157, 176, 190, 252, 211, 199, 198, 210, 192, 209, 249, 215, 239, 123, 194, 193, 195, 190, 194, 175, 185, 95], \"yaxis\": \"y5\"}, {\"colorbar\": {\"title\": {\"text\": \"Objective Value\"}}, \"colorscale\": [[0, \"rgb(220,220,220)\"], [0.30000000000000004, \"rgb(106,137,247)\"], [0.4, \"rgb(90,120,245)\"], [0.5, \"rgb(70,100,245)\"], [0.65, \"rgb(40,60,190)\"], [1, \"rgb(5,10,172)\"]], \"connectgaps\": true, \"contours\": {\"coloring\": \"heatmap\"}, \"hoverinfo\": \"none\", \"line\": {\"smoothing\": 1.3}, \"showscale\": false, \"type\": \"contour\", \"x\": [\"leakyRelu\", \"relu\"], \"xaxis\": \"x9\", \"y\": [32, 43, 45, 56, 66, 95, 100, 103, 105, 111, 114, 118, 141, 193, 197, 198, 209, 219, 267, 272, 275, 312, 321, 334, 337, 341, 346, 352, 356, 361, 373, 376, 380, 384, 393, 395, 396, 397, 406, 421, 424, 425, 437, 450, 454, 461, 462, 472, 478, 482, 483, 485], \"yaxis\": \"y9\", \"z\": [[null, 0.8432430475086906], [null, 0.8432430475086906], [null, 0.8432430475086906], [null, 0.7100307747188537], [null, 0.08841939933516285], [null, 0.09614483671546614], [null, 0.8428572450395548], [0.09266546177045154, null], [null, 0.09305260537223325], [null, 0.09576037539048732], [null, 0.09382733958931533], [null, 0.09922946826483214], [0.09266680284554185, null], [0.09768268199235941, null], [null, 0.09575501052608137], [null, 0.09035064680599214], [null, 0.09382733960082634], [null, 0.1023190173888181], [null, 0.13511803891306362], [null, 0.09228323565120089], [0.08610369011344288, null], [0.3483608537841, null], [0.8467197402114358, null], [null, 0.08610413744927348], [null, 0.09305037009743833], [0.8428567979915025, null], [0.04013820999745066, null], [0.1166057790212327, null], [0.8505728473742186, null], [0.850968484900505, 0.09961929418946092], [null, 0.8509590968914067], [null, 0.0942118009373164], [null, 0.09266456761679132], [0.8428572450395548, null], [0.8679469228788463, null], [null, 0.09150805428246622], [0.12239415720242663, null], [0.8432430475086906, null], [null, 0.0961434956173538], [0.13590573753517354, null], [null, 0.1220114840236125], [null, 0.0965252745504187], [0.843243494556743, null], [null, 0.08880475474473526], [null, 0.09150894844763757], [0.8513453464085948, null], [0.8513542873696408, null], [null, 0.08609877259637877], [0.8432430475086906, null], [null, 0.09343751375677556], [null, 0.09537099651391079], [0.8501955388180765, null]]}, {\"marker\": {\"color\": \"black\"}, \"mode\": \"markers\", \"showlegend\": false, \"type\": \"scatter\", \"x\": [\"relu\", \"leakyRelu\", \"leakyRelu\", \"leakyRelu\", \"relu\", \"relu\", \"relu\", \"relu\", \"leakyRelu\", \"relu\", \"relu\", \"relu\", \"relu\", \"leakyRelu\", \"relu\", \"relu\", \"leakyRelu\", \"leakyRelu\", \"leakyRelu\", \"relu\", \"leakyRelu\", \"leakyRelu\", \"leakyRelu\", \"leakyRelu\", \"leakyRelu\", \"leakyRelu\", \"leakyRelu\", \"leakyRelu\", \"relu\", \"leakyRelu\", \"leakyRelu\", \"relu\", \"relu\", \"relu\", \"relu\", \"relu\", \"leakyRelu\", \"leakyRelu\", \"relu\", \"relu\", \"relu\", \"leakyRelu\", \"relu\", \"relu\", \"relu\", \"relu\", \"relu\", \"relu\", \"relu\", \"relu\", \"leakyRelu\", \"relu\", \"relu\", \"relu\", \"relu\", \"relu\", \"relu\", \"relu\"], \"xaxis\": \"x9\", \"y\": [45, 346, 193, 141, 198, 111, 105, 395, 396, 334, 95, 32, 114, 103, 373, 272, 384, 461, 437, 337, 397, 275, 356, 485, 462, 361, 352, 321, 454, 393, 312, 100, 111, 197, 219, 406, 341, 462, 472, 272, 118, 478, 450, 482, 482, 209, 267, 424, 267, 483, 421, 66, 380, 43, 56, 376, 361, 425], \"yaxis\": \"y9\"}, {\"colorbar\": {\"title\": {\"text\": \"Objective Value\"}}, \"colorscale\": [[0, \"rgb(220,220,220)\"], [0.30000000000000004, \"rgb(106,137,247)\"], [0.4, \"rgb(90,120,245)\"], [0.5, \"rgb(70,100,245)\"], [0.65, \"rgb(40,60,190)\"], [1, \"rgb(5,10,172)\"]], \"connectgaps\": true, \"contours\": {\"coloring\": \"heatmap\"}, \"hoverinfo\": \"none\", \"line\": {\"smoothing\": 1.3}, \"showscale\": false, \"type\": \"contour\", \"x\": [\"leakyRelu\", \"relu\"], \"xaxis\": \"x13\", \"y\": [1, 2, 3, 4, 5], \"yaxis\": \"y13\", \"z\": [[0.08610369011344288, 0.08880475474473526], [0.8432430475086906, 0.0942118009373164], [0.1166057790212327, 0.09961929418946092], [0.13590573753517354, 0.8432430475086906], [0.3483608537841, 0.0965252745504187]]}, {\"marker\": {\"color\": \"black\"}, \"mode\": \"markers\", \"showlegend\": false, \"type\": \"scatter\", \"x\": [\"relu\", \"leakyRelu\", \"leakyRelu\", \"leakyRelu\", \"relu\", \"relu\", \"relu\", \"relu\", \"leakyRelu\", \"relu\", \"relu\", \"relu\", \"relu\", \"leakyRelu\", \"relu\", \"relu\", \"leakyRelu\", \"leakyRelu\", \"leakyRelu\", \"relu\", \"leakyRelu\", \"leakyRelu\", \"leakyRelu\", \"leakyRelu\", \"leakyRelu\", \"leakyRelu\", \"leakyRelu\", \"leakyRelu\", \"relu\", \"leakyRelu\", \"leakyRelu\", \"relu\", \"relu\", \"relu\", \"relu\", \"relu\", \"leakyRelu\", \"leakyRelu\", \"relu\", \"relu\", \"relu\", \"leakyRelu\", \"relu\", \"relu\", \"relu\", \"relu\", \"relu\", \"relu\", \"relu\", \"relu\", \"leakyRelu\", \"relu\", \"relu\", \"relu\", \"relu\", \"relu\", \"relu\", \"relu\"], \"xaxis\": \"x13\", \"y\": [4, 4, 3, 4, 3, 1, 5, 2, 1, 2, 5, 4, 4, 4, 3, 1, 2, 5, 4, 3, 2, 1, 3, 4, 5, 4, 3, 5, 5, 5, 5, 1, 3, 1, 4, 4, 4, 4, 2, 1, 1, 4, 1, 2, 4, 3, 4, 5, 3, 3, 4, 2, 2, 4, 2, 2, 3, 5], \"yaxis\": \"y13\"}, {\"colorbar\": {\"title\": {\"text\": \"Objective Value\"}}, \"colorscale\": [[0, \"rgb(220,220,220)\"], [0.30000000000000004, \"rgb(106,137,247)\"], [0.4, \"rgb(90,120,245)\"], [0.5, \"rgb(70,100,245)\"], [0.65, \"rgb(40,60,190)\"], [1, \"rgb(5,10,172)\"]], \"connectgaps\": true, \"contours\": {\"coloring\": \"heatmap\"}, \"hoverinfo\": \"none\", \"line\": {\"smoothing\": 1.3}, \"showscale\": false, \"type\": \"contour\", \"x\": [44, 68, 95, 97, 115, 121, 123, 127, 152, 157, 163, 167, 172, 175, 176, 179, 185, 188, 190, 191, 192, 193, 194, 195, 198, 199, 203, 204, 205, 209, 210, 211, 212, 213, 215, 219, 229, 233, 236, 239, 249, 250, 252, 254, 255], \"xaxis\": \"x2\", \"y\": [\"leakyRelu\", \"relu\"], \"yaxis\": \"y2\", \"z\": [[null, 0.09768268199235941, null, 0.12239415720242663, 0.09266680284554185, 0.8501955388180765, null, null, 0.8467197402114358, 0.8428567979915025, 0.8540580339899575, null, 0.843243494556743, null, 0.8513542873696408, 0.8513453464085948, null, 0.8679469228788463, null, 0.04013820999745066, null, null, 0.13590573753517354, null, null, 0.8432430475086906, 0.8432430475086906, 0.8428572450395548, null, null, null, null, null, null, null, 0.09266546177045154, 0.1166057790212327, 0.850968484900505, null, null, null, null, null, null, 0.8505728473742186], [0.09035064680599214, null, 0.0965252745504187, null, 0.09150805428246622, null, 0.09537099651391079, 0.09305260537223325, null, null, null, 0.08610413744927348, null, 0.0942118009373164, null, null, 0.09961929418946092, 0.8428572450395548, 0.8432430475086906, 0.09305037009743833, 0.09343751375677556, 0.08841939933516285, 0.7100307747188537, 0.09266456761679132, 0.08880475474473526, null, null, null, 0.09575501052608137, 0.09382733960082634, 0.09343349031279369, 0.09922946826483214, 0.8432430475086906, 0.09382733958931533, 0.1220114840236125, null, null, null, 0.8509590968914067, 0.13511803891306362, 0.09382555148919514, 0.09150894844763757, 0.09228323565120089, 0.08648681060506558, null]]}, {\"marker\": {\"color\": \"black\"}, \"mode\": \"markers\", \"showlegend\": false, \"type\": \"scatter\", \"x\": [212, 191, 68, 115, 44, 254, 127, 115, 97, 167, 198, 252, 213, 219, 236, 195, 204, 179, 172, 191, 203, 255, 255, 121, 163, 233, 229, 152, 250, 188, 157, 188, 185, 205, 190, 252, 157, 176, 190, 252, 211, 199, 198, 210, 192, 209, 249, 215, 239, 123, 194, 193, 195, 190, 194, 175, 185, 95], \"xaxis\": \"x2\", \"y\": [\"relu\", \"leakyRelu\", \"leakyRelu\", \"leakyRelu\", \"relu\", \"relu\", \"relu\", \"relu\", \"leakyRelu\", \"relu\", \"relu\", \"relu\", \"relu\", \"leakyRelu\", \"relu\", \"relu\", \"leakyRelu\", \"leakyRelu\", \"leakyRelu\", \"relu\", \"leakyRelu\", \"leakyRelu\", \"leakyRelu\", \"leakyRelu\", \"leakyRelu\", \"leakyRelu\", \"leakyRelu\", \"leakyRelu\", \"relu\", \"leakyRelu\", \"leakyRelu\", \"relu\", \"relu\", \"relu\", \"relu\", \"relu\", \"leakyRelu\", \"leakyRelu\", \"relu\", \"relu\", \"relu\", \"leakyRelu\", \"relu\", \"relu\", \"relu\", \"relu\", \"relu\", \"relu\", \"relu\", \"relu\", \"leakyRelu\", \"relu\", \"relu\", \"relu\", \"relu\", \"relu\", \"relu\", \"relu\"], \"yaxis\": \"y2\"}, {\"type\": \"scatter\", \"xaxis\": \"x6\", \"yaxis\": \"y6\"}, {\"colorbar\": {\"title\": {\"text\": \"Objective Value\"}}, \"colorscale\": [[0, \"rgb(220,220,220)\"], [0.30000000000000004, \"rgb(106,137,247)\"], [0.4, \"rgb(90,120,245)\"], [0.5, \"rgb(70,100,245)\"], [0.65, \"rgb(40,60,190)\"], [1, \"rgb(5,10,172)\"]], \"connectgaps\": true, \"contours\": {\"coloring\": \"heatmap\"}, \"hoverinfo\": \"none\", \"line\": {\"smoothing\": 1.3}, \"showscale\": false, \"type\": \"contour\", \"x\": [44, 68, 95, 97, 115, 121, 123, 127, 152, 157, 163, 167, 172, 175, 176, 179, 185, 188, 190, 191, 192, 193, 194, 195, 198, 199, 203, 204, 205, 209, 210, 211, 212, 213, 215, 219, 229, 233, 236, 239, 249, 250, 252, 254, 255], \"xaxis\": \"x10\", \"y\": [32, 43, 45, 56, 66, 95, 100, 103, 105, 111, 114, 118, 141, 193, 197, 198, 209, 219, 267, 272, 275, 312, 321, 334, 337, 341, 346, 352, 356, 361, 373, 376, 380, 384, 393, 395, 396, 397, 406, 421, 424, 425, 437, 450, 454, 461, 462, 472, 478, 482, 483, 485], \"yaxis\": \"y10\", \"z\": [[null, null, null, null, null, null, null, null, null, null, null, null, null, null, null, null, null, null, null, null, null, null, null, null, null, null, null, null, null, null, null, null, null, null, null, null, null, null, null, null, null, null, 0.8432430475086906, null, null], [null, null, null, null, null, null, null, null, null, null, null, null, null, null, null, null, null, null, 0.8432430475086906, null, null, null, null, null, null, null, null, null, null, null, null, null, null, null, null, null, null, null, null, null, null, null, null, null, null], [null, null, null, null, null, null, null, null, null, null, null, null, null, null, null, null, null, null, null, null, null, null, null, null, null, null, null, null, null, null, null, null, 0.8432430475086906, null, null, null, null, null, null, null, null, null, null, null, null], [null, null, null, null, null, null, null, null, null, null, null, null, null, null, null, null, null, null, null, null, null, null, 0.7100307747188537, null, null, null, null, null, null, null, null, null, null, null, null, null, null, null, null, null, null, null, null, null, null], [null, null, null, null, null, null, null, null, null, null, null, null, null, null, null, null, null, null, null, null, null, 0.08841939933516285, null, null, null, null, null, null, null, null, null, null, null, null, null, null, null, null, null, null, null, null, null, null, null], [null, null, null, null, null, null, null, null, null, null, null, null, null, null, null, null, null, null, null, null, null, null, null, null, 0.09614483671546614, null, null, null, null, null, null, null, null, null, null, null, null, null, null, null, null, null, null, null, null], [null, null, null, null, null, null, null, null, null, null, null, null, null, null, null, null, null, 0.8428572450395548, null, null, null, null, null, null, null, null, null, null, null, null, null, null, null, null, null, null, null, null, null, null, null, null, null, null, null], [null, null, null, null, null, null, null, null, null, null, null, null, null, null, null, null, null, null, null, null, null, null, null, null, null, null, null, null, null, null, null, null, null, null, null, 0.09266546177045154, null, null, null, null, null, null, null, null, null], [null, null, null, null, null, null, null, 0.09305260537223325, null, null, null, null, null, null, null, null, null, null, null, null, null, null, null, null, null, null, null, null, null, null, null, null, null, null, null, null, null, null, null, null, null, null, null, null, null], [null, null, null, null, null, null, null, null, null, null, null, null, null, null, null, null, 0.09576037539048732, null, null, null, null, null, null, null, null, null, null, null, null, null, null, null, null, null, null, null, null, null, null, null, null, null, null, 0.08648681060506558, null], [null, null, null, null, null, null, null, null, null, null, null, null, null, null, null, null, null, null, null, null, null, null, null, null, null, null, null, null, null, null, null, null, null, 0.09382733958931533, null, null, null, null, null, null, null, null, null, null, null], [null, null, null, null, null, null, null, null, null, null, null, null, null, null, null, null, null, null, null, null, null, null, null, null, null, null, null, null, null, null, null, 0.09922946826483214, null, null, null, null, null, null, null, null, null, null, null, null, null], [null, null, null, null, 0.09266680284554185, null, null, null, null, null, null, null, null, null, null, null, null, null, null, null, null, null, null, null, null, null, null, null, null, null, null, null, null, null, null, null, null, null, null, null, null, null, null, null, null], [null, 0.09768268199235941, null, null, null, null, null, null, null, null, null, null, null, null, null, null, null, null, null, null, null, null, null, null, null, null, null, null, null, null, null, null, null, null, null, null, null, null, null, null, null, null, null, null, null], [null, null, null, null, null, null, null, null, null, null, null, null, null, null, null, null, null, null, null, null, null, null, null, null, null, null, null, null, 0.09575501052608137, null, null, null, null, null, null, null, null, null, null, null, null, null, null, null, null], [0.09035064680599214, null, null, null, null, null, null, null, null, null, null, null, null, null, null, null, null, null, null, null, null, null, null, null, null, null, null, null, null, null, null, null, null, null, null, null, null, null, null, null, null, null, null, null, null], [null, null, null, null, null, null, null, null, null, null, null, null, null, null, null, null, null, null, null, null, null, null, null, null, null, null, null, null, null, 0.09382733960082634, null, null, null, null, null, null, null, null, null, null, null, null, null, null, null], [null, null, null, null, null, null, null, null, null, null, null, null, null, null, null, null, null, null, 0.1023190173888181, null, null, null, null, null, null, null, null, null, null, null, null, null, null, null, null, null, null, null, null, null, null, null, null, null, null], [null, null, null, null, null, null, null, null, null, null, null, null, null, null, null, null, null, null, null, null, null, null, null, null, null, null, null, null, null, null, null, null, null, null, null, null, null, null, null, 0.13511803891306362, 0.09382555148919514, null, null, null, null], [null, null, null, null, null, null, null, null, null, null, null, null, null, null, null, null, null, null, null, null, null, null, null, 0.09305081716851282, null, null, null, null, null, null, null, null, null, null, null, null, null, null, null, null, null, null, 0.09228323565120089, null, null], [null, null, null, null, null, null, null, null, null, null, null, null, null, null, null, null, null, null, null, null, null, null, null, null, null, null, null, null, null, null, null, null, null, null, null, null, null, null, null, null, null, null, null, null, 0.08610369011344288], [null, null, null, null, null, null, null, null, null, 0.3483608537841, null, null, null, null, null, null, null, null, null, null, null, null, null, null, null, null, null, null, null, null, null, null, null, null, null, null, null, null, null, null, null, null, null, null, null], [null, null, null, null, null, null, null, null, 0.8467197402114358, null, null, null, null, null, null, null, null, null, null, null, null, null, null, null, null, null, null, null, null, null, null, null, null, null, null, null, null, null, null, null, null, null, null, null, null], [null, null, null, null, null, null, null, null, null, null, null, 0.08610413744927348, null, null, null, null, null, null, null, null, null, null, null, null, null, null, null, null, null, null, null, null, null, null, null, null, null, null, null, null, null, null, null, null, null], [null, null, null, null, null, null, null, null, null, null, null, null, null, null, null, null, null, null, null, 0.09305037009743833, null, null, null, null, null, null, null, null, null, null, null, null, null, null, null, null, null, null, null, null, null, null, null, null, null], [null, null, null, null, null, null, null, null, null, 0.8428567979915025, null, null, null, null, null, null, null, null, null, null, null, null, null, null, null, null, null, null, null, null, null, null, null, null, null, null, null, null, null, null, null, null, null, null, null], [null, null, null, null, null, null, null, null, null, null, null, null, null, null, null, null, null, null, null, 0.04013820999745066, null, null, null, null, null, null, null, null, null, null, null, null, null, null, null, null, null, null, null, null, null, null, null, null, null], [null, null, null, null, null, null, null, null, null, null, null, null, null, null, null, null, null, null, null, null, null, null, null, null, null, null, null, null, null, null, null, null, null, null, null, null, 0.1166057790212327, null, null, null, null, null, null, null, null], [null, null, null, null, null, null, null, null, null, null, null, null, null, null, null, null, null, null, null, null, null, null, null, null, null, null, null, null, null, null, null, null, null, null, null, null, null, null, null, null, null, null, null, null, 0.8505728473742186], [null, null, null, null, null, null, null, null, null, null, null, null, null, null, null, null, 0.09961929418946092, null, null, null, null, null, null, null, null, null, null, null, null, null, null, null, null, null, null, null, null, 0.850968484900505, null, null, null, null, null, null, null], [null, null, null, null, null, null, null, null, null, null, null, null, null, null, null, null, null, null, null, null, null, null, null, null, null, null, null, null, null, null, null, null, null, null, null, null, null, null, 0.8509590968914067, null, null, null, null, null, null], [null, null, null, null, null, null, null, null, null, null, null, null, null, 0.0942118009373164, null, null, null, null, null, null, null, null, null, null, null, null, null, null, null, null, null, null, null, null, null, null, null, null, null, null, null, null, null, null, null], [null, null, null, null, null, null, null, null, null, null, null, null, null, null, null, null, null, null, null, null, null, null, null, 0.09266456761679132, null, null, null, null, null, null, null, null, null, null, null, null, null, null, null, null, null, null, null, null, null], [null, null, null, null, null, null, null, null, null, null, null, null, null, null, null, null, null, null, null, null, null, null, null, null, null, null, null, 0.8428572450395548, null, null, null, null, null, null, null, null, null, null, null, null, null, null, null, null, null], [null, null, null, null, null, null, null, null, null, null, null, null, null, null, null, null, null, 0.8679469228788463, null, null, null, null, null, null, null, null, null, null, null, null, null, null, null, null, null, null, null, null, null, null, null, null, null, null, null], [null, null, null, null, 0.09150805428246622, null, null, null, null, null, null, null, null, null, null, null, null, null, null, null, null, null, null, null, null, null, null, null, null, null, null, null, null, null, null, null, null, null, null, null, null, null, null, null, null], [null, null, null, 0.12239415720242663, null, null, null, null, null, null, null, null, null, null, null, null, null, null, null, null, null, null, null, null, null, null, null, null, null, null, null, null, null, null, null, null, null, null, null, null, null, null, null, null, null], [null, null, null, null, null, null, null, null, null, null, null, null, null, null, null, null, null, null, null, null, null, null, null, null, null, null, 0.8432430475086906, null, null, null, null, null, null, null, null, null, null, null, null, null, null, null, null, null, null], [null, null, null, null, null, null, null, null, null, null, null, null, null, null, null, null, null, null, null, null, null, null, null, null, null, null, null, null, null, null, null, null, null, null, null, null, null, null, null, null, null, null, 0.0961434956173538, null, null], [null, null, null, null, null, null, null, null, null, null, null, null, null, null, null, null, null, null, null, null, null, null, 0.13590573753517354, null, null, null, null, null, null, null, null, null, null, null, null, null, null, null, null, null, null, null, null, null, null], [null, null, null, null, null, null, null, null, null, null, null, null, null, null, null, null, null, null, null, null, null, null, null, null, null, null, null, null, null, null, null, null, null, null, 0.1220114840236125, null, null, null, null, null, null, null, null, null, null], [null, null, 0.0965252745504187, null, null, null, null, null, null, null, null, null, null, null, null, null, null, null, null, null, null, null, null, null, null, null, null, null, null, null, null, null, null, null, null, null, null, null, null, null, null, null, null, null, null], [null, null, null, null, null, null, null, null, null, null, null, null, 0.843243494556743, null, null, null, null, null, null, null, null, null, null, null, null, null, null, null, null, null, null, null, null, null, null, null, null, null, null, null, null, null, null, null, null], [null, null, null, null, null, null, null, null, null, null, null, null, null, null, null, null, null, null, null, null, null, null, null, null, 0.08880475474473526, null, null, null, null, null, null, null, null, null, null, null, null, null, null, null, null, null, null, null, null], [null, null, null, null, null, null, null, null, null, null, null, null, null, null, null, null, null, null, null, null, null, null, null, null, null, null, null, null, null, null, null, null, null, null, null, null, null, null, null, null, null, 0.09150894844763757, null, null, null], [null, null, null, null, null, null, null, null, null, null, null, null, null, null, null, 0.8513453464085948, null, null, null, null, null, null, null, null, null, null, null, null, null, null, null, null, null, null, null, null, null, null, null, null, null, null, null, null, null], [null, null, null, null, null, null, null, null, null, null, 0.8540580339899575, null, null, null, 0.8513542873696408, null, null, null, null, null, null, null, null, null, null, null, null, null, null, null, null, null, null, null, null, null, null, null, null, null, null, null, null, null, null], [null, null, null, null, null, null, null, null, null, null, null, null, null, null, null, null, null, null, 0.08609877259637877, null, null, null, null, null, null, null, null, null, null, null, null, null, null, null, null, null, null, null, null, null, null, null, null, null, null], [null, null, null, null, null, null, null, null, null, null, null, null, null, null, null, null, null, null, null, null, null, null, null, null, null, 0.8432430475086906, null, null, null, null, null, null, null, null, null, null, null, null, null, null, null, null, null, null, null], [null, null, null, null, null, null, null, null, null, null, null, null, null, null, null, null, null, null, null, null, 0.09343751375677556, null, null, null, null, null, null, null, null, null, 0.09343349031279369, null, null, null, null, null, null, null, null, null, null, null, null, null, null], [null, null, null, null, null, null, 0.09537099651391079, null, null, null, null, null, null, null, null, null, null, null, null, null, null, null, null, null, null, null, null, null, null, null, null, null, null, null, null, null, null, null, null, null, null, null, null, null, null], [null, null, null, null, null, 0.8501955388180765, null, null, null, null, null, null, null, null, null, null, null, null, null, null, null, null, null, null, null, null, null, null, null, null, null, null, null, null, null, null, null, null, null, null, null, null, null, null, null]]}, {\"marker\": {\"color\": \"black\"}, \"mode\": \"markers\", \"showlegend\": false, \"type\": \"scatter\", \"x\": [212, 191, 68, 115, 44, 254, 127, 115, 97, 167, 198, 252, 213, 219, 236, 195, 204, 179, 172, 191, 203, 255, 255, 121, 163, 233, 229, 152, 250, 188, 157, 188, 185, 205, 190, 252, 157, 176, 190, 252, 211, 199, 198, 210, 192, 209, 249, 215, 239, 123, 194, 193, 195, 190, 194, 175, 185, 95], \"xaxis\": \"x10\", \"y\": [45, 346, 193, 141, 198, 111, 105, 395, 396, 334, 95, 32, 114, 103, 373, 272, 384, 461, 437, 337, 397, 275, 356, 485, 462, 361, 352, 321, 454, 393, 312, 100, 111, 197, 219, 406, 341, 462, 472, 272, 118, 478, 450, 482, 482, 209, 267, 424, 267, 483, 421, 66, 380, 43, 56, 376, 361, 425], \"yaxis\": \"y10\"}, {\"colorbar\": {\"title\": {\"text\": \"Objective Value\"}}, \"colorscale\": [[0, \"rgb(220,220,220)\"], [0.30000000000000004, \"rgb(106,137,247)\"], [0.4, \"rgb(90,120,245)\"], [0.5, \"rgb(70,100,245)\"], [0.65, \"rgb(40,60,190)\"], [1, \"rgb(5,10,172)\"]], \"connectgaps\": true, \"contours\": {\"coloring\": \"heatmap\"}, \"hoverinfo\": \"none\", \"line\": {\"smoothing\": 1.3}, \"showscale\": false, \"type\": \"contour\", \"x\": [44, 68, 95, 97, 115, 121, 123, 127, 152, 157, 163, 167, 172, 175, 176, 179, 185, 188, 190, 191, 192, 193, 194, 195, 198, 199, 203, 204, 205, 209, 210, 211, 212, 213, 215, 219, 229, 233, 236, 239, 249, 250, 252, 254, 255], \"xaxis\": \"x14\", \"y\": [1, 2, 3, 4, 5], \"yaxis\": \"y14\", \"z\": [[null, null, null, 0.12239415720242663, null, null, null, null, null, null, null, null, null, null, null, null, null, 0.8428572450395548, null, null, null, null, null, 0.09305081716851282, 0.08880475474473526, null, null, null, 0.09575501052608137, null, null, 0.09922946826483214, null, null, null, null, null, null, null, null, null, null, 0.09228323565120089, 0.08648681060506558, 0.08610369011344288], [null, null, null, null, 0.09150805428246622, null, null, null, null, null, null, 0.08610413744927348, null, 0.0942118009373164, null, null, null, null, 0.08609877259637877, null, null, 0.08841939933516285, 0.7100307747188537, 0.09266456761679132, null, null, 0.8432430475086906, 0.8428572450395548, null, null, 0.09343349031279369, null, null, null, null, null, null, null, null, null, null, null, null, null, null], [0.09035064680599214, 0.09768268199235941, null, null, null, null, 0.09537099651391079, null, null, null, null, null, null, null, null, null, 0.09961929418946092, null, null, 0.09305037009743833, null, null, null, null, null, null, null, null, null, 0.09382733960082634, null, null, null, null, null, null, 0.1166057790212327, null, 0.8509590968914067, 0.13511803891306362, null, null, null, null, 0.8505728473742186], [null, null, null, null, 0.09266680284554185, 0.8501955388180765, null, null, null, 0.8428567979915025, null, null, 0.843243494556743, null, 0.8513542873696408, null, null, null, 0.8432430475086906, 0.04013820999745066, 0.09343751375677556, null, 0.13590573753517354, null, null, 0.8432430475086906, null, null, null, null, null, null, 0.8432430475086906, 0.09382733958931533, null, 0.09266546177045154, null, 0.850968484900505, null, null, 0.09382555148919514, null, 0.0961434956173538, null, null], [null, null, 0.0965252745504187, null, null, null, null, 0.09305260537223325, 0.8467197402114358, 0.3483608537841, 0.8540580339899575, null, null, null, null, 0.8513453464085948, null, 0.8679469228788463, null, null, null, null, null, null, 0.09614483671546614, null, null, null, null, null, null, null, null, null, 0.1220114840236125, null, null, null, null, null, null, 0.09150894844763757, null, null, null]]}, {\"marker\": {\"color\": \"black\"}, \"mode\": \"markers\", \"showlegend\": false, \"type\": \"scatter\", \"x\": [212, 191, 68, 115, 44, 254, 127, 115, 97, 167, 198, 252, 213, 219, 236, 195, 204, 179, 172, 191, 203, 255, 255, 121, 163, 233, 229, 152, 250, 188, 157, 188, 185, 205, 190, 252, 157, 176, 190, 252, 211, 199, 198, 210, 192, 209, 249, 215, 239, 123, 194, 193, 195, 190, 194, 175, 185, 95], \"xaxis\": \"x14\", \"y\": [4, 4, 3, 4, 3, 1, 5, 2, 1, 2, 5, 4, 4, 4, 3, 1, 2, 5, 4, 3, 2, 1, 3, 4, 5, 4, 3, 5, 5, 5, 5, 1, 3, 1, 4, 4, 4, 4, 2, 1, 1, 4, 1, 2, 4, 3, 4, 5, 3, 3, 4, 2, 2, 4, 2, 2, 3, 5], \"yaxis\": \"y14\"}, {\"colorbar\": {\"title\": {\"text\": \"Objective Value\"}}, \"colorscale\": [[0, \"rgb(220,220,220)\"], [0.30000000000000004, \"rgb(106,137,247)\"], [0.4, \"rgb(90,120,245)\"], [0.5, \"rgb(70,100,245)\"], [0.65, \"rgb(40,60,190)\"], [1, \"rgb(5,10,172)\"]], \"connectgaps\": true, \"contours\": {\"coloring\": \"heatmap\"}, \"hoverinfo\": \"none\", \"line\": {\"smoothing\": 1.3}, \"showscale\": false, \"type\": \"contour\", \"x\": [32, 43, 45, 56, 66, 95, 100, 103, 105, 111, 114, 118, 141, 193, 197, 198, 209, 219, 267, 272, 275, 312, 321, 334, 337, 341, 346, 352, 356, 361, 373, 376, 380, 384, 393, 395, 396, 397, 406, 421, 424, 425, 437, 450, 454, 461, 462, 472, 478, 482, 483, 485], \"xaxis\": \"x3\", \"y\": [\"leakyRelu\", \"relu\"], \"yaxis\": \"y3\", \"z\": [[null, null, null, null, null, null, null, 0.09266546177045154, null, null, null, null, 0.09266680284554185, 0.09768268199235941, null, null, null, null, null, null, 0.08610369011344288, 0.3483608537841, 0.8467197402114358, null, null, 0.8428567979915025, 0.04013820999745066, 0.1166057790212327, 0.8505728473742186, 0.850968484900505, null, null, null, 0.8428572450395548, 0.8679469228788463, null, 0.12239415720242663, 0.8432430475086906, null, 0.13590573753517354, null, null, 0.843243494556743, null, null, 0.8513453464085948, 0.8513542873696408, null, 0.8432430475086906, null, null, 0.8501955388180765], [0.8432430475086906, 0.8432430475086906, 0.8432430475086906, 0.7100307747188537, 0.08841939933516285, 0.09614483671546614, 0.8428572450395548, null, 0.09305260537223325, 0.09576037539048732, 0.09382733958931533, 0.09922946826483214, null, null, 0.09575501052608137, 0.09035064680599214, 0.09382733960082634, 0.1023190173888181, 0.13511803891306362, 0.09228323565120089, null, null, null, 0.08610413744927348, 0.09305037009743833, null, null, null, null, 0.09961929418946092, 0.8509590968914067, 0.0942118009373164, 0.09266456761679132, null, null, 0.09150805428246622, null, null, 0.0961434956173538, null, 0.1220114840236125, 0.0965252745504187, null, 0.08880475474473526, 0.09150894844763757, null, null, 0.08609877259637877, null, 0.09343751375677556, 0.09537099651391079, null]]}, {\"marker\": {\"color\": \"black\"}, \"mode\": \"markers\", \"showlegend\": false, \"type\": \"scatter\", \"x\": [45, 346, 193, 141, 198, 111, 105, 395, 396, 334, 95, 32, 114, 103, 373, 272, 384, 461, 437, 337, 397, 275, 356, 485, 462, 361, 352, 321, 454, 393, 312, 100, 111, 197, 219, 406, 341, 462, 472, 272, 118, 478, 450, 482, 482, 209, 267, 424, 267, 483, 421, 66, 380, 43, 56, 376, 361, 425], \"xaxis\": \"x3\", \"y\": [\"relu\", \"leakyRelu\", \"leakyRelu\", \"leakyRelu\", \"relu\", \"relu\", \"relu\", \"relu\", \"leakyRelu\", \"relu\", \"relu\", \"relu\", \"relu\", \"leakyRelu\", \"relu\", \"relu\", \"leakyRelu\", \"leakyRelu\", \"leakyRelu\", \"relu\", \"leakyRelu\", \"leakyRelu\", \"leakyRelu\", \"leakyRelu\", \"leakyRelu\", \"leakyRelu\", \"leakyRelu\", \"leakyRelu\", \"relu\", \"leakyRelu\", \"leakyRelu\", \"relu\", \"relu\", \"relu\", \"relu\", \"relu\", \"leakyRelu\", \"leakyRelu\", \"relu\", \"relu\", \"relu\", \"leakyRelu\", \"relu\", \"relu\", \"relu\", \"relu\", \"relu\", \"relu\", \"relu\", \"relu\", \"leakyRelu\", \"relu\", \"relu\", \"relu\", \"relu\", \"relu\", \"relu\", \"relu\"], \"yaxis\": \"y3\"}, {\"colorbar\": {\"title\": {\"text\": \"Objective Value\"}}, \"colorscale\": [[0, \"rgb(220,220,220)\"], [0.30000000000000004, \"rgb(106,137,247)\"], [0.4, \"rgb(90,120,245)\"], [0.5, \"rgb(70,100,245)\"], [0.65, \"rgb(40,60,190)\"], [1, \"rgb(5,10,172)\"]], \"connectgaps\": true, \"contours\": {\"coloring\": \"heatmap\"}, \"hoverinfo\": \"none\", \"line\": {\"smoothing\": 1.3}, \"showscale\": false, \"type\": \"contour\", \"x\": [32, 43, 45, 56, 66, 95, 100, 103, 105, 111, 114, 118, 141, 193, 197, 198, 209, 219, 267, 272, 275, 312, 321, 334, 337, 341, 346, 352, 356, 361, 373, 376, 380, 384, 393, 395, 396, 397, 406, 421, 424, 425, 437, 450, 454, 461, 462, 472, 478, 482, 483, 485], \"xaxis\": \"x7\", \"y\": [44, 68, 95, 97, 115, 121, 123, 127, 152, 157, 163, 167, 172, 175, 176, 179, 185, 188, 190, 191, 192, 193, 194, 195, 198, 199, 203, 204, 205, 209, 210, 211, 212, 213, 215, 219, 229, 233, 236, 239, 249, 250, 252, 254, 255], \"yaxis\": \"y7\", \"z\": [[null, null, null, null, null, null, null, null, null, null, null, null, null, null, null, 0.09035064680599214, null, null, null, null, null, null, null, null, null, null, null, null, null, null, null, null, null, null, null, null, null, null, null, null, null, null, null, null, null, null, null, null, null, null, null, null], [null, null, null, null, null, null, null, null, null, null, null, null, null, 0.09768268199235941, null, null, null, null, null, null, null, null, null, null, null, null, null, null, null, null, null, null, null, null, null, null, null, null, null, null, null, null, null, null, null, null, null, null, null, null, null, null], [null, null, null, null, null, null, null, null, null, null, null, null, null, null, null, null, null, null, null, null, null, null, null, null, null, null, null, null, null, null, null, null, null, null, null, null, null, null, null, null, null, 0.0965252745504187, null, null, null, null, null, null, null, null, null, null], [null, null, null, null, null, null, null, null, null, null, null, null, null, null, null, null, null, null, null, null, null, null, null, null, null, null, null, null, null, null, null, null, null, null, null, null, 0.12239415720242663, null, null, null, null, null, null, null, null, null, null, null, null, null, null, null], [null, null, null, null, null, null, null, null, null, null, null, null, 0.09266680284554185, null, null, null, null, null, null, null, null, null, null, null, null, null, null, null, null, null, null, null, null, null, null, 0.09150805428246622, null, null, null, null, null, null, null, null, null, null, null, null, null, null, null, null], [null, null, null, null, null, null, null, null, null, null, null, null, null, null, null, null, null, null, null, null, null, null, null, null, null, null, null, null, null, null, null, null, null, null, null, null, null, null, null, null, null, null, null, null, null, null, null, null, null, null, null, 0.8501955388180765], [null, null, null, null, null, null, null, null, null, null, null, null, null, null, null, null, null, null, null, null, null, null, null, null, null, null, null, null, null, null, null, null, null, null, null, null, null, null, null, null, null, null, null, null, null, null, null, null, null, null, 0.09537099651391079, null], [null, null, null, null, null, null, null, null, 0.09305260537223325, null, null, null, null, null, null, null, null, null, null, null, null, null, null, null, null, null, null, null, null, null, null, null, null, null, null, null, null, null, null, null, null, null, null, null, null, null, null, null, null, null, null, null], [null, null, null, null, null, null, null, null, null, null, null, null, null, null, null, null, null, null, null, null, null, null, 0.8467197402114358, null, null, null, null, null, null, null, null, null, null, null, null, null, null, null, null, null, null, null, null, null, null, null, null, null, null, null, null, null], [null, null, null, null, null, null, null, null, null, null, null, null, null, null, null, null, null, null, null, null, null, 0.3483608537841, null, null, null, 0.8428567979915025, null, null, null, null, null, null, null, null, null, null, null, null, null, null, null, null, null, null, null, null, null, null, null, null, null, null], [null, null, null, null, null, null, null, null, null, null, null, null, null, null, null, null, null, null, null, null, null, null, null, null, null, null, null, null, null, null, null, null, null, null, null, null, null, null, null, null, null, null, null, null, null, null, 0.8540580339899575, null, null, null, null, null], [null, null, null, null, null, null, null, null, null, null, null, null, null, null, null, null, null, null, null, null, null, null, null, 0.08610413744927348, null, null, null, null, null, null, null, null, null, null, null, null, null, null, null, null, null, null, null, null, null, null, null, null, null, null, null, null], [null, null, null, null, null, null, null, null, null, null, null, null, null, null, null, null, null, null, null, null, null, null, null, null, null, null, null, null, null, null, null, null, null, null, null, null, null, null, null, null, null, null, 0.843243494556743, null, null, null, null, null, null, null, null, null], [null, null, null, null, null, null, null, null, null, null, null, null, null, null, null, null, null, null, null, null, null, null, null, null, null, null, null, null, null, null, null, 0.0942118009373164, null, null, null, null, null, null, null, null, null, null, null, null, null, null, null, null, null, null, null, null], [null, null, null, null, null, null, null, null, null, null, null, null, null, null, null, null, null, null, null, null, null, null, null, null, null, null, null, null, null, null, null, null, null, null, null, null, null, null, null, null, null, null, null, null, null, null, 0.8513542873696408, null, null, null, null, null], [null, null, null, null, null, null, null, null, null, null, null, null, null, null, null, null, null, null, null, null, null, null, null, null, null, null, null, null, null, null, null, null, null, null, null, null, null, null, null, null, null, null, null, null, null, 0.8513453464085948, null, null, null, null, null, null], [null, null, null, null, null, null, null, null, null, 0.09576037539048732, null, null, null, null, null, null, null, null, null, null, null, null, null, null, null, null, null, null, null, 0.09961929418946092, null, null, null, null, null, null, null, null, null, null, null, null, null, null, null, null, null, null, null, null, null, null], [null, null, null, null, null, null, 0.8428572450395548, null, null, null, null, null, null, null, null, null, null, null, null, null, null, null, null, null, null, null, null, null, null, null, null, null, null, null, 0.8679469228788463, null, null, null, null, null, null, null, null, null, null, null, null, null, null, null, null, null], [null, 0.8432430475086906, null, null, null, null, null, null, null, null, null, null, null, null, null, null, null, 0.1023190173888181, null, null, null, null, null, null, null, null, null, null, null, null, null, null, null, null, null, null, null, null, null, null, null, null, null, null, null, null, null, 0.08609877259637877, null, null, null, null], [null, null, null, null, null, null, null, null, null, null, null, null, null, null, null, null, null, null, null, null, null, null, null, null, 0.09305037009743833, null, 0.04013820999745066, null, null, null, null, null, null, null, null, null, null, null, null, null, null, null, null, null, null, null, null, null, null, null, null, null], [null, null, null, null, null, null, null, null, null, null, null, null, null, null, null, null, null, null, null, null, null, null, null, null, null, null, null, null, null, null, null, null, null, null, null, null, null, null, null, null, null, null, null, null, null, null, null, null, null, 0.09343751375677556, null, null], [null, null, null, null, 0.08841939933516285, null, null, null, null, null, null, null, null, null, null, null, null, null, null, null, null, null, null, null, null, null, null, null, null, null, null, null, null, null, null, null, null, null, null, null, null, null, null, null, null, null, null, null, null, null, null, null], [null, null, null, 0.7100307747188537, null, null, null, null, null, null, null, null, null, null, null, null, null, null, null, null, null, null, null, null, null, null, null, null, null, null, null, null, null, null, null, null, null, null, null, 0.13590573753517354, null, null, null, null, null, null, null, null, null, null, null, null], [null, null, null, null, null, null, null, null, null, null, null, null, null, null, null, null, null, null, null, 0.09305081716851282, null, null, null, null, null, null, null, null, null, null, null, null, 0.09266456761679132, null, null, null, null, null, null, null, null, null, null, null, null, null, null, null, null, null, null, null], [null, null, null, null, null, 0.09614483671546614, null, null, null, null, null, null, null, null, null, null, null, null, null, null, null, null, null, null, null, null, null, null, null, null, null, null, null, null, null, null, null, null, null, null, null, null, null, 0.08880475474473526, null, null, null, null, null, null, null, null], [null, null, null, null, null, null, null, null, null, null, null, null, null, null, null, null, null, null, null, null, null, null, null, null, null, null, null, null, null, null, null, null, null, null, null, null, null, null, null, null, null, null, null, null, null, null, null, null, 0.8432430475086906, null, null, null], [null, null, null, null, null, null, null, null, null, null, null, null, null, null, null, null, null, null, null, null, null, null, null, null, null, null, null, null, null, null, null, null, null, null, null, null, null, 0.8432430475086906, null, null, null, null, null, null, null, null, null, null, null, null, null, null], [null, null, null, null, null, null, null, null, null, null, null, null, null, null, null, null, null, null, null, null, null, null, null, null, null, null, null, null, null, null, null, null, null, 0.8428572450395548, null, null, null, null, null, null, null, null, null, null, null, null, null, null, null, null, null, null], [null, null, null, null, null, null, null, null, null, null, null, null, null, null, 0.09575501052608137, null, null, null, null, null, null, null, null, null, null, null, null, null, null, null, null, null, null, null, null, null, null, null, null, null, null, null, null, null, null, null, null, null, null, null, null, null], [null, null, null, null, null, null, null, null, null, null, null, null, null, null, null, null, 0.09382733960082634, null, null, null, null, null, null, null, null, null, null, null, null, null, null, null, null, null, null, null, null, null, null, null, null, null, null, null, null, null, null, null, null, null, null, null], [null, null, null, null, null, null, null, null, null, null, null, null, null, null, null, null, null, null, null, null, null, null, null, null, null, null, null, null, null, null, null, null, null, null, null, null, null, null, null, null, null, null, null, null, null, null, null, null, null, 0.09343349031279369, null, null], [null, null, null, null, null, null, null, null, null, null, null, 0.09922946826483214, null, null, null, null, null, null, null, null, null, null, null, null, null, null, null, null, null, null, null, null, null, null, null, null, null, null, null, null, null, null, null, null, null, null, null, null, null, null, null, null], [null, null, 0.8432430475086906, null, null, null, null, null, null, null, null, null, null, null, null, null, null, null, null, null, null, null, null, null, null, null, null, null, null, null, null, null, null, null, null, null, null, null, null, null, null, null, null, null, null, null, null, null, null, null, null, null], [null, null, null, null, null, null, null, null, null, null, 0.09382733958931533, null, null, null, null, null, null, null, null, null, null, null, null, null, null, null, null, null, null, null, null, null, null, null, null, null, null, null, null, null, null, null, null, null, null, null, null, null, null, null, null, null], [null, null, null, null, null, null, null, null, null, null, null, null, null, null, null, null, null, null, null, null, null, null, null, null, null, null, null, null, null, null, null, null, null, null, null, null, null, null, null, null, 0.1220114840236125, null, null, null, null, null, null, null, null, null, null, null], [null, null, null, null, null, null, null, 0.09266546177045154, null, null, null, null, null, null, null, null, null, null, null, null, null, null, null, null, null, null, null, null, null, null, null, null, null, null, null, null, null, null, null, null, null, null, null, null, null, null, null, null, null, null, null, null], [null, null, null, null, null, null, null, null, null, null, null, null, null, null, null, null, null, null, null, null, null, null, null, null, null, null, null, 0.1166057790212327, null, null, null, null, null, null, null, null, null, null, null, null, null, null, null, null, null, null, null, null, null, null, null, null], [null, null, null, null, null, null, null, null, null, null, null, null, null, null, null, null, null, null, null, null, null, null, null, null, null, null, null, null, null, 0.850968484900505, null, null, null, null, null, null, null, null, null, null, null, null, null, null, null, null, null, null, null, null, null, null], [null, null, null, null, null, null, null, null, null, null, null, null, null, null, null, null, null, null, null, null, null, null, null, null, null, null, null, null, null, null, 0.8509590968914067, null, null, null, null, null, null, null, null, null, null, null, null, null, null, null, null, null, null, null, null, null], [null, null, null, null, null, null, null, null, null, null, null, null, null, null, null, null, null, null, 0.13511803891306362, null, null, null, null, null, null, null, null, null, null, null, null, null, null, null, null, null, null, null, null, null, null, null, null, null, null, null, null, null, null, null, null, null], [null, null, null, null, null, null, null, null, null, null, null, null, null, null, null, null, null, null, 0.09382555148919514, null, null, null, null, null, null, null, null, null, null, null, null, null, null, null, null, null, null, null, null, null, null, null, null, null, null, null, null, null, null, null, null, null], [null, null, null, null, null, null, null, null, null, null, null, null, null, null, null, null, null, null, null, null, null, null, null, null, null, null, null, null, null, null, null, null, null, null, null, null, null, null, null, null, null, null, null, null, 0.09150894844763757, null, null, null, null, null, null, null], [0.8432430475086906, null, null, null, null, null, null, null, null, null, null, null, null, null, null, null, null, null, null, 0.09228323565120089, null, null, null, null, null, null, null, null, null, null, null, null, null, null, null, null, null, null, 0.0961434956173538, null, null, null, null, null, null, null, null, null, null, null, null, null], [null, null, null, null, null, null, null, null, null, 0.08648681060506558, null, null, null, null, null, null, null, null, null, null, null, null, null, null, null, null, null, null, null, null, null, null, null, null, null, null, null, null, null, null, null, null, null, null, null, null, null, null, null, null, null, null], [null, null, null, null, null, null, null, null, null, null, null, null, null, null, null, null, null, null, null, null, 0.08610369011344288, null, null, null, null, null, null, null, 0.8505728473742186, null, null, null, null, null, null, null, null, null, null, null, null, null, null, null, null, null, null, null, null, null, null, null]]}, {\"marker\": {\"color\": \"black\"}, \"mode\": \"markers\", \"showlegend\": false, \"type\": \"scatter\", \"x\": [45, 346, 193, 141, 198, 111, 105, 395, 396, 334, 95, 32, 114, 103, 373, 272, 384, 461, 437, 337, 397, 275, 356, 485, 462, 361, 352, 321, 454, 393, 312, 100, 111, 197, 219, 406, 341, 462, 472, 272, 118, 478, 450, 482, 482, 209, 267, 424, 267, 483, 421, 66, 380, 43, 56, 376, 361, 425], \"xaxis\": \"x7\", \"y\": [212, 191, 68, 115, 44, 254, 127, 115, 97, 167, 198, 252, 213, 219, 236, 195, 204, 179, 172, 191, 203, 255, 255, 121, 163, 233, 229, 152, 250, 188, 157, 188, 185, 205, 190, 252, 157, 176, 190, 252, 211, 199, 198, 210, 192, 209, 249, 215, 239, 123, 194, 193, 195, 190, 194, 175, 185, 95], \"yaxis\": \"y7\"}, {\"type\": \"scatter\", \"xaxis\": \"x11\", \"yaxis\": \"y11\"}, {\"colorbar\": {\"title\": {\"text\": \"Objective Value\"}}, \"colorscale\": [[0, \"rgb(220,220,220)\"], [0.30000000000000004, \"rgb(106,137,247)\"], [0.4, \"rgb(90,120,245)\"], [0.5, \"rgb(70,100,245)\"], [0.65, \"rgb(40,60,190)\"], [1, \"rgb(5,10,172)\"]], \"connectgaps\": true, \"contours\": {\"coloring\": \"heatmap\"}, \"hoverinfo\": \"none\", \"line\": {\"smoothing\": 1.3}, \"showscale\": false, \"type\": \"contour\", \"x\": [32, 43, 45, 56, 66, 95, 100, 103, 105, 111, 114, 118, 141, 193, 197, 198, 209, 219, 267, 272, 275, 312, 321, 334, 337, 341, 346, 352, 356, 361, 373, 376, 380, 384, 393, 395, 396, 397, 406, 421, 424, 425, 437, 450, 454, 461, 462, 472, 478, 482, 483, 485], \"xaxis\": \"x15\", \"y\": [1, 2, 3, 4, 5], \"yaxis\": \"y15\", \"z\": [[null, null, null, null, null, null, 0.8428572450395548, null, null, 0.08648681060506558, null, 0.09922946826483214, null, null, 0.09575501052608137, null, null, null, null, 0.09228323565120089, 0.08610369011344288, null, null, null, null, null, null, null, null, null, null, null, null, null, null, null, 0.12239415720242663, null, null, null, null, null, null, 0.08880475474473526, null, null, null, null, null, null, null, null], [null, null, null, 0.7100307747188537, 0.08841939933516285, null, null, null, null, null, null, null, null, null, null, null, null, null, null, null, null, null, null, 0.08610413744927348, null, null, null, null, null, null, null, 0.0942118009373164, 0.09266456761679132, 0.8428572450395548, null, 0.09150805428246622, null, 0.8432430475086906, null, null, null, null, null, null, null, null, null, 0.08609877259637877, null, 0.09343349031279369, null, null], [null, null, null, null, null, null, null, null, null, 0.09576037539048732, null, null, null, 0.09768268199235941, null, 0.09035064680599214, 0.09382733960082634, null, 0.13511803891306362, null, null, null, null, null, 0.09305037009743833, null, null, 0.1166057790212327, 0.8505728473742186, 0.09961929418946092, 0.8509590968914067, null, null, null, null, null, null, null, null, null, null, null, null, null, null, null, null, null, null, null, 0.09537099651391079, null], [0.8432430475086906, 0.8432430475086906, 0.8432430475086906, null, null, null, null, 0.09266546177045154, null, null, 0.09382733958931533, null, 0.09266680284554185, null, null, null, null, 0.1023190173888181, 0.09382555148919514, null, null, null, null, null, null, 0.8428567979915025, 0.04013820999745066, null, null, 0.850968484900505, null, null, null, null, null, null, null, null, 0.0961434956173538, 0.13590573753517354, null, null, 0.843243494556743, null, null, null, 0.8513542873696408, null, 0.8432430475086906, 0.09343751375677556, null, 0.8501955388180765], [null, null, null, null, null, 0.09614483671546614, null, null, 0.09305260537223325, null, null, null, null, null, null, null, null, null, null, null, null, 0.3483608537841, 0.8467197402114358, null, null, null, null, null, null, null, null, null, null, null, 0.8679469228788463, null, null, null, null, null, 0.1220114840236125, 0.0965252745504187, null, null, 0.09150894844763757, 0.8513453464085948, 0.8540580339899575, null, null, null, null, null]]}, {\"marker\": {\"color\": \"black\"}, \"mode\": \"markers\", \"showlegend\": false, \"type\": \"scatter\", \"x\": [45, 346, 193, 141, 198, 111, 105, 395, 396, 334, 95, 32, 114, 103, 373, 272, 384, 461, 437, 337, 397, 275, 356, 485, 462, 361, 352, 321, 454, 393, 312, 100, 111, 197, 219, 406, 341, 462, 472, 272, 118, 478, 450, 482, 482, 209, 267, 424, 267, 483, 421, 66, 380, 43, 56, 376, 361, 425], \"xaxis\": \"x15\", \"y\": [4, 4, 3, 4, 3, 1, 5, 2, 1, 2, 5, 4, 4, 4, 3, 1, 2, 5, 4, 3, 2, 1, 3, 4, 5, 4, 3, 5, 5, 5, 5, 1, 3, 1, 4, 4, 4, 4, 2, 1, 1, 4, 1, 2, 4, 3, 4, 5, 3, 3, 4, 2, 2, 4, 2, 2, 3, 5], \"yaxis\": \"y15\"}, {\"colorbar\": {\"title\": {\"text\": \"Objective Value\"}}, \"colorscale\": [[0, \"rgb(220,220,220)\"], [0.30000000000000004, \"rgb(106,137,247)\"], [0.4, \"rgb(90,120,245)\"], [0.5, \"rgb(70,100,245)\"], [0.65, \"rgb(40,60,190)\"], [1, \"rgb(5,10,172)\"]], \"connectgaps\": true, \"contours\": {\"coloring\": \"heatmap\"}, \"hoverinfo\": \"none\", \"line\": {\"smoothing\": 1.3}, \"showscale\": false, \"type\": \"contour\", \"x\": [1, 2, 3, 4, 5], \"xaxis\": \"x4\", \"y\": [\"leakyRelu\", \"relu\"], \"yaxis\": \"y4\", \"z\": [[0.08610369011344288, 0.8432430475086906, 0.1166057790212327, 0.13590573753517354, 0.3483608537841], [0.08880475474473526, 0.0942118009373164, 0.09961929418946092, 0.8432430475086906, 0.0965252745504187]]}, {\"marker\": {\"color\": \"black\"}, \"mode\": \"markers\", \"showlegend\": false, \"type\": \"scatter\", \"x\": [4, 4, 3, 4, 3, 1, 5, 2, 1, 2, 5, 4, 4, 4, 3, 1, 2, 5, 4, 3, 2, 1, 3, 4, 5, 4, 3, 5, 5, 5, 5, 1, 3, 1, 4, 4, 4, 4, 2, 1, 1, 4, 1, 2, 4, 3, 4, 5, 3, 3, 4, 2, 2, 4, 2, 2, 3, 5], \"xaxis\": \"x4\", \"y\": [\"relu\", \"leakyRelu\", \"leakyRelu\", \"leakyRelu\", \"relu\", \"relu\", \"relu\", \"relu\", \"leakyRelu\", \"relu\", \"relu\", \"relu\", \"relu\", \"leakyRelu\", \"relu\", \"relu\", \"leakyRelu\", \"leakyRelu\", \"leakyRelu\", \"relu\", \"leakyRelu\", \"leakyRelu\", \"leakyRelu\", \"leakyRelu\", \"leakyRelu\", \"leakyRelu\", \"leakyRelu\", \"leakyRelu\", \"relu\", \"leakyRelu\", \"leakyRelu\", \"relu\", \"relu\", \"relu\", \"relu\", \"relu\", \"leakyRelu\", \"leakyRelu\", \"relu\", \"relu\", \"relu\", \"leakyRelu\", \"relu\", \"relu\", \"relu\", \"relu\", \"relu\", \"relu\", \"relu\", \"relu\", \"leakyRelu\", \"relu\", \"relu\", \"relu\", \"relu\", \"relu\", \"relu\", \"relu\"], \"yaxis\": \"y4\"}, {\"colorbar\": {\"title\": {\"text\": \"Objective Value\"}}, \"colorscale\": [[0, \"rgb(220,220,220)\"], [0.30000000000000004, \"rgb(106,137,247)\"], [0.4, \"rgb(90,120,245)\"], [0.5, \"rgb(70,100,245)\"], [0.65, \"rgb(40,60,190)\"], [1, \"rgb(5,10,172)\"]], \"connectgaps\": true, \"contours\": {\"coloring\": \"heatmap\"}, \"hoverinfo\": \"none\", \"line\": {\"smoothing\": 1.3}, \"showscale\": false, \"type\": \"contour\", \"x\": [1, 2, 3, 4, 5], \"xaxis\": \"x8\", \"y\": [44, 68, 95, 97, 115, 121, 123, 127, 152, 157, 163, 167, 172, 175, 176, 179, 185, 188, 190, 191, 192, 193, 194, 195, 198, 199, 203, 204, 205, 209, 210, 211, 212, 213, 215, 219, 229, 233, 236, 239, 249, 250, 252, 254, 255], \"yaxis\": \"y8\", \"z\": [[null, null, 0.09035064680599214, null, null], [null, null, 0.09768268199235941, null, null], [null, null, null, null, 0.0965252745504187], [0.12239415720242663, null, null, null, null], [null, 0.09150805428246622, null, 0.09266680284554185, null], [null, null, null, 0.8501955388180765, null], [null, null, 0.09537099651391079, null, null], [null, null, null, null, 0.09305260537223325], [null, null, null, null, 0.8467197402114358], [null, null, null, 0.8428567979915025, 0.3483608537841], [null, null, null, null, 0.8540580339899575], [null, 0.08610413744927348, null, null, null], [null, null, null, 0.843243494556743, null], [null, 0.0942118009373164, null, null, null], [null, null, null, 0.8513542873696408, null], [null, null, null, null, 0.8513453464085948], [null, null, 0.09961929418946092, null, null], [0.8428572450395548, null, null, null, 0.8679469228788463], [null, 0.08609877259637877, null, 0.8432430475086906, null], [null, null, 0.09305037009743833, 0.04013820999745066, null], [null, null, null, 0.09343751375677556, null], [null, 0.08841939933516285, null, null, null], [null, 0.7100307747188537, null, 0.13590573753517354, null], [0.09305081716851282, 0.09266456761679132, null, null, null], [0.08880475474473526, null, null, null, 0.09614483671546614], [null, null, null, 0.8432430475086906, null], [null, 0.8432430475086906, null, null, null], [null, 0.8428572450395548, null, null, null], [0.09575501052608137, null, null, null, null], [null, null, 0.09382733960082634, null, null], [null, 0.09343349031279369, null, null, null], [0.09922946826483214, null, null, null, null], [null, null, null, 0.8432430475086906, null], [null, null, null, 0.09382733958931533, null], [null, null, null, null, 0.1220114840236125], [null, null, null, 0.09266546177045154, null], [null, null, 0.1166057790212327, null, null], [null, null, null, 0.850968484900505, null], [null, null, 0.8509590968914067, null, null], [null, null, 0.13511803891306362, null, null], [null, null, null, 0.09382555148919514, null], [null, null, null, null, 0.09150894844763757], [0.09228323565120089, null, null, 0.0961434956173538, null], [0.08648681060506558, null, null, null, null], [0.08610369011344288, null, 0.8505728473742186, null, null]]}, {\"marker\": {\"color\": \"black\"}, \"mode\": \"markers\", \"showlegend\": false, \"type\": \"scatter\", \"x\": [4, 4, 3, 4, 3, 1, 5, 2, 1, 2, 5, 4, 4, 4, 3, 1, 2, 5, 4, 3, 2, 1, 3, 4, 5, 4, 3, 5, 5, 5, 5, 1, 3, 1, 4, 4, 4, 4, 2, 1, 1, 4, 1, 2, 4, 3, 4, 5, 3, 3, 4, 2, 2, 4, 2, 2, 3, 5], \"xaxis\": \"x8\", \"y\": [212, 191, 68, 115, 44, 254, 127, 115, 97, 167, 198, 252, 213, 219, 236, 195, 204, 179, 172, 191, 203, 255, 255, 121, 163, 233, 229, 152, 250, 188, 157, 188, 185, 205, 190, 252, 157, 176, 190, 252, 211, 199, 198, 210, 192, 209, 249, 215, 239, 123, 194, 193, 195, 190, 194, 175, 185, 95], \"yaxis\": \"y8\"}, {\"colorbar\": {\"title\": {\"text\": \"Objective Value\"}}, \"colorscale\": [[0, \"rgb(220,220,220)\"], [0.30000000000000004, \"rgb(106,137,247)\"], [0.4, \"rgb(90,120,245)\"], [0.5, \"rgb(70,100,245)\"], [0.65, \"rgb(40,60,190)\"], [1, \"rgb(5,10,172)\"]], \"connectgaps\": true, \"contours\": {\"coloring\": \"heatmap\"}, \"hoverinfo\": \"none\", \"line\": {\"smoothing\": 1.3}, \"showscale\": false, \"type\": \"contour\", \"x\": [1, 2, 3, 4, 5], \"xaxis\": \"x12\", \"y\": [32, 43, 45, 56, 66, 95, 100, 103, 105, 111, 114, 118, 141, 193, 197, 198, 209, 219, 267, 272, 275, 312, 321, 334, 337, 341, 346, 352, 356, 361, 373, 376, 380, 384, 393, 395, 396, 397, 406, 421, 424, 425, 437, 450, 454, 461, 462, 472, 478, 482, 483, 485], \"yaxis\": \"y12\", \"z\": [[null, null, null, 0.8432430475086906, null], [null, null, null, 0.8432430475086906, null], [null, null, null, 0.8432430475086906, null], [null, 0.7100307747188537, null, null, null], [null, 0.08841939933516285, null, null, null], [null, null, null, null, 0.09614483671546614], [0.8428572450395548, null, null, null, null], [null, null, null, 0.09266546177045154, null], [null, null, null, null, 0.09305260537223325], [0.08648681060506558, null, 0.09576037539048732, null, null], [null, null, null, 0.09382733958931533, null], [0.09922946826483214, null, null, null, null], [null, null, null, 0.09266680284554185, null], [null, null, 0.09768268199235941, null, null], [0.09575501052608137, null, null, null, null], [null, null, 0.09035064680599214, null, null], [null, null, 0.09382733960082634, null, null], [null, null, null, 0.1023190173888181, null], [null, null, 0.13511803891306362, 0.09382555148919514, null], [0.09228323565120089, null, null, null, null], [0.08610369011344288, null, null, null, null], [null, null, null, null, 0.3483608537841], [null, null, null, null, 0.8467197402114358], [null, 0.08610413744927348, null, null, null], [null, null, 0.09305037009743833, null, null], [null, null, null, 0.8428567979915025, null], [null, null, null, 0.04013820999745066, null], [null, null, 0.1166057790212327, null, null], [null, null, 0.8505728473742186, null, null], [null, null, 0.09961929418946092, 0.850968484900505, null], [null, null, 0.8509590968914067, null, null], [null, 0.0942118009373164, null, null, null], [null, 0.09266456761679132, null, null, null], [null, 0.8428572450395548, null, null, null], [null, null, null, null, 0.8679469228788463], [null, 0.09150805428246622, null, null, null], [0.12239415720242663, null, null, null, null], [null, 0.8432430475086906, null, null, null], [null, null, null, 0.0961434956173538, null], [null, null, null, 0.13590573753517354, null], [null, null, null, null, 0.1220114840236125], [null, null, null, null, 0.0965252745504187], [null, null, null, 0.843243494556743, null], [0.08880475474473526, null, null, null, null], [null, null, null, null, 0.09150894844763757], [null, null, null, null, 0.8513453464085948], [null, null, null, 0.8513542873696408, 0.8540580339899575], [null, 0.08609877259637877, null, null, null], [null, null, null, 0.8432430475086906, null], [null, 0.09343349031279369, null, 0.09343751375677556, null], [null, null, 0.09537099651391079, null, null], [null, null, null, 0.8501955388180765, null]]}, {\"marker\": {\"color\": \"black\"}, \"mode\": \"markers\", \"showlegend\": false, \"type\": \"scatter\", \"x\": [4, 4, 3, 4, 3, 1, 5, 2, 1, 2, 5, 4, 4, 4, 3, 1, 2, 5, 4, 3, 2, 1, 3, 4, 5, 4, 3, 5, 5, 5, 5, 1, 3, 1, 4, 4, 4, 4, 2, 1, 1, 4, 1, 2, 4, 3, 4, 5, 3, 3, 4, 2, 2, 4, 2, 2, 3, 5], \"xaxis\": \"x12\", \"y\": [45, 346, 193, 141, 198, 111, 105, 395, 396, 334, 95, 32, 114, 103, 373, 272, 384, 461, 437, 337, 397, 275, 356, 485, 462, 361, 352, 321, 454, 393, 312, 100, 111, 197, 219, 406, 341, 462, 472, 272, 118, 478, 450, 482, 482, 209, 267, 424, 267, 483, 421, 66, 380, 43, 56, 376, 361, 425], \"yaxis\": \"y12\"}, {\"type\": \"scatter\", \"xaxis\": \"x16\", \"yaxis\": \"y16\"}],\n",
              "                        {\"template\": {\"data\": {\"bar\": [{\"error_x\": {\"color\": \"#2a3f5f\"}, \"error_y\": {\"color\": \"#2a3f5f\"}, \"marker\": {\"line\": {\"color\": \"#E5ECF6\", \"width\": 0.5}}, \"type\": \"bar\"}], \"barpolar\": [{\"marker\": {\"line\": {\"color\": \"#E5ECF6\", \"width\": 0.5}}, \"type\": \"barpolar\"}], \"carpet\": [{\"aaxis\": {\"endlinecolor\": \"#2a3f5f\", \"gridcolor\": \"white\", \"linecolor\": \"white\", \"minorgridcolor\": \"white\", \"startlinecolor\": \"#2a3f5f\"}, \"baxis\": {\"endlinecolor\": \"#2a3f5f\", \"gridcolor\": \"white\", \"linecolor\": \"white\", \"minorgridcolor\": \"white\", \"startlinecolor\": \"#2a3f5f\"}, \"type\": \"carpet\"}], \"choropleth\": [{\"colorbar\": {\"outlinewidth\": 0, \"ticks\": \"\"}, \"type\": \"choropleth\"}], \"contour\": [{\"colorbar\": {\"outlinewidth\": 0, \"ticks\": \"\"}, \"colorscale\": [[0.0, \"#0d0887\"], [0.1111111111111111, \"#46039f\"], [0.2222222222222222, \"#7201a8\"], [0.3333333333333333, \"#9c179e\"], [0.4444444444444444, \"#bd3786\"], [0.5555555555555556, \"#d8576b\"], [0.6666666666666666, \"#ed7953\"], [0.7777777777777778, \"#fb9f3a\"], [0.8888888888888888, \"#fdca26\"], [1.0, \"#f0f921\"]], \"type\": \"contour\"}], \"contourcarpet\": [{\"colorbar\": {\"outlinewidth\": 0, \"ticks\": \"\"}, \"type\": \"contourcarpet\"}], \"heatmap\": [{\"colorbar\": {\"outlinewidth\": 0, \"ticks\": \"\"}, \"colorscale\": [[0.0, \"#0d0887\"], [0.1111111111111111, \"#46039f\"], [0.2222222222222222, \"#7201a8\"], [0.3333333333333333, \"#9c179e\"], [0.4444444444444444, \"#bd3786\"], [0.5555555555555556, \"#d8576b\"], [0.6666666666666666, \"#ed7953\"], [0.7777777777777778, \"#fb9f3a\"], [0.8888888888888888, \"#fdca26\"], [1.0, \"#f0f921\"]], \"type\": \"heatmap\"}], \"heatmapgl\": [{\"colorbar\": {\"outlinewidth\": 0, \"ticks\": \"\"}, \"colorscale\": [[0.0, \"#0d0887\"], [0.1111111111111111, \"#46039f\"], [0.2222222222222222, \"#7201a8\"], [0.3333333333333333, \"#9c179e\"], [0.4444444444444444, \"#bd3786\"], [0.5555555555555556, \"#d8576b\"], [0.6666666666666666, \"#ed7953\"], [0.7777777777777778, \"#fb9f3a\"], [0.8888888888888888, \"#fdca26\"], [1.0, \"#f0f921\"]], \"type\": \"heatmapgl\"}], \"histogram\": [{\"marker\": {\"colorbar\": {\"outlinewidth\": 0, \"ticks\": \"\"}}, \"type\": \"histogram\"}], \"histogram2d\": [{\"colorbar\": {\"outlinewidth\": 0, \"ticks\": \"\"}, \"colorscale\": [[0.0, \"#0d0887\"], [0.1111111111111111, \"#46039f\"], [0.2222222222222222, \"#7201a8\"], [0.3333333333333333, \"#9c179e\"], [0.4444444444444444, \"#bd3786\"], [0.5555555555555556, \"#d8576b\"], [0.6666666666666666, \"#ed7953\"], [0.7777777777777778, \"#fb9f3a\"], [0.8888888888888888, \"#fdca26\"], [1.0, \"#f0f921\"]], \"type\": \"histogram2d\"}], \"histogram2dcontour\": [{\"colorbar\": {\"outlinewidth\": 0, \"ticks\": \"\"}, \"colorscale\": [[0.0, \"#0d0887\"], [0.1111111111111111, \"#46039f\"], [0.2222222222222222, \"#7201a8\"], [0.3333333333333333, \"#9c179e\"], [0.4444444444444444, \"#bd3786\"], [0.5555555555555556, \"#d8576b\"], [0.6666666666666666, \"#ed7953\"], [0.7777777777777778, \"#fb9f3a\"], [0.8888888888888888, \"#fdca26\"], [1.0, \"#f0f921\"]], \"type\": \"histogram2dcontour\"}], \"mesh3d\": [{\"colorbar\": {\"outlinewidth\": 0, \"ticks\": \"\"}, \"type\": \"mesh3d\"}], \"parcoords\": [{\"line\": {\"colorbar\": {\"outlinewidth\": 0, \"ticks\": \"\"}}, \"type\": \"parcoords\"}], \"pie\": [{\"automargin\": true, \"type\": \"pie\"}], \"scatter\": [{\"marker\": {\"colorbar\": {\"outlinewidth\": 0, \"ticks\": \"\"}}, \"type\": \"scatter\"}], \"scatter3d\": [{\"line\": {\"colorbar\": {\"outlinewidth\": 0, \"ticks\": \"\"}}, \"marker\": {\"colorbar\": {\"outlinewidth\": 0, \"ticks\": \"\"}}, \"type\": \"scatter3d\"}], \"scattercarpet\": [{\"marker\": {\"colorbar\": {\"outlinewidth\": 0, \"ticks\": \"\"}}, \"type\": \"scattercarpet\"}], \"scattergeo\": [{\"marker\": {\"colorbar\": {\"outlinewidth\": 0, \"ticks\": \"\"}}, \"type\": \"scattergeo\"}], \"scattergl\": [{\"marker\": {\"colorbar\": {\"outlinewidth\": 0, \"ticks\": \"\"}}, \"type\": \"scattergl\"}], \"scattermapbox\": [{\"marker\": {\"colorbar\": {\"outlinewidth\": 0, \"ticks\": \"\"}}, \"type\": \"scattermapbox\"}], \"scatterpolar\": [{\"marker\": {\"colorbar\": {\"outlinewidth\": 0, \"ticks\": \"\"}}, \"type\": \"scatterpolar\"}], \"scatterpolargl\": [{\"marker\": {\"colorbar\": {\"outlinewidth\": 0, \"ticks\": \"\"}}, \"type\": \"scatterpolargl\"}], \"scatterternary\": [{\"marker\": {\"colorbar\": {\"outlinewidth\": 0, \"ticks\": \"\"}}, \"type\": \"scatterternary\"}], \"surface\": [{\"colorbar\": {\"outlinewidth\": 0, \"ticks\": \"\"}, \"colorscale\": [[0.0, \"#0d0887\"], [0.1111111111111111, \"#46039f\"], [0.2222222222222222, \"#7201a8\"], [0.3333333333333333, \"#9c179e\"], [0.4444444444444444, \"#bd3786\"], [0.5555555555555556, \"#d8576b\"], [0.6666666666666666, \"#ed7953\"], [0.7777777777777778, \"#fb9f3a\"], [0.8888888888888888, \"#fdca26\"], [1.0, \"#f0f921\"]], \"type\": \"surface\"}], \"table\": [{\"cells\": {\"fill\": {\"color\": \"#EBF0F8\"}, \"line\": {\"color\": \"white\"}}, \"header\": {\"fill\": {\"color\": \"#C8D4E3\"}, \"line\": {\"color\": \"white\"}}, \"type\": \"table\"}]}, \"layout\": {\"annotationdefaults\": {\"arrowcolor\": \"#2a3f5f\", \"arrowhead\": 0, \"arrowwidth\": 1}, \"coloraxis\": {\"colorbar\": {\"outlinewidth\": 0, \"ticks\": \"\"}}, \"colorscale\": {\"diverging\": [[0, \"#8e0152\"], [0.1, \"#c51b7d\"], [0.2, \"#de77ae\"], [0.3, \"#f1b6da\"], [0.4, \"#fde0ef\"], [0.5, \"#f7f7f7\"], [0.6, \"#e6f5d0\"], [0.7, \"#b8e186\"], [0.8, \"#7fbc41\"], [0.9, \"#4d9221\"], [1, \"#276419\"]], \"sequential\": [[0.0, \"#0d0887\"], [0.1111111111111111, \"#46039f\"], [0.2222222222222222, \"#7201a8\"], [0.3333333333333333, \"#9c179e\"], [0.4444444444444444, \"#bd3786\"], [0.5555555555555556, \"#d8576b\"], [0.6666666666666666, \"#ed7953\"], [0.7777777777777778, \"#fb9f3a\"], [0.8888888888888888, \"#fdca26\"], [1.0, \"#f0f921\"]], \"sequentialminus\": [[0.0, \"#0d0887\"], [0.1111111111111111, \"#46039f\"], [0.2222222222222222, \"#7201a8\"], [0.3333333333333333, \"#9c179e\"], [0.4444444444444444, \"#bd3786\"], [0.5555555555555556, \"#d8576b\"], [0.6666666666666666, \"#ed7953\"], [0.7777777777777778, \"#fb9f3a\"], [0.8888888888888888, \"#fdca26\"], [1.0, \"#f0f921\"]]}, \"colorway\": [\"#636efa\", \"#EF553B\", \"#00cc96\", \"#ab63fa\", \"#FFA15A\", \"#19d3f3\", \"#FF6692\", \"#B6E880\", \"#FF97FF\", \"#FECB52\"], \"font\": {\"color\": \"#2a3f5f\"}, \"geo\": {\"bgcolor\": \"white\", \"lakecolor\": \"white\", \"landcolor\": \"#E5ECF6\", \"showlakes\": true, \"showland\": true, \"subunitcolor\": \"white\"}, \"hoverlabel\": {\"align\": \"left\"}, \"hovermode\": \"closest\", \"mapbox\": {\"style\": \"light\"}, \"paper_bgcolor\": \"white\", \"plot_bgcolor\": \"#E5ECF6\", \"polar\": {\"angularaxis\": {\"gridcolor\": \"white\", \"linecolor\": \"white\", \"ticks\": \"\"}, \"bgcolor\": \"#E5ECF6\", \"radialaxis\": {\"gridcolor\": \"white\", \"linecolor\": \"white\", \"ticks\": \"\"}}, \"scene\": {\"xaxis\": {\"backgroundcolor\": \"#E5ECF6\", \"gridcolor\": \"white\", \"gridwidth\": 2, \"linecolor\": \"white\", \"showbackground\": true, \"ticks\": \"\", \"zerolinecolor\": \"white\"}, \"yaxis\": {\"backgroundcolor\": \"#E5ECF6\", \"gridcolor\": \"white\", \"gridwidth\": 2, \"linecolor\": \"white\", \"showbackground\": true, \"ticks\": \"\", \"zerolinecolor\": \"white\"}, \"zaxis\": {\"backgroundcolor\": \"#E5ECF6\", \"gridcolor\": \"white\", \"gridwidth\": 2, \"linecolor\": \"white\", \"showbackground\": true, \"ticks\": \"\", \"zerolinecolor\": \"white\"}}, \"shapedefaults\": {\"line\": {\"color\": \"#2a3f5f\"}}, \"ternary\": {\"aaxis\": {\"gridcolor\": \"white\", \"linecolor\": \"white\", \"ticks\": \"\"}, \"baxis\": {\"gridcolor\": \"white\", \"linecolor\": \"white\", \"ticks\": \"\"}, \"bgcolor\": \"#E5ECF6\", \"caxis\": {\"gridcolor\": \"white\", \"linecolor\": \"white\", \"ticks\": \"\"}}, \"title\": {\"x\": 0.05}, \"xaxis\": {\"automargin\": true, \"gridcolor\": \"white\", \"linecolor\": \"white\", \"ticks\": \"\", \"title\": {\"standoff\": 15}, \"zerolinecolor\": \"white\", \"zerolinewidth\": 2}, \"yaxis\": {\"automargin\": true, \"gridcolor\": \"white\", \"linecolor\": \"white\", \"ticks\": \"\", \"title\": {\"standoff\": 15}, \"zerolinecolor\": \"white\", \"zerolinewidth\": 2}}}, \"xaxis\": {\"anchor\": \"y\", \"domain\": [0.0, 0.2125], \"matches\": \"x13\", \"range\": [\"leakyRelu\", \"relu\"], \"showticklabels\": false}, \"xaxis10\": {\"anchor\": \"y10\", \"domain\": [0.2625, 0.475], \"matches\": \"x14\", \"range\": [44, 255], \"showticklabels\": false}, \"xaxis11\": {\"anchor\": \"y11\", \"domain\": [0.525, 0.7375], \"matches\": \"x15\", \"range\": [32, 485], \"showticklabels\": false}, \"xaxis12\": {\"anchor\": \"y12\", \"domain\": [0.7875, 1.0], \"matches\": \"x16\", \"range\": [1, 5], \"showticklabels\": false}, \"xaxis13\": {\"anchor\": \"y13\", \"domain\": [0.0, 0.2125], \"range\": [\"leakyRelu\", \"relu\"], \"title\": {\"text\": \"activation\"}}, \"xaxis14\": {\"anchor\": \"y14\", \"domain\": [0.2625, 0.475], \"range\": [44, 255], \"title\": {\"text\": \"filters\"}}, \"xaxis15\": {\"anchor\": \"y15\", \"domain\": [0.525, 0.7375], \"range\": [32, 485], \"title\": {\"text\": \"neurons_dense\"}}, \"xaxis16\": {\"anchor\": \"y16\", \"domain\": [0.7875, 1.0], \"range\": [1, 5], \"title\": {\"text\": \"size_filters\"}}, \"xaxis2\": {\"anchor\": \"y2\", \"domain\": [0.2625, 0.475], \"matches\": \"x14\", \"range\": [44, 255], \"showticklabels\": false}, \"xaxis3\": {\"anchor\": \"y3\", \"domain\": [0.525, 0.7375], \"matches\": \"x15\", \"range\": [32, 485], \"showticklabels\": false}, \"xaxis4\": {\"anchor\": \"y4\", \"domain\": [0.7875, 1.0], \"matches\": \"x16\", \"range\": [1, 5], \"showticklabels\": false}, \"xaxis5\": {\"anchor\": \"y5\", \"domain\": [0.0, 0.2125], \"matches\": \"x13\", \"range\": [\"leakyRelu\", \"relu\"], \"showticklabels\": false}, \"xaxis6\": {\"anchor\": \"y6\", \"domain\": [0.2625, 0.475], \"matches\": \"x14\", \"range\": [44, 255], \"showticklabels\": false}, \"xaxis7\": {\"anchor\": \"y7\", \"domain\": [0.525, 0.7375], \"matches\": \"x15\", \"range\": [32, 485], \"showticklabels\": false}, \"xaxis8\": {\"anchor\": \"y8\", \"domain\": [0.7875, 1.0], \"matches\": \"x16\", \"range\": [1, 5], \"showticklabels\": false}, \"xaxis9\": {\"anchor\": \"y9\", \"domain\": [0.0, 0.2125], \"matches\": \"x13\", \"range\": [\"leakyRelu\", \"relu\"], \"showticklabels\": false}, \"yaxis\": {\"anchor\": \"x\", \"domain\": [0.80625, 1.0], \"range\": [\"leakyRelu\", \"relu\"], \"title\": {\"text\": \"activation\"}}, \"yaxis10\": {\"anchor\": \"x10\", \"domain\": [0.26875, 0.4625], \"matches\": \"y9\", \"range\": [32, 485], \"showticklabels\": false}, \"yaxis11\": {\"anchor\": \"x11\", \"domain\": [0.26875, 0.4625], \"matches\": \"y9\", \"range\": [32, 485], \"showticklabels\": false}, \"yaxis12\": {\"anchor\": \"x12\", \"domain\": [0.26875, 0.4625], \"matches\": \"y9\", \"range\": [32, 485], \"showticklabels\": false}, \"yaxis13\": {\"anchor\": \"x13\", \"domain\": [0.0, 0.19375], \"range\": [1, 5], \"title\": {\"text\": \"size_filters\"}}, \"yaxis14\": {\"anchor\": \"x14\", \"domain\": [0.0, 0.19375], \"matches\": \"y13\", \"range\": [1, 5], \"showticklabels\": false}, \"yaxis15\": {\"anchor\": \"x15\", \"domain\": [0.0, 0.19375], \"matches\": \"y13\", \"range\": [1, 5], \"showticklabels\": false}, \"yaxis16\": {\"anchor\": \"x16\", \"domain\": [0.0, 0.19375], \"matches\": \"y13\", \"range\": [1, 5], \"showticklabels\": false}, \"yaxis2\": {\"anchor\": \"x2\", \"domain\": [0.80625, 1.0], \"matches\": \"y\", \"range\": [\"leakyRelu\", \"relu\"], \"showticklabels\": false}, \"yaxis3\": {\"anchor\": \"x3\", \"domain\": [0.80625, 1.0], \"matches\": \"y\", \"range\": [\"leakyRelu\", \"relu\"], \"showticklabels\": false}, \"yaxis4\": {\"anchor\": \"x4\", \"domain\": [0.80625, 1.0], \"matches\": \"y\", \"range\": [\"leakyRelu\", \"relu\"], \"showticklabels\": false}, \"yaxis5\": {\"anchor\": \"x5\", \"domain\": [0.5375, 0.73125], \"range\": [44, 255], \"title\": {\"text\": \"filters\"}}, \"yaxis6\": {\"anchor\": \"x6\", \"domain\": [0.5375, 0.73125], \"matches\": \"y5\", \"range\": [44, 255], \"showticklabels\": false}, \"yaxis7\": {\"anchor\": \"x7\", \"domain\": [0.5375, 0.73125], \"matches\": \"y5\", \"range\": [44, 255], \"showticklabels\": false}, \"yaxis8\": {\"anchor\": \"x8\", \"domain\": [0.5375, 0.73125], \"matches\": \"y5\", \"range\": [44, 255], \"showticklabels\": false}, \"yaxis9\": {\"anchor\": \"x9\", \"domain\": [0.26875, 0.4625], \"range\": [32, 485], \"title\": {\"text\": \"neurons_dense\"}}},\n",
              "                        {\"responsive\": true}\n",
              "                    ).then(function(){\n",
              "                            \n",
              "var gd = document.getElementById('3114832a-55b6-4c82-ba23-b68ddbdca4ae');\n",
              "var x = new MutationObserver(function (mutations, observer) {{\n",
              "        var display = window.getComputedStyle(gd).display;\n",
              "        if (!display || display === 'none') {{\n",
              "            console.log([gd, 'removed!']);\n",
              "            Plotly.purge(gd);\n",
              "            observer.disconnect();\n",
              "        }}\n",
              "}});\n",
              "\n",
              "// Listen for the removal of the full notebook cells\n",
              "var notebookContainer = gd.closest('#notebook-container');\n",
              "if (notebookContainer) {{\n",
              "    x.observe(notebookContainer, {childList: true});\n",
              "}}\n",
              "\n",
              "// Listen for the clearing of the current output cell\n",
              "var outputEl = gd.closest('.output');\n",
              "if (outputEl) {{\n",
              "    x.observe(outputEl, {childList: true});\n",
              "}}\n",
              "\n",
              "                        })\n",
              "                };\n",
              "                \n",
              "            </script>\n",
              "        </div>\n",
              "</body>\n",
              "</html>"
            ]
          },
          "metadata": {
            "tags": []
          }
        }
      ]
    },
    {
      "cell_type": "code",
      "metadata": {
        "id": "mpXdGP-E4smS",
        "colab_type": "code",
        "outputId": "9e1af0cc-2b98-4845-d7fe-676fda66c80c",
        "colab": {
          "base_uri": "https://localhost:8080/",
          "height": 542
        }
      },
      "source": [
        "optuna.visualization.plot_optimization_history(study)"
      ],
      "execution_count": 0,
      "outputs": [
        {
          "output_type": "display_data",
          "data": {
            "text/html": [
              "<html>\n",
              "<head><meta charset=\"utf-8\" /></head>\n",
              "<body>\n",
              "    <div>\n",
              "            <script src=\"https://cdnjs.cloudflare.com/ajax/libs/mathjax/2.7.5/MathJax.js?config=TeX-AMS-MML_SVG\"></script><script type=\"text/javascript\">if (window.MathJax) {MathJax.Hub.Config({SVG: {font: \"STIX-Web\"}});}</script>\n",
              "                <script type=\"text/javascript\">window.PlotlyConfig = {MathJaxConfig: 'local'};</script>\n",
              "        <script src=\"https://cdn.plot.ly/plotly-latest.min.js\"></script>    \n",
              "            <div id=\"9511e69c-e3c4-4db2-b03a-b321f6361c1f\" class=\"plotly-graph-div\" style=\"height:525px; width:100%;\"></div>\n",
              "            <script type=\"text/javascript\">\n",
              "                \n",
              "                    window.PLOTLYENV=window.PLOTLYENV || {};\n",
              "                    \n",
              "                if (document.getElementById(\"9511e69c-e3c4-4db2-b03a-b321f6361c1f\")) {\n",
              "                    Plotly.newPlot(\n",
              "                        '9511e69c-e3c4-4db2-b03a-b321f6361c1f',\n",
              "                        [{\"mode\": \"markers\", \"name\": \"Objective Value\", \"type\": \"scatter\", \"x\": [0, 2, 4, 5, 6, 7, 8, 9, 10, 11, 12, 13, 15, 17, 19, 20, 21, 22, 23, 24, 25, 29, 31, 32, 33, 34, 35, 38, 41, 42, 44, 45, 47, 50, 54, 59, 60, 61, 62, 65, 66, 67, 70, 72, 74, 75, 76, 80, 81, 83, 88, 89, 90, 91, 92, 93, 97, 102], \"y\": [0.8432430475086906, 0.04013820999745066, 0.09768268199235941, 0.09266680284554185, 0.09035064680599214, 0.08648681060506558, 0.09305260537223325, 0.09150805428246622, 0.12239415720242663, 0.08610413744927348, 0.09614483671546614, 0.8432430475086906, 0.09382733958931533, 0.09266546177045154, 0.8509590968914067, 0.09305081716851282, 0.8428572450395548, 0.8513453464085948, 0.843243494556743, 0.09305037009743833, 0.8432430475086906, 0.08610369011344288, 0.8505728473742186, 0.8501955388180765, 0.8540580339899575, 0.850968484900505, 0.1166057790212327, 0.8467197402114358, 0.09150894844763757, 0.8679469228788463, 0.3483608537841, 0.8428572450395548, 0.09576037539048732, 0.09575501052608137, 0.1023190173888181, 0.0961434956173538, 0.8428567979915025, 0.8513542873696408, 0.08609877259637877, 0.09228323565120089, 0.09922946826483214, 0.8432430475086906, 0.08880475474473526, 0.09343349031279369, 0.09343751375677556, 0.09382733960082634, 0.09382555148919514, 0.1220114840236125, 0.13511803891306362, 0.09537099651391079, 0.13590573753517354, 0.08841939933516285, 0.09266456761679132, 0.8432430475086906, 0.7100307747188537, 0.0942118009373164, 0.09961929418946092, 0.0965252745504187]}, {\"name\": \"Best Value\", \"type\": \"scatter\", \"x\": [0, 2, 4, 5, 6, 7, 8, 9, 10, 11, 12, 13, 15, 17, 19, 20, 21, 22, 23, 24, 25, 29, 31, 32, 33, 34, 35, 38, 41, 42, 44, 45, 47, 50, 54, 59, 60, 61, 62, 65, 66, 67, 70, 72, 74, 75, 76, 80, 81, 83, 88, 89, 90, 91, 92, 93, 97, 102], \"y\": [0.8432430475086906, 0.04013820999745066, 0.04013820999745066, 0.04013820999745066, 0.04013820999745066, 0.04013820999745066, 0.04013820999745066, 0.04013820999745066, 0.04013820999745066, 0.04013820999745066, 0.04013820999745066, 0.04013820999745066, 0.04013820999745066, 0.04013820999745066, 0.04013820999745066, 0.04013820999745066, 0.04013820999745066, 0.04013820999745066, 0.04013820999745066, 0.04013820999745066, 0.04013820999745066, 0.04013820999745066, 0.04013820999745066, 0.04013820999745066, 0.04013820999745066, 0.04013820999745066, 0.04013820999745066, 0.04013820999745066, 0.04013820999745066, 0.04013820999745066, 0.04013820999745066, 0.04013820999745066, 0.04013820999745066, 0.04013820999745066, 0.04013820999745066, 0.04013820999745066, 0.04013820999745066, 0.04013820999745066, 0.04013820999745066, 0.04013820999745066, 0.04013820999745066, 0.04013820999745066, 0.04013820999745066, 0.04013820999745066, 0.04013820999745066, 0.04013820999745066, 0.04013820999745066, 0.04013820999745066, 0.04013820999745066, 0.04013820999745066, 0.04013820999745066, 0.04013820999745066, 0.04013820999745066, 0.04013820999745066, 0.04013820999745066, 0.04013820999745066, 0.04013820999745066, 0.04013820999745066]}],\n",
              "                        {\"template\": {\"data\": {\"bar\": [{\"error_x\": {\"color\": \"#2a3f5f\"}, \"error_y\": {\"color\": \"#2a3f5f\"}, \"marker\": {\"line\": {\"color\": \"#E5ECF6\", \"width\": 0.5}}, \"type\": \"bar\"}], \"barpolar\": [{\"marker\": {\"line\": {\"color\": \"#E5ECF6\", \"width\": 0.5}}, \"type\": \"barpolar\"}], \"carpet\": [{\"aaxis\": {\"endlinecolor\": \"#2a3f5f\", \"gridcolor\": \"white\", \"linecolor\": \"white\", \"minorgridcolor\": \"white\", \"startlinecolor\": \"#2a3f5f\"}, \"baxis\": {\"endlinecolor\": \"#2a3f5f\", \"gridcolor\": \"white\", \"linecolor\": \"white\", \"minorgridcolor\": \"white\", \"startlinecolor\": \"#2a3f5f\"}, \"type\": \"carpet\"}], \"choropleth\": [{\"colorbar\": {\"outlinewidth\": 0, \"ticks\": \"\"}, \"type\": \"choropleth\"}], \"contour\": [{\"colorbar\": {\"outlinewidth\": 0, \"ticks\": \"\"}, \"colorscale\": [[0.0, \"#0d0887\"], [0.1111111111111111, \"#46039f\"], [0.2222222222222222, \"#7201a8\"], [0.3333333333333333, \"#9c179e\"], [0.4444444444444444, \"#bd3786\"], [0.5555555555555556, \"#d8576b\"], [0.6666666666666666, \"#ed7953\"], [0.7777777777777778, \"#fb9f3a\"], [0.8888888888888888, \"#fdca26\"], [1.0, \"#f0f921\"]], \"type\": \"contour\"}], \"contourcarpet\": [{\"colorbar\": {\"outlinewidth\": 0, \"ticks\": \"\"}, \"type\": \"contourcarpet\"}], \"heatmap\": [{\"colorbar\": {\"outlinewidth\": 0, \"ticks\": \"\"}, \"colorscale\": [[0.0, \"#0d0887\"], [0.1111111111111111, \"#46039f\"], [0.2222222222222222, \"#7201a8\"], [0.3333333333333333, \"#9c179e\"], [0.4444444444444444, \"#bd3786\"], [0.5555555555555556, \"#d8576b\"], [0.6666666666666666, \"#ed7953\"], [0.7777777777777778, \"#fb9f3a\"], [0.8888888888888888, \"#fdca26\"], [1.0, \"#f0f921\"]], \"type\": \"heatmap\"}], \"heatmapgl\": [{\"colorbar\": {\"outlinewidth\": 0, \"ticks\": \"\"}, \"colorscale\": [[0.0, \"#0d0887\"], [0.1111111111111111, \"#46039f\"], [0.2222222222222222, \"#7201a8\"], [0.3333333333333333, \"#9c179e\"], [0.4444444444444444, \"#bd3786\"], [0.5555555555555556, \"#d8576b\"], [0.6666666666666666, \"#ed7953\"], [0.7777777777777778, \"#fb9f3a\"], [0.8888888888888888, \"#fdca26\"], [1.0, \"#f0f921\"]], \"type\": \"heatmapgl\"}], \"histogram\": [{\"marker\": {\"colorbar\": {\"outlinewidth\": 0, \"ticks\": \"\"}}, \"type\": \"histogram\"}], \"histogram2d\": [{\"colorbar\": {\"outlinewidth\": 0, \"ticks\": \"\"}, \"colorscale\": [[0.0, \"#0d0887\"], [0.1111111111111111, \"#46039f\"], [0.2222222222222222, \"#7201a8\"], [0.3333333333333333, \"#9c179e\"], [0.4444444444444444, \"#bd3786\"], [0.5555555555555556, \"#d8576b\"], [0.6666666666666666, \"#ed7953\"], [0.7777777777777778, \"#fb9f3a\"], [0.8888888888888888, \"#fdca26\"], [1.0, \"#f0f921\"]], \"type\": \"histogram2d\"}], \"histogram2dcontour\": [{\"colorbar\": {\"outlinewidth\": 0, \"ticks\": \"\"}, \"colorscale\": [[0.0, \"#0d0887\"], [0.1111111111111111, \"#46039f\"], [0.2222222222222222, \"#7201a8\"], [0.3333333333333333, \"#9c179e\"], [0.4444444444444444, \"#bd3786\"], [0.5555555555555556, \"#d8576b\"], [0.6666666666666666, \"#ed7953\"], [0.7777777777777778, \"#fb9f3a\"], [0.8888888888888888, \"#fdca26\"], [1.0, \"#f0f921\"]], \"type\": \"histogram2dcontour\"}], \"mesh3d\": [{\"colorbar\": {\"outlinewidth\": 0, \"ticks\": \"\"}, \"type\": \"mesh3d\"}], \"parcoords\": [{\"line\": {\"colorbar\": {\"outlinewidth\": 0, \"ticks\": \"\"}}, \"type\": \"parcoords\"}], \"pie\": [{\"automargin\": true, \"type\": \"pie\"}], \"scatter\": [{\"marker\": {\"colorbar\": {\"outlinewidth\": 0, \"ticks\": \"\"}}, \"type\": \"scatter\"}], \"scatter3d\": [{\"line\": {\"colorbar\": {\"outlinewidth\": 0, \"ticks\": \"\"}}, \"marker\": {\"colorbar\": {\"outlinewidth\": 0, \"ticks\": \"\"}}, \"type\": \"scatter3d\"}], \"scattercarpet\": [{\"marker\": {\"colorbar\": {\"outlinewidth\": 0, \"ticks\": \"\"}}, \"type\": \"scattercarpet\"}], \"scattergeo\": [{\"marker\": {\"colorbar\": {\"outlinewidth\": 0, \"ticks\": \"\"}}, \"type\": \"scattergeo\"}], \"scattergl\": [{\"marker\": {\"colorbar\": {\"outlinewidth\": 0, \"ticks\": \"\"}}, \"type\": \"scattergl\"}], \"scattermapbox\": [{\"marker\": {\"colorbar\": {\"outlinewidth\": 0, \"ticks\": \"\"}}, \"type\": \"scattermapbox\"}], \"scatterpolar\": [{\"marker\": {\"colorbar\": {\"outlinewidth\": 0, \"ticks\": \"\"}}, \"type\": \"scatterpolar\"}], \"scatterpolargl\": [{\"marker\": {\"colorbar\": {\"outlinewidth\": 0, \"ticks\": \"\"}}, \"type\": \"scatterpolargl\"}], \"scatterternary\": [{\"marker\": {\"colorbar\": {\"outlinewidth\": 0, \"ticks\": \"\"}}, \"type\": \"scatterternary\"}], \"surface\": [{\"colorbar\": {\"outlinewidth\": 0, \"ticks\": \"\"}, \"colorscale\": [[0.0, \"#0d0887\"], [0.1111111111111111, \"#46039f\"], [0.2222222222222222, \"#7201a8\"], [0.3333333333333333, \"#9c179e\"], [0.4444444444444444, \"#bd3786\"], [0.5555555555555556, \"#d8576b\"], [0.6666666666666666, \"#ed7953\"], [0.7777777777777778, \"#fb9f3a\"], [0.8888888888888888, \"#fdca26\"], [1.0, \"#f0f921\"]], \"type\": \"surface\"}], \"table\": [{\"cells\": {\"fill\": {\"color\": \"#EBF0F8\"}, \"line\": {\"color\": \"white\"}}, \"header\": {\"fill\": {\"color\": \"#C8D4E3\"}, \"line\": {\"color\": \"white\"}}, \"type\": \"table\"}]}, \"layout\": {\"annotationdefaults\": {\"arrowcolor\": \"#2a3f5f\", \"arrowhead\": 0, \"arrowwidth\": 1}, \"coloraxis\": {\"colorbar\": {\"outlinewidth\": 0, \"ticks\": \"\"}}, \"colorscale\": {\"diverging\": [[0, \"#8e0152\"], [0.1, \"#c51b7d\"], [0.2, \"#de77ae\"], [0.3, \"#f1b6da\"], [0.4, \"#fde0ef\"], [0.5, \"#f7f7f7\"], [0.6, \"#e6f5d0\"], [0.7, \"#b8e186\"], [0.8, \"#7fbc41\"], [0.9, \"#4d9221\"], [1, \"#276419\"]], \"sequential\": [[0.0, \"#0d0887\"], [0.1111111111111111, \"#46039f\"], [0.2222222222222222, \"#7201a8\"], [0.3333333333333333, \"#9c179e\"], [0.4444444444444444, \"#bd3786\"], [0.5555555555555556, \"#d8576b\"], [0.6666666666666666, \"#ed7953\"], [0.7777777777777778, \"#fb9f3a\"], [0.8888888888888888, \"#fdca26\"], [1.0, \"#f0f921\"]], \"sequentialminus\": [[0.0, \"#0d0887\"], [0.1111111111111111, \"#46039f\"], [0.2222222222222222, \"#7201a8\"], [0.3333333333333333, \"#9c179e\"], [0.4444444444444444, \"#bd3786\"], [0.5555555555555556, \"#d8576b\"], [0.6666666666666666, \"#ed7953\"], [0.7777777777777778, \"#fb9f3a\"], [0.8888888888888888, \"#fdca26\"], [1.0, \"#f0f921\"]]}, \"colorway\": [\"#636efa\", \"#EF553B\", \"#00cc96\", \"#ab63fa\", \"#FFA15A\", \"#19d3f3\", \"#FF6692\", \"#B6E880\", \"#FF97FF\", \"#FECB52\"], \"font\": {\"color\": \"#2a3f5f\"}, \"geo\": {\"bgcolor\": \"white\", \"lakecolor\": \"white\", \"landcolor\": \"#E5ECF6\", \"showlakes\": true, \"showland\": true, \"subunitcolor\": \"white\"}, \"hoverlabel\": {\"align\": \"left\"}, \"hovermode\": \"closest\", \"mapbox\": {\"style\": \"light\"}, \"paper_bgcolor\": \"white\", \"plot_bgcolor\": \"#E5ECF6\", \"polar\": {\"angularaxis\": {\"gridcolor\": \"white\", \"linecolor\": \"white\", \"ticks\": \"\"}, \"bgcolor\": \"#E5ECF6\", \"radialaxis\": {\"gridcolor\": \"white\", \"linecolor\": \"white\", \"ticks\": \"\"}}, \"scene\": {\"xaxis\": {\"backgroundcolor\": \"#E5ECF6\", \"gridcolor\": \"white\", \"gridwidth\": 2, \"linecolor\": \"white\", \"showbackground\": true, \"ticks\": \"\", \"zerolinecolor\": \"white\"}, \"yaxis\": {\"backgroundcolor\": \"#E5ECF6\", \"gridcolor\": \"white\", \"gridwidth\": 2, \"linecolor\": \"white\", \"showbackground\": true, \"ticks\": \"\", \"zerolinecolor\": \"white\"}, \"zaxis\": {\"backgroundcolor\": \"#E5ECF6\", \"gridcolor\": \"white\", \"gridwidth\": 2, \"linecolor\": \"white\", \"showbackground\": true, \"ticks\": \"\", \"zerolinecolor\": \"white\"}}, \"shapedefaults\": {\"line\": {\"color\": \"#2a3f5f\"}}, \"ternary\": {\"aaxis\": {\"gridcolor\": \"white\", \"linecolor\": \"white\", \"ticks\": \"\"}, \"baxis\": {\"gridcolor\": \"white\", \"linecolor\": \"white\", \"ticks\": \"\"}, \"bgcolor\": \"#E5ECF6\", \"caxis\": {\"gridcolor\": \"white\", \"linecolor\": \"white\", \"ticks\": \"\"}}, \"title\": {\"x\": 0.05}, \"xaxis\": {\"automargin\": true, \"gridcolor\": \"white\", \"linecolor\": \"white\", \"ticks\": \"\", \"title\": {\"standoff\": 15}, \"zerolinecolor\": \"white\", \"zerolinewidth\": 2}, \"yaxis\": {\"automargin\": true, \"gridcolor\": \"white\", \"linecolor\": \"white\", \"ticks\": \"\", \"title\": {\"standoff\": 15}, \"zerolinecolor\": \"white\", \"zerolinewidth\": 2}}}, \"title\": {\"text\": \"Optimization History Plot\"}, \"xaxis\": {\"title\": {\"text\": \"#Trials\"}}, \"yaxis\": {\"title\": {\"text\": \"Objective Value\"}}},\n",
              "                        {\"responsive\": true}\n",
              "                    ).then(function(){\n",
              "                            \n",
              "var gd = document.getElementById('9511e69c-e3c4-4db2-b03a-b321f6361c1f');\n",
              "var x = new MutationObserver(function (mutations, observer) {{\n",
              "        var display = window.getComputedStyle(gd).display;\n",
              "        if (!display || display === 'none') {{\n",
              "            console.log([gd, 'removed!']);\n",
              "            Plotly.purge(gd);\n",
              "            observer.disconnect();\n",
              "        }}\n",
              "}});\n",
              "\n",
              "// Listen for the removal of the full notebook cells\n",
              "var notebookContainer = gd.closest('#notebook-container');\n",
              "if (notebookContainer) {{\n",
              "    x.observe(notebookContainer, {childList: true});\n",
              "}}\n",
              "\n",
              "// Listen for the clearing of the current output cell\n",
              "var outputEl = gd.closest('.output');\n",
              "if (outputEl) {{\n",
              "    x.observe(outputEl, {childList: true});\n",
              "}}\n",
              "\n",
              "                        })\n",
              "                };\n",
              "                \n",
              "            </script>\n",
              "        </div>\n",
              "</body>\n",
              "</html>"
            ]
          },
          "metadata": {
            "tags": []
          }
        }
      ]
    },
    {
      "cell_type": "code",
      "metadata": {
        "id": "Qz9KX_7E4ySR",
        "colab_type": "code",
        "outputId": "981866ba-071e-4df8-bf53-4d069f47ba42",
        "colab": {
          "base_uri": "https://localhost:8080/",
          "height": 542
        }
      },
      "source": [
        "optuna.visualization.plot_intermediate_values(study)"
      ],
      "execution_count": 0,
      "outputs": [
        {
          "output_type": "display_data",
          "data": {
            "text/html": [
              "<html>\n",
              "<head><meta charset=\"utf-8\" /></head>\n",
              "<body>\n",
              "    <div>\n",
              "            <script src=\"https://cdnjs.cloudflare.com/ajax/libs/mathjax/2.7.5/MathJax.js?config=TeX-AMS-MML_SVG\"></script><script type=\"text/javascript\">if (window.MathJax) {MathJax.Hub.Config({SVG: {font: \"STIX-Web\"}});}</script>\n",
              "                <script type=\"text/javascript\">window.PlotlyConfig = {MathJaxConfig: 'local'};</script>\n",
              "        <script src=\"https://cdn.plot.ly/plotly-latest.min.js\"></script>    \n",
              "            <div id=\"f4dea5b9-cb10-4edf-ae09-4c58a59626ed\" class=\"plotly-graph-div\" style=\"height:525px; width:100%;\"></div>\n",
              "            <script type=\"text/javascript\">\n",
              "                \n",
              "                    window.PLOTLYENV=window.PLOTLYENV || {};\n",
              "                    \n",
              "                if (document.getElementById(\"f4dea5b9-cb10-4edf-ae09-4c58a59626ed\")) {\n",
              "                    Plotly.newPlot(\n",
              "                        'f4dea5b9-cb10-4edf-ae09-4c58a59626ed',\n",
              "                        [{\"marker\": {\"maxdisplayed\": 10}, \"mode\": \"lines+markers\", \"name\": \"Trial0\", \"type\": \"scatter\", \"x\": [0, 1, 2, 3, 4, 5, 6, 7, 8, 9, 10, 11, 12, 13, 14, 15, 16, 17, 18, 19, 20, 21], \"y\": [0.15740740685551255, 0.14583333360928077, 0.13657407407407407, 0.13657407407407407, 0.14583333360928077, 0.14583333360928077, 0.14583333360928077, 0.15740740685551255, 0.15740740685551255, 0.15740740685551255, 0.14583333360928077, 0.15740740795930228, 0.15740740795930228, 0.15740740795930228, 0.15740740795930228, 0.15740740795930228, 0.15740740795930228, 0.15740740795930228, 0.15740740795930228, 0.15740740795930228, 0.15740740795930228, 0.15740740795930228]}, {\"marker\": {\"maxdisplayed\": 10}, \"mode\": \"lines+markers\", \"name\": \"Trial2\", \"type\": \"scatter\", \"x\": [0, 1, 2, 3, 4, 5, 6, 7, 8, 9, 10, 11, 12, 13, 14, 15, 16, 17, 18, 19, 20, 21, 22, 23, 24, 25, 26, 27, 28, 29], \"y\": [0.7106481481481481, 0.8148148126072354, 0.8541666644590872, 0.8796296296296297, 0.893518516310939, 0.8912037059112832, 0.8935185185185185, 0.907407405199828, 0.9097222200146428, 0.9050925925925926, 0.9189814792739021, 0.9212962940887168, 0.9143518518518519, 0.9120370348294576, 0.9143518496442724, 0.9143518496442724, 0.9166666644590872, 0.9189814792739021, 0.9143518496442724, 0.9143518496442724, 0.9236111089035317, 0.9166666644590872, 0.9212962940887168, 0.9189814792739021, 0.9189814792739021, 0.9189814792739021, 0.9189814792739021, 0.9212962940887168, 0.9166666644590872, 0.9212962940887168]}, {\"marker\": {\"maxdisplayed\": 10}, \"mode\": \"lines+markers\", \"name\": \"Trial4\", \"type\": \"scatter\", \"x\": [0, 1, 2, 3, 4, 5, 6, 7, 8, 9, 10, 11, 12, 13, 14, 15, 16, 17, 18, 19, 20, 21, 22, 23, 24, 25, 26, 27, 28, 29], \"y\": [0.6111111122149008, 0.7152777799853572, 0.7430555555555556, 0.8125000022075795, 0.8287037059112832, 0.8379629651705424, 0.8541666688742461, 0.8773148148148148, 0.8796296296296297, 0.868055557763135, 0.8842592592592593, 0.8958333333333334, 0.8888888888888888, 0.8981481459405687, 0.8981481459405687, 0.905092594800172, 0.9050925925925926, 0.9027777755701983, 0.9027777755701983, 0.9166666666666666, 0.9004629651705424, 0.9050925925925926, 0.9097222222222222, 0.9074074074074074, 0.9074074074074074, 0.9050925925925926, 0.9097222222222222, 0.9212962940887168, 0.9027777777777778, 0.9212962940887168]}, {\"marker\": {\"maxdisplayed\": 10}, \"mode\": \"lines+markers\", \"name\": \"Trial5\", \"type\": \"scatter\", \"x\": [0, 1, 2, 3, 4, 5, 6, 7, 8, 9, 10, 11, 12, 13, 14, 15, 16, 17, 18, 19, 20, 21, 22, 23, 24, 25, 26, 27, 28, 29], \"y\": [0.5763888866813095, 0.8240740718664946, 0.8773148148148148, 0.8750000022075795, 0.8958333355409128, 0.9050925903850131, 0.8912037059112832, 0.907407405199828, 0.907407405199828, 0.8240740740740741, 0.8912037037037037, 0.8796296318372091, 0.9097222222222222, 0.8541666644590872, 0.9027777777777778, 0.8634259281335054, 0.8749999977924205, 0.7546296274220502, 0.9004629629629629, 0.7592592592592593, 0.9027777799853572, 0.9097222222222222, 0.9143518518518519, 0.9120370392446164, 0.9259259259259259, 0.9143518518518519, 0.9027777755701983, 0.9050925903850131, 0.9097222222222222, 0.9120370370370371]}, {\"marker\": {\"maxdisplayed\": 10}, \"mode\": \"lines+markers\", \"name\": \"Trial6\", \"type\": \"scatter\", \"x\": [0, 1, 2, 3, 4, 5, 6, 7, 8, 9, 10, 11, 12, 13, 14, 15, 16, 17, 18, 19, 20, 21, 22, 23, 24, 25, 26, 27, 28, 29], \"y\": [0.8287037014961243, 0.8611111089035317, 0.8958333355409128, 0.8935185185185185, 0.9050925925925926, 0.9050925903850131, 0.8981481503557276, 0.8935185207260979, 0.9050925903850131, 0.9166666666666666, 0.8958333355409128, 0.9027777755701983, 0.907407405199828, 0.36805555665934525, 0.6759259281335054, 0.8865740718664946, 0.8611111111111112, 0.8912037037037037, 0.9050925925925926, 0.9074074096149869, 0.9212962940887168, 0.9143518518518519, 0.9143518518518519, 0.9305555555555556, 0.9236111111111112, 0.9166666688742461, 0.9143518518518519, 0.9166666666666666, 0.9166666666666666, 0.8958333333333334]}, {\"marker\": {\"maxdisplayed\": 10}, \"mode\": \"lines+markers\", \"name\": \"Trial7\", \"type\": \"scatter\", \"x\": [0, 1, 2, 3, 4, 5, 6, 7, 8, 9, 10, 11, 12, 13, 14, 15, 16, 17, 18, 19, 20, 21, 22, 23, 24, 25, 26, 27, 28, 29], \"y\": [0.5925925914888028, 0.8101851829776058, 0.8356481481481481, 0.9004629629629629, 0.8796296274220502, 0.905092594800172, 0.875, 0.8935185207260979, 0.9027777755701983, 0.9004629607553836, 0.8773148170223942, 0.8796296296296297, 0.8587962985038757, 0.893518516310939, 0.8912037014961243, 0.9074074074074074, 0.9050925903850131, 0.905092594800172, 0.907407405199828, 0.8981481481481481, 0.875, 0.8912037059112832, 0.8981481459405687, 0.9027777799853572, 0.9027777799853572, 0.9097222200146428, 0.9212962940887168, 0.9050925925925926, 0.9050925903850131, 0.907407405199828]}, {\"marker\": {\"maxdisplayed\": 10}, \"mode\": \"lines+markers\", \"name\": \"Trial8\", \"type\": \"scatter\", \"x\": [0, 1, 2, 3, 4, 5, 6, 7, 8, 9, 10, 11, 12, 13, 14, 15, 16, 17, 18, 19, 20, 21, 22, 23, 24, 25, 26, 27, 28, 29], \"y\": [0.5949074074074074, 0.6736111133186905, 0.7430555533479761, 0.7986111111111112, 0.8194444444444444, 0.8333333333333334, 0.856481483689061, 0.8634259281335054, 0.8611111111111112, 0.8796296274220502, 0.8796296274220502, 0.8888888910964683, 0.8842592614668386, 0.8935185207260979, 0.8981481459405687, 0.8912037059112832, 0.8981481503557276, 0.9004629607553836, 0.905092594800172, 0.9097222244298017, 0.9097222244298017, 0.9004629607553836, 0.9143518540594313, 0.9120370392446164, 0.9097222222222222, 0.9097222244298017, 0.9166666666666666, 0.9166666644590872, 0.9050925925925926, 0.9143518518518519]}, {\"marker\": {\"maxdisplayed\": 10}, \"mode\": \"lines+markers\", \"name\": \"Trial9\", \"type\": \"scatter\", \"x\": [0, 1, 2, 3, 4, 5, 6, 7, 8, 9, 10, 11, 12, 13, 14, 15, 16, 17, 18, 19, 20, 21, 22, 23, 24, 25, 26], \"y\": [0.7592592592592593, 0.8425925925925926, 0.8819444444444444, 0.875, 0.8865740718664946, 0.9027777755701983, 0.8935185185185185, 0.9027777799853572, 0.9050925903850131, 0.905092594800172, 0.905092594800172, 0.9120370392446164, 0.9097222244298017, 0.905092594800172, 0.9074074074074074, 0.9004629629629629, 0.9004629651705424, 0.907407405199828, 0.9097222222222222, 0.9050925903850131, 0.9120370348294576, 0.9120370348294576, 0.8796296274220502, 0.8912037014961243, 0.8888888910964683, 0.9120370370370371, 0.9120370370370371]}, {\"marker\": {\"maxdisplayed\": 10}, \"mode\": \"lines+markers\", \"name\": \"Trial10\", \"type\": \"scatter\", \"x\": [0, 1, 2, 3, 4, 5, 6, 7, 8, 9, 10, 11, 12, 13, 14, 15, 16, 17, 18, 19, 20, 21, 22, 23, 24, 25, 26, 27, 28, 29], \"y\": [0.3148148148148148, 0.4791666677704564, 0.5879629629629629, 0.641203702599914, 0.6805555533479761, 0.7060185207260979, 0.7453703681627909, 0.7546296318372091, 0.7638888888888888, 0.7800925925925926, 0.7916666666666666, 0.7939814792739021, 0.8078703703703703, 0.8125, 0.8148148126072354, 0.8263888888888888, 0.8310185185185185, 0.8333333333333334, 0.8310185185185185, 0.8356481481481481, 0.8287037037037037, 0.8402777777777778, 0.8379629629629629, 0.8402777777777778, 0.8379629629629629, 0.8472222222222222, 0.8402777777777778, 0.8379629629629629, 0.8472222222222222, 0.8449074096149869]}, {\"marker\": {\"maxdisplayed\": 10}, \"mode\": \"lines+markers\", \"name\": \"Trial11\", \"type\": \"scatter\", \"x\": [0, 1, 2, 3, 4, 5, 6, 7, 8, 9, 10, 11, 12, 13, 14, 15, 16, 17, 18, 19, 20, 21, 22, 23, 24, 25], \"y\": [0.7222222222222222, 0.7824074096149869, 0.8773148170223942, 0.8634259259259259, 0.893518516310939, 0.8958333355409128, 0.9004629629629629, 0.9074074096149869, 0.8958333355409128, 0.9097222222222222, 0.907407405199828, 0.8842592592592593, 0.905092594800172, 0.8611111111111112, 0.9050925925925926, 0.918981483689061, 0.9120370348294576, 0.905092594800172, 0.9120370370370371, 0.918981483689061, 0.8935185207260979, 0.9004629651705424, 0.9074074096149869, 0.9097222200146428, 0.9004629651705424, 0.9050925925925926]}, {\"marker\": {\"maxdisplayed\": 10}, \"mode\": \"lines+markers\", \"name\": \"Trial12\", \"type\": \"scatter\", \"x\": [0, 1, 2, 3, 4, 5, 6, 7, 8, 9, 10, 11, 12, 13, 14, 15, 16, 17, 18, 19, 20, 21, 22, 23, 24, 25, 26, 27, 28, 29], \"y\": [0.39814814925193787, 0.7685185185185185, 0.8402777799853572, 0.8171296296296297, 0.8611111089035317, 0.8750000022075795, 0.8935185185185185, 0.8842592570516798, 0.893518516310939, 0.9050925903850131, 0.8981481481481481, 0.893518516310939, 0.8842592592592593, 0.8865740740740741, 0.8958333333333334, 0.9027777799853572, 0.8912037014961243, 0.9004629651705424, 0.9050925925925926, 0.9004629651705424, 0.8842592570516798, 0.8865740762816535, 0.8981481459405687, 0.8865740718664946, 0.8865740740740741, 0.8912037059112832, 0.8958333311257539, 0.8981481459405687, 0.9004629607553836, 0.8611111111111112]}, {\"marker\": {\"maxdisplayed\": 10}, \"mode\": \"lines+markers\", \"name\": \"Trial13\", \"type\": \"scatter\", \"x\": [0, 1, 2, 3, 4, 5, 6, 7, 8, 9, 10, 11, 12, 13, 14, 15, 16], \"y\": [0.14583333360928077, 0.14583333360928077, 0.14583333360928077, 0.15740740685551255, 0.15740740685551255, 0.15740740685551255, 0.15740740685551255, 0.13657407407407407, 0.13657407407407407, 0.13657407407407407, 0.13657407407407407, 0.13657407407407407, 0.13194444416849702, 0.13194444416849702, 0.13194444416849702, 0.15740740685551255, 0.15740740685551255]}, {\"marker\": {\"maxdisplayed\": 10}, \"mode\": \"lines+markers\", \"name\": \"Trial14\", \"type\": \"scatter\", \"x\": [0, 1], \"y\": [0.8171296296296297, 0.8888888888888888]}, {\"marker\": {\"maxdisplayed\": 10}, \"mode\": \"lines+markers\", \"name\": \"Trial15\", \"type\": \"scatter\", \"x\": [0, 1, 2, 3, 4, 5, 6, 7, 8, 9, 10, 11, 12, 13, 14, 15, 16, 17, 18, 19, 20, 21, 22, 23], \"y\": [0.5486111122149008, 0.7754629651705424, 0.7777777777777778, 0.7754629651705424, 0.8842592614668386, 0.9004629629629629, 0.8078703681627909, 0.8217592570516798, 0.9097222222222222, 0.8981481459405687, 0.9166666666666666, 0.8865740718664946, 0.8796296296296297, 0.9212962940887168, 0.9120370348294576, 0.7407407407407407, 0.9097222222222222, 0.9120370392446164, 0.9120370370370371, 0.9004629607553836, 0.907407405199828, 0.9050925925925926, 0.6203703703703703, 0.868055557763135]}, {\"marker\": {\"maxdisplayed\": 10}, \"mode\": \"lines+markers\", \"name\": \"Trial16\", \"type\": \"scatter\", \"x\": [0, 1], \"y\": [0.8657407407407407, 0.8819444466520239]}, {\"marker\": {\"maxdisplayed\": 10}, \"mode\": \"lines+markers\", \"name\": \"Trial17\", \"type\": \"scatter\", \"x\": [0, 1, 2, 3, 4, 5, 6, 7, 8, 9, 10, 11, 12, 13, 14, 15, 16, 17, 18, 19, 20, 21, 22, 23, 24, 25, 26, 27, 28, 29], \"y\": [0.6458333355409128, 0.7453703703703703, 0.8425925903850131, 0.8356481503557276, 0.8564814792739021, 0.8564814814814815, 0.8796296296296297, 0.8796296318372091, 0.8796296318372091, 0.8819444466520239, 0.905092594800172, 0.8888888910964683, 0.9004629651705424, 0.9027777799853572, 0.9027777799853572, 0.905092594800172, 0.905092594800172, 0.9097222244298017, 0.8981481503557276, 0.8981481503557276, 0.9027777799853572, 0.9027777799853572, 0.8958333355409128, 0.9074074096149869, 0.9074074096149869, 0.9027777799853572, 0.905092594800172, 0.9074074096149869, 0.9189814814814815, 0.9259259281335054]}, {\"marker\": {\"maxdisplayed\": 10}, \"mode\": \"lines+markers\", \"name\": \"Trial18\", \"type\": \"scatter\", \"x\": [0, 1], \"y\": [0.8287037059112832, 0.8912037014961243]}, {\"marker\": {\"maxdisplayed\": 10}, \"mode\": \"lines+markers\", \"name\": \"Trial19\", \"type\": \"scatter\", \"x\": [0, 1, 2, 3, 4, 5, 6, 7, 8, 9, 10], \"y\": [0.13194444416849702, 0.13194444416849702, 0.13194444416849702, 0.13194444416849702, 0.13194444416849702, 0.13194444416849702, 0.13194444416849702, 0.13194444416849702, 0.13194444416849702, 0.13194444416849702, 0.13194444416849702]}, {\"marker\": {\"maxdisplayed\": 10}, \"mode\": \"lines+markers\", \"name\": \"Trial20\", \"type\": \"scatter\", \"x\": [0, 1, 2, 3, 4, 5, 6, 7, 8, 9, 10, 11, 12, 13, 14, 15, 16, 17, 18, 19], \"y\": [0.643518516310939, 0.8634259237183465, 0.9027777777777778, 0.8981481481481481, 0.8912037037037037, 0.8981481459405687, 0.8842592614668386, 0.893518516310939, 0.9004629629629629, 0.8958333333333334, 0.881944442236865, 0.8912037014961243, 0.8935185185185185, 0.9004629651705424, 0.8842592592592593, 0.9120370392446164, 0.9120370370370371, 0.9097222222222222, 0.907407405199828, 0.9143518518518519]}, {\"marker\": {\"maxdisplayed\": 10}, \"mode\": \"lines+markers\", \"name\": \"Trial21\", \"type\": \"scatter\", \"x\": [0, 1, 2, 3, 4, 5, 6, 7, 8, 9, 10, 11, 12, 13, 14], \"y\": [0.15740740795930228, 0.15740740795930228, 0.15740740795930228, 0.15740740795930228, 0.15740740795930228, 0.15740740795930228, 0.15740740795930228, 0.15740740795930228, 0.14583333360928077, 0.14583333360928077, 0.14583333360928077, 0.15740740685551255, 0.15740740685551255, 0.15740740685551255, 0.15740740685551255]}, {\"marker\": {\"maxdisplayed\": 10}, \"mode\": \"lines+markers\", \"name\": \"Trial22\", \"type\": \"scatter\", \"x\": [0, 1, 2, 3, 4, 5, 6, 7, 8, 9, 10], \"y\": [0.13194444416849702, 0.13194444416849702, 0.13194444416849702, 0.13194444416849702, 0.13194444416849702, 0.13194444416849702, 0.13194444416849702, 0.13194444416849702, 0.13194444416849702, 0.13194444416849702, 0.13194444416849702]}, {\"marker\": {\"maxdisplayed\": 10}, \"mode\": \"lines+markers\", \"name\": \"Trial23\", \"type\": \"scatter\", \"x\": [0, 1, 2, 3, 4, 5, 6, 7, 8, 9, 10, 11, 12, 13, 14, 15], \"y\": [0.15740740795930228, 0.15740740795930228, 0.15740740795930228, 0.15740740795930228, 0.15740740795930228, 0.15740740795930228, 0.15740740795930228, 0.15740740795930228, 0.15740740795930228, 0.15740740795930228, 0.15740740795930228, 0.15740740685551255, 0.15740740685551255, 0.15740740685551255, 0.15740740685551255, 0.15740740685551255]}, {\"marker\": {\"maxdisplayed\": 10}, \"mode\": \"lines+markers\", \"name\": \"Trial24\", \"type\": \"scatter\", \"x\": [0, 1, 2, 3, 4, 5, 6, 7, 8, 9, 10, 11, 12, 13, 14, 15, 16, 17, 18, 19, 20, 21, 22, 23, 24, 25, 26, 27, 28, 29], \"y\": [0.5555555555555556, 0.7685185185185185, 0.8587962962962963, 0.8634259237183465, 0.8912037059112832, 0.8865740718664946, 0.8888888910964683, 0.9027777777777778, 0.8842592592592593, 0.8518518518518519, 0.8888888888888888, 0.8773148170223942, 0.8541666666666666, 0.8935185207260979, 0.8865740740740741, 0.8958333333333334, 0.8912037014961243, 0.8518518496442724, 0.9004629651705424, 0.8865740740740741, 0.8981481503557276, 0.8935185207260979, 0.9166666644590872, 0.9351851851851852, 0.9236111133186905, 0.9328703725779498, 0.9166666688742461, 0.9282407407407407, 0.9282407429483202, 0.9282407429483202]}, {\"marker\": {\"maxdisplayed\": 10}, \"mode\": \"lines+markers\", \"name\": \"Trial25\", \"type\": \"scatter\", \"x\": [0, 1, 2, 3, 4, 5, 6, 7, 8, 9, 10, 11, 12, 13, 14, 15, 16, 17, 18, 19, 20, 21, 22, 23, 24], \"y\": [0.15740740685551255, 0.15740740685551255, 0.15740740685551255, 0.15740740685551255, 0.15740740685551255, 0.15740740685551255, 0.15740740685551255, 0.13657407407407407, 0.13657407407407407, 0.13194444416849702, 0.1134259256499785, 0.13657407407407407, 0.15740740685551255, 0.15740740685551255, 0.15740740795930228, 0.15740740795930228, 0.15740740795930228, 0.15740740795930228, 0.15740740795930228, 0.15740740795930228, 0.15740740795930228, 0.15740740685551255, 0.15740740685551255, 0.15740740685551255, 0.15740740685551255]}, {\"marker\": {\"maxdisplayed\": 10}, \"mode\": \"lines+markers\", \"name\": \"Trial26\", \"type\": \"scatter\", \"x\": [0, 1], \"y\": [0.7685185185185185, 0.8449074074074074]}, {\"marker\": {\"maxdisplayed\": 10}, \"mode\": \"lines+markers\", \"name\": \"Trial27\", \"type\": \"scatter\", \"x\": [0, 1], \"y\": [0.8125, 0.8541666644590872]}, {\"marker\": {\"maxdisplayed\": 10}, \"mode\": \"lines+markers\", \"name\": \"Trial28\", \"type\": \"scatter\", \"x\": [0, 1], \"y\": [0.805555557763135, 0.8703703681627909]}, {\"marker\": {\"maxdisplayed\": 10}, \"mode\": \"lines+markers\", \"name\": \"Trial29\", \"type\": \"scatter\", \"x\": [0, 1, 2, 3, 4, 5, 6, 7, 8, 9, 10, 11, 12, 13, 14, 15, 16, 17, 18, 19, 20, 21, 22, 23, 24, 25, 26, 27, 28, 29], \"y\": [0.2569444449963393, 0.8611111089035317, 0.8819444444444444, 0.8865740740740741, 0.9027777799853572, 0.9004629651705424, 0.893518516310939, 0.875, 0.8865740740740741, 0.8657407385331614, 0.8888888910964683, 0.8958333355409128, 0.8935185207260979, 0.9097222244298017, 0.8703703703703703, 0.8888888910964683, 0.8703703681627909, 0.9050925903850131, 0.8935185207260979, 0.9027777755701983, 0.9074074074074074, 0.8888888910964683, 0.8680555555555556, 0.9166666644590872, 0.8981481481481481, 0.9027777777777778, 0.8888888910964683, 0.9004629607553836, 0.9050925925925926, 0.9120370348294576]}, {\"marker\": {\"maxdisplayed\": 10}, \"mode\": \"lines+markers\", \"name\": \"Trial30\", \"type\": \"scatter\", \"x\": [0, 1], \"y\": [0.844907405199828, 0.8657407407407407]}, {\"marker\": {\"maxdisplayed\": 10}, \"mode\": \"lines+markers\", \"name\": \"Trial31\", \"type\": \"scatter\", \"x\": [0, 1, 2, 3, 4, 5, 6, 7, 8, 9, 10], \"y\": [0.13194444416849702, 0.13194444416849702, 0.13194444416849702, 0.13194444416849702, 0.13194444416849702, 0.13194444416849702, 0.13194444416849702, 0.13194444416849702, 0.13194444416849702, 0.13194444416849702, 0.13194444416849702]}, {\"marker\": {\"maxdisplayed\": 10}, \"mode\": \"lines+markers\", \"name\": \"Trial32\", \"type\": \"scatter\", \"x\": [0, 1, 2, 3, 4, 5, 6, 7, 8, 9, 10, 11, 12, 13, 14, 15, 16, 17, 18], \"y\": [0.14583333360928077, 0.14583333360928077, 0.14583333360928077, 0.14583333360928077, 0.14583333360928077, 0.14583333360928077, 0.14583333360928077, 0.14583333360928077, 0.15740740685551255, 0.15740740685551255, 0.15740740685551255, 0.15740740685551255, 0.15740740685551255, 0.15740740685551255, 0.15740740685551255, 0.15740740685551255, 0.15740740685551255, 0.15740740685551255, 0.15740740685551255]}, {\"marker\": {\"maxdisplayed\": 10}, \"mode\": \"lines+markers\", \"name\": \"Trial33\", \"type\": \"scatter\", \"x\": [0, 1, 2, 3, 4, 5, 6, 7, 8, 9, 10], \"y\": [0.15740740685551255, 0.15740740685551255, 0.15740740685551255, 0.15740740685551255, 0.15740740685551255, 0.15740740685551255, 0.15740740685551255, 0.15740740685551255, 0.15740740685551255, 0.15740740685551255, 0.15740740685551255]}, {\"marker\": {\"maxdisplayed\": 10}, \"mode\": \"lines+markers\", \"name\": \"Trial34\", \"type\": \"scatter\", \"x\": [0, 1, 2, 3, 4, 5, 6, 7, 8, 9, 10], \"y\": [0.15740740795930228, 0.15740740795930228, 0.15740740795930228, 0.15740740795930228, 0.15740740795930228, 0.15740740795930228, 0.15740740795930228, 0.15740740795930228, 0.15740740795930228, 0.15740740795930228, 0.15740740795930228]}, {\"marker\": {\"maxdisplayed\": 10}, \"mode\": \"lines+markers\", \"name\": \"Trial35\", \"type\": \"scatter\", \"x\": [0, 1, 2, 3, 4, 5, 6, 7, 8, 9, 10, 11, 12, 13, 14, 15, 16, 17, 18, 19, 20, 21, 22, 23, 24, 25, 26, 27, 28, 29], \"y\": [0.33796296185917324, 0.48379629519250655, 0.5810185174147288, 0.6481481503557276, 0.6851851873927646, 0.7129629607553836, 0.7361111089035317, 0.7592592570516798, 0.7731481481481481, 0.8125000022075795, 0.8055555533479761, 0.8194444466520239, 0.8217592614668386, 0.8263888910964683, 0.8287037059112832, 0.8425925925925926, 0.8402777777777778, 0.8518518540594313, 0.8541666688742461, 0.8634259237183465, 0.8657407407407407, 0.8680555533479761, 0.875, 0.875, 0.8726851851851852, 0.875, 0.8726851829776058, 0.8796296296296297, 0.8773148170223942, 0.8912037037037037]}, {\"marker\": {\"maxdisplayed\": 10}, \"mode\": \"lines+markers\", \"name\": \"Trial36\", \"type\": \"scatter\", \"x\": [0, 1], \"y\": [0.7083333355409128, 0.8217592570516798]}, {\"marker\": {\"maxdisplayed\": 10}, \"mode\": \"lines+markers\", \"name\": \"Trial37\", \"type\": \"scatter\", \"x\": [0, 1], \"y\": [0.8171296318372091, 0.8379629607553836]}, {\"marker\": {\"maxdisplayed\": 10}, \"mode\": \"lines+markers\", \"name\": \"Trial38\", \"type\": \"scatter\", \"x\": [0, 1, 2, 3, 4, 5, 6, 7, 8, 9, 10], \"y\": [0.15740740795930228, 0.15740740795930228, 0.15740740795930228, 0.1134259256499785, 0.1134259256499785, 0.1134259256499785, 0.1134259256499785, 0.1134259256499785, 0.1134259256499785, 0.1134259256499785, 0.1134259256499785]}, {\"marker\": {\"maxdisplayed\": 10}, \"mode\": \"lines+markers\", \"name\": \"Trial39\", \"type\": \"scatter\", \"x\": [0, 1], \"y\": [0.7245370392446164, 0.8194444466520239]}, {\"marker\": {\"maxdisplayed\": 10}, \"mode\": \"lines+markers\", \"name\": \"Trial40\", \"type\": \"scatter\", \"x\": [0, 1], \"y\": [0.8032407385331614, 0.8796296274220502]}, {\"marker\": {\"maxdisplayed\": 10}, \"mode\": \"lines+markers\", \"name\": \"Trial41\", \"type\": \"scatter\", \"x\": [0, 1, 2, 3, 4, 5, 6, 7, 8, 9, 10, 11, 12, 13, 14, 15, 16, 17, 18, 19, 20, 21, 22, 23, 24, 25, 26, 27, 28, 29], \"y\": [0.4583333333333333, 0.8009259259259259, 0.8148148148148148, 0.8981481481481481, 0.8958333333333334, 0.9004629651705424, 0.9050925925925926, 0.9143518518518519, 0.9004629629629629, 0.9074074096149869, 0.9004629629629629, 0.9004629651705424, 0.918981483689061, 0.9120370348294576, 0.9236111111111112, 0.8935185207260979, 0.907407405199828, 0.9120370370370371, 0.8981481459405687, 0.9004629651705424, 0.8981481481481481, 0.9120370392446164, 0.9027777755701983, 0.9143518496442724, 0.9143518540594313, 0.9189814792739021, 0.9189814792739021, 0.9212962940887168, 0.9074074096149869, 0.918981483689061]}, {\"marker\": {\"maxdisplayed\": 10}, \"mode\": \"lines+markers\", \"name\": \"Trial42\", \"type\": \"scatter\", \"x\": [0, 1, 2, 3, 4, 5, 6, 7, 8, 9, 10], \"y\": [0.1134259256499785, 0.1134259256499785, 0.1134259256499785, 0.1134259256499785, 0.1134259256499785, 0.1134259256499785, 0.1134259256499785, 0.1134259256499785, 0.1134259256499785, 0.1134259256499785, 0.1134259256499785]}, {\"marker\": {\"maxdisplayed\": 10}, \"mode\": \"lines+markers\", \"name\": \"Trial43\", \"type\": \"scatter\", \"x\": [0, 1], \"y\": [0.7013888888888888, 0.8773148148148148]}, {\"marker\": {\"maxdisplayed\": 10}, \"mode\": \"lines+markers\", \"name\": \"Trial44\", \"type\": \"scatter\", \"x\": [0, 1, 2, 3, 4, 5, 6, 7, 8, 9, 10, 11, 12, 13, 14, 15, 16, 17, 18, 19, 20, 21, 22, 23, 24], \"y\": [0.3125000011037897, 0.7268518496442724, 0.7986111089035317, 0.875, 0.8935185207260979, 0.9097222222222222, 0.9143518540594313, 0.9097222200146428, 0.9074074096149869, 0.9050925925925926, 0.9120370370370371, 0.9120370370370371, 0.9027777777777778, 0.9120370370370371, 0.9097222222222222, 0.9097222222222222, 0.9120370370370371, 0.8935185207260979, 0.8888888866813095, 0.8796296274220502, 0.8773148148148148, 0.8750000022075795, 0.8888888910964683, 0.8842592570516798, 0.8842592614668386]}, {\"marker\": {\"maxdisplayed\": 10}, \"mode\": \"lines+markers\", \"name\": \"Trial45\", \"type\": \"scatter\", \"x\": [0, 1, 2, 3, 4, 5, 6, 7, 8, 9, 10, 11, 12, 13], \"y\": [0.15740740795930228, 0.15740740795930228, 0.15740740795930228, 0.15740740795930228, 0.15740740685551255, 0.15740740685551255, 0.15740740685551255, 0.15740740685551255, 0.15740740685551255, 0.15740740685551255, 0.15740740685551255, 0.15740740795930228, 0.15740740795930228, 0.15740740795930228]}, {\"marker\": {\"maxdisplayed\": 10}, \"mode\": \"lines+markers\", \"name\": \"Trial46\", \"type\": \"scatter\", \"x\": [0, 1], \"y\": [0.7361111089035317, 0.8472222200146428]}, {\"marker\": {\"maxdisplayed\": 10}, \"mode\": \"lines+markers\", \"name\": \"Trial47\", \"type\": \"scatter\", \"x\": [0, 1, 2, 3, 4, 5, 6, 7, 8, 9, 10, 11, 12, 13, 14, 15, 16, 17, 18, 19, 20, 21, 22, 23, 24, 25, 26, 27, 28, 29], \"y\": [0.23611111166300597, 0.6273148170223942, 0.8032407407407407, 0.8587962985038757, 0.8240740762816535, 0.8587962940887168, 0.8333333333333334, 0.8449074074074074, 0.8796296318372091, 0.8865740762816535, 0.8634259281335054, 0.8564814792739021, 0.9027777755701983, 0.9120370348294576, 0.907407405199828, 0.9004629629629629, 0.9097222200146428, 0.9143518518518519, 0.8888888866813095, 0.8981481503557276, 0.9143518518518519, 0.8379629607553836, 0.9050925925925926, 0.8981481459405687, 0.9004629607553836, 0.9097222200146428, 0.9027777755701983, 0.9189814814814815, 0.9120370392446164, 0.9097222244298017]}, {\"marker\": {\"maxdisplayed\": 10}, \"mode\": \"lines+markers\", \"name\": \"Trial48\", \"type\": \"scatter\", \"x\": [0, 1], \"y\": [0.8310185185185185, 0.8796296318372091]}, {\"marker\": {\"maxdisplayed\": 10}, \"mode\": \"lines+markers\", \"name\": \"Trial49\", \"type\": \"scatter\", \"x\": [0, 1], \"y\": [0.7268518496442724, 0.8680555533479761]}, {\"marker\": {\"maxdisplayed\": 10}, \"mode\": \"lines+markers\", \"name\": \"Trial50\", \"type\": \"scatter\", \"x\": [0, 1, 2, 3, 4, 5, 6, 7, 8, 9, 10, 11, 12, 13, 14, 15, 16, 17, 18, 19, 20, 21, 22, 23, 24, 25, 26, 27, 28, 29], \"y\": [0.5578703681627909, 0.8009259259259259, 0.8703703725779498, 0.8611111111111112, 0.8842592570516798, 0.8773148148148148, 0.8773148148148148, 0.8773148126072354, 0.8958333311257539, 0.8958333311257539, 0.9097222222222222, 0.8912037059112832, 0.8935185185185185, 0.907407405199828, 0.8935185185185185, 0.9004629629629629, 0.8888888866813095, 0.893518516310939, 0.9074074096149869, 0.9004629629629629, 0.9027777777777778, 0.9050925925925926, 0.8888888888888888, 0.905092594800172, 0.8935185207260979, 0.9004629651705424, 0.8912037059112832, 0.8865740740740741, 0.8981481481481481, 0.9027777777777778]}, {\"marker\": {\"maxdisplayed\": 10}, \"mode\": \"lines+markers\", \"name\": \"Trial51\", \"type\": \"scatter\", \"x\": [0, 1], \"y\": [0.7407407385331614, 0.8356481503557276]}, {\"marker\": {\"maxdisplayed\": 10}, \"mode\": \"lines+markers\", \"name\": \"Trial52\", \"type\": \"scatter\", \"x\": [0, 1], \"y\": [0.7592592592592593, 0.8541666644590872]}, {\"marker\": {\"maxdisplayed\": 10}, \"mode\": \"lines+markers\", \"name\": \"Trial53\", \"type\": \"scatter\", \"x\": [0, 1], \"y\": [0.7939814792739021, 0.844907405199828]}, {\"marker\": {\"maxdisplayed\": 10}, \"mode\": \"lines+markers\", \"name\": \"Trial54\", \"type\": \"scatter\", \"x\": [0, 1, 2, 3, 4, 5, 6, 7, 8, 9, 10, 11, 12, 13, 14, 15, 16, 17, 18, 19, 20, 21, 22, 23, 24, 25, 26, 27, 28, 29], \"y\": [0.15740740795930228, 0.5902777799853572, 0.7129629651705424, 0.7500000022075795, 0.844907405199828, 0.6967592592592593, 0.905092594800172, 0.8726851851851852, 0.8263888866813095, 0.8148148126072354, 0.893518516310939, 0.8935185185185185, 0.780092594800172, 0.8587962940887168, 0.8958333355409128, 0.9004629629629629, 0.8935185185185185, 0.8703703725779498, 0.8888888910964683, 0.868055557763135, 0.881944442236865, 0.8865740740740741, 0.8865740740740741, 0.8842592570516798, 0.8912037014961243, 0.8773148126072354, 0.8842592570516798, 0.8773148170223942, 0.8680555533479761, 0.8634259259259259]}, {\"marker\": {\"maxdisplayed\": 10}, \"mode\": \"lines+markers\", \"name\": \"Trial55\", \"type\": \"scatter\", \"x\": [0, 1], \"y\": [0.6921296274220502, 0.7986111133186905]}, {\"marker\": {\"maxdisplayed\": 10}, \"mode\": \"lines+markers\", \"name\": \"Trial56\", \"type\": \"scatter\", \"x\": [0, 1], \"y\": [0.881944442236865, 0.8981481459405687]}, {\"marker\": {\"maxdisplayed\": 10}, \"mode\": \"lines+markers\", \"name\": \"Trial57\", \"type\": \"scatter\", \"x\": [0, 1], \"y\": [0.7268518518518519, 0.8773148170223942]}, {\"marker\": {\"maxdisplayed\": 10}, \"mode\": \"lines+markers\", \"name\": \"Trial58\", \"type\": \"scatter\", \"x\": [0, 1], \"y\": [0.8217592592592593, 0.8842592570516798]}, {\"marker\": {\"maxdisplayed\": 10}, \"mode\": \"lines+markers\", \"name\": \"Trial59\", \"type\": \"scatter\", \"x\": [0, 1, 2, 3, 4, 5, 6, 7, 8, 9, 10, 11, 12, 13, 14, 15, 16, 17, 18, 19, 20, 21, 22, 23, 24, 25, 26, 27, 28, 29], \"y\": [0.28472222167032735, 0.5509259248221362, 0.7939814814814815, 0.8564814792739021, 0.9004629629629629, 0.8912037037037037, 0.8981481503557276, 0.8865740740740741, 0.9212962985038757, 0.9143518518518519, 0.9097222200146428, 0.9259259259259259, 0.9027777777777778, 0.9143518518518519, 0.905092594800172, 0.8888888888888888, 0.8958333355409128, 0.907407405199828, 0.8888888888888888, 0.9143518540594313, 0.9027777777777778, 0.9027777755701983, 0.9004629607553836, 0.8935185207260979, 0.9097222200146428, 0.8981481459405687, 0.9074074096149869, 0.9097222200146428, 0.9027777755701983, 0.907407405199828]}, {\"marker\": {\"maxdisplayed\": 10}, \"mode\": \"lines+markers\", \"name\": \"Trial60\", \"type\": \"scatter\", \"x\": [0, 1, 2, 3, 4, 5, 6, 7, 8, 9, 10, 11, 12, 13, 14, 15, 16, 17, 18, 19, 20, 21, 22, 23, 24, 25], \"y\": [0.1134259256499785, 0.1134259256499785, 0.1134259256499785, 0.1134259256499785, 0.1134259256499785, 0.1134259256499785, 0.1134259256499785, 0.1134259256499785, 0.13194444416849702, 0.13194444416849702, 0.13194444416849702, 0.13194444416849702, 0.13194444416849702, 0.13194444416849702, 0.13194444416849702, 0.15740740685551255, 0.15740740685551255, 0.15740740685551255, 0.15740740685551255, 0.15740740685551255, 0.13657407407407407, 0.13657407407407407, 0.15740740685551255, 0.15740740685551255, 0.15740740685551255, 0.15740740685551255]}, {\"marker\": {\"maxdisplayed\": 10}, \"mode\": \"lines+markers\", \"name\": \"Trial61\", \"type\": \"scatter\", \"x\": [0, 1, 2, 3, 4, 5, 6, 7, 8, 9, 10], \"y\": [0.15740740685551255, 0.15740740685551255, 0.15740740685551255, 0.15740740685551255, 0.15740740685551255, 0.13657407407407407, 0.13657407407407407, 0.13657407407407407, 0.13657407407407407, 0.15740740685551255, 0.13657407407407407]}, {\"marker\": {\"maxdisplayed\": 10}, \"mode\": \"lines+markers\", \"name\": \"Trial62\", \"type\": \"scatter\", \"x\": [0, 1, 2, 3, 4, 5, 6, 7, 8, 9, 10, 11, 12, 13, 14, 15, 16, 17, 18, 19, 20, 21], \"y\": [0.22685185240374672, 0.6296296296296297, 0.6736111133186905, 0.8912037059112832, 0.8773148148148148, 0.9050925903850131, 0.875, 0.8726851851851852, 0.918981483689061, 0.8773148126072354, 0.9097222222222222, 0.8981481481481481, 0.9050925925925926, 0.9097222222222222, 0.881944442236865, 0.8888888910964683, 0.9166666644590872, 0.8472222222222222, 0.8796296274220502, 0.9004629629629629, 0.893518516310939, 0.9027777755701983]}, {\"marker\": {\"maxdisplayed\": 10}, \"mode\": \"lines+markers\", \"name\": \"Trial63\", \"type\": \"scatter\", \"x\": [0, 1], \"y\": [0.8055555555555556, 0.8703703703703703]}, {\"marker\": {\"maxdisplayed\": 10}, \"mode\": \"lines+markers\", \"name\": \"Trial64\", \"type\": \"scatter\", \"x\": [0, 1], \"y\": [0.8634259237183465, 0.8634259281335054]}, {\"marker\": {\"maxdisplayed\": 10}, \"mode\": \"lines+markers\", \"name\": \"Trial65\", \"type\": \"scatter\", \"x\": [0, 1, 2, 3, 4, 5, 6, 7, 8, 9, 10, 11, 12, 13, 14, 15, 16, 17, 18, 19, 20], \"y\": [0.4675925936963823, 0.7453703681627909, 0.8356481503557276, 0.8703703681627909, 0.8912037059112832, 0.8865740740740741, 0.8796296318372091, 0.8865740718664946, 0.8912037059112832, 0.8912037037037037, 0.9120370370370371, 0.8865740740740741, 0.8912037059112832, 0.8865740718664946, 0.881944442236865, 0.8935185207260979, 0.9120370370370371, 0.8611111133186905, 0.8935185207260979, 0.9004629651705424, 0.8958333333333334]}, {\"marker\": {\"maxdisplayed\": 10}, \"mode\": \"lines+markers\", \"name\": \"Trial66\", \"type\": \"scatter\", \"x\": [0, 1, 2, 3, 4, 5, 6, 7, 8, 9, 10, 11, 12, 13, 14, 15, 16], \"y\": [0.5717592581554696, 0.8379629651705424, 0.8819444444444444, 0.8865740740740741, 0.893518516310939, 0.8935185185185185, 0.8935185207260979, 0.8773148148148148, 0.8842592614668386, 0.8865740718664946, 0.8865740762816535, 0.8726851829776058, 0.8912037037037037, 0.8888888910964683, 0.8842592570516798, 0.8935185207260979, 0.8749999977924205]}, {\"marker\": {\"maxdisplayed\": 10}, \"mode\": \"lines+markers\", \"name\": \"Trial67\", \"type\": \"scatter\", \"x\": [0, 1, 2, 3, 4, 5, 6, 7, 8, 9, 10, 11, 12, 13], \"y\": [0.14583333360928077, 0.15740740685551255, 0.13657407407407407, 0.14583333360928077, 0.14583333360928077, 0.15740740685551255, 0.15740740685551255, 0.1134259256499785, 0.13194444416849702, 0.13194444416849702, 0.13194444416849702, 0.15740740685551255, 0.15740740685551255, 0.15740740685551255]}, {\"marker\": {\"maxdisplayed\": 10}, \"mode\": \"lines+markers\", \"name\": \"Trial68\", \"type\": \"scatter\", \"x\": [0, 1], \"y\": [0.6944444466520239, 0.8148148148148148]}, {\"marker\": {\"maxdisplayed\": 10}, \"mode\": \"lines+markers\", \"name\": \"Trial69\", \"type\": \"scatter\", \"x\": [0, 1], \"y\": [0.8101851829776058, 0.8726851829776058]}, {\"marker\": {\"maxdisplayed\": 10}, \"mode\": \"lines+markers\", \"name\": \"Trial70\", \"type\": \"scatter\", \"x\": [0, 1, 2, 3, 4, 5, 6, 7, 8, 9, 10, 11, 12, 13, 14, 15, 16, 17, 18, 19, 20, 21, 22, 23, 24, 25, 26, 27, 28, 29], \"y\": [0.5393518518518519, 0.8379629607553836, 0.8541666688742461, 0.8541666666666666, 0.8657407407407407, 0.9074074074074074, 0.8981481503557276, 0.7986111133186905, 0.9120370348294576, 0.8842592570516798, 0.8888888910964683, 0.907407405199828, 0.905092594800172, 0.8842592570516798, 0.875, 0.9166666644590872, 0.907407405199828, 0.918981483689061, 0.893518516310939, 0.893518516310939, 0.9212962985038757, 0.9004629629629629, 0.9189814792739021, 0.9120370370370371, 0.9120370348294576, 0.9166666644590872, 0.8865740718664946, 0.9027777777777778, 0.8888888866813095, 0.9074074074074074]}, {\"marker\": {\"maxdisplayed\": 10}, \"mode\": \"lines+markers\", \"name\": \"Trial71\", \"type\": \"scatter\", \"x\": [0, 1], \"y\": [0.7453703703703703, 0.8657407407407407]}, {\"marker\": {\"maxdisplayed\": 10}, \"mode\": \"lines+markers\", \"name\": \"Trial72\", \"type\": \"scatter\", \"x\": [0, 1, 2, 3, 4, 5, 6, 7, 8, 9, 10, 11, 12, 13, 14, 15, 16, 17, 18, 19, 20, 21, 22, 23, 24, 25, 26, 27, 28, 29], \"y\": [0.38194444554823415, 0.8078703681627909, 0.7916666644590872, 0.8240740718664946, 0.8379629651705424, 0.9050925925925926, 0.8958333333333334, 0.8796296318372091, 0.2152777777777778, 0.15972222167032737, 0.7060185207260979, 0.8611111111111112, 0.8611111089035317, 0.8935185207260979, 0.9050925903850131, 0.8888888910964683, 0.8958333311257539, 0.9050925903850131, 0.8888888888888888, 0.631944442236865, 0.8819444444444444, 0.893518516310939, 0.8865740718664946, 0.8935185185185185, 0.8958333333333334, 0.15740740685551255, 0.15740740685551255, 0.15740740685551255, 0.8958333333333334, 0.8935185185185185]}, {\"marker\": {\"maxdisplayed\": 10}, \"mode\": \"lines+markers\", \"name\": \"Trial73\", \"type\": \"scatter\", \"x\": [0, 1], \"y\": [0.7708333333333334, 0.8587962985038757]}, {\"marker\": {\"maxdisplayed\": 10}, \"mode\": \"lines+markers\", \"name\": \"Trial74\", \"type\": \"scatter\", \"x\": [0, 1, 2, 3, 4, 5, 6, 7, 8, 9, 10, 11, 12, 13, 14, 15, 16, 17, 18, 19, 20, 21, 22, 23, 24, 25, 26, 27, 28, 29], \"y\": [0.5231481492519379, 0.7129629651705424, 0.8148148170223942, 0.8495370370370371, 0.8750000022075795, 0.8935185185185185, 0.8796296318372091, 0.868055557763135, 0.9120370370370371, 0.8611111089035317, 0.9120370348294576, 0.8819444466520239, 0.8935185185185185, 0.905092594800172, 0.7777777777777778, 0.8726851873927646, 0.8981481503557276, 0.8680555555555556, 0.9050925925925926, 0.8958333333333334, 0.7962962940887168, 0.8888888866813095, 0.9143518518518519, 0.9212962985038757, 0.9097222200146428, 0.9027777777777778, 0.9259259281335054, 0.9328703725779498, 0.930555557763135, 0.918981483689061]}, {\"marker\": {\"maxdisplayed\": 10}, \"mode\": \"lines+markers\", \"name\": \"Trial75\", \"type\": \"scatter\", \"x\": [0, 1, 2, 3, 4, 5, 6, 7, 8, 9, 10, 11, 12, 13, 14, 15, 16, 17, 18, 19, 20, 21, 22, 23, 24, 25, 26, 27, 28, 29], \"y\": [0.15740740685551255, 0.15740740768335484, 0.37731481591860455, 0.6527777799853572, 0.7847222244298017, 0.8078703681627909, 0.7777777777777778, 0.8541666644590872, 0.8425925925925926, 0.8819444444444444, 0.8773148148148148, 0.8888888866813095, 0.8842592592592593, 0.8773148170223942, 0.8888888888888888, 0.8865740762816535, 0.8495370370370371, 0.8888888866813095, 0.8935185185185185, 0.8912037037037037, 0.8958333333333334, 0.8773148170223942, 0.8935185185185185, 0.8657407407407407, 0.8958333311257539, 0.9050925903850131, 0.8703703703703703, 0.8750000022075795, 0.8981481503557276, 0.9004629607553836]}, {\"marker\": {\"maxdisplayed\": 10}, \"mode\": \"lines+markers\", \"name\": \"Trial76\", \"type\": \"scatter\", \"x\": [0, 1, 2, 3, 4, 5, 6, 7, 8, 9, 10, 11, 12, 13, 14, 15, 16, 17, 18, 19, 20, 21], \"y\": [0.5393518518518519, 0.8055555533479761, 0.8472222200146428, 0.8796296296296297, 0.8981481481481481, 0.8981481503557276, 0.8981481481481481, 0.893518516310939, 0.9027777777777778, 0.8842592614668386, 0.8912037037037037, 0.9212962940887168, 0.907407405199828, 0.9004629651705424, 0.8819444466520239, 0.8958333355409128, 0.9004629651705424, 0.9166666688742461, 0.9120370392446164, 0.918981483689061, 0.9166666688742461, 0.9143518540594313]}, {\"marker\": {\"maxdisplayed\": 10}, \"mode\": \"lines+markers\", \"name\": \"Trial77\", \"type\": \"scatter\", \"x\": [0, 1], \"y\": [0.7662037014961243, 0.8379629629629629]}, {\"marker\": {\"maxdisplayed\": 10}, \"mode\": \"lines+markers\", \"name\": \"Trial78\", \"type\": \"scatter\", \"x\": [0, 1], \"y\": [0.7754629629629629, 0.8680555555555556]}, {\"marker\": {\"maxdisplayed\": 10}, \"mode\": \"lines+markers\", \"name\": \"Trial79\", \"type\": \"scatter\", \"x\": [0, 1], \"y\": [0.7986111133186905, 0.8564814814814815]}, {\"marker\": {\"maxdisplayed\": 10}, \"mode\": \"lines+markers\", \"name\": \"Trial80\", \"type\": \"scatter\", \"x\": [0, 1, 2, 3, 4, 5, 6, 7, 8, 9, 10, 11, 12, 13, 14, 15, 16, 17, 18, 19, 20, 21, 22, 23, 24, 25, 26, 27, 28, 29], \"y\": [0.13657407407407407, 0.13657407407407407, 0.13657407407407407, 0.3171296307334193, 0.4652777788815675, 0.5578703703703703, 0.7129629629629629, 0.8495370348294576, 0.8634259281335054, 0.8356481503557276, 0.8587962962962963, 0.8726851851851852, 0.8657407385331614, 0.8611111111111112, 0.8703703681627909, 0.8796296318372091, 0.8449074096149869, 0.8449074074074074, 0.8796296274220502, 0.868055557763135, 0.8819444466520239, 0.8611111089035317, 0.8541666644590872, 0.8449074074074074, 0.8680555533479761, 0.8796296274220502, 0.8564814792739021, 0.8657407385331614, 0.881944442236865, 0.8819444466520239]}, {\"marker\": {\"maxdisplayed\": 10}, \"mode\": \"lines+markers\", \"name\": \"Trial81\", \"type\": \"scatter\", \"x\": [0, 1, 2, 3, 4, 5, 6, 7, 8, 9, 10, 11, 12, 13, 14, 15, 16, 17, 18, 19, 20, 21, 22, 23, 24, 25, 26, 27, 28, 29], \"y\": [0.13657407407407407, 0.14583333360928077, 0.2847222222222222, 0.4537037037037037, 0.7592592592592593, 0.7777777755701983, 0.8333333333333334, 0.8564814814814815, 0.8356481459405687, 0.7569444444444444, 0.856481483689061, 0.9004629607553836, 0.8796296274220502, 0.8842592614668386, 0.8032407407407407, 0.8981481503557276, 0.8958333355409128, 0.8865740762816535, 0.881944442236865, 0.8981481481481481, 0.9050925925925926, 0.8819444466520239, 0.9050925925925926, 0.881944442236865, 0.8587962940887168, 0.8888888910964683, 0.8796296318372091, 0.9074074074074074, 0.8935185185185185, 0.7962962940887168]}, {\"marker\": {\"maxdisplayed\": 10}, \"mode\": \"lines+markers\", \"name\": \"Trial82\", \"type\": \"scatter\", \"x\": [0, 1], \"y\": [0.782407405199828, 0.856481483689061]}, {\"marker\": {\"maxdisplayed\": 10}, \"mode\": \"lines+markers\", \"name\": \"Trial83\", \"type\": \"scatter\", \"x\": [0, 1, 2, 3, 4, 5, 6, 7, 8, 9, 10, 11, 12, 13, 14, 15, 16, 17, 18, 19, 20, 21, 22, 23, 24, 25, 26, 27, 28, 29], \"y\": [0.24074074074074073, 0.7569444466520239, 0.7777777777777778, 0.8842592614668386, 0.8981481459405687, 0.8935185207260979, 0.868055557763135, 0.9143518540594313, 0.905092594800172, 0.907407405199828, 0.9120370348294576, 0.2175925925925926, 0.49305555665934525, 0.8657407407407407, 0.9050925903850131, 0.8981481459405687, 0.907407405199828, 0.9004629651705424, 0.8912037037037037, 0.9004629629629629, 0.8912037037037037, 0.8912037059112832, 0.9050925925925926, 0.8333333311257539, 0.8541666688742461, 0.7800925925925926, 0.8703703703703703, 0.8773148126072354, 0.8888888910964683, 0.8726851829776058]}, {\"marker\": {\"maxdisplayed\": 10}, \"mode\": \"lines+markers\", \"name\": \"Trial84\", \"type\": \"scatter\", \"x\": [0, 1], \"y\": [0.7777777799853572, 0.8541666666666666]}, {\"marker\": {\"maxdisplayed\": 10}, \"mode\": \"lines+markers\", \"name\": \"Trial85\", \"type\": \"scatter\", \"x\": [0, 1], \"y\": [0.8541666644590872, 0.9004629651705424]}, {\"marker\": {\"maxdisplayed\": 10}, \"mode\": \"lines+markers\", \"name\": \"Trial86\", \"type\": \"scatter\", \"x\": [0, 1], \"y\": [0.7754629651705424, 0.7615740718664946]}, {\"marker\": {\"maxdisplayed\": 10}, \"mode\": \"lines+markers\", \"name\": \"Trial87\", \"type\": \"scatter\", \"x\": [0, 1], \"y\": [0.6828703703703703, 0.8263888888888888]}, {\"marker\": {\"maxdisplayed\": 10}, \"mode\": \"lines+markers\", \"name\": \"Trial88\", \"type\": \"scatter\", \"x\": [0, 1, 2, 3, 4, 5, 6, 7, 8, 9, 10, 11, 12, 13, 14, 15, 16, 17, 18, 19, 20, 21, 22, 23, 24, 25, 26, 27, 28, 29], \"y\": [0.18287037037037038, 0.33101851851851855, 0.4814814803776918, 0.5254629640667526, 0.5972222233260119, 0.6342592581554696, 0.6620370392446164, 0.6851851829776058, 0.7199074096149869, 0.7476851873927646, 0.743055557763135, 0.7569444444444444, 0.768518516310939, 0.7731481481481481, 0.7870370348294576, 0.7962962940887168, 0.8101851829776058, 0.8171296274220502, 0.8148148170223942, 0.8240740740740741, 0.8333333333333334, 0.8287037037037037, 0.8333333311257539, 0.8356481459405687, 0.8356481459405687, 0.842592594800172, 0.842592594800172, 0.8472222244298017, 0.8495370370370371, 0.8541666666666666]}, {\"marker\": {\"maxdisplayed\": 10}, \"mode\": \"lines+markers\", \"name\": \"Trial89\", \"type\": \"scatter\", \"x\": [0, 1, 2, 3, 4, 5, 6, 7, 8, 9, 10, 11, 12, 13, 14, 15, 16, 17, 18, 19, 20, 21, 22, 23, 24, 25, 26, 27, 28, 29], \"y\": [0.18981481481481483, 0.6736111111111112, 0.7384259237183465, 0.8402777755701983, 0.7986111111111112, 0.8611111111111112, 0.881944442236865, 0.8819444466520239, 0.2569444438925496, 0.8541666666666666, 0.8657407407407407, 0.8981481503557276, 0.8981481481481481, 0.9027777799853572, 0.8842592570516798, 0.8935185207260979, 0.9189814814814815, 0.9120370392446164, 0.9143518540594313, 0.9097222222222222, 0.9027777799853572, 0.9120370370370371, 0.9259259281335054, 0.9027777777777778, 0.9212962985038757, 0.905092594800172, 0.9027777799853572, 0.9166666644590872, 0.9097222222222222, 0.9097222222222222]}, {\"marker\": {\"maxdisplayed\": 10}, \"mode\": \"lines+markers\", \"name\": \"Trial90\", \"type\": \"scatter\", \"x\": [0, 1, 2, 3, 4, 5, 6, 7, 8, 9, 10, 11, 12, 13, 14, 15, 16, 17, 18, 19, 20, 21, 22, 23, 24, 25, 26, 27], \"y\": [0.4722222211184325, 0.8217592614668386, 0.8032407385331614, 0.7962962985038757, 0.8796296274220502, 0.8587962940887168, 0.8981481481481481, 0.7615740718664946, 0.8750000022075795, 0.8888888866813095, 0.8495370348294576, 0.8842592614668386, 0.8865740718664946, 0.8958333311257539, 0.8773148170223942, 0.8865740718664946, 0.8935185185185185, 0.8981481459405687, 0.893518516310939, 0.8865740718664946, 0.8935185185185185, 0.8819444444444444, 0.893518516310939, 0.8958333311257539, 0.15740740685551255, 0.15740740685551255, 0.15740740685551255, 0.15740740685551255]}, {\"marker\": {\"maxdisplayed\": 10}, \"mode\": \"lines+markers\", \"name\": \"Trial91\", \"type\": \"scatter\", \"x\": [0, 1, 2, 3, 4, 5, 6, 7, 8, 9, 10, 11, 12, 13, 14, 15, 16, 17, 18, 19], \"y\": [0.15740740685551255, 0.15740740685551255, 0.15740740685551255, 0.15740740685551255, 0.15740740685551255, 0.15740740685551255, 0.15740740685551255, 0.15740740685551255, 0.15740740685551255, 0.15740740685551255, 0.15740740685551255, 0.15740740685551255, 0.15740740795930228, 0.15740740795930228, 0.15740740685551255, 0.15740740685551255, 0.15740740685551255, 0.15740740685551255, 0.15740740685551255, 0.15740740685551255]}, {\"marker\": {\"maxdisplayed\": 10}, \"mode\": \"lines+markers\", \"name\": \"Trial92\", \"type\": \"scatter\", \"x\": [0, 1, 2, 3, 4, 5, 6, 7, 8, 9, 10, 11, 12, 13, 14, 15, 16, 17, 18, 19, 20, 21, 22, 23, 24, 25, 26, 27, 28, 29], \"y\": [0.18518518573708004, 0.25, 0.15740740795930228, 0.15740740795930228, 0.15740740685551255, 0.15740740685551255, 0.15740740795930228, 0.15740740795930228, 0.15740740795930228, 0.15740740685551255, 0.15740740685551255, 0.15740740685551255, 0.27314814925193787, 0.15740740795930228, 0.2222222222222222, 0.28703703703703703, 0.3125000011037897, 0.33796296185917324, 0.3125000011037897, 0.3333333322295436, 0.36574074074074076, 0.40046296185917324, 0.4375, 0.5115740762816535, 0.45601851851851855, 0.2962962962962963, 0.530092594800172, 0.4444444466520239, 0.41203703814082676, 0.4398148148148148]}, {\"marker\": {\"maxdisplayed\": 10}, \"mode\": \"lines+markers\", \"name\": \"Trial93\", \"type\": \"scatter\", \"x\": [0, 1, 2, 3, 4, 5, 6, 7, 8, 9, 10, 11, 12, 13, 14, 15, 16, 17, 18, 19, 20, 21, 22, 23, 24], \"y\": [0.5972222222222222, 0.7893518518518519, 0.8564814792739021, 0.893518516310939, 0.8865740740740741, 0.9004629607553836, 0.8888888888888888, 0.8888888866813095, 0.893518516310939, 0.8958333333333334, 0.8888888910964683, 0.9027777777777778, 0.905092594800172, 0.8773148148148148, 0.9074074096149869, 0.8958333333333334, 0.8981481481481481, 0.8796296296296297, 0.8958333355409128, 0.9004629629629629, 0.9004629629629629, 0.8888888888888888, 0.8935185207260979, 0.8796296318372091, 0.9027777799853572]}, {\"marker\": {\"maxdisplayed\": 10}, \"mode\": \"lines+markers\", \"name\": \"Trial94\", \"type\": \"scatter\", \"x\": [0, 1], \"y\": [0.7708333311257539, 0.8981481481481481]}, {\"marker\": {\"maxdisplayed\": 10}, \"mode\": \"lines+markers\", \"name\": \"Trial95\", \"type\": \"scatter\", \"x\": [0, 1], \"y\": [0.7453703681627909, 0.8611111133186905]}, {\"marker\": {\"maxdisplayed\": 10}, \"mode\": \"lines+markers\", \"name\": \"Trial96\", \"type\": \"scatter\", \"x\": [0, 1], \"y\": [0.8472222244298017, 0.9120370348294576]}, {\"marker\": {\"maxdisplayed\": 10}, \"mode\": \"lines+markers\", \"name\": \"Trial97\", \"type\": \"scatter\", \"x\": [0, 1, 2, 3, 4, 5, 6, 7, 8, 9, 10, 11, 12, 13, 14, 15, 16, 17, 18, 19, 20, 21, 22, 23, 24, 25, 26, 27], \"y\": [0.5763888888888888, 0.8263888866813095, 0.875, 0.8819444466520239, 0.893518516310939, 0.8750000022075795, 0.8958333355409128, 0.8912037037037037, 0.9050925925925926, 0.8888888888888888, 0.8842592570516798, 0.8981481503557276, 0.8981481481481481, 0.893518516310939, 0.9027777799853572, 0.8912037014961243, 0.8981481459405687, 0.9120370392446164, 0.9004629651705424, 0.9027777755701983, 0.9097222244298017, 0.9120370348294576, 0.9027777799853572, 0.8912037059112832, 0.9097222222222222, 0.9120370370370371, 0.8958333355409128, 0.9097222244298017]}, {\"marker\": {\"maxdisplayed\": 10}, \"mode\": \"lines+markers\", \"name\": \"Trial98\", \"type\": \"scatter\", \"x\": [0, 1], \"y\": [0.6504629607553836, 0.8472222222222222]}, {\"marker\": {\"maxdisplayed\": 10}, \"mode\": \"lines+markers\", \"name\": \"Trial99\", \"type\": \"scatter\", \"x\": [0, 1], \"y\": [0.8402777777777778, 0.8958333333333334]}, {\"marker\": {\"maxdisplayed\": 10}, \"mode\": \"lines+markers\", \"name\": \"Trial100\", \"type\": \"scatter\", \"x\": [0, 1], \"y\": [0.7569444466520239, 0.8402777755701983]}, {\"marker\": {\"maxdisplayed\": 10}, \"mode\": \"lines+markers\", \"name\": \"Trial101\", \"type\": \"scatter\", \"x\": [0, 1], \"y\": [0.8124999977924205, 0.8703703703703703]}, {\"marker\": {\"maxdisplayed\": 10}, \"mode\": \"lines+markers\", \"name\": \"Trial102\", \"type\": \"scatter\", \"x\": [0, 1, 2, 3, 4, 5, 6, 7, 8, 9, 10, 11, 12, 13, 14, 15, 16, 17, 18, 19, 20, 21, 22, 23], \"y\": [0.6296296274220502, 0.842592594800172, 0.8773148148148148, 0.9097222244298017, 0.8888888910964683, 0.9027777799853572, 0.8935185185185185, 0.8981481459405687, 0.8912037014961243, 0.9004629629629629, 0.9027777777777778, 0.8981481459405687, 0.893518516310939, 0.8935185185185185, 0.8773148148148148, 0.8842592592592593, 0.9097222200146428, 0.8912037059112832, 0.9027777755701983, 0.905092594800172, 0.907407405199828, 0.9004629651705424, 0.9027777777777778, 0.9027777755701983]}],\n",
              "                        {\"showlegend\": false, \"template\": {\"data\": {\"bar\": [{\"error_x\": {\"color\": \"#2a3f5f\"}, \"error_y\": {\"color\": \"#2a3f5f\"}, \"marker\": {\"line\": {\"color\": \"#E5ECF6\", \"width\": 0.5}}, \"type\": \"bar\"}], \"barpolar\": [{\"marker\": {\"line\": {\"color\": \"#E5ECF6\", \"width\": 0.5}}, \"type\": \"barpolar\"}], \"carpet\": [{\"aaxis\": {\"endlinecolor\": \"#2a3f5f\", \"gridcolor\": \"white\", \"linecolor\": \"white\", \"minorgridcolor\": \"white\", \"startlinecolor\": \"#2a3f5f\"}, \"baxis\": {\"endlinecolor\": \"#2a3f5f\", \"gridcolor\": \"white\", \"linecolor\": \"white\", \"minorgridcolor\": \"white\", \"startlinecolor\": \"#2a3f5f\"}, \"type\": \"carpet\"}], \"choropleth\": [{\"colorbar\": {\"outlinewidth\": 0, \"ticks\": \"\"}, \"type\": \"choropleth\"}], \"contour\": [{\"colorbar\": {\"outlinewidth\": 0, \"ticks\": \"\"}, \"colorscale\": [[0.0, \"#0d0887\"], [0.1111111111111111, \"#46039f\"], [0.2222222222222222, \"#7201a8\"], [0.3333333333333333, \"#9c179e\"], [0.4444444444444444, \"#bd3786\"], [0.5555555555555556, \"#d8576b\"], [0.6666666666666666, \"#ed7953\"], [0.7777777777777778, \"#fb9f3a\"], [0.8888888888888888, \"#fdca26\"], [1.0, \"#f0f921\"]], \"type\": \"contour\"}], \"contourcarpet\": [{\"colorbar\": {\"outlinewidth\": 0, \"ticks\": \"\"}, \"type\": \"contourcarpet\"}], \"heatmap\": [{\"colorbar\": {\"outlinewidth\": 0, \"ticks\": \"\"}, \"colorscale\": [[0.0, \"#0d0887\"], [0.1111111111111111, \"#46039f\"], [0.2222222222222222, \"#7201a8\"], [0.3333333333333333, \"#9c179e\"], [0.4444444444444444, \"#bd3786\"], [0.5555555555555556, \"#d8576b\"], [0.6666666666666666, \"#ed7953\"], [0.7777777777777778, \"#fb9f3a\"], [0.8888888888888888, \"#fdca26\"], [1.0, \"#f0f921\"]], \"type\": \"heatmap\"}], \"heatmapgl\": [{\"colorbar\": {\"outlinewidth\": 0, \"ticks\": \"\"}, \"colorscale\": [[0.0, \"#0d0887\"], [0.1111111111111111, \"#46039f\"], [0.2222222222222222, \"#7201a8\"], [0.3333333333333333, \"#9c179e\"], [0.4444444444444444, \"#bd3786\"], [0.5555555555555556, \"#d8576b\"], [0.6666666666666666, \"#ed7953\"], [0.7777777777777778, \"#fb9f3a\"], [0.8888888888888888, \"#fdca26\"], [1.0, \"#f0f921\"]], \"type\": \"heatmapgl\"}], \"histogram\": [{\"marker\": {\"colorbar\": {\"outlinewidth\": 0, \"ticks\": \"\"}}, \"type\": \"histogram\"}], \"histogram2d\": [{\"colorbar\": {\"outlinewidth\": 0, \"ticks\": \"\"}, \"colorscale\": [[0.0, \"#0d0887\"], [0.1111111111111111, \"#46039f\"], [0.2222222222222222, \"#7201a8\"], [0.3333333333333333, \"#9c179e\"], [0.4444444444444444, \"#bd3786\"], [0.5555555555555556, \"#d8576b\"], [0.6666666666666666, \"#ed7953\"], [0.7777777777777778, \"#fb9f3a\"], [0.8888888888888888, \"#fdca26\"], [1.0, \"#f0f921\"]], \"type\": \"histogram2d\"}], \"histogram2dcontour\": [{\"colorbar\": {\"outlinewidth\": 0, \"ticks\": \"\"}, \"colorscale\": [[0.0, \"#0d0887\"], [0.1111111111111111, \"#46039f\"], [0.2222222222222222, \"#7201a8\"], [0.3333333333333333, \"#9c179e\"], [0.4444444444444444, \"#bd3786\"], [0.5555555555555556, \"#d8576b\"], [0.6666666666666666, \"#ed7953\"], [0.7777777777777778, \"#fb9f3a\"], [0.8888888888888888, \"#fdca26\"], [1.0, \"#f0f921\"]], \"type\": \"histogram2dcontour\"}], \"mesh3d\": [{\"colorbar\": {\"outlinewidth\": 0, \"ticks\": \"\"}, \"type\": \"mesh3d\"}], \"parcoords\": [{\"line\": {\"colorbar\": {\"outlinewidth\": 0, \"ticks\": \"\"}}, \"type\": \"parcoords\"}], \"pie\": [{\"automargin\": true, \"type\": \"pie\"}], \"scatter\": [{\"marker\": {\"colorbar\": {\"outlinewidth\": 0, \"ticks\": \"\"}}, \"type\": \"scatter\"}], \"scatter3d\": [{\"line\": {\"colorbar\": {\"outlinewidth\": 0, \"ticks\": \"\"}}, \"marker\": {\"colorbar\": {\"outlinewidth\": 0, \"ticks\": \"\"}}, \"type\": \"scatter3d\"}], \"scattercarpet\": [{\"marker\": {\"colorbar\": {\"outlinewidth\": 0, \"ticks\": \"\"}}, \"type\": \"scattercarpet\"}], \"scattergeo\": [{\"marker\": {\"colorbar\": {\"outlinewidth\": 0, \"ticks\": \"\"}}, \"type\": \"scattergeo\"}], \"scattergl\": [{\"marker\": {\"colorbar\": {\"outlinewidth\": 0, \"ticks\": \"\"}}, \"type\": \"scattergl\"}], \"scattermapbox\": [{\"marker\": {\"colorbar\": {\"outlinewidth\": 0, \"ticks\": \"\"}}, \"type\": \"scattermapbox\"}], \"scatterpolar\": [{\"marker\": {\"colorbar\": {\"outlinewidth\": 0, \"ticks\": \"\"}}, \"type\": \"scatterpolar\"}], \"scatterpolargl\": [{\"marker\": {\"colorbar\": {\"outlinewidth\": 0, \"ticks\": \"\"}}, \"type\": \"scatterpolargl\"}], \"scatterternary\": [{\"marker\": {\"colorbar\": {\"outlinewidth\": 0, \"ticks\": \"\"}}, \"type\": \"scatterternary\"}], \"surface\": [{\"colorbar\": {\"outlinewidth\": 0, \"ticks\": \"\"}, \"colorscale\": [[0.0, \"#0d0887\"], [0.1111111111111111, \"#46039f\"], [0.2222222222222222, \"#7201a8\"], [0.3333333333333333, \"#9c179e\"], [0.4444444444444444, \"#bd3786\"], [0.5555555555555556, \"#d8576b\"], [0.6666666666666666, \"#ed7953\"], [0.7777777777777778, \"#fb9f3a\"], [0.8888888888888888, \"#fdca26\"], [1.0, \"#f0f921\"]], \"type\": \"surface\"}], \"table\": [{\"cells\": {\"fill\": {\"color\": \"#EBF0F8\"}, \"line\": {\"color\": \"white\"}}, \"header\": {\"fill\": {\"color\": \"#C8D4E3\"}, \"line\": {\"color\": \"white\"}}, \"type\": \"table\"}]}, \"layout\": {\"annotationdefaults\": {\"arrowcolor\": \"#2a3f5f\", \"arrowhead\": 0, \"arrowwidth\": 1}, \"coloraxis\": {\"colorbar\": {\"outlinewidth\": 0, \"ticks\": \"\"}}, \"colorscale\": {\"diverging\": [[0, \"#8e0152\"], [0.1, \"#c51b7d\"], [0.2, \"#de77ae\"], [0.3, \"#f1b6da\"], [0.4, \"#fde0ef\"], [0.5, \"#f7f7f7\"], [0.6, \"#e6f5d0\"], [0.7, \"#b8e186\"], [0.8, \"#7fbc41\"], [0.9, \"#4d9221\"], [1, \"#276419\"]], \"sequential\": [[0.0, \"#0d0887\"], [0.1111111111111111, \"#46039f\"], [0.2222222222222222, \"#7201a8\"], [0.3333333333333333, \"#9c179e\"], [0.4444444444444444, \"#bd3786\"], [0.5555555555555556, \"#d8576b\"], [0.6666666666666666, \"#ed7953\"], [0.7777777777777778, \"#fb9f3a\"], [0.8888888888888888, \"#fdca26\"], [1.0, \"#f0f921\"]], \"sequentialminus\": [[0.0, \"#0d0887\"], [0.1111111111111111, \"#46039f\"], [0.2222222222222222, \"#7201a8\"], [0.3333333333333333, \"#9c179e\"], [0.4444444444444444, \"#bd3786\"], [0.5555555555555556, \"#d8576b\"], [0.6666666666666666, \"#ed7953\"], [0.7777777777777778, \"#fb9f3a\"], [0.8888888888888888, \"#fdca26\"], [1.0, \"#f0f921\"]]}, \"colorway\": [\"#636efa\", \"#EF553B\", \"#00cc96\", \"#ab63fa\", \"#FFA15A\", \"#19d3f3\", \"#FF6692\", \"#B6E880\", \"#FF97FF\", \"#FECB52\"], \"font\": {\"color\": \"#2a3f5f\"}, \"geo\": {\"bgcolor\": \"white\", \"lakecolor\": \"white\", \"landcolor\": \"#E5ECF6\", \"showlakes\": true, \"showland\": true, \"subunitcolor\": \"white\"}, \"hoverlabel\": {\"align\": \"left\"}, \"hovermode\": \"closest\", \"mapbox\": {\"style\": \"light\"}, \"paper_bgcolor\": \"white\", \"plot_bgcolor\": \"#E5ECF6\", \"polar\": {\"angularaxis\": {\"gridcolor\": \"white\", \"linecolor\": \"white\", \"ticks\": \"\"}, \"bgcolor\": \"#E5ECF6\", \"radialaxis\": {\"gridcolor\": \"white\", \"linecolor\": \"white\", \"ticks\": \"\"}}, \"scene\": {\"xaxis\": {\"backgroundcolor\": \"#E5ECF6\", \"gridcolor\": \"white\", \"gridwidth\": 2, \"linecolor\": \"white\", \"showbackground\": true, \"ticks\": \"\", \"zerolinecolor\": \"white\"}, \"yaxis\": {\"backgroundcolor\": \"#E5ECF6\", \"gridcolor\": \"white\", \"gridwidth\": 2, \"linecolor\": \"white\", \"showbackground\": true, \"ticks\": \"\", \"zerolinecolor\": \"white\"}, \"zaxis\": {\"backgroundcolor\": \"#E5ECF6\", \"gridcolor\": \"white\", \"gridwidth\": 2, \"linecolor\": \"white\", \"showbackground\": true, \"ticks\": \"\", \"zerolinecolor\": \"white\"}}, \"shapedefaults\": {\"line\": {\"color\": \"#2a3f5f\"}}, \"ternary\": {\"aaxis\": {\"gridcolor\": \"white\", \"linecolor\": \"white\", \"ticks\": \"\"}, \"baxis\": {\"gridcolor\": \"white\", \"linecolor\": \"white\", \"ticks\": \"\"}, \"bgcolor\": \"#E5ECF6\", \"caxis\": {\"gridcolor\": \"white\", \"linecolor\": \"white\", \"ticks\": \"\"}}, \"title\": {\"x\": 0.05}, \"xaxis\": {\"automargin\": true, \"gridcolor\": \"white\", \"linecolor\": \"white\", \"ticks\": \"\", \"title\": {\"standoff\": 15}, \"zerolinecolor\": \"white\", \"zerolinewidth\": 2}, \"yaxis\": {\"automargin\": true, \"gridcolor\": \"white\", \"linecolor\": \"white\", \"ticks\": \"\", \"title\": {\"standoff\": 15}, \"zerolinecolor\": \"white\", \"zerolinewidth\": 2}}}, \"title\": {\"text\": \"Intermediate Values Plot\"}, \"xaxis\": {\"title\": {\"text\": \"Step\"}}, \"yaxis\": {\"title\": {\"text\": \"Intermediate Value\"}}},\n",
              "                        {\"responsive\": true}\n",
              "                    ).then(function(){\n",
              "                            \n",
              "var gd = document.getElementById('f4dea5b9-cb10-4edf-ae09-4c58a59626ed');\n",
              "var x = new MutationObserver(function (mutations, observer) {{\n",
              "        var display = window.getComputedStyle(gd).display;\n",
              "        if (!display || display === 'none') {{\n",
              "            console.log([gd, 'removed!']);\n",
              "            Plotly.purge(gd);\n",
              "            observer.disconnect();\n",
              "        }}\n",
              "}});\n",
              "\n",
              "// Listen for the removal of the full notebook cells\n",
              "var notebookContainer = gd.closest('#notebook-container');\n",
              "if (notebookContainer) {{\n",
              "    x.observe(notebookContainer, {childList: true});\n",
              "}}\n",
              "\n",
              "// Listen for the clearing of the current output cell\n",
              "var outputEl = gd.closest('.output');\n",
              "if (outputEl) {{\n",
              "    x.observe(outputEl, {childList: true});\n",
              "}}\n",
              "\n",
              "                        })\n",
              "                };\n",
              "                \n",
              "            </script>\n",
              "        </div>\n",
              "</body>\n",
              "</html>"
            ]
          },
          "metadata": {
            "tags": []
          }
        }
      ]
    },
    {
      "cell_type": "code",
      "metadata": {
        "id": "oBLZC2_VXDcp",
        "colab_type": "code",
        "outputId": "22e0386c-8684-447c-eabf-411dda208998",
        "colab": {
          "base_uri": "https://localhost:8080/",
          "height": 562
        }
      },
      "source": [
        "optuna.visualization.plot_slice(study)"
      ],
      "execution_count": 0,
      "outputs": [
        {
          "output_type": "display_data",
          "data": {
            "text/html": [
              "<html>\n",
              "<head><meta charset=\"utf-8\" /></head>\n",
              "<body>\n",
              "    <div>\n",
              "            <script src=\"https://cdnjs.cloudflare.com/ajax/libs/mathjax/2.7.5/MathJax.js?config=TeX-AMS-MML_SVG\"></script><script type=\"text/javascript\">if (window.MathJax) {MathJax.Hub.Config({SVG: {font: \"STIX-Web\"}});}</script>\n",
              "                <script type=\"text/javascript\">window.PlotlyConfig = {MathJaxConfig: 'local'};</script>\n",
              "        <script src=\"https://cdn.plot.ly/plotly-latest.min.js\"></script>    \n",
              "            <div id=\"15300f7c-21a8-4690-b839-2e495ca7ae72\" class=\"plotly-graph-div\" style=\"height:525px; width:2100px;\"></div>\n",
              "            <script type=\"text/javascript\">\n",
              "                \n",
              "                    window.PLOTLYENV=window.PLOTLYENV || {};\n",
              "                    \n",
              "                if (document.getElementById(\"15300f7c-21a8-4690-b839-2e495ca7ae72\")) {\n",
              "                    Plotly.newPlot(\n",
              "                        '15300f7c-21a8-4690-b839-2e495ca7ae72',\n",
              "                        [{\"marker\": {\"color\": [0, 2, 4, 5, 6, 7, 8, 9, 10, 11, 12, 13, 15, 17, 19, 20, 21, 22, 23, 24, 25, 29, 31, 32, 33, 34, 35, 38, 41, 42, 44, 45, 47, 50, 54, 59, 60, 61, 62, 65, 66, 67, 70, 72, 74, 75, 76, 80, 81, 83, 88, 89, 90, 91, 92, 93, 97, 102], \"colorbar\": {\"title\": {\"text\": \"#Trials\"}, \"x\": 1.0, \"xpad\": 40}, \"colorscale\": [[0.0, \"rgb(247,251,255)\"], [0.125, \"rgb(222,235,247)\"], [0.25, \"rgb(198,219,239)\"], [0.375, \"rgb(158,202,225)\"], [0.5, \"rgb(107,174,214)\"], [0.625, \"rgb(66,146,198)\"], [0.75, \"rgb(33,113,181)\"], [0.875, \"rgb(8,81,156)\"], [1.0, \"rgb(8,48,107)\"]], \"line\": {\"color\": \"Grey\", \"width\": 0.5}, \"showscale\": true}, \"mode\": \"markers\", \"showlegend\": false, \"type\": \"scatter\", \"x\": [\"relu\", \"leakyRelu\", \"leakyRelu\", \"leakyRelu\", \"relu\", \"relu\", \"relu\", \"relu\", \"leakyRelu\", \"relu\", \"relu\", \"relu\", \"relu\", \"leakyRelu\", \"relu\", \"relu\", \"leakyRelu\", \"leakyRelu\", \"leakyRelu\", \"relu\", \"leakyRelu\", \"leakyRelu\", \"leakyRelu\", \"leakyRelu\", \"leakyRelu\", \"leakyRelu\", \"leakyRelu\", \"leakyRelu\", \"relu\", \"leakyRelu\", \"leakyRelu\", \"relu\", \"relu\", \"relu\", \"relu\", \"relu\", \"leakyRelu\", \"leakyRelu\", \"relu\", \"relu\", \"relu\", \"leakyRelu\", \"relu\", \"relu\", \"relu\", \"relu\", \"relu\", \"relu\", \"relu\", \"relu\", \"leakyRelu\", \"relu\", \"relu\", \"relu\", \"relu\", \"relu\", \"relu\", \"relu\"], \"xaxis\": \"x\", \"y\": [0.8432430475086906, 0.04013820999745066, 0.09768268199235941, 0.09266680284554185, 0.09035064680599214, 0.08648681060506558, 0.09305260537223325, 0.09150805428246622, 0.12239415720242663, 0.08610413744927348, 0.09614483671546614, 0.8432430475086906, 0.09382733958931533, 0.09266546177045154, 0.8509590968914067, 0.09305081716851282, 0.8428572450395548, 0.8513453464085948, 0.843243494556743, 0.09305037009743833, 0.8432430475086906, 0.08610369011344288, 0.8505728473742186, 0.8501955388180765, 0.8540580339899575, 0.850968484900505, 0.1166057790212327, 0.8467197402114358, 0.09150894844763757, 0.8679469228788463, 0.3483608537841, 0.8428572450395548, 0.09576037539048732, 0.09575501052608137, 0.1023190173888181, 0.0961434956173538, 0.8428567979915025, 0.8513542873696408, 0.08609877259637877, 0.09228323565120089, 0.09922946826483214, 0.8432430475086906, 0.08880475474473526, 0.09343349031279369, 0.09343751375677556, 0.09382733960082634, 0.09382555148919514, 0.1220114840236125, 0.13511803891306362, 0.09537099651391079, 0.13590573753517354, 0.08841939933516285, 0.09266456761679132, 0.8432430475086906, 0.7100307747188537, 0.0942118009373164, 0.09961929418946092, 0.0965252745504187], \"yaxis\": \"y\"}, {\"marker\": {\"color\": [0, 2, 4, 5, 6, 7, 8, 9, 10, 11, 12, 13, 15, 17, 19, 20, 21, 22, 23, 24, 25, 29, 31, 32, 33, 34, 35, 38, 41, 42, 44, 45, 47, 50, 54, 59, 60, 61, 62, 65, 66, 67, 70, 72, 74, 75, 76, 80, 81, 83, 88, 89, 90, 91, 92, 93, 97, 102], \"colorbar\": {\"title\": {\"text\": \"#Trials\"}, \"x\": 1.0, \"xpad\": 40}, \"colorscale\": [[0.0, \"rgb(247,251,255)\"], [0.125, \"rgb(222,235,247)\"], [0.25, \"rgb(198,219,239)\"], [0.375, \"rgb(158,202,225)\"], [0.5, \"rgb(107,174,214)\"], [0.625, \"rgb(66,146,198)\"], [0.75, \"rgb(33,113,181)\"], [0.875, \"rgb(8,81,156)\"], [1.0, \"rgb(8,48,107)\"]], \"line\": {\"color\": \"Grey\", \"width\": 0.5}, \"showscale\": false}, \"mode\": \"markers\", \"showlegend\": false, \"type\": \"scatter\", \"x\": [0.9, 0.5, 0.8, 0.6000000000000001, 0.1, 0.6000000000000001, 0.4, 0.2, 0.9, 0.30000000000000004, 0.8, 0.9, 0.1, 0.4, 0.4, 0.5, 0.5, 0.1, 0.4, 0.0, 0.0, 0.0, 0.2, 0.1, 0.1, 0.6000000000000001, 0.4, 0.30000000000000004, 0.9, 0.2, 0.1, 0.9, 0.6000000000000001, 0.30000000000000004, 0.9, 0.9, 0.4, 0.5, 0.5, 0.0, 0.0, 0.4, 0.6000000000000001, 0.30000000000000004, 0.1, 0.0, 0.2, 0.0, 0.2, 0.7000000000000001, 0.4, 0.7000000000000001, 0.8, 0.8, 0.9, 0.1, 0.6000000000000001, 0.1], \"xaxis\": \"x2\", \"y\": [0.8432430475086906, 0.04013820999745066, 0.09768268199235941, 0.09266680284554185, 0.09035064680599214, 0.08648681060506558, 0.09305260537223325, 0.09150805428246622, 0.12239415720242663, 0.08610413744927348, 0.09614483671546614, 0.8432430475086906, 0.09382733958931533, 0.09266546177045154, 0.8509590968914067, 0.09305081716851282, 0.8428572450395548, 0.8513453464085948, 0.843243494556743, 0.09305037009743833, 0.8432430475086906, 0.08610369011344288, 0.8505728473742186, 0.8501955388180765, 0.8540580339899575, 0.850968484900505, 0.1166057790212327, 0.8467197402114358, 0.09150894844763757, 0.8679469228788463, 0.3483608537841, 0.8428572450395548, 0.09576037539048732, 0.09575501052608137, 0.1023190173888181, 0.0961434956173538, 0.8428567979915025, 0.8513542873696408, 0.08609877259637877, 0.09228323565120089, 0.09922946826483214, 0.8432430475086906, 0.08880475474473526, 0.09343349031279369, 0.09343751375677556, 0.09382733960082634, 0.09382555148919514, 0.1220114840236125, 0.13511803891306362, 0.09537099651391079, 0.13590573753517354, 0.08841939933516285, 0.09266456761679132, 0.8432430475086906, 0.7100307747188537, 0.0942118009373164, 0.09961929418946092, 0.0965252745504187], \"yaxis\": \"y2\"}, {\"marker\": {\"color\": [0, 2, 4, 5, 6, 7, 8, 9, 10, 11, 12, 13, 15, 17, 19, 20, 21, 22, 23, 24, 25, 29, 31, 32, 33, 34, 35, 38, 41, 42, 44, 45, 47, 50, 54, 59, 60, 61, 62, 65, 66, 67, 70, 72, 74, 75, 76, 80, 81, 83, 88, 89, 90, 91, 92, 93, 97, 102], \"colorbar\": {\"title\": {\"text\": \"#Trials\"}, \"x\": 1.0, \"xpad\": 40}, \"colorscale\": [[0.0, \"rgb(247,251,255)\"], [0.125, \"rgb(222,235,247)\"], [0.25, \"rgb(198,219,239)\"], [0.375, \"rgb(158,202,225)\"], [0.5, \"rgb(107,174,214)\"], [0.625, \"rgb(66,146,198)\"], [0.75, \"rgb(33,113,181)\"], [0.875, \"rgb(8,81,156)\"], [1.0, \"rgb(8,48,107)\"]], \"line\": {\"color\": \"Grey\", \"width\": 0.5}, \"showscale\": false}, \"mode\": \"markers\", \"showlegend\": false, \"type\": \"scatter\", \"x\": [212, 191, 68, 115, 44, 254, 127, 115, 97, 167, 198, 252, 213, 219, 236, 195, 204, 179, 172, 191, 203, 255, 255, 121, 163, 233, 229, 152, 250, 188, 157, 188, 185, 205, 190, 252, 157, 176, 190, 252, 211, 199, 198, 210, 192, 209, 249, 215, 239, 123, 194, 193, 195, 190, 194, 175, 185, 95], \"xaxis\": \"x3\", \"y\": [0.8432430475086906, 0.04013820999745066, 0.09768268199235941, 0.09266680284554185, 0.09035064680599214, 0.08648681060506558, 0.09305260537223325, 0.09150805428246622, 0.12239415720242663, 0.08610413744927348, 0.09614483671546614, 0.8432430475086906, 0.09382733958931533, 0.09266546177045154, 0.8509590968914067, 0.09305081716851282, 0.8428572450395548, 0.8513453464085948, 0.843243494556743, 0.09305037009743833, 0.8432430475086906, 0.08610369011344288, 0.8505728473742186, 0.8501955388180765, 0.8540580339899575, 0.850968484900505, 0.1166057790212327, 0.8467197402114358, 0.09150894844763757, 0.8679469228788463, 0.3483608537841, 0.8428572450395548, 0.09576037539048732, 0.09575501052608137, 0.1023190173888181, 0.0961434956173538, 0.8428567979915025, 0.8513542873696408, 0.08609877259637877, 0.09228323565120089, 0.09922946826483214, 0.8432430475086906, 0.08880475474473526, 0.09343349031279369, 0.09343751375677556, 0.09382733960082634, 0.09382555148919514, 0.1220114840236125, 0.13511803891306362, 0.09537099651391079, 0.13590573753517354, 0.08841939933516285, 0.09266456761679132, 0.8432430475086906, 0.7100307747188537, 0.0942118009373164, 0.09961929418946092, 0.0965252745504187], \"yaxis\": \"y3\"}, {\"marker\": {\"color\": [0, 2, 4, 5, 6, 7, 8, 9, 10, 11, 12, 13, 15, 17, 19, 20, 21, 22, 23, 24, 25, 29, 31, 32, 33, 34, 35, 38, 41, 42, 44, 45, 47, 50, 54, 59, 60, 61, 62, 65, 66, 67, 70, 72, 74, 75, 76, 80, 81, 83, 88, 89, 90, 91, 92, 93, 97, 102], \"colorbar\": {\"title\": {\"text\": \"#Trials\"}, \"x\": 1.0, \"xpad\": 40}, \"colorscale\": [[0.0, \"rgb(247,251,255)\"], [0.125, \"rgb(222,235,247)\"], [0.25, \"rgb(198,219,239)\"], [0.375, \"rgb(158,202,225)\"], [0.5, \"rgb(107,174,214)\"], [0.625, \"rgb(66,146,198)\"], [0.75, \"rgb(33,113,181)\"], [0.875, \"rgb(8,81,156)\"], [1.0, \"rgb(8,48,107)\"]], \"line\": {\"color\": \"Grey\", \"width\": 0.5}, \"showscale\": false}, \"mode\": \"markers\", \"showlegend\": false, \"type\": \"scatter\", \"x\": [0.007336035557256374, 1.364710328809509e-05, 2.2121697115992597e-05, 0.00022384915511476628, 0.00028757977075099834, 0.0003369682711331964, 6.840759034577169e-06, 3.284395474159213e-05, 6.47034498762356e-06, 0.00014104877731799424, 0.0009964620006557541, 0.006415017545466177, 0.0005638551337989577, 7.719350203318938e-06, 0.0032546740758086085, 0.0012502138272094264, 0.0015337686470509571, 0.0012294509360283035, 0.0010401951218371255, 0.0009056454940439872, 0.0010107980934205571, 0.0009830881871373395, 0.0009969443318676467, 0.0009912754057644505, 0.0009578044975746275, 0.0007847918584880578, 1.5275600704481295e-06, 0.0006897070346375877, 0.00047581232350380365, 0.0005565349923177317, 0.0005271718480763044, 0.000670223501478429, 0.0005624918509164675, 0.0006162237953903007, 0.0006307598604512671, 0.0006482405777477221, 0.0006551569460801883, 0.000564934612855144, 0.0005570912748964225, 0.000666496241061904, 0.0009832912495302381, 0.00024367142826214015, 7.861717719413516e-05, 0.0006110622186946638, 0.00027677531230372747, 0.0009241256555248157, 0.0008356671759738401, 0.0006657593089329607, 0.000990593227536673, 0.0005822381562336566, 1.1606295546930186e-06, 0.0007264729937835038, 0.0008827001662140298, 0.0008242358240231032, 0.0008929525980815949, 0.0008513388604202165, 0.0008306682388326554, 0.0007466762297266629], \"xaxis\": \"x4\", \"y\": [0.8432430475086906, 0.04013820999745066, 0.09768268199235941, 0.09266680284554185, 0.09035064680599214, 0.08648681060506558, 0.09305260537223325, 0.09150805428246622, 0.12239415720242663, 0.08610413744927348, 0.09614483671546614, 0.8432430475086906, 0.09382733958931533, 0.09266546177045154, 0.8509590968914067, 0.09305081716851282, 0.8428572450395548, 0.8513453464085948, 0.843243494556743, 0.09305037009743833, 0.8432430475086906, 0.08610369011344288, 0.8505728473742186, 0.8501955388180765, 0.8540580339899575, 0.850968484900505, 0.1166057790212327, 0.8467197402114358, 0.09150894844763757, 0.8679469228788463, 0.3483608537841, 0.8428572450395548, 0.09576037539048732, 0.09575501052608137, 0.1023190173888181, 0.0961434956173538, 0.8428567979915025, 0.8513542873696408, 0.08609877259637877, 0.09228323565120089, 0.09922946826483214, 0.8432430475086906, 0.08880475474473526, 0.09343349031279369, 0.09343751375677556, 0.09382733960082634, 0.09382555148919514, 0.1220114840236125, 0.13511803891306362, 0.09537099651391079, 0.13590573753517354, 0.08841939933516285, 0.09266456761679132, 0.8432430475086906, 0.7100307747188537, 0.0942118009373164, 0.09961929418946092, 0.0965252745504187], \"yaxis\": \"y4\"}, {\"marker\": {\"color\": [0, 2, 4, 5, 6, 7, 8, 9, 10, 11, 12, 13, 15, 17, 19, 20, 21, 22, 23, 24, 25, 29, 31, 32, 33, 34, 35, 38, 41, 42, 44, 45, 47, 50, 54, 59, 60, 61, 62, 65, 66, 67, 70, 72, 74, 75, 76, 80, 81, 83, 88, 89, 90, 91, 92, 93, 97, 102], \"colorbar\": {\"title\": {\"text\": \"#Trials\"}, \"x\": 1.0, \"xpad\": 40}, \"colorscale\": [[0.0, \"rgb(247,251,255)\"], [0.125, \"rgb(222,235,247)\"], [0.25, \"rgb(198,219,239)\"], [0.375, \"rgb(158,202,225)\"], [0.5, \"rgb(107,174,214)\"], [0.625, \"rgb(66,146,198)\"], [0.75, \"rgb(33,113,181)\"], [0.875, \"rgb(8,81,156)\"], [1.0, \"rgb(8,48,107)\"]], \"line\": {\"color\": \"Grey\", \"width\": 0.5}, \"showscale\": false}, \"mode\": \"markers\", \"showlegend\": false, \"type\": \"scatter\", \"x\": [45, 346, 193, 141, 198, 111, 105, 395, 396, 334, 95, 32, 114, 103, 373, 272, 384, 461, 437, 337, 397, 275, 356, 485, 462, 361, 352, 321, 454, 393, 312, 100, 111, 197, 219, 406, 341, 462, 472, 272, 118, 478, 450, 482, 482, 209, 267, 424, 267, 483, 421, 66, 380, 43, 56, 376, 361, 425], \"xaxis\": \"x5\", \"y\": [0.8432430475086906, 0.04013820999745066, 0.09768268199235941, 0.09266680284554185, 0.09035064680599214, 0.08648681060506558, 0.09305260537223325, 0.09150805428246622, 0.12239415720242663, 0.08610413744927348, 0.09614483671546614, 0.8432430475086906, 0.09382733958931533, 0.09266546177045154, 0.8509590968914067, 0.09305081716851282, 0.8428572450395548, 0.8513453464085948, 0.843243494556743, 0.09305037009743833, 0.8432430475086906, 0.08610369011344288, 0.8505728473742186, 0.8501955388180765, 0.8540580339899575, 0.850968484900505, 0.1166057790212327, 0.8467197402114358, 0.09150894844763757, 0.8679469228788463, 0.3483608537841, 0.8428572450395548, 0.09576037539048732, 0.09575501052608137, 0.1023190173888181, 0.0961434956173538, 0.8428567979915025, 0.8513542873696408, 0.08609877259637877, 0.09228323565120089, 0.09922946826483214, 0.8432430475086906, 0.08880475474473526, 0.09343349031279369, 0.09343751375677556, 0.09382733960082634, 0.09382555148919514, 0.1220114840236125, 0.13511803891306362, 0.09537099651391079, 0.13590573753517354, 0.08841939933516285, 0.09266456761679132, 0.8432430475086906, 0.7100307747188537, 0.0942118009373164, 0.09961929418946092, 0.0965252745504187], \"yaxis\": \"y5\"}, {\"marker\": {\"color\": [0, 2, 4, 5, 6, 7, 8, 9, 10, 11, 12, 13, 15, 17, 19, 20, 21, 22, 23, 24, 25, 29, 31, 32, 33, 34, 35, 38, 41, 42, 44, 45, 47, 50, 54, 59, 60, 61, 62, 65, 66, 67, 70, 72, 74, 75, 76, 80, 81, 83, 88, 89, 90, 91, 92, 93, 97, 102], \"colorbar\": {\"title\": {\"text\": \"#Trials\"}, \"x\": 1.0, \"xpad\": 40}, \"colorscale\": [[0.0, \"rgb(247,251,255)\"], [0.125, \"rgb(222,235,247)\"], [0.25, \"rgb(198,219,239)\"], [0.375, \"rgb(158,202,225)\"], [0.5, \"rgb(107,174,214)\"], [0.625, \"rgb(66,146,198)\"], [0.75, \"rgb(33,113,181)\"], [0.875, \"rgb(8,81,156)\"], [1.0, \"rgb(8,48,107)\"]], \"line\": {\"color\": \"Grey\", \"width\": 0.5}, \"showscale\": false}, \"mode\": \"markers\", \"showlegend\": false, \"type\": \"scatter\", \"x\": [\"nadam\", \"Adam\", \"rmsprop\", \"rmsprop\", \"nadam\", \"rmsprop\", \"Adam\", \"Adam\", \"rmsprop\", \"rmsprop\", \"Adam\", \"nadam\", \"nadam\", \"nadam\", \"nadam\", \"Adam\", \"Adam\", \"Adam\", \"Adam\", \"Adam\", \"nadam\", \"Adam\", \"Adam\", \"nadam\", \"Adam\", \"Adam\", \"Adam\", \"Adam\", \"Adam\", \"Adam\", \"Adam\", \"Adam\", \"rmsprop\", \"Adam\", \"rmsprop\", \"Adam\", \"nadam\", \"rmsprop\", \"rmsprop\", \"Adam\", \"Adam\", \"rmsprop\", \"nadam\", \"nadam\", \"rmsprop\", \"rmsprop\", \"Adam\", \"rmsprop\", \"rmsprop\", \"nadam\", \"rmsprop\", \"nadam\", \"nadam\", \"Adam\", \"nadam\", \"Adam\", \"Adam\", \"Adam\"], \"xaxis\": \"x6\", \"y\": [0.8432430475086906, 0.04013820999745066, 0.09768268199235941, 0.09266680284554185, 0.09035064680599214, 0.08648681060506558, 0.09305260537223325, 0.09150805428246622, 0.12239415720242663, 0.08610413744927348, 0.09614483671546614, 0.8432430475086906, 0.09382733958931533, 0.09266546177045154, 0.8509590968914067, 0.09305081716851282, 0.8428572450395548, 0.8513453464085948, 0.843243494556743, 0.09305037009743833, 0.8432430475086906, 0.08610369011344288, 0.8505728473742186, 0.8501955388180765, 0.8540580339899575, 0.850968484900505, 0.1166057790212327, 0.8467197402114358, 0.09150894844763757, 0.8679469228788463, 0.3483608537841, 0.8428572450395548, 0.09576037539048732, 0.09575501052608137, 0.1023190173888181, 0.0961434956173538, 0.8428567979915025, 0.8513542873696408, 0.08609877259637877, 0.09228323565120089, 0.09922946826483214, 0.8432430475086906, 0.08880475474473526, 0.09343349031279369, 0.09343751375677556, 0.09382733960082634, 0.09382555148919514, 0.1220114840236125, 0.13511803891306362, 0.09537099651391079, 0.13590573753517354, 0.08841939933516285, 0.09266456761679132, 0.8432430475086906, 0.7100307747188537, 0.0942118009373164, 0.09961929418946092, 0.0965252745504187], \"yaxis\": \"y6\"}, {\"marker\": {\"color\": [0, 2, 4, 5, 6, 7, 8, 9, 10, 11, 12, 13, 15, 17, 19, 20, 21, 22, 23, 24, 25, 29, 31, 32, 33, 34, 35, 38, 41, 42, 44, 45, 47, 50, 54, 59, 60, 61, 62, 65, 66, 67, 70, 72, 74, 75, 76, 80, 81, 83, 88, 89, 90, 91, 92, 93, 97, 102], \"colorbar\": {\"title\": {\"text\": \"#Trials\"}, \"x\": 1.0, \"xpad\": 40}, \"colorscale\": [[0.0, \"rgb(247,251,255)\"], [0.125, \"rgb(222,235,247)\"], [0.25, \"rgb(198,219,239)\"], [0.375, \"rgb(158,202,225)\"], [0.5, \"rgb(107,174,214)\"], [0.625, \"rgb(66,146,198)\"], [0.75, \"rgb(33,113,181)\"], [0.875, \"rgb(8,81,156)\"], [1.0, \"rgb(8,48,107)\"]], \"line\": {\"color\": \"Grey\", \"width\": 0.5}, \"showscale\": false}, \"mode\": \"markers\", \"showlegend\": false, \"type\": \"scatter\", \"x\": [4, 4, 3, 4, 3, 1, 5, 2, 1, 2, 5, 4, 4, 4, 3, 1, 2, 5, 4, 3, 2, 1, 3, 4, 5, 4, 3, 5, 5, 5, 5, 1, 3, 1, 4, 4, 4, 4, 2, 1, 1, 4, 1, 2, 4, 3, 4, 5, 3, 3, 4, 2, 2, 4, 2, 2, 3, 5], \"xaxis\": \"x7\", \"y\": [0.8432430475086906, 0.04013820999745066, 0.09768268199235941, 0.09266680284554185, 0.09035064680599214, 0.08648681060506558, 0.09305260537223325, 0.09150805428246622, 0.12239415720242663, 0.08610413744927348, 0.09614483671546614, 0.8432430475086906, 0.09382733958931533, 0.09266546177045154, 0.8509590968914067, 0.09305081716851282, 0.8428572450395548, 0.8513453464085948, 0.843243494556743, 0.09305037009743833, 0.8432430475086906, 0.08610369011344288, 0.8505728473742186, 0.8501955388180765, 0.8540580339899575, 0.850968484900505, 0.1166057790212327, 0.8467197402114358, 0.09150894844763757, 0.8679469228788463, 0.3483608537841, 0.8428572450395548, 0.09576037539048732, 0.09575501052608137, 0.1023190173888181, 0.0961434956173538, 0.8428567979915025, 0.8513542873696408, 0.08609877259637877, 0.09228323565120089, 0.09922946826483214, 0.8432430475086906, 0.08880475474473526, 0.09343349031279369, 0.09343751375677556, 0.09382733960082634, 0.09382555148919514, 0.1220114840236125, 0.13511803891306362, 0.09537099651391079, 0.13590573753517354, 0.08841939933516285, 0.09266456761679132, 0.8432430475086906, 0.7100307747188537, 0.0942118009373164, 0.09961929418946092, 0.0965252745504187], \"yaxis\": \"y7\"}],\n",
              "                        {\"template\": {\"data\": {\"bar\": [{\"error_x\": {\"color\": \"#2a3f5f\"}, \"error_y\": {\"color\": \"#2a3f5f\"}, \"marker\": {\"line\": {\"color\": \"#E5ECF6\", \"width\": 0.5}}, \"type\": \"bar\"}], \"barpolar\": [{\"marker\": {\"line\": {\"color\": \"#E5ECF6\", \"width\": 0.5}}, \"type\": \"barpolar\"}], \"carpet\": [{\"aaxis\": {\"endlinecolor\": \"#2a3f5f\", \"gridcolor\": \"white\", \"linecolor\": \"white\", \"minorgridcolor\": \"white\", \"startlinecolor\": \"#2a3f5f\"}, \"baxis\": {\"endlinecolor\": \"#2a3f5f\", \"gridcolor\": \"white\", \"linecolor\": \"white\", \"minorgridcolor\": \"white\", \"startlinecolor\": \"#2a3f5f\"}, \"type\": \"carpet\"}], \"choropleth\": [{\"colorbar\": {\"outlinewidth\": 0, \"ticks\": \"\"}, \"type\": \"choropleth\"}], \"contour\": [{\"colorbar\": {\"outlinewidth\": 0, \"ticks\": \"\"}, \"colorscale\": [[0.0, \"#0d0887\"], [0.1111111111111111, \"#46039f\"], [0.2222222222222222, \"#7201a8\"], [0.3333333333333333, \"#9c179e\"], [0.4444444444444444, \"#bd3786\"], [0.5555555555555556, \"#d8576b\"], [0.6666666666666666, \"#ed7953\"], [0.7777777777777778, \"#fb9f3a\"], [0.8888888888888888, \"#fdca26\"], [1.0, \"#f0f921\"]], \"type\": \"contour\"}], \"contourcarpet\": [{\"colorbar\": {\"outlinewidth\": 0, \"ticks\": \"\"}, \"type\": \"contourcarpet\"}], \"heatmap\": [{\"colorbar\": {\"outlinewidth\": 0, \"ticks\": \"\"}, \"colorscale\": [[0.0, \"#0d0887\"], [0.1111111111111111, \"#46039f\"], [0.2222222222222222, \"#7201a8\"], [0.3333333333333333, \"#9c179e\"], [0.4444444444444444, \"#bd3786\"], [0.5555555555555556, \"#d8576b\"], [0.6666666666666666, \"#ed7953\"], [0.7777777777777778, \"#fb9f3a\"], [0.8888888888888888, \"#fdca26\"], [1.0, \"#f0f921\"]], \"type\": \"heatmap\"}], \"heatmapgl\": [{\"colorbar\": {\"outlinewidth\": 0, \"ticks\": \"\"}, \"colorscale\": [[0.0, \"#0d0887\"], [0.1111111111111111, \"#46039f\"], [0.2222222222222222, \"#7201a8\"], [0.3333333333333333, \"#9c179e\"], [0.4444444444444444, \"#bd3786\"], [0.5555555555555556, \"#d8576b\"], [0.6666666666666666, \"#ed7953\"], [0.7777777777777778, \"#fb9f3a\"], [0.8888888888888888, \"#fdca26\"], [1.0, \"#f0f921\"]], \"type\": \"heatmapgl\"}], \"histogram\": [{\"marker\": {\"colorbar\": {\"outlinewidth\": 0, \"ticks\": \"\"}}, \"type\": \"histogram\"}], \"histogram2d\": [{\"colorbar\": {\"outlinewidth\": 0, \"ticks\": \"\"}, \"colorscale\": [[0.0, \"#0d0887\"], [0.1111111111111111, \"#46039f\"], [0.2222222222222222, \"#7201a8\"], [0.3333333333333333, \"#9c179e\"], [0.4444444444444444, \"#bd3786\"], [0.5555555555555556, \"#d8576b\"], [0.6666666666666666, \"#ed7953\"], [0.7777777777777778, \"#fb9f3a\"], [0.8888888888888888, \"#fdca26\"], [1.0, \"#f0f921\"]], \"type\": \"histogram2d\"}], \"histogram2dcontour\": [{\"colorbar\": {\"outlinewidth\": 0, \"ticks\": \"\"}, \"colorscale\": [[0.0, \"#0d0887\"], [0.1111111111111111, \"#46039f\"], [0.2222222222222222, \"#7201a8\"], [0.3333333333333333, \"#9c179e\"], [0.4444444444444444, \"#bd3786\"], [0.5555555555555556, \"#d8576b\"], [0.6666666666666666, \"#ed7953\"], [0.7777777777777778, \"#fb9f3a\"], [0.8888888888888888, \"#fdca26\"], [1.0, \"#f0f921\"]], \"type\": \"histogram2dcontour\"}], \"mesh3d\": [{\"colorbar\": {\"outlinewidth\": 0, \"ticks\": \"\"}, \"type\": \"mesh3d\"}], \"parcoords\": [{\"line\": {\"colorbar\": {\"outlinewidth\": 0, \"ticks\": \"\"}}, \"type\": \"parcoords\"}], \"pie\": [{\"automargin\": true, \"type\": \"pie\"}], \"scatter\": [{\"marker\": {\"colorbar\": {\"outlinewidth\": 0, \"ticks\": \"\"}}, \"type\": \"scatter\"}], \"scatter3d\": [{\"line\": {\"colorbar\": {\"outlinewidth\": 0, \"ticks\": \"\"}}, \"marker\": {\"colorbar\": {\"outlinewidth\": 0, \"ticks\": \"\"}}, \"type\": \"scatter3d\"}], \"scattercarpet\": [{\"marker\": {\"colorbar\": {\"outlinewidth\": 0, \"ticks\": \"\"}}, \"type\": \"scattercarpet\"}], \"scattergeo\": [{\"marker\": {\"colorbar\": {\"outlinewidth\": 0, \"ticks\": \"\"}}, \"type\": \"scattergeo\"}], \"scattergl\": [{\"marker\": {\"colorbar\": {\"outlinewidth\": 0, \"ticks\": \"\"}}, \"type\": \"scattergl\"}], \"scattermapbox\": [{\"marker\": {\"colorbar\": {\"outlinewidth\": 0, \"ticks\": \"\"}}, \"type\": \"scattermapbox\"}], \"scatterpolar\": [{\"marker\": {\"colorbar\": {\"outlinewidth\": 0, \"ticks\": \"\"}}, \"type\": \"scatterpolar\"}], \"scatterpolargl\": [{\"marker\": {\"colorbar\": {\"outlinewidth\": 0, \"ticks\": \"\"}}, \"type\": \"scatterpolargl\"}], \"scatterternary\": [{\"marker\": {\"colorbar\": {\"outlinewidth\": 0, \"ticks\": \"\"}}, \"type\": \"scatterternary\"}], \"surface\": [{\"colorbar\": {\"outlinewidth\": 0, \"ticks\": \"\"}, \"colorscale\": [[0.0, \"#0d0887\"], [0.1111111111111111, \"#46039f\"], [0.2222222222222222, \"#7201a8\"], [0.3333333333333333, \"#9c179e\"], [0.4444444444444444, \"#bd3786\"], [0.5555555555555556, \"#d8576b\"], [0.6666666666666666, \"#ed7953\"], [0.7777777777777778, \"#fb9f3a\"], [0.8888888888888888, \"#fdca26\"], [1.0, \"#f0f921\"]], \"type\": \"surface\"}], \"table\": [{\"cells\": {\"fill\": {\"color\": \"#EBF0F8\"}, \"line\": {\"color\": \"white\"}}, \"header\": {\"fill\": {\"color\": \"#C8D4E3\"}, \"line\": {\"color\": \"white\"}}, \"type\": \"table\"}]}, \"layout\": {\"annotationdefaults\": {\"arrowcolor\": \"#2a3f5f\", \"arrowhead\": 0, \"arrowwidth\": 1}, \"coloraxis\": {\"colorbar\": {\"outlinewidth\": 0, \"ticks\": \"\"}}, \"colorscale\": {\"diverging\": [[0, \"#8e0152\"], [0.1, \"#c51b7d\"], [0.2, \"#de77ae\"], [0.3, \"#f1b6da\"], [0.4, \"#fde0ef\"], [0.5, \"#f7f7f7\"], [0.6, \"#e6f5d0\"], [0.7, \"#b8e186\"], [0.8, \"#7fbc41\"], [0.9, \"#4d9221\"], [1, \"#276419\"]], \"sequential\": [[0.0, \"#0d0887\"], [0.1111111111111111, \"#46039f\"], [0.2222222222222222, \"#7201a8\"], [0.3333333333333333, \"#9c179e\"], [0.4444444444444444, \"#bd3786\"], [0.5555555555555556, \"#d8576b\"], [0.6666666666666666, \"#ed7953\"], [0.7777777777777778, \"#fb9f3a\"], [0.8888888888888888, \"#fdca26\"], [1.0, \"#f0f921\"]], \"sequentialminus\": [[0.0, \"#0d0887\"], [0.1111111111111111, \"#46039f\"], [0.2222222222222222, \"#7201a8\"], [0.3333333333333333, \"#9c179e\"], [0.4444444444444444, \"#bd3786\"], [0.5555555555555556, \"#d8576b\"], [0.6666666666666666, \"#ed7953\"], [0.7777777777777778, \"#fb9f3a\"], [0.8888888888888888, \"#fdca26\"], [1.0, \"#f0f921\"]]}, \"colorway\": [\"#636efa\", \"#EF553B\", \"#00cc96\", \"#ab63fa\", \"#FFA15A\", \"#19d3f3\", \"#FF6692\", \"#B6E880\", \"#FF97FF\", \"#FECB52\"], \"font\": {\"color\": \"#2a3f5f\"}, \"geo\": {\"bgcolor\": \"white\", \"lakecolor\": \"white\", \"landcolor\": \"#E5ECF6\", \"showlakes\": true, \"showland\": true, \"subunitcolor\": \"white\"}, \"hoverlabel\": {\"align\": \"left\"}, \"hovermode\": \"closest\", \"mapbox\": {\"style\": \"light\"}, \"paper_bgcolor\": \"white\", \"plot_bgcolor\": \"#E5ECF6\", \"polar\": {\"angularaxis\": {\"gridcolor\": \"white\", \"linecolor\": \"white\", \"ticks\": \"\"}, \"bgcolor\": \"#E5ECF6\", \"radialaxis\": {\"gridcolor\": \"white\", \"linecolor\": \"white\", \"ticks\": \"\"}}, \"scene\": {\"xaxis\": {\"backgroundcolor\": \"#E5ECF6\", \"gridcolor\": \"white\", \"gridwidth\": 2, \"linecolor\": \"white\", \"showbackground\": true, \"ticks\": \"\", \"zerolinecolor\": \"white\"}, \"yaxis\": {\"backgroundcolor\": \"#E5ECF6\", \"gridcolor\": \"white\", \"gridwidth\": 2, \"linecolor\": \"white\", \"showbackground\": true, \"ticks\": \"\", \"zerolinecolor\": \"white\"}, \"zaxis\": {\"backgroundcolor\": \"#E5ECF6\", \"gridcolor\": \"white\", \"gridwidth\": 2, \"linecolor\": \"white\", \"showbackground\": true, \"ticks\": \"\", \"zerolinecolor\": \"white\"}}, \"shapedefaults\": {\"line\": {\"color\": \"#2a3f5f\"}}, \"ternary\": {\"aaxis\": {\"gridcolor\": \"white\", \"linecolor\": \"white\", \"ticks\": \"\"}, \"baxis\": {\"gridcolor\": \"white\", \"linecolor\": \"white\", \"ticks\": \"\"}, \"bgcolor\": \"#E5ECF6\", \"caxis\": {\"gridcolor\": \"white\", \"linecolor\": \"white\", \"ticks\": \"\"}}, \"title\": {\"x\": 0.05}, \"xaxis\": {\"automargin\": true, \"gridcolor\": \"white\", \"linecolor\": \"white\", \"ticks\": \"\", \"title\": {\"standoff\": 15}, \"zerolinecolor\": \"white\", \"zerolinewidth\": 2}, \"yaxis\": {\"automargin\": true, \"gridcolor\": \"white\", \"linecolor\": \"white\", \"ticks\": \"\", \"title\": {\"standoff\": 15}, \"zerolinecolor\": \"white\", \"zerolinewidth\": 2}}}, \"title\": {\"text\": \"Slice Plot\"}, \"width\": 2100, \"xaxis\": {\"anchor\": \"y\", \"domain\": [0.0, 0.1183673469387755], \"title\": {\"text\": \"activation\"}}, \"xaxis2\": {\"anchor\": \"y2\", \"domain\": [0.14693877551020407, 0.26530612244897955], \"title\": {\"text\": \"dropout_rate\"}}, \"xaxis3\": {\"anchor\": \"y3\", \"domain\": [0.29387755102040813, 0.4122448979591836], \"title\": {\"text\": \"filters\"}}, \"xaxis4\": {\"anchor\": \"y4\", \"domain\": [0.4408163265306122, 0.5591836734693877], \"title\": {\"text\": \"lr\"}, \"type\": \"log\"}, \"xaxis5\": {\"anchor\": \"y5\", \"domain\": [0.5877551020408163, 0.7061224489795918], \"title\": {\"text\": \"neurons_dense\"}}, \"xaxis6\": {\"anchor\": \"y6\", \"domain\": [0.7346938775510204, 0.8530612244897959], \"title\": {\"text\": \"optimizer\"}}, \"xaxis7\": {\"anchor\": \"y7\", \"domain\": [0.8816326530612244, 0.9999999999999999], \"title\": {\"text\": \"size_filters\"}}, \"yaxis\": {\"anchor\": \"x\", \"domain\": [0.0, 1.0], \"title\": {\"text\": \"Objective Value\"}}, \"yaxis2\": {\"anchor\": \"x2\", \"domain\": [0.0, 1.0], \"matches\": \"y\", \"showticklabels\": false}, \"yaxis3\": {\"anchor\": \"x3\", \"domain\": [0.0, 1.0], \"matches\": \"y\", \"showticklabels\": false}, \"yaxis4\": {\"anchor\": \"x4\", \"domain\": [0.0, 1.0], \"matches\": \"y\", \"showticklabels\": false}, \"yaxis5\": {\"anchor\": \"x5\", \"domain\": [0.0, 1.0], \"matches\": \"y\", \"showticklabels\": false}, \"yaxis6\": {\"anchor\": \"x6\", \"domain\": [0.0, 1.0], \"matches\": \"y\", \"showticklabels\": false}, \"yaxis7\": {\"anchor\": \"x7\", \"domain\": [0.0, 1.0], \"matches\": \"y\", \"showticklabels\": false}},\n",
              "                        {\"responsive\": true}\n",
              "                    ).then(function(){\n",
              "                            \n",
              "var gd = document.getElementById('15300f7c-21a8-4690-b839-2e495ca7ae72');\n",
              "var x = new MutationObserver(function (mutations, observer) {{\n",
              "        var display = window.getComputedStyle(gd).display;\n",
              "        if (!display || display === 'none') {{\n",
              "            console.log([gd, 'removed!']);\n",
              "            Plotly.purge(gd);\n",
              "            observer.disconnect();\n",
              "        }}\n",
              "}});\n",
              "\n",
              "// Listen for the removal of the full notebook cells\n",
              "var notebookContainer = gd.closest('#notebook-container');\n",
              "if (notebookContainer) {{\n",
              "    x.observe(notebookContainer, {childList: true});\n",
              "}}\n",
              "\n",
              "// Listen for the clearing of the current output cell\n",
              "var outputEl = gd.closest('.output');\n",
              "if (outputEl) {{\n",
              "    x.observe(outputEl, {childList: true});\n",
              "}}\n",
              "\n",
              "                        })\n",
              "                };\n",
              "                \n",
              "            </script>\n",
              "        </div>\n",
              "</body>\n",
              "</html>"
            ]
          },
          "metadata": {
            "tags": []
          }
        }
      ]
    }
  ]
}