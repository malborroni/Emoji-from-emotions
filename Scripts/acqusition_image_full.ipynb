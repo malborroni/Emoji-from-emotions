{
 "cells": [
  {
   "cell_type": "markdown",
   "metadata": {},
   "source": [
    "# Script for **Image Acquisition**  (*raw* and *cropped*)"
   ]
  },
  {
   "cell_type": "markdown",
   "metadata": {},
   "source": [
    "### i) Packages"
   ]
  },
  {
   "cell_type": "code",
   "execution_count": 1,
   "metadata": {
    "ExecuteTime": {
     "end_time": "2019-12-10T22:00:46.253809Z",
     "start_time": "2019-12-10T22:00:45.280415Z"
    }
   },
   "outputs": [],
   "source": [
    "import numpy as np\n",
    "import cv2 as cv\n",
    "from cv2 import VideoCapture as cap\n",
    "import matplotlib.pyplot as plt\n",
    "from skimage import io\n",
    "import os\n",
    "import math\n",
    "import time"
   ]
  },
  {
   "cell_type": "markdown",
   "metadata": {},
   "source": [
    "### ii) Define functions"
   ]
  },
  {
   "cell_type": "code",
   "execution_count": 21,
   "metadata": {
    "ExecuteTime": {
     "end_time": "2019-12-10T22:23:01.299059Z",
     "start_time": "2019-12-10T22:23:01.289075Z"
    }
   },
   "outputs": [],
   "source": [
    "def write_imgs(from_directory, to_directory, init_number = 1,\n",
    "              classifier = 'haarcascade_frontalface_default.xml', scale_factor = 1.1, minNeighbors = 5,\n",
    "              size = (48, 48), color = \"RGB\"):\n",
    "    '''\n",
    "    This function takes in input images and after face detection apply a crop and a resize to that images.\n",
    "    \n",
    "    @params:\n",
    "    from_directory = where to find the photos\n",
    "    to_directory = where to save the photos\n",
    "    init_number = first number to start naming photos\n",
    "    classifier = face detector pre-trained (XML file)\n",
    "    scale_factor = value for classifier (from (1,inf), low values increase false positives)\n",
    "    minNeighbors = value for classifier (high values decrease false positives)\n",
    "    size = tuple, format of the saved image\n",
    "    color = RGB or BW (to save)\n",
    "    \n",
    "    '''\n",
    "    # viene assegnato il classificatore\n",
    "    face_cascade = cv.CascadeClassifier(classifier)\n",
    "    \n",
    "    # variabili per conteggio ed errori\n",
    "    flag = init_number\n",
    "    error = 0\n",
    "    \n",
    "    for filename in os.listdir(from_directory):\n",
    "        # check per leggere solamente file jpg o jpeg\n",
    "        if filename.endswith(\".jpg\") or filename.endswith(\".jpeg\"):\n",
    "            # lettura dell'immagine            \n",
    "            img = cv.imread(os.path.join(from_directory, filename))\n",
    "            # conversione immagine necessaria per il face detector\n",
    "            gray = cv.cvtColor(img, cv.COLOR_RGB2GRAY)\n",
    "            # esecuzione face detector\n",
    "            faces = face_cascade.detectMultiScale(gray, scale_factor, minNeighbors)\n",
    "            # check necessario per assegnare solo immagini in cui vengono trovati volti (altrimenti doppioni a catena!)\n",
    "            if len(faces) == 1:\n",
    "                for (x, y, w, h) in faces:\n",
    "                    # ritaglio dell'immagine rispetto al \"quadrato\" trovato\n",
    "                    roi_color = img[y:y+h, x:x+w]\n",
    "                    # resize dell'immagine\n",
    "                    n_img = cv.resize(roi_color, size)\n",
    "                    \n",
    "                    # salvataggio immagine\n",
    "                    if color == \"RGB\":\n",
    "                        cv.imwrite(os.path.join(to_directory, str(flag))+\"_rgb.jpg\", n_img)\n",
    "                        flag += 1\n",
    "                    elif color == \"BW\":\n",
    "                        cv.imwrite(os.path.join(to_directory, str(flag))+\"_bw.jpg\", cv.cvtColor(n_img, cv.COLOR_RGB2GRAY))\n",
    "                        flag += 1\n",
    "                        \n",
    "            # se non trova volti, prosegue qui            \n",
    "            else:\n",
    "                error += 1\n",
    "                try:\n",
    "                    # delete immagine per non creare doppioni (more safe!)\n",
    "                    del faces, n_img\n",
    "                # necessaria se non ha trovato volti (evitare crash code)\n",
    "                except:\n",
    "                    pass\n",
    "                \n",
    "    # output finale           \n",
    "    print('Created {}/{} images cropped'.format(flag-1, flag+error-1))\n",
    "                    \n",
    "    "
   ]
  },
  {
   "cell_type": "code",
   "execution_count": 3,
   "metadata": {},
   "outputs": [],
   "source": [
    "def acquisition_cam(directory, subject, init_number, counter_limit,\n",
    "                    resolution = (1280, 720), fps = 30, time_sleep = 2, numbered = False):\n",
    "    '''\n",
    "    This function allow to access to pc webcam in order to acquire images of the subject.\n",
    "    \n",
    "    @params:\n",
    "    directory = where to save the captured images\n",
    "    subject = name of the person who is in photo\n",
    "    init_number = first number to start naming photos\n",
    "    counter_limit = if desired, limit the number of photos captured\n",
    "    resolution = (width, height)\n",
    "    fps = Frame Per Second\n",
    "    time_sleep = sleep between two photos (second)\n",
    "    numbered = Bool, necessary in order to apply counter_limit\n",
    "    '''\n",
    "    # assegnazione cam (0, prima della lista)\n",
    "    cam = cv.VideoCapture(0)\n",
    "    \n",
    "    # setup configuration cam (resolution, fps)\n",
    "    cam.set(cv.CAP_PROP_FRAME_WIDTH, resolution[0])\n",
    "    cam.set(cv.CAP_PROP_FRAME_HEIGHT, resolution[1])\n",
    "    cam.set(cv.CAP_PROP_FPS, fps)\n",
    "    # rename windows\n",
    "    cv.namedWindow(\"acquisition window\")\n",
    "    \n",
    "    # variabili per conteggi\n",
    "    img_counter = init_number\n",
    "    counter = 1\n",
    "    \n",
    "    # ciclo acquisizione frameByframe\n",
    "    while True:\n",
    "        # lettura frame e assegnazione alla variabile\n",
    "        ret, frame = cam.read()\n",
    "        # riproduco frame per averlo in live (sulla finestra aperta)\n",
    "        cv.imshow(\"acquisition window\", frame)\n",
    "        \n",
    "        # se non va, esco dal ciclo senza rompere code\n",
    "        if not ret:\n",
    "            break\n",
    "        k = cv.waitKey(1)\n",
    "        \n",
    "        # utile per impostare un frame rate di acquisizione manuale in secondi (to improve)\n",
    "        time.sleep(time_sleep)\n",
    "\n",
    "        # ESC to exit from webcam\n",
    "        if k%256 == 27:\n",
    "            print(\"Escape hit, closing...\")\n",
    "            break\n",
    "\n",
    "        # fase di salvataggio frame\n",
    "        else:\n",
    "            # assegnazione del nome\n",
    "            img_name = \"{}{} ({}).jpg\".format(directory, subject, img_counter)\n",
    "            # salvataggio file\n",
    "            cv.imwrite(img_name, frame)\n",
    "            print(\"{} written!\".format(img_name))\n",
    "            # conteggio per numerazione file\n",
    "            img_counter += 1\n",
    "            \n",
    "            # check per limitare acquisizione\n",
    "            if numbered:\n",
    "                if counter == counter_limit:\n",
    "                    print(\"Counter limit reached:{}\".format(counter_limit))\n",
    "                    break\n",
    "                counter+=1\n",
    "\n",
    "    # chiusura cam e windows cam\n",
    "    cam.release()\n",
    "    cv.destroyAllWindows()"
   ]
  },
  {
   "cell_type": "markdown",
   "metadata": {},
   "source": [
    "- ### Immagini Ale felice :) "
   ]
  },
  {
   "cell_type": "code",
   "execution_count": 22,
   "metadata": {
    "ExecuteTime": {
     "end_time": "2019-12-10T22:28:49.663211Z",
     "start_time": "2019-12-10T22:28:49.658256Z"
    }
   },
   "outputs": [],
   "source": [
    "from_directory = \"images/ale/raw_images/happy/\"\n",
    "to_directory = \"images/ale/happy/\""
   ]
  },
  {
   "cell_type": "code",
   "execution_count": 9,
   "metadata": {},
   "outputs": [
    {
     "name": "stdout",
     "output_type": "stream",
     "text": [
      "images/raw_images/happy/happy (0).jpg written!\n",
      "images/raw_images/happy/happy (1).jpg written!\n",
      "images/raw_images/happy/happy (2).jpg written!\n",
      "images/raw_images/happy/happy (3).jpg written!\n",
      "images/raw_images/happy/happy (4).jpg written!\n",
      "images/raw_images/happy/happy (5).jpg written!\n",
      "images/raw_images/happy/happy (6).jpg written!\n",
      "images/raw_images/happy/happy (7).jpg written!\n",
      "images/raw_images/happy/happy (8).jpg written!\n",
      "images/raw_images/happy/happy (9).jpg written!\n",
      "images/raw_images/happy/happy (10).jpg written!\n",
      "images/raw_images/happy/happy (11).jpg written!\n",
      "images/raw_images/happy/happy (12).jpg written!\n",
      "images/raw_images/happy/happy (13).jpg written!\n",
      "images/raw_images/happy/happy (14).jpg written!\n",
      "images/raw_images/happy/happy (15).jpg written!\n",
      "images/raw_images/happy/happy (16).jpg written!\n",
      "images/raw_images/happy/happy (17).jpg written!\n",
      "images/raw_images/happy/happy (18).jpg written!\n",
      "images/raw_images/happy/happy (19).jpg written!\n",
      "Counter limit reached:20\n"
     ]
    }
   ],
   "source": [
    "# Image acquisition\n",
    "\n",
    "acquisition_cam(directory = from_directory, subject = \"happy\", init_number = 0,\n",
    "                counter_limit = 110, time_sleep = 0.5, numbered = True)"
   ]
  },
  {
   "cell_type": "code",
   "execution_count": 23,
   "metadata": {
    "ExecuteTime": {
     "end_time": "2019-12-10T22:30:21.857673Z",
     "start_time": "2019-12-10T22:28:51.219906Z"
    }
   },
   "outputs": [
    {
     "name": "stdout",
     "output_type": "stream",
     "text": [
      "Created 110/129 images cropped\n"
     ]
    }
   ],
   "source": [
    "# Image cropping\n",
    "\n",
    "write_imgs(from_directory = from_directory, to_directory = to_directory, color = \"RGB\",\n",
    "           scale_factor = 1.2, classifier = 'haarCascade/haarcascade_frontalface_alt2.xml', minNeighbors = 8)"
   ]
  },
  {
   "cell_type": "markdown",
   "metadata": {},
   "source": [
    "- ### Immagini Ale neutrale :|"
   ]
  },
  {
   "cell_type": "code",
   "execution_count": 26,
   "metadata": {},
   "outputs": [],
   "source": [
    "from_directory = \"images/ale/raw_images/neutral/\"\n",
    "to_directory = \"images/ale/neutral/\""
   ]
  },
  {
   "cell_type": "code",
   "execution_count": 30,
   "metadata": {},
   "outputs": [
    {
     "name": "stdout",
     "output_type": "stream",
     "text": [
      "images/raw_images/neutral/neutral (0).jpg written!\n",
      "images/raw_images/neutral/neutral (1).jpg written!\n",
      "images/raw_images/neutral/neutral (2).jpg written!\n",
      "Counter limit reached:3\n"
     ]
    }
   ],
   "source": [
    "acquisition_cam(directory = from_directory, subject = \"neutral\", init_number = 0,\n",
    "                counter_limit = 110, time_sleep = 0.5, numbered = True)"
   ]
  },
  {
   "cell_type": "code",
   "execution_count": 32,
   "metadata": {},
   "outputs": [
    {
     "name": "stdout",
     "output_type": "stream",
     "text": [
      "Created 3/3 images cropped\n"
     ]
    }
   ],
   "source": [
    "write_imgs(from_directory = from_directory, to_directory = to_directory, color = \"RGB\",\n",
    "           scale_factor = 1.2, classifier = 'haarCascade/haarcascade_frontalface_alt2.xml', minNeighbors = 8)"
   ]
  },
  {
   "cell_type": "markdown",
   "metadata": {},
   "source": [
    "- ### Immagini Ale triste :("
   ]
  },
  {
   "cell_type": "code",
   "execution_count": 33,
   "metadata": {},
   "outputs": [],
   "source": [
    "from_directory = \"images/ale/raw_images/sad/\"\n",
    "to_directory = \"images/ale/sad/\""
   ]
  },
  {
   "cell_type": "code",
   "execution_count": 36,
   "metadata": {},
   "outputs": [
    {
     "name": "stdout",
     "output_type": "stream",
     "text": [
      "images/raw_images/sad/sad (0).jpg written!\n",
      "images/raw_images/sad/sad (1).jpg written!\n",
      "images/raw_images/sad/sad (2).jpg written!\n",
      "images/raw_images/sad/sad (3).jpg written!\n",
      "images/raw_images/sad/sad (4).jpg written!\n",
      "images/raw_images/sad/sad (5).jpg written!\n",
      "images/raw_images/sad/sad (6).jpg written!\n",
      "images/raw_images/sad/sad (7).jpg written!\n",
      "images/raw_images/sad/sad (8).jpg written!\n",
      "images/raw_images/sad/sad (9).jpg written!\n",
      "images/raw_images/sad/sad (10).jpg written!\n",
      "images/raw_images/sad/sad (11).jpg written!\n",
      "images/raw_images/sad/sad (12).jpg written!\n",
      "images/raw_images/sad/sad (13).jpg written!\n",
      "images/raw_images/sad/sad (14).jpg written!\n",
      "images/raw_images/sad/sad (15).jpg written!\n",
      "images/raw_images/sad/sad (16).jpg written!\n",
      "images/raw_images/sad/sad (17).jpg written!\n",
      "images/raw_images/sad/sad (18).jpg written!\n",
      "images/raw_images/sad/sad (19).jpg written!\n",
      "images/raw_images/sad/sad (20).jpg written!\n",
      "images/raw_images/sad/sad (21).jpg written!\n",
      "images/raw_images/sad/sad (22).jpg written!\n",
      "images/raw_images/sad/sad (23).jpg written!\n",
      "images/raw_images/sad/sad (24).jpg written!\n",
      "images/raw_images/sad/sad (25).jpg written!\n",
      "images/raw_images/sad/sad (26).jpg written!\n",
      "images/raw_images/sad/sad (27).jpg written!\n",
      "images/raw_images/sad/sad (28).jpg written!\n",
      "images/raw_images/sad/sad (29).jpg written!\n",
      "images/raw_images/sad/sad (30).jpg written!\n",
      "images/raw_images/sad/sad (31).jpg written!\n",
      "images/raw_images/sad/sad (32).jpg written!\n",
      "images/raw_images/sad/sad (33).jpg written!\n",
      "images/raw_images/sad/sad (34).jpg written!\n",
      "images/raw_images/sad/sad (35).jpg written!\n",
      "images/raw_images/sad/sad (36).jpg written!\n",
      "images/raw_images/sad/sad (37).jpg written!\n",
      "images/raw_images/sad/sad (38).jpg written!\n",
      "images/raw_images/sad/sad (39).jpg written!\n",
      "images/raw_images/sad/sad (40).jpg written!\n",
      "Counter limit reached:41\n"
     ]
    }
   ],
   "source": [
    "acquisition_cam(directory = from_directory, subject = \"sad\", init_number = 0,\n",
    "                counter_limit = 110, time_sleep = 0.5, numbered = True)"
   ]
  },
  {
   "cell_type": "code",
   "execution_count": 37,
   "metadata": {},
   "outputs": [
    {
     "name": "stdout",
     "output_type": "stream",
     "text": [
      "Created 41/41 images cropped\n"
     ]
    }
   ],
   "source": [
    "write_imgs(from_directory = from_directory, to_directory = to_directory, color = \"RGB\",\n",
    "           scale_factor = 1.2, classifier = 'haarCascade/haarcascade_frontalface_alt2.xml', minNeighbors = 8)"
   ]
  },
  {
   "cell_type": "markdown",
   "metadata": {},
   "source": [
    "- ### Immagini Ale arrabbiato è.é"
   ]
  },
  {
   "cell_type": "code",
   "execution_count": 38,
   "metadata": {},
   "outputs": [],
   "source": [
    "from_directory = \"images/ale/raw_images/angry/\"\n",
    "to_directory = \"images/ale/angry/\""
   ]
  },
  {
   "cell_type": "code",
   "execution_count": 47,
   "metadata": {},
   "outputs": [
    {
     "name": "stdout",
     "output_type": "stream",
     "text": [
      "images/raw_images/angry/angry (0).jpg written!\n",
      "images/raw_images/angry/angry (1).jpg written!\n",
      "images/raw_images/angry/angry (2).jpg written!\n",
      "images/raw_images/angry/angry (3).jpg written!\n",
      "images/raw_images/angry/angry (4).jpg written!\n",
      "images/raw_images/angry/angry (5).jpg written!\n",
      "images/raw_images/angry/angry (6).jpg written!\n",
      "images/raw_images/angry/angry (7).jpg written!\n",
      "images/raw_images/angry/angry (8).jpg written!\n",
      "images/raw_images/angry/angry (9).jpg written!\n",
      "Counter limit reached:10\n"
     ]
    }
   ],
   "source": [
    "acquisition_cam(directory = from_directory, subject = \"angry\", init_number = 0,\n",
    "                counter_limit = 110, time_sleep = 0.5, numbered = True)"
   ]
  },
  {
   "cell_type": "code",
   "execution_count": 48,
   "metadata": {},
   "outputs": [
    {
     "name": "stdout",
     "output_type": "stream",
     "text": [
      "Created 10/10 images cropped\n"
     ]
    }
   ],
   "source": [
    "write_imgs(from_directory = from_directory, to_directory = to_directory, color = \"RGB\",\n",
    "           scale_factor = 1.2, classifier = 'haarCascade/haarcascade_frontalface_alt2.xml', minNeighbors = 8)"
   ]
  },
  {
   "cell_type": "markdown",
   "metadata": {},
   "source": [
    "- ### Immagini Ale sorpreso :O"
   ]
  },
  {
   "cell_type": "code",
   "execution_count": 49,
   "metadata": {},
   "outputs": [],
   "source": [
    "from_directory = \"images/ale/raw_images/surprise/\"\n",
    "to_directory = \"images/ale/surprise/\""
   ]
  },
  {
   "cell_type": "code",
   "execution_count": 60,
   "metadata": {},
   "outputs": [
    {
     "name": "stdout",
     "output_type": "stream",
     "text": [
      "images/raw_images/surprise/surprise (0).jpg written!\n",
      "images/raw_images/surprise/surprise (1).jpg written!\n",
      "Counter limit reached:2\n"
     ]
    }
   ],
   "source": [
    "acquisition_cam(directory = from_directory, subject = \"surprise\", init_number = 0,\n",
    "                counter_limit = 110, time_sleep = 0.5, numbered = True)"
   ]
  },
  {
   "cell_type": "code",
   "execution_count": 61,
   "metadata": {},
   "outputs": [
    {
     "name": "stdout",
     "output_type": "stream",
     "text": [
      "Created 2/2 images cropped\n"
     ]
    }
   ],
   "source": [
    "write_imgs(from_directory = from_directory, to_directory = to_directory, color = \"RGB\",\n",
    "           scale_factor = 1.2, classifier = 'haarCascade/haarcascade_frontalface_alt2.xml', minNeighbors = 8)"
   ]
  },
  {
   "cell_type": "markdown",
   "metadata": {},
   "source": [
    "- ### Immagini Ale disgustato Dx"
   ]
  },
  {
   "cell_type": "code",
   "execution_count": 62,
   "metadata": {},
   "outputs": [],
   "source": [
    "from_directory = \"images/ale/raw_images/disgust/\"\n",
    "to_directory = \"images/ale/disgust/\""
   ]
  },
  {
   "cell_type": "code",
   "execution_count": 67,
   "metadata": {},
   "outputs": [
    {
     "name": "stdout",
     "output_type": "stream",
     "text": [
      "images/raw_images/disgust/disgust (0).jpg written!\n",
      "Counter limit reached:1\n"
     ]
    }
   ],
   "source": [
    "acquisition_cam(directory = from_directory, subject = \"disgust\", init_number = 0,\n",
    "                counter_limit = 110, time_sleep = 0.5, numbered = True)"
   ]
  },
  {
   "cell_type": "code",
   "execution_count": 68,
   "metadata": {},
   "outputs": [
    {
     "name": "stdout",
     "output_type": "stream",
     "text": [
      "Created 1/1 images cropped\n"
     ]
    }
   ],
   "source": [
    "write_imgs(from_directory = from_directory, to_directory = to_directory, color = \"RGB\",\n",
    "           scale_factor = 1.2, classifier = 'haarCascade/haarcascade_frontalface_alt2.xml', minNeighbors = 8)"
   ]
  },
  {
   "cell_type": "markdown",
   "metadata": {},
   "source": [
    "- ### Immagini Ale impaurito :S"
   ]
  },
  {
   "cell_type": "code",
   "execution_count": 69,
   "metadata": {},
   "outputs": [],
   "source": [
    "from_directory = \"images/ale/raw_images/fear/\"\n",
    "to_directory = \"images/ale/fear/\""
   ]
  },
  {
   "cell_type": "code",
   "execution_count": 72,
   "metadata": {},
   "outputs": [
    {
     "name": "stdout",
     "output_type": "stream",
     "text": [
      "images/raw_images/fear/fear (0).jpg written!\n",
      "images/raw_images/fear/fear (1).jpg written!\n",
      "images/raw_images/fear/fear (2).jpg written!\n",
      "images/raw_images/fear/fear (3).jpg written!\n",
      "images/raw_images/fear/fear (4).jpg written!\n",
      "images/raw_images/fear/fear (5).jpg written!\n",
      "images/raw_images/fear/fear (6).jpg written!\n",
      "images/raw_images/fear/fear (7).jpg written!\n",
      "images/raw_images/fear/fear (8).jpg written!\n",
      "images/raw_images/fear/fear (9).jpg written!\n",
      "images/raw_images/fear/fear (10).jpg written!\n",
      "images/raw_images/fear/fear (11).jpg written!\n",
      "images/raw_images/fear/fear (12).jpg written!\n",
      "images/raw_images/fear/fear (13).jpg written!\n",
      "Counter limit reached:14\n"
     ]
    }
   ],
   "source": [
    "acquisition_cam(directory = from_directory, subject = \"fear\", init_number = 0,\n",
    "                counter_limit = 110, time_sleep = 0.5, numbered = True)"
   ]
  },
  {
   "cell_type": "code",
   "execution_count": 73,
   "metadata": {},
   "outputs": [
    {
     "name": "stdout",
     "output_type": "stream",
     "text": [
      "Created 14/14 images cropped\n"
     ]
    }
   ],
   "source": [
    "write_imgs(from_directory = from_directory, to_directory = to_directory, color = \"RGB\",\n",
    "           scale_factor = 1.2, classifier = 'haarCascade/haarcascade_frontalface_alt2.xml', minNeighbors = 8)"
   ]
  }
 ],
 "metadata": {
  "kernelspec": {
   "display_name": "Python 3",
   "language": "python",
   "name": "python3"
  },
  "language_info": {
   "codemirror_mode": {
    "name": "ipython",
    "version": 3
   },
   "file_extension": ".py",
   "mimetype": "text/x-python",
   "name": "python",
   "nbconvert_exporter": "python",
   "pygments_lexer": "ipython3",
   "version": "3.6.9"
  }
 },
 "nbformat": 4,
 "nbformat_minor": 2
}
