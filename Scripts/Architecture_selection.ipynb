{
  "nbformat": 4,
  "nbformat_minor": 0,
  "metadata": {
    "colab": {
      "name": "Architecture_selection.ipynb",
      "provenance": [],
      "collapsed_sections": [],
      "toc_visible": true,
      "include_colab_link": true
    },
    "kernelspec": {
      "name": "python3",
      "display_name": "Python 3"
    }
  },
  "cells": [
    {
      "cell_type": "markdown",
      "metadata": {
        "id": "view-in-github",
        "colab_type": "text"
      },
      "source": [
        "<a href=\"https://colab.research.google.com/github/malborroni/RECMojion/blob/master/Architecture_selection.ipynb\" target=\"_parent\"><img src=\"https://colab.research.google.com/assets/colab-badge.svg\" alt=\"Open In Colab\"/></a>"
      ]
    },
    {
      "cell_type": "markdown",
      "metadata": {
        "id": "RLDHG0X9zF1_",
        "colab_type": "text"
      },
      "source": [
        "# Librerie"
      ]
    },
    {
      "cell_type": "code",
      "metadata": {
        "id": "70BdwpFflJUu",
        "colab_type": "code",
        "outputId": "b38426a6-95f3-4f63-8e95-5f94bd67555a",
        "colab": {
          "base_uri": "https://localhost:8080/",
          "height": 353
        }
      },
      "source": [
        "! sudo pip install git+https://github.com/rcmalli/keras-vggface.git"
      ],
      "execution_count": 1,
      "outputs": [
        {
          "output_type": "stream",
          "text": [
            "Collecting git+https://github.com/rcmalli/keras-vggface.git\n",
            "  Cloning https://github.com/rcmalli/keras-vggface.git to /tmp/pip-req-build-oehw2rqx\n",
            "  Running command git clone -q https://github.com/rcmalli/keras-vggface.git /tmp/pip-req-build-oehw2rqx\n",
            "Requirement already satisfied: numpy>=1.9.1 in /usr/local/lib/python3.6/dist-packages (from keras-vggface==0.6) (1.17.5)\n",
            "Requirement already satisfied: scipy>=0.14 in /usr/local/lib/python3.6/dist-packages (from keras-vggface==0.6) (1.4.1)\n",
            "Requirement already satisfied: h5py in /usr/local/lib/python3.6/dist-packages (from keras-vggface==0.6) (2.8.0)\n",
            "Requirement already satisfied: pillow in /usr/local/lib/python3.6/dist-packages (from keras-vggface==0.6) (6.2.2)\n",
            "Requirement already satisfied: keras in /usr/local/lib/python3.6/dist-packages (from keras-vggface==0.6) (2.2.5)\n",
            "Requirement already satisfied: six>=1.9.0 in /usr/local/lib/python3.6/dist-packages (from keras-vggface==0.6) (1.12.0)\n",
            "Requirement already satisfied: pyyaml in /usr/local/lib/python3.6/dist-packages (from keras-vggface==0.6) (3.13)\n",
            "Requirement already satisfied: keras-preprocessing>=1.1.0 in /usr/local/lib/python3.6/dist-packages (from keras->keras-vggface==0.6) (1.1.0)\n",
            "Requirement already satisfied: keras-applications>=1.0.8 in /usr/local/lib/python3.6/dist-packages (from keras->keras-vggface==0.6) (1.0.8)\n",
            "Building wheels for collected packages: keras-vggface\n",
            "  Building wheel for keras-vggface (setup.py) ... \u001b[?25l\u001b[?25hdone\n",
            "  Created wheel for keras-vggface: filename=keras_vggface-0.6-cp36-none-any.whl size=8311 sha256=fc91d9ad64d0316ea5595560b1db0faa437fb34f1500fbd15113ca5ef68463cd\n",
            "  Stored in directory: /tmp/pip-ephem-wheel-cache-yb1xxe87/wheels/36/07/46/06c25ce8e9cd396dabe151ea1d8a2bc28dafcb11321c1f3a6d\n",
            "Successfully built keras-vggface\n",
            "Installing collected packages: keras-vggface\n",
            "Successfully installed keras-vggface-0.6\n"
          ],
          "name": "stdout"
        }
      ]
    },
    {
      "cell_type": "code",
      "metadata": {
        "id": "8qN64RcDITqM",
        "colab_type": "code",
        "outputId": "b624ce42-64e9-42c3-948c-5eae2a8908f7",
        "colab": {
          "base_uri": "https://localhost:8080/",
          "height": 79
        }
      },
      "source": [
        "# Example of face detection with a vggface2 model\n",
        "import numpy as np\n",
        "import cv2 as cv\n",
        "import matplotlib.pyplot as plt\n",
        "import pandas as pd\n",
        "import random as rnd\n",
        "\n",
        "import seaborn as sns\n",
        "from matplotlib import style\n",
        "style.use('seaborn-pastel')\n",
        "\n",
        "import keras\n",
        "from keras.layers import Dense, Dropout, Flatten, Activation, Conv2D, MaxPooling2D\n",
        "from keras.models import Model, Sequential, load_model\n",
        "from keras.utils import to_categorical\n",
        "from keras.applications.mobilenet_v2 import MobileNetV2, preprocess_input\n",
        "import keras_vggface\n",
        "from keras_vggface.vggface import VGGFace\n",
        "from keras_vggface.utils import preprocess_input, decode_predictions\n",
        "from keras import regularizers\n",
        "from keras.callbacks import EarlyStopping, ModelCheckpoint \n",
        "from sklearn.metrics import accuracy_score, classification_report, confusion_matrix\n",
        "\n",
        "import os\n",
        "from sklearn.preprocessing import LabelEncoder\n",
        "from sklearn.model_selection import train_test_split,StratifiedKFold\n",
        "\n",
        "import random\n",
        "import pickle"
      ],
      "execution_count": 2,
      "outputs": [
        {
          "output_type": "stream",
          "text": [
            "Using TensorFlow backend.\n"
          ],
          "name": "stderr"
        },
        {
          "output_type": "display_data",
          "data": {
            "text/html": [
              "<p style=\"color: red;\">\n",
              "The default version of TensorFlow in Colab will soon switch to TensorFlow 2.x.<br>\n",
              "We recommend you <a href=\"https://www.tensorflow.org/guide/migrate\" target=\"_blank\">upgrade</a> now \n",
              "or ensure your notebook will continue to use TensorFlow 1.x via the <code>%tensorflow_version 1.x</code> magic:\n",
              "<a href=\"https://colab.research.google.com/notebooks/tensorflow_version.ipynb\" target=\"_blank\">more info</a>.</p>\n"
            ],
            "text/plain": [
              "<IPython.core.display.HTML object>"
            ]
          },
          "metadata": {
            "tags": []
          }
        }
      ]
    },
    {
      "cell_type": "code",
      "metadata": {
        "id": "C__a-Uam2wZ4",
        "colab_type": "code",
        "colab": {}
      },
      "source": [
        "# fix random seed for reproducibility\n",
        "seed = 42\n",
        "np.random.seed(seed)"
      ],
      "execution_count": 0,
      "outputs": []
    },
    {
      "cell_type": "markdown",
      "metadata": {
        "id": "wImN4Bm8FyeX",
        "colab_type": "text"
      },
      "source": [
        "# Funzioni"
      ]
    },
    {
      "cell_type": "code",
      "metadata": {
        "id": "wZnf56LVu-Tn",
        "colab_type": "code",
        "colab": {}
      },
      "source": [
        "def graph(history):\n",
        "  # funzione che prende in input il modello fittato e fa un plot della loss in validation e train\n",
        "  epochs=len(history.history['loss'])\n",
        "  x_plot = list(range(1,epochs+1))\n",
        "  plt.figure()\n",
        "  \n",
        "  plt.subplot(1, 2, 1)\n",
        "  plt.xlabel('Epochs')\n",
        "  plt.ylabel('Loss')\n",
        "  plt.plot(x_plot, history.history['loss'])\n",
        "  plt.plot(x_plot, history.history['val_loss'])\n",
        "  plt.legend(['Training', 'Validation'])\n",
        "\n",
        "  \n",
        "  plt.subplot(1, 2, 2)\n",
        "  plt.xlabel('Epochs')\n",
        "  plt.ylabel('Acc')\n",
        "  plt.plot(x_plot, history.history['acc'])\n",
        "  plt.plot(x_plot, history.history['val_acc'])\n",
        "  plt.legend(['Training', 'Validation'])\n",
        "  \n",
        "  plt.tight_layout()\n",
        "  plt.show()\n"
      ],
      "execution_count": 0,
      "outputs": []
    },
    {
      "cell_type": "markdown",
      "metadata": {
        "id": "HBb8ltGpzJZ4",
        "colab_type": "text"
      },
      "source": [
        "#Dataset"
      ]
    },
    {
      "cell_type": "markdown",
      "metadata": {
        "id": "QSU2PFz-HMpI",
        "colab_type": "text"
      },
      "source": [
        "Il dataset si trova in un file chiamato data_prep.npz nel drive \n",
        "\n",
        "\n"
      ]
    },
    {
      "cell_type": "code",
      "metadata": {
        "id": "_cxeiY2HG5BH",
        "colab_type": "code",
        "outputId": "34a5ba76-06b0-4704-ee34-218c2bf93089",
        "colab": {
          "base_uri": "https://localhost:8080/",
          "height": 33
        }
      },
      "source": [
        "from google.colab import drive\n",
        "drive.mount('/content/drive')"
      ],
      "execution_count": 15,
      "outputs": [
        {
          "output_type": "stream",
          "text": [
            "Drive already mounted at /content/drive; to attempt to forcibly remount, call drive.mount(\"/content/drive\", force_remount=True).\n"
          ],
          "name": "stdout"
        }
      ]
    },
    {
      "cell_type": "code",
      "metadata": {
        "id": "s0kfrJmepX3V",
        "colab_type": "code",
        "colab": {}
      },
      "source": [
        "data = np.load('/content/drive/My Drive/AML/data_prep.npz')\n",
        "\n",
        "\n",
        "# training set\n",
        "x_train = data['x_train_fe']\n",
        "y_train = data['y_train']\n",
        "\n",
        "# validation set\n",
        "x_val = data['x_val_fe']\n",
        "y_val = data['y_val']\n",
        "\n",
        "# test set\n",
        "x_test = data['x_test_fe']\n",
        "y_test = data['y_test']"
      ],
      "execution_count": 0,
      "outputs": []
    },
    {
      "cell_type": "code",
      "metadata": {
        "id": "rjCAYz44hIHT",
        "colab_type": "code",
        "colab": {}
      },
      "source": [
        "le = LabelEncoder()\n",
        "y_train = le.fit_transform(y_train)\n",
        "y_train = to_categorical(y_train, num_classes = 7)\n",
        "y_test = le.fit_transform(y_test)\n",
        "y_test = to_categorical(y_test, num_classes = 7)\n",
        "y_val = le.fit_transform(y_val)\n",
        "y_val = to_categorical(y_val, num_classes = 7)"
      ],
      "execution_count": 0,
      "outputs": []
    },
    {
      "cell_type": "code",
      "metadata": {
        "id": "8i08A-MY0mNK",
        "colab_type": "code",
        "colab": {
          "base_uri": "https://localhost:8080/",
          "height": 33
        },
        "outputId": "29337535-d3ca-4f1d-ac89-a00cf8524498"
      },
      "source": [
        "x_train.shape[1:]"
      ],
      "execution_count": 33,
      "outputs": [
        {
          "output_type": "execute_result",
          "data": {
            "text/plain": [
              "(14, 14, 1024)"
            ]
          },
          "metadata": {
            "tags": []
          },
          "execution_count": 33
        }
      ]
    },
    {
      "cell_type": "markdown",
      "metadata": {
        "id": "2yCVF8gvzYuU",
        "colab_type": "text"
      },
      "source": [
        "# Modello"
      ]
    },
    {
      "cell_type": "code",
      "metadata": {
        "id": "mcfQTvdFjDQW",
        "colab_type": "code",
        "colab": {}
      },
      "source": [
        "from keras import regularizers\n",
        "def create_model(C=1,D=1):\n",
        "  # Create model\n",
        "  model = Sequential()\n",
        "  # C1\n",
        "  model.add(Conv2D(32, kernel_size=1, activation='relu', input_shape=(14, 14, 1024)))\n",
        "  model.add(Conv2D(128, kernel_size=3, activation='relu'))\n",
        "  model.add(Conv2D(32, kernel_size=1, activation='relu'))\n",
        "  \n",
        "  if(C>1):\n",
        "    model.add(MaxPooling2D(pool_size=(2, 2)))\n",
        "    model.add(Conv2D(32, kernel_size=1, activation='relu'))\n",
        "  if(C>2):\n",
        "    model.add(Conv2D(32, kernel_size=3, activation='relu'))\n",
        "    model.add(Conv2D(32, kernel_size=1, activation='relu'))\n",
        "    #model.add(MaxPooling2D(pool_size=(2, 2)))\n",
        "  model.add(Flatten())\n",
        "  # D\n",
        "  model.add(Dense(112, activation='relu',kernel_regularizer=regularizers.l2(0.01))) #210\n",
        "  model.add(Dropout(0.5))\n",
        "  if(D>1):\n",
        "    model.add(Dense(56, activation='relu',kernel_regularizer=regularizers.l2(0.01)))\n",
        "    model.add(Dropout(0.3))\n",
        "  if(D>2):\n",
        "    model.add(Dense(21, activation='relu',kernel_regularizer=regularizers.l2(0.01)))\n",
        "    model.add(Dropout(0.3))\n",
        "  \n",
        "  model.add(Dense(7, activation='softmax'))\n",
        "\n",
        "  # Compile model\n",
        "  model.compile(loss=keras.losses.categorical_crossentropy,\n",
        "              optimizer=keras.optimizers.Adam(),\n",
        "              metrics=['acc'])\n",
        "  return model"
      ],
      "execution_count": 0,
      "outputs": []
    },
    {
      "cell_type": "code",
      "metadata": {
        "id": "wl-pHkoez1fd",
        "colab_type": "code",
        "colab": {
          "base_uri": "https://localhost:8080/",
          "height": 650
        },
        "outputId": "d0bc2327-fcf9-42e4-aaac-dc1ff0e89f57"
      },
      "source": [
        "model=create_model(C=3,D=3)\n",
        "model.summary()"
      ],
      "execution_count": 69,
      "outputs": [
        {
          "output_type": "stream",
          "text": [
            "Model: \"sequential_26\"\n",
            "_________________________________________________________________\n",
            "Layer (type)                 Output Shape              Param #   \n",
            "=================================================================\n",
            "conv2d_141 (Conv2D)          (None, 14, 14, 32)        32800     \n",
            "_________________________________________________________________\n",
            "conv2d_142 (Conv2D)          (None, 12, 12, 128)       36992     \n",
            "_________________________________________________________________\n",
            "conv2d_143 (Conv2D)          (None, 12, 12, 32)        4128      \n",
            "_________________________________________________________________\n",
            "max_pooling2d_30 (MaxPooling (None, 6, 6, 32)          0         \n",
            "_________________________________________________________________\n",
            "conv2d_144 (Conv2D)          (None, 6, 6, 32)          1056      \n",
            "_________________________________________________________________\n",
            "conv2d_145 (Conv2D)          (None, 4, 4, 32)          9248      \n",
            "_________________________________________________________________\n",
            "conv2d_146 (Conv2D)          (None, 4, 4, 32)          1056      \n",
            "_________________________________________________________________\n",
            "flatten_22 (Flatten)         (None, 512)               0         \n",
            "_________________________________________________________________\n",
            "dense_73 (Dense)             (None, 112)               57456     \n",
            "_________________________________________________________________\n",
            "dropout_52 (Dropout)         (None, 112)               0         \n",
            "_________________________________________________________________\n",
            "dense_74 (Dense)             (None, 56)                6328      \n",
            "_________________________________________________________________\n",
            "dropout_53 (Dropout)         (None, 56)                0         \n",
            "_________________________________________________________________\n",
            "dense_75 (Dense)             (None, 21)                1197      \n",
            "_________________________________________________________________\n",
            "dropout_54 (Dropout)         (None, 21)                0         \n",
            "_________________________________________________________________\n",
            "dense_76 (Dense)             (None, 7)                 154       \n",
            "=================================================================\n",
            "Total params: 150,415\n",
            "Trainable params: 150,415\n",
            "Non-trainable params: 0\n",
            "_________________________________________________________________\n"
          ],
          "name": "stdout"
        }
      ]
    }
  ]
}