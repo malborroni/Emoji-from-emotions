{
 "cells": [
  {
   "cell_type": "markdown",
   "metadata": {},
   "source": [
    "# Acquisition Image (raw and cropped)"
   ]
  },
  {
   "cell_type": "markdown",
   "metadata": {},
   "source": [
    "### Packages"
   ]
  },
  {
   "cell_type": "code",
   "execution_count": null,
   "metadata": {
    "ExecuteTime": {
     "end_time": "2019-12-10T22:00:46.253809Z",
     "start_time": "2019-12-10T22:00:45.280415Z"
    }
   },
   "outputs": [],
   "source": [
    "import numpy as np\n",
    "import cv2 as cv\n",
    "from cv2 import VideoCapture as cap\n",
    "import matplotlib.pyplot as plt\n",
    "from skimage import io\n",
    "import os\n",
    "import math\n",
    "import time"
   ]
  },
  {
   "cell_type": "markdown",
   "metadata": {},
   "source": [
    "### Define function"
   ]
  },
  {
   "cell_type": "code",
   "execution_count": null,
   "metadata": {
    "ExecuteTime": {
     "end_time": "2019-12-10T22:23:01.299059Z",
     "start_time": "2019-12-10T22:23:01.289075Z"
    }
   },
   "outputs": [],
   "source": [
    "def write_imgs(from_directory, to_directory, init_number = 1,\n",
    "              classifier = 'haarcascade_frontalface_default.xml', scale_factor = 1.1, minNeighbors = 5,\n",
    "              size = (224, 224), color = \"RGB\"):\n",
    "    '''\n",
    "    This function takes in input images and after face detection apply a crop and a resize to that images.\n",
    "    \n",
    "    @params:\n",
    "    from_directory = where to find the photos\n",
    "    to_directory = where to save the photos\n",
    "    init_number = first number to start naming photos\n",
    "    classifier = face detector pre-trained (XML file)\n",
    "    scale_factor = value for classifier (from (1,inf), low values increase false positives)\n",
    "    minNeighbors = value for classifier (high values decrease false positives)\n",
    "    size = tuple, format of the saved image\n",
    "    color = RGB or BW (to save)\n",
    "    \n",
    "    '''\n",
    "    # viene assegnato il classificatore\n",
    "    face_cascade = cv.CascadeClassifier(classifier)\n",
    "    \n",
    "    # variabili per conteggio ed errori\n",
    "    flag = init_number\n",
    "    error = 0\n",
    "    \n",
    "    for filename in os.listdir(from_directory):\n",
    "        # check per leggere solamente file jpg o jpeg\n",
    "        if filename.endswith(\".jpg\") or filename.endswith(\".jpeg\"):\n",
    "            # lettura dell'immagine            \n",
    "            img = cv.imread(os.path.join(from_directory, filename))\n",
    "            # conversione immagine necessaria per il face detector\n",
    "            gray = cv.cvtColor(img, cv.COLOR_RGB2GRAY)\n",
    "            # esecuzione face detector\n",
    "            faces = face_cascade.detectMultiScale(gray, scale_factor, minNeighbors)\n",
    "            # check necessario per assegnare solo immagini in cui vengono trovati volti (altrimenti doppioni a catena!)\n",
    "            if len(faces) == 1:\n",
    "                for (x, y, w, h) in faces:\n",
    "                    # ritaglio dell'immagine rispetto al \"quadrato\" trovato\n",
    "                    roi_color = img[y:y+h, x:x+w]\n",
    "                    # resize dell'immagine\n",
    "                    n_img = cv.resize(roi_color, size)\n",
    "                    \n",
    "                    # salvataggio immagine\n",
    "                    if color == \"RGB\":\n",
    "                        cv.imwrite(os.path.join(to_directory, str(flag))+\"_rgb.jpg\", n_img)\n",
    "                        flag += 1\n",
    "                    elif color == \"BW\":\n",
    "                        cv.imwrite(os.path.join(to_directory, str(flag))+\"_bw.jpg\", cv.cvtColor(n_img, cv.COLOR_RGB2GRAY))\n",
    "                        flag += 1\n",
    "                        \n",
    "            # se non trova volti, prosegue qui            \n",
    "            else:\n",
    "                error += 1\n",
    "                try:\n",
    "                    # delete immagine per non creare doppioni (more safe!)\n",
    "                    del faces, n_img\n",
    "                # necessaria se non ha trovato volti (evitare crash code)\n",
    "                except:\n",
    "                    pass\n",
    "                \n",
    "    # output finale           \n",
    "    print('Created {}/{} images cropped'.format(flag-1, flag+error-1))\n",
    "                    \n",
    "    "
   ]
  },
  {
   "cell_type": "code",
   "execution_count": null,
   "metadata": {},
   "outputs": [],
   "source": [
    "def acquisition_cam(directory, subject, init_number, counter_limit,\n",
    "                    resolution = (1280, 720), fps = 30, time_sleep = 2, numbered = False):\n",
    "    '''\n",
    "    This function allow to access to pc webcam in order to acquire images of the subject.\n",
    "    \n",
    "    @params:\n",
    "    directory = where to save the captured images\n",
    "    subject = name of the person who is in photo\n",
    "    init_number = first number to start naming photos\n",
    "    counter_limit = if desired, limit the number of photos captured\n",
    "    resolution = (width, height)\n",
    "    fps = Frame Per Second\n",
    "    time_sleep = sleep between two photos (second)\n",
    "    numbered = Bool, necessary in order to apply counter_limit\n",
    "    '''\n",
    "    # assegnazione cam (0, prima della lista)\n",
    "    cam = cv.VideoCapture(0)\n",
    "    \n",
    "    # setup configuration cam (resolution, fps)\n",
    "    cam.set(cv.CAP_PROP_FRAME_WIDTH, resolution[0])\n",
    "    cam.set(cv.CAP_PROP_FRAME_HEIGHT, resolution[1])\n",
    "    cam.set(cv.CAP_PROP_FPS, fps)\n",
    "    # rename windows\n",
    "    cv.namedWindow(\"acquisition window\")\n",
    "    \n",
    "    # variabili per conteggi\n",
    "    img_counter = init_number\n",
    "    counter = 1\n",
    "    \n",
    "    # ciclo acquisizione frameByframe\n",
    "    while True:\n",
    "        # lettura frame e assegnazione alla variabile\n",
    "        ret, frame = cam.read()\n",
    "        # riproduco frame per averlo in live (sulla finestra aperta)\n",
    "        cv.imshow(\"acquisition window\", frame)\n",
    "        \n",
    "        # se non va, esco dal ciclo senza rompere code\n",
    "        if not ret:\n",
    "            break\n",
    "        k = cv.waitKey(1)\n",
    "        \n",
    "        # utile per impostare un frame rate di acquisizione manuale in secondi (to improve)\n",
    "        time.sleep(time_sleep)\n",
    "\n",
    "        # ESC to exit from webcam\n",
    "        if k%256 == 27:\n",
    "            print(\"Escape hit, closing...\")\n",
    "            break\n",
    "\n",
    "        # fase di salvataggio frame\n",
    "        else:\n",
    "            # assegnazione del nome\n",
    "            img_name = \"{}{} ({}).jpg\".format(directory, subject, img_counter)\n",
    "            # salvataggio file\n",
    "            cv.imwrite(img_name, frame)\n",
    "            print(\"{} written!\".format(img_name))\n",
    "            # conteggio per numerazione file\n",
    "            img_counter += 1\n",
    "            \n",
    "            # check per limitare acquisizione\n",
    "            if numbered:\n",
    "                if counter == counter_limit:\n",
    "                    print(\"Counter limit reached:{}\".format(counter_limit))\n",
    "                    break\n",
    "                counter+=1\n",
    "\n",
    "    # chiusura cam e windows cam\n",
    "    cam.release()\n",
    "    cv.destroyAllWindows()"
   ]
  },
  {
   "cell_type": "markdown",
   "metadata": {},
   "source": [
    "### Immagini Ale che sorride :) *example*"
   ]
  },
  {
   "cell_type": "code",
   "execution_count": null,
   "metadata": {
    "ExecuteTime": {
     "end_time": "2019-12-10T22:28:49.663211Z",
     "start_time": "2019-12-10T22:28:49.658256Z"
    }
   },
   "outputs": [],
   "source": [
    "from_directory = \"images/raw_images/happy/\"\n",
    "to_directory = \"images/happy/\""
   ]
  },
  {
   "cell_type": "code",
   "execution_count": null,
   "metadata": {},
   "outputs": [],
   "source": [
    "# acquisition_cam(directory=from_directory, subject=\"happy\", init_number = 0,\n",
    "#                 counter_limit = 100, time_sleep = 0.5, numbered = True)"
   ]
  },
  {
   "cell_type": "code",
   "execution_count": null,
   "metadata": {
    "ExecuteTime": {
     "end_time": "2019-12-10T22:30:21.857673Z",
     "start_time": "2019-12-10T22:28:51.219906Z"
    }
   },
   "outputs": [],
   "source": [
    "write_imgs(from_directory = from_directory, to_directory = to_directory, color = \"RGB\",\n",
    "           scale_factor=1.2, classifier='haarcascade_frontalface_alt2.xml', minNeighbors=8)"
   ]
  }
 ],
 "metadata": {
  "kernelspec": {
   "display_name": "Python 3",
   "language": "python",
   "name": "python3"
  },
  "language_info": {
   "codemirror_mode": {
    "name": "ipython",
    "version": 3
   },
   "file_extension": ".py",
   "mimetype": "text/x-python",
   "name": "python",
   "nbconvert_exporter": "python",
   "pygments_lexer": "ipython3",
   "version": "3.7.4"
  }
 },
 "nbformat": 4,
 "nbformat_minor": 2
}
