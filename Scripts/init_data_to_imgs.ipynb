{
 "cells": [
  {
   "cell_type": "code",
   "execution_count": 10,
   "metadata": {
    "ExecuteTime": {
     "end_time": "2019-12-27T16:52:15.527107Z",
     "start_time": "2019-12-27T16:52:15.523085Z"
    }
   },
   "outputs": [],
   "source": [
    "import numpy as np\n",
    "import cv2 as cv\n",
    "import matplotlib.pyplot as plt\n",
    "import pandas as pd\n",
    "from PIL import Image\n",
    "import random as rnd"
   ]
  },
  {
   "cell_type": "code",
   "execution_count": 11,
   "metadata": {
    "ExecuteTime": {
     "end_time": "2019-12-27T16:52:19.255318Z",
     "start_time": "2019-12-27T16:52:16.064848Z"
    }
   },
   "outputs": [],
   "source": [
    "data = pd.read_csv('../Data/icml_face_data.csv')"
   ]
  },
  {
   "cell_type": "code",
   "execution_count": 12,
   "metadata": {
    "ExecuteTime": {
     "end_time": "2019-12-27T16:52:19.266290Z",
     "start_time": "2019-12-27T16:52:19.257318Z"
    }
   },
   "outputs": [
    {
     "data": {
      "text/html": [
       "<div>\n",
       "<style scoped>\n",
       "    .dataframe tbody tr th:only-of-type {\n",
       "        vertical-align: middle;\n",
       "    }\n",
       "\n",
       "    .dataframe tbody tr th {\n",
       "        vertical-align: top;\n",
       "    }\n",
       "\n",
       "    .dataframe thead th {\n",
       "        text-align: right;\n",
       "    }\n",
       "</style>\n",
       "<table border=\"1\" class=\"dataframe\">\n",
       "  <thead>\n",
       "    <tr style=\"text-align: right;\">\n",
       "      <th></th>\n",
       "      <th>emotion</th>\n",
       "      <th>Usage</th>\n",
       "      <th>pixels</th>\n",
       "    </tr>\n",
       "  </thead>\n",
       "  <tbody>\n",
       "    <tr>\n",
       "      <td>0</td>\n",
       "      <td>0</td>\n",
       "      <td>Training</td>\n",
       "      <td>70 80 82 72 58 58 60 63 54 58 60 48 89 115 121...</td>\n",
       "    </tr>\n",
       "    <tr>\n",
       "      <td>1</td>\n",
       "      <td>0</td>\n",
       "      <td>Training</td>\n",
       "      <td>151 150 147 155 148 133 111 140 170 174 182 15...</td>\n",
       "    </tr>\n",
       "    <tr>\n",
       "      <td>2</td>\n",
       "      <td>2</td>\n",
       "      <td>Training</td>\n",
       "      <td>231 212 156 164 174 138 161 173 182 200 106 38...</td>\n",
       "    </tr>\n",
       "    <tr>\n",
       "      <td>3</td>\n",
       "      <td>4</td>\n",
       "      <td>Training</td>\n",
       "      <td>24 32 36 30 32 23 19 20 30 41 21 22 32 34 21 1...</td>\n",
       "    </tr>\n",
       "    <tr>\n",
       "      <td>4</td>\n",
       "      <td>6</td>\n",
       "      <td>Training</td>\n",
       "      <td>4 0 0 0 0 0 0 0 0 0 0 0 3 15 23 28 48 50 58 84...</td>\n",
       "    </tr>\n",
       "    <tr>\n",
       "      <td>5</td>\n",
       "      <td>2</td>\n",
       "      <td>Training</td>\n",
       "      <td>55 55 55 55 55 54 60 68 54 85 151 163 170 179 ...</td>\n",
       "    </tr>\n",
       "    <tr>\n",
       "      <td>6</td>\n",
       "      <td>4</td>\n",
       "      <td>Training</td>\n",
       "      <td>20 17 19 21 25 38 42 42 46 54 56 62 63 66 82 1...</td>\n",
       "    </tr>\n",
       "    <tr>\n",
       "      <td>7</td>\n",
       "      <td>3</td>\n",
       "      <td>Training</td>\n",
       "      <td>77 78 79 79 78 75 60 55 47 48 58 73 77 79 57 5...</td>\n",
       "    </tr>\n",
       "    <tr>\n",
       "      <td>8</td>\n",
       "      <td>3</td>\n",
       "      <td>Training</td>\n",
       "      <td>85 84 90 121 101 102 133 153 153 169 177 189 1...</td>\n",
       "    </tr>\n",
       "    <tr>\n",
       "      <td>9</td>\n",
       "      <td>2</td>\n",
       "      <td>Training</td>\n",
       "      <td>255 254 255 254 254 179 122 107 95 124 149 150...</td>\n",
       "    </tr>\n",
       "  </tbody>\n",
       "</table>\n",
       "</div>"
      ],
      "text/plain": [
       "   emotion     Usage                                             pixels\n",
       "0        0  Training  70 80 82 72 58 58 60 63 54 58 60 48 89 115 121...\n",
       "1        0  Training  151 150 147 155 148 133 111 140 170 174 182 15...\n",
       "2        2  Training  231 212 156 164 174 138 161 173 182 200 106 38...\n",
       "3        4  Training  24 32 36 30 32 23 19 20 30 41 21 22 32 34 21 1...\n",
       "4        6  Training  4 0 0 0 0 0 0 0 0 0 0 0 3 15 23 28 48 50 58 84...\n",
       "5        2  Training  55 55 55 55 55 54 60 68 54 85 151 163 170 179 ...\n",
       "6        4  Training  20 17 19 21 25 38 42 42 46 54 56 62 63 66 82 1...\n",
       "7        3  Training  77 78 79 79 78 75 60 55 47 48 58 73 77 79 57 5...\n",
       "8        3  Training  85 84 90 121 101 102 133 153 153 169 177 189 1...\n",
       "9        2  Training  255 254 255 254 254 179 122 107 95 124 149 150..."
      ]
     },
     "execution_count": 12,
     "metadata": {},
     "output_type": "execute_result"
    }
   ],
   "source": [
    "data.head(10)"
   ]
  },
  {
   "cell_type": "code",
   "execution_count": 4,
   "metadata": {
    "ExecuteTime": {
     "end_time": "2019-12-27T16:41:50.290620Z",
     "start_time": "2019-12-27T16:41:37.793057Z"
    }
   },
   "outputs": [],
   "source": [
    "# imgs = []\n",
    "# for image_pixels in data.iloc[0:,2]: #column 2 has the pixels. Row 1 is column name.\n",
    "#     image_string = image_pixels.split(' ') #pixels are separated by spaces.\n",
    "#     image_data = np.asarray(image_string, dtype=np.uint8).reshape(48,48)\n",
    "#     imgs.append(image_data)\n",
    "# #     img = Image.fromarray(image_data) #final image"
   ]
  },
  {
   "cell_type": "code",
   "execution_count": 5,
   "metadata": {
    "ExecuteTime": {
     "end_time": "2019-12-27T16:41:50.296618Z",
     "start_time": "2019-12-27T16:41:50.291617Z"
    }
   },
   "outputs": [],
   "source": [
    "# labels = data.emotion.to_numpy()"
   ]
  },
  {
   "cell_type": "code",
   "execution_count": 6,
   "metadata": {
    "ExecuteTime": {
     "end_time": "2019-12-27T16:41:50.349463Z",
     "start_time": "2019-12-27T16:41:50.298600Z"
    }
   },
   "outputs": [],
   "source": [
    "# label = []\n",
    "# for i in labels:\n",
    "#     if i == 0:\n",
    "#         tmp = 'angry'\n",
    "#         label.append(tmp)\n",
    "#     elif i == 1:\n",
    "#         tmp = 'disgust'\n",
    "#         label.append(tmp)\n",
    "#     elif i == 2:\n",
    "#         tmp = 'fear'\n",
    "#         label.append(tmp)\n",
    "#     elif i == 3:\n",
    "#         tmp = 'happy'\n",
    "#         label.append(tmp)\n",
    "#     elif i == 4:\n",
    "#         tmp = 'sad'\n",
    "#         label.append(tmp)\n",
    "#     elif i == 5:\n",
    "#         tmp = 'surprise'\n",
    "#         label.append(tmp)\n",
    "#     elif i == 6:\n",
    "#         tmp = 'neutral'\n",
    "#         label.append(tmp)"
   ]
  },
  {
   "cell_type": "code",
   "execution_count": 13,
   "metadata": {
    "ExecuteTime": {
     "end_time": "2019-12-27T16:52:35.539775Z",
     "start_time": "2019-12-27T16:52:22.931502Z"
    }
   },
   "outputs": [],
   "source": [
    "imgs = [np.asarray(im.split(), dtype=np.uint8).reshape(48,48) for im in data[' pixels']] # from str to float pixel\n",
    "\n",
    "dic = {0:'angry',\n",
    "       1:'disgust',\n",
    "       2:'fear',\n",
    "       3:'happy',\n",
    "       4:'sad',\n",
    "       5:'surprise', \n",
    "       6:'neutral'}\n",
    "\n",
    "label=data['emotion'].replace(dic).to_numpy()"
   ]
  },
  {
   "cell_type": "code",
   "execution_count": 14,
   "metadata": {
    "ExecuteTime": {
     "end_time": "2019-12-27T16:52:40.350648Z",
     "start_time": "2019-12-27T16:52:39.968700Z"
    }
   },
   "outputs": [
    {
     "data": {
      "image/png": "[encoded data removed]",
      "text/plain": [
       "<Figure size 1800x576 with 10 Axes>"
      ]
     },
     "metadata": {
      "needs_background": "light"
     },
     "output_type": "display_data"
    }
   ],
   "source": [
    "plt.figure(figsize=(25, 8))\n",
    "nimages = 10 \n",
    "for i in range(nimages):\n",
    "    ax = plt.subplot(2, nimages, i + 1)\n",
    "    ax.get_xaxis().set_visible(False)\n",
    "    ax.get_yaxis().set_visible(False)\n",
    "    #l = rnd.randint(0, len(label))\n",
    "    plt.imshow(cv.cvtColor(imgs[i], cv.COLOR_BGR2RGB))\n",
    "    plt.title(str(label[i]))"
   ]
  },
  {
   "cell_type": "code",
   "execution_count": 8,
   "metadata": {
    "ExecuteTime": {
     "end_time": "2019-12-27T16:41:54.526050Z",
     "start_time": "2019-12-27T16:41:54.521064Z"
    }
   },
   "outputs": [
    {
     "data": {
      "text/plain": [
       "35887"
      ]
     },
     "execution_count": 8,
     "metadata": {},
     "output_type": "execute_result"
    }
   ],
   "source": [
    "len(imgs)"
   ]
  },
  {
   "cell_type": "code",
   "execution_count": 9,
   "metadata": {
    "ExecuteTime": {
     "end_time": "2019-12-27T16:42:18.232990Z",
     "start_time": "2019-12-27T16:41:55.632909Z"
    }
   },
   "outputs": [
    {
     "name": "stdout",
     "output_type": "stream",
     "text": [
      "35887 written!\n"
     ]
    }
   ],
   "source": [
    "# number = 0\n",
    "# for image, label in zip(imgs, label):\n",
    "#     directory_name_img = \"../images/fer/{}/fer_{}.jpg\".format(label, number)\n",
    "#     cv.imwrite(directory_name_img, image)\n",
    "#     number += 1\n",
    "# print(\"{} written!\".format(number))"
   ]
  },
  {
   "cell_type": "code",
   "execution_count": null,
   "metadata": {},
   "outputs": [],
   "source": []
  }
 ],
 "metadata": {
  "kernelspec": {
   "display_name": "Python 3",
   "language": "python",
   "name": "python3"
  },
  "language_info": {
   "codemirror_mode": {
    "name": "ipython",
    "version": 3
   },
   "file_extension": ".py",
   "mimetype": "text/x-python",
   "name": "python",
   "nbconvert_exporter": "python",
   "pygments_lexer": "ipython3",
   "version": "3.7.4"
  }
 },
 "nbformat": 4,
 "nbformat_minor": 2
}
