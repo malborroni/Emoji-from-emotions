{
 "cells": [
  {
   "cell_type": "markdown",
   "metadata": {},
   "source": [
    "# Script for **Image Acquisition**  (*raw* and *cropped*)"
   ]
  },
  {
   "cell_type": "markdown",
   "metadata": {},
   "source": [
    "### i) Packages"
   ]
  },
  {
   "cell_type": "code",
   "execution_count": 1,
   "metadata": {
    "ExecuteTime": {
     "end_time": "2019-12-10T22:00:46.253809Z",
     "start_time": "2019-12-10T22:00:45.280415Z"
    }
   },
   "outputs": [],
   "source": [
    "import numpy as np\n",
    "import cv2 as cv\n",
    "from cv2 import VideoCapture as cap\n",
    "import matplotlib.pyplot as plt\n",
    "from skimage import io\n",
    "import os\n",
    "import math\n",
    "import time"
   ]
  },
  {
   "cell_type": "markdown",
   "metadata": {},
   "source": [
    "### ii) Define functions"
   ]
  },
  {
   "cell_type": "code",
   "execution_count": 2,
   "metadata": {
    "ExecuteTime": {
     "end_time": "2019-12-10T22:23:01.299059Z",
     "start_time": "2019-12-10T22:23:01.289075Z"
    }
   },
   "outputs": [],
   "source": [
    "def write_imgs(from_directory, to_directory, init_number = 1,\n",
    "              classifier = 'haarcascade_frontalface_default.xml', scale_factor = 1.1, minNeighbors = 5,\n",
    "              size = (224, 224), color = \"RGB\"):\n",
    "    '''\n",
    "    This function takes in input images and after face detection apply a crop and a resize to that images.\n",
    "    \n",
    "    @params:\n",
    "    from_directory = where to find the photos\n",
    "    to_directory = where to save the photos\n",
    "    init_number = first number to start naming photos\n",
    "    classifier = face detector pre-trained (XML file)\n",
    "    scale_factor = value for classifier (from (1,inf), low values increase false positives)\n",
    "    minNeighbors = value for classifier (high values decrease false positives)\n",
    "    size = tuple, format of the saved image\n",
    "    color = RGB or BW (to save)\n",
    "    \n",
    "    '''\n",
    "    # viene assegnato il classificatore\n",
    "    face_cascade = cv.CascadeClassifier(classifier)\n",
    "    \n",
    "    # variabili per conteggio ed errori\n",
    "    flag = init_number\n",
    "    error = 0\n",
    "    \n",
    "    for filename in os.listdir(from_directory):\n",
    "        # check per leggere solamente file jpg o jpeg\n",
    "        if filename.endswith(\".jpg\") or filename.endswith(\".jpeg\"):\n",
    "            # lettura dell'immagine            \n",
    "            img = cv.imread(os.path.join(from_directory, filename))\n",
    "            # conversione immagine necessaria per il face detector\n",
    "            gray = cv.cvtColor(img, cv.COLOR_RGB2GRAY)\n",
    "            # esecuzione face detector\n",
    "            faces = face_cascade.detectMultiScale(gray, scale_factor, minNeighbors)\n",
    "            # check necessario per assegnare solo immagini in cui vengono trovati volti (altrimenti doppioni a catena!)\n",
    "            if len(faces) == 1:\n",
    "                for (x, y, w, h) in faces:\n",
    "                    # ritaglio dell'immagine rispetto al \"quadrato\" trovato\n",
    "                    roi_color = img[y:y+h, x:x+w]\n",
    "                    # resize dell'immagine\n",
    "                    n_img = cv.resize(roi_color, size)\n",
    "                    \n",
    "                    # salvataggio immagine\n",
    "                    if color == \"RGB\":\n",
    "                        cv.imwrite(os.path.join(to_directory, str(flag))+\"_rgb.jpg\", n_img)\n",
    "                        flag += 1\n",
    "                    elif color == \"BW\":\n",
    "                        cv.imwrite(os.path.join(to_directory, str(flag))+\"_bw.jpg\", cv.cvtColor(n_img, cv.COLOR_RGB2GRAY))\n",
    "                        flag += 1\n",
    "                        \n",
    "            # se non trova volti, prosegue qui            \n",
    "            else:\n",
    "                error += 1\n",
    "                try:\n",
    "                    # delete immagine per non creare doppioni (more safe!)\n",
    "                    del faces, n_img\n",
    "                # necessaria se non ha trovato volti (evitare crash code)\n",
    "                except:\n",
    "                    pass\n",
    "                \n",
    "    # output finale           \n",
    "    print('Created {}/{} images cropped'.format(flag-1, flag+error-1))\n",
    "                    \n",
    "    "
   ]
  },
  {
   "cell_type": "code",
   "execution_count": 3,
   "metadata": {},
   "outputs": [],
   "source": [
    "def acquisition_cam(directory, subject, init_number, counter_limit,\n",
    "                    resolution = (1280, 720), fps = 30, time_sleep = 2, numbered = False):\n",
    "    '''\n",
    "    This function allow to access to pc webcam in order to acquire images of the subject.\n",
    "    \n",
    "    @params:\n",
    "    directory = where to save the captured images\n",
    "    subject = name of the person who is in photo\n",
    "    init_number = first number to start naming photos\n",
    "    counter_limit = if desired, limit the number of photos captured\n",
    "    resolution = (width, height)\n",
    "    fps = Frame Per Second\n",
    "    time_sleep = sleep between two photos (second)\n",
    "    numbered = Bool, necessary in order to apply counter_limit\n",
    "    '''\n",
    "    # assegnazione cam (0, prima della lista)\n",
    "    cam = cv.VideoCapture(0)\n",
    "    \n",
    "    # setup configuration cam (resolution, fps)\n",
    "    cam.set(cv.CAP_PROP_FRAME_WIDTH, resolution[0])\n",
    "    cam.set(cv.CAP_PROP_FRAME_HEIGHT, resolution[1])\n",
    "    cam.set(cv.CAP_PROP_FPS, fps)\n",
    "    # rename windows\n",
    "    cv.namedWindow(\"acquisition window\")\n",
    "    \n",
    "    # variabili per conteggi\n",
    "    img_counter = init_number\n",
    "    counter = 1\n",
    "    \n",
    "    # ciclo acquisizione frameByframe\n",
    "    while True:\n",
    "        # lettura frame e assegnazione alla variabile\n",
    "        ret, frame = cam.read()\n",
    "        # riproduco frame per averlo in live (sulla finestra aperta)\n",
    "        cv.imshow(\"acquisition window\", frame)\n",
    "        \n",
    "        # se non va, esco dal ciclo senza rompere code\n",
    "        if not ret:\n",
    "            break\n",
    "        k = cv.waitKey(1)\n",
    "        \n",
    "        # utile per impostare un frame rate di acquisizione manuale in secondi (to improve)\n",
    "        time.sleep(time_sleep)\n",
    "\n",
    "        # ESC to exit from webcam\n",
    "        if k%256 == 27:\n",
    "            print(\"Escape hit, closing...\")\n",
    "            break\n",
    "\n",
    "        # fase di salvataggio frame\n",
    "        else:\n",
    "            # assegnazione del nome\n",
    "            img_name = \"{}{} ({}).jpg\".format(directory, subject, img_counter)\n",
    "            # salvataggio file\n",
    "            cv.imwrite(img_name, frame)\n",
    "            print(\"{} written!\".format(img_name))\n",
    "            # conteggio per numerazione file\n",
    "            img_counter += 1\n",
    "            \n",
    "            # check per limitare acquisizione\n",
    "            if numbered:\n",
    "                if counter == counter_limit:\n",
    "                    print(\"Counter limit reached:{}\".format(counter_limit))\n",
    "                    break\n",
    "                counter+=1\n",
    "\n",
    "    # chiusura cam e windows cam\n",
    "    cam.release()\n",
    "    cv.destroyAllWindows()"
   ]
  },
  {
   "cell_type": "markdown",
   "metadata": {},
   "source": [
    "- ### Happy person images :) "
   ]
  },
  {
   "cell_type": "code",
   "execution_count": 48,
   "metadata": {
    "ExecuteTime": {
     "end_time": "2019-12-10T22:28:49.663211Z",
     "start_time": "2019-12-10T22:28:49.658256Z"
    }
   },
   "outputs": [],
   "source": [
    "from_directory = \"images/fabrizio/raw_images/happy/\"\n",
    "to_directory = \"images/fabrizio/happy/\""
   ]
  },
  {
   "cell_type": "code",
   "execution_count": 50,
   "metadata": {},
   "outputs": [
    {
     "name": "stdout",
     "output_type": "stream",
     "text": [
      "images/fabrizio/raw_images/happy/happy (0).jpg written!\n",
      "images/fabrizio/raw_images/happy/happy (1).jpg written!\n",
      "images/fabrizio/raw_images/happy/happy (2).jpg written!\n",
      "images/fabrizio/raw_images/happy/happy (3).jpg written!\n",
      "images/fabrizio/raw_images/happy/happy (4).jpg written!\n",
      "images/fabrizio/raw_images/happy/happy (5).jpg written!\n",
      "images/fabrizio/raw_images/happy/happy (6).jpg written!\n",
      "images/fabrizio/raw_images/happy/happy (7).jpg written!\n",
      "images/fabrizio/raw_images/happy/happy (8).jpg written!\n",
      "images/fabrizio/raw_images/happy/happy (9).jpg written!\n",
      "images/fabrizio/raw_images/happy/happy (10).jpg written!\n",
      "images/fabrizio/raw_images/happy/happy (11).jpg written!\n",
      "images/fabrizio/raw_images/happy/happy (12).jpg written!\n",
      "images/fabrizio/raw_images/happy/happy (13).jpg written!\n",
      "images/fabrizio/raw_images/happy/happy (14).jpg written!\n",
      "images/fabrizio/raw_images/happy/happy (15).jpg written!\n",
      "images/fabrizio/raw_images/happy/happy (16).jpg written!\n",
      "images/fabrizio/raw_images/happy/happy (17).jpg written!\n",
      "images/fabrizio/raw_images/happy/happy (18).jpg written!\n",
      "images/fabrizio/raw_images/happy/happy (19).jpg written!\n",
      "images/fabrizio/raw_images/happy/happy (20).jpg written!\n",
      "images/fabrizio/raw_images/happy/happy (21).jpg written!\n",
      "images/fabrizio/raw_images/happy/happy (22).jpg written!\n",
      "images/fabrizio/raw_images/happy/happy (23).jpg written!\n",
      "images/fabrizio/raw_images/happy/happy (24).jpg written!\n",
      "images/fabrizio/raw_images/happy/happy (25).jpg written!\n",
      "images/fabrizio/raw_images/happy/happy (26).jpg written!\n",
      "images/fabrizio/raw_images/happy/happy (27).jpg written!\n",
      "images/fabrizio/raw_images/happy/happy (28).jpg written!\n",
      "images/fabrizio/raw_images/happy/happy (29).jpg written!\n",
      "images/fabrizio/raw_images/happy/happy (30).jpg written!\n",
      "images/fabrizio/raw_images/happy/happy (31).jpg written!\n",
      "images/fabrizio/raw_images/happy/happy (32).jpg written!\n",
      "images/fabrizio/raw_images/happy/happy (33).jpg written!\n",
      "images/fabrizio/raw_images/happy/happy (34).jpg written!\n",
      "images/fabrizio/raw_images/happy/happy (35).jpg written!\n",
      "images/fabrizio/raw_images/happy/happy (36).jpg written!\n",
      "images/fabrizio/raw_images/happy/happy (37).jpg written!\n",
      "images/fabrizio/raw_images/happy/happy (38).jpg written!\n",
      "images/fabrizio/raw_images/happy/happy (39).jpg written!\n",
      "images/fabrizio/raw_images/happy/happy (40).jpg written!\n",
      "images/fabrizio/raw_images/happy/happy (41).jpg written!\n",
      "images/fabrizio/raw_images/happy/happy (42).jpg written!\n",
      "images/fabrizio/raw_images/happy/happy (43).jpg written!\n",
      "images/fabrizio/raw_images/happy/happy (44).jpg written!\n",
      "images/fabrizio/raw_images/happy/happy (45).jpg written!\n",
      "images/fabrizio/raw_images/happy/happy (46).jpg written!\n",
      "images/fabrizio/raw_images/happy/happy (47).jpg written!\n",
      "images/fabrizio/raw_images/happy/happy (48).jpg written!\n",
      "images/fabrizio/raw_images/happy/happy (49).jpg written!\n",
      "images/fabrizio/raw_images/happy/happy (50).jpg written!\n",
      "images/fabrizio/raw_images/happy/happy (51).jpg written!\n",
      "images/fabrizio/raw_images/happy/happy (52).jpg written!\n",
      "images/fabrizio/raw_images/happy/happy (53).jpg written!\n",
      "images/fabrizio/raw_images/happy/happy (54).jpg written!\n",
      "images/fabrizio/raw_images/happy/happy (55).jpg written!\n",
      "images/fabrizio/raw_images/happy/happy (56).jpg written!\n",
      "images/fabrizio/raw_images/happy/happy (57).jpg written!\n",
      "images/fabrizio/raw_images/happy/happy (58).jpg written!\n",
      "images/fabrizio/raw_images/happy/happy (59).jpg written!\n",
      "images/fabrizio/raw_images/happy/happy (60).jpg written!\n",
      "images/fabrizio/raw_images/happy/happy (61).jpg written!\n",
      "images/fabrizio/raw_images/happy/happy (62).jpg written!\n",
      "images/fabrizio/raw_images/happy/happy (63).jpg written!\n",
      "images/fabrizio/raw_images/happy/happy (64).jpg written!\n",
      "images/fabrizio/raw_images/happy/happy (65).jpg written!\n",
      "images/fabrizio/raw_images/happy/happy (66).jpg written!\n",
      "images/fabrizio/raw_images/happy/happy (67).jpg written!\n",
      "images/fabrizio/raw_images/happy/happy (68).jpg written!\n",
      "images/fabrizio/raw_images/happy/happy (69).jpg written!\n",
      "images/fabrizio/raw_images/happy/happy (70).jpg written!\n",
      "images/fabrizio/raw_images/happy/happy (71).jpg written!\n",
      "images/fabrizio/raw_images/happy/happy (72).jpg written!\n",
      "images/fabrizio/raw_images/happy/happy (73).jpg written!\n",
      "images/fabrizio/raw_images/happy/happy (74).jpg written!\n",
      "images/fabrizio/raw_images/happy/happy (75).jpg written!\n",
      "images/fabrizio/raw_images/happy/happy (76).jpg written!\n",
      "images/fabrizio/raw_images/happy/happy (77).jpg written!\n",
      "images/fabrizio/raw_images/happy/happy (78).jpg written!\n",
      "images/fabrizio/raw_images/happy/happy (79).jpg written!\n",
      "images/fabrizio/raw_images/happy/happy (80).jpg written!\n",
      "images/fabrizio/raw_images/happy/happy (81).jpg written!\n",
      "images/fabrizio/raw_images/happy/happy (82).jpg written!\n",
      "images/fabrizio/raw_images/happy/happy (83).jpg written!\n",
      "images/fabrizio/raw_images/happy/happy (84).jpg written!\n",
      "images/fabrizio/raw_images/happy/happy (85).jpg written!\n",
      "images/fabrizio/raw_images/happy/happy (86).jpg written!\n",
      "images/fabrizio/raw_images/happy/happy (87).jpg written!\n",
      "images/fabrizio/raw_images/happy/happy (88).jpg written!\n",
      "images/fabrizio/raw_images/happy/happy (89).jpg written!\n",
      "images/fabrizio/raw_images/happy/happy (90).jpg written!\n",
      "images/fabrizio/raw_images/happy/happy (91).jpg written!\n",
      "images/fabrizio/raw_images/happy/happy (92).jpg written!\n",
      "images/fabrizio/raw_images/happy/happy (93).jpg written!\n",
      "images/fabrizio/raw_images/happy/happy (94).jpg written!\n",
      "images/fabrizio/raw_images/happy/happy (95).jpg written!\n",
      "images/fabrizio/raw_images/happy/happy (96).jpg written!\n",
      "images/fabrizio/raw_images/happy/happy (97).jpg written!\n",
      "images/fabrizio/raw_images/happy/happy (98).jpg written!\n",
      "images/fabrizio/raw_images/happy/happy (99).jpg written!\n",
      "images/fabrizio/raw_images/happy/happy (100).jpg written!\n",
      "images/fabrizio/raw_images/happy/happy (101).jpg written!\n",
      "images/fabrizio/raw_images/happy/happy (102).jpg written!\n",
      "images/fabrizio/raw_images/happy/happy (103).jpg written!\n",
      "images/fabrizio/raw_images/happy/happy (104).jpg written!\n",
      "images/fabrizio/raw_images/happy/happy (105).jpg written!\n",
      "images/fabrizio/raw_images/happy/happy (106).jpg written!\n",
      "images/fabrizio/raw_images/happy/happy (107).jpg written!\n",
      "images/fabrizio/raw_images/happy/happy (108).jpg written!\n",
      "images/fabrizio/raw_images/happy/happy (109).jpg written!\n",
      "Counter limit reached:110\n"
     ]
    }
   ],
   "source": [
    "# Image acquisition\n",
    "\n",
    "acquisition_cam(directory = from_directory, subject = \"happy\", init_number = 0,\n",
    "                counter_limit = 110, time_sleep = 0.5, numbered = True)"
   ]
  },
  {
   "cell_type": "code",
   "execution_count": 51,
   "metadata": {
    "ExecuteTime": {
     "end_time": "2019-12-10T22:30:21.857673Z",
     "start_time": "2019-12-10T22:28:51.219906Z"
    }
   },
   "outputs": [
    {
     "name": "stdout",
     "output_type": "stream",
     "text": [
      "Created 79/110 images cropped\n"
     ]
    }
   ],
   "source": [
    "# Image cropping\n",
    "\n",
    "write_imgs(from_directory = from_directory, to_directory = to_directory, color = \"RGB\",\n",
    "           scale_factor = 1.2, classifier = 'haarCascade/haarcascade_frontalface_alt2.xml', minNeighbors = 8)"
   ]
  },
  {
   "cell_type": "markdown",
   "metadata": {},
   "source": [
    "- ### Neutral person images :|"
   ]
  },
  {
   "cell_type": "code",
   "execution_count": 52,
   "metadata": {},
   "outputs": [],
   "source": [
    "from_directory = \"images/fabrizio/raw_images/neutral/\"\n",
    "to_directory = \"images/fabrizio/neutral/\""
   ]
  },
  {
   "cell_type": "code",
   "execution_count": 53,
   "metadata": {},
   "outputs": [
    {
     "name": "stdout",
     "output_type": "stream",
     "text": [
      "images/fabrizio/raw_images/neutral/neutral (0).jpg written!\n",
      "images/fabrizio/raw_images/neutral/neutral (1).jpg written!\n",
      "images/fabrizio/raw_images/neutral/neutral (2).jpg written!\n",
      "images/fabrizio/raw_images/neutral/neutral (3).jpg written!\n",
      "images/fabrizio/raw_images/neutral/neutral (4).jpg written!\n",
      "images/fabrizio/raw_images/neutral/neutral (5).jpg written!\n",
      "images/fabrizio/raw_images/neutral/neutral (6).jpg written!\n",
      "images/fabrizio/raw_images/neutral/neutral (7).jpg written!\n",
      "images/fabrizio/raw_images/neutral/neutral (8).jpg written!\n",
      "images/fabrizio/raw_images/neutral/neutral (9).jpg written!\n",
      "images/fabrizio/raw_images/neutral/neutral (10).jpg written!\n",
      "images/fabrizio/raw_images/neutral/neutral (11).jpg written!\n",
      "images/fabrizio/raw_images/neutral/neutral (12).jpg written!\n",
      "images/fabrizio/raw_images/neutral/neutral (13).jpg written!\n",
      "images/fabrizio/raw_images/neutral/neutral (14).jpg written!\n",
      "images/fabrizio/raw_images/neutral/neutral (15).jpg written!\n",
      "images/fabrizio/raw_images/neutral/neutral (16).jpg written!\n",
      "images/fabrizio/raw_images/neutral/neutral (17).jpg written!\n",
      "images/fabrizio/raw_images/neutral/neutral (18).jpg written!\n",
      "images/fabrizio/raw_images/neutral/neutral (19).jpg written!\n",
      "images/fabrizio/raw_images/neutral/neutral (20).jpg written!\n",
      "images/fabrizio/raw_images/neutral/neutral (21).jpg written!\n",
      "images/fabrizio/raw_images/neutral/neutral (22).jpg written!\n",
      "images/fabrizio/raw_images/neutral/neutral (23).jpg written!\n",
      "images/fabrizio/raw_images/neutral/neutral (24).jpg written!\n",
      "images/fabrizio/raw_images/neutral/neutral (25).jpg written!\n",
      "images/fabrizio/raw_images/neutral/neutral (26).jpg written!\n",
      "images/fabrizio/raw_images/neutral/neutral (27).jpg written!\n",
      "images/fabrizio/raw_images/neutral/neutral (28).jpg written!\n",
      "images/fabrizio/raw_images/neutral/neutral (29).jpg written!\n",
      "images/fabrizio/raw_images/neutral/neutral (30).jpg written!\n",
      "images/fabrizio/raw_images/neutral/neutral (31).jpg written!\n",
      "images/fabrizio/raw_images/neutral/neutral (32).jpg written!\n",
      "images/fabrizio/raw_images/neutral/neutral (33).jpg written!\n",
      "images/fabrizio/raw_images/neutral/neutral (34).jpg written!\n",
      "images/fabrizio/raw_images/neutral/neutral (35).jpg written!\n",
      "images/fabrizio/raw_images/neutral/neutral (36).jpg written!\n",
      "images/fabrizio/raw_images/neutral/neutral (37).jpg written!\n",
      "images/fabrizio/raw_images/neutral/neutral (38).jpg written!\n",
      "images/fabrizio/raw_images/neutral/neutral (39).jpg written!\n",
      "images/fabrizio/raw_images/neutral/neutral (40).jpg written!\n",
      "images/fabrizio/raw_images/neutral/neutral (41).jpg written!\n",
      "images/fabrizio/raw_images/neutral/neutral (42).jpg written!\n",
      "images/fabrizio/raw_images/neutral/neutral (43).jpg written!\n",
      "images/fabrizio/raw_images/neutral/neutral (44).jpg written!\n",
      "images/fabrizio/raw_images/neutral/neutral (45).jpg written!\n",
      "images/fabrizio/raw_images/neutral/neutral (46).jpg written!\n",
      "images/fabrizio/raw_images/neutral/neutral (47).jpg written!\n",
      "images/fabrizio/raw_images/neutral/neutral (48).jpg written!\n",
      "images/fabrizio/raw_images/neutral/neutral (49).jpg written!\n",
      "images/fabrizio/raw_images/neutral/neutral (50).jpg written!\n",
      "images/fabrizio/raw_images/neutral/neutral (51).jpg written!\n",
      "images/fabrizio/raw_images/neutral/neutral (52).jpg written!\n",
      "images/fabrizio/raw_images/neutral/neutral (53).jpg written!\n",
      "images/fabrizio/raw_images/neutral/neutral (54).jpg written!\n",
      "images/fabrizio/raw_images/neutral/neutral (55).jpg written!\n",
      "images/fabrizio/raw_images/neutral/neutral (56).jpg written!\n",
      "images/fabrizio/raw_images/neutral/neutral (57).jpg written!\n",
      "images/fabrizio/raw_images/neutral/neutral (58).jpg written!\n",
      "images/fabrizio/raw_images/neutral/neutral (59).jpg written!\n",
      "images/fabrizio/raw_images/neutral/neutral (60).jpg written!\n",
      "images/fabrizio/raw_images/neutral/neutral (61).jpg written!\n",
      "images/fabrizio/raw_images/neutral/neutral (62).jpg written!\n",
      "images/fabrizio/raw_images/neutral/neutral (63).jpg written!\n",
      "images/fabrizio/raw_images/neutral/neutral (64).jpg written!\n",
      "images/fabrizio/raw_images/neutral/neutral (65).jpg written!\n",
      "images/fabrizio/raw_images/neutral/neutral (66).jpg written!\n",
      "images/fabrizio/raw_images/neutral/neutral (67).jpg written!\n",
      "images/fabrizio/raw_images/neutral/neutral (68).jpg written!\n",
      "images/fabrizio/raw_images/neutral/neutral (69).jpg written!\n",
      "images/fabrizio/raw_images/neutral/neutral (70).jpg written!\n",
      "images/fabrizio/raw_images/neutral/neutral (71).jpg written!\n",
      "images/fabrizio/raw_images/neutral/neutral (72).jpg written!\n",
      "images/fabrizio/raw_images/neutral/neutral (73).jpg written!\n",
      "images/fabrizio/raw_images/neutral/neutral (74).jpg written!\n",
      "images/fabrizio/raw_images/neutral/neutral (75).jpg written!\n",
      "images/fabrizio/raw_images/neutral/neutral (76).jpg written!\n",
      "images/fabrizio/raw_images/neutral/neutral (77).jpg written!\n",
      "images/fabrizio/raw_images/neutral/neutral (78).jpg written!\n",
      "images/fabrizio/raw_images/neutral/neutral (79).jpg written!\n",
      "images/fabrizio/raw_images/neutral/neutral (80).jpg written!\n",
      "images/fabrizio/raw_images/neutral/neutral (81).jpg written!\n",
      "images/fabrizio/raw_images/neutral/neutral (82).jpg written!\n",
      "images/fabrizio/raw_images/neutral/neutral (83).jpg written!\n",
      "images/fabrizio/raw_images/neutral/neutral (84).jpg written!\n",
      "images/fabrizio/raw_images/neutral/neutral (85).jpg written!\n",
      "images/fabrizio/raw_images/neutral/neutral (86).jpg written!\n",
      "images/fabrizio/raw_images/neutral/neutral (87).jpg written!\n",
      "images/fabrizio/raw_images/neutral/neutral (88).jpg written!\n",
      "images/fabrizio/raw_images/neutral/neutral (89).jpg written!\n",
      "images/fabrizio/raw_images/neutral/neutral (90).jpg written!\n",
      "images/fabrizio/raw_images/neutral/neutral (91).jpg written!\n",
      "images/fabrizio/raw_images/neutral/neutral (92).jpg written!\n",
      "images/fabrizio/raw_images/neutral/neutral (93).jpg written!\n",
      "images/fabrizio/raw_images/neutral/neutral (94).jpg written!\n",
      "images/fabrizio/raw_images/neutral/neutral (95).jpg written!\n",
      "images/fabrizio/raw_images/neutral/neutral (96).jpg written!\n",
      "images/fabrizio/raw_images/neutral/neutral (97).jpg written!\n",
      "images/fabrizio/raw_images/neutral/neutral (98).jpg written!\n",
      "images/fabrizio/raw_images/neutral/neutral (99).jpg written!\n",
      "images/fabrizio/raw_images/neutral/neutral (100).jpg written!\n",
      "images/fabrizio/raw_images/neutral/neutral (101).jpg written!\n",
      "images/fabrizio/raw_images/neutral/neutral (102).jpg written!\n",
      "images/fabrizio/raw_images/neutral/neutral (103).jpg written!\n",
      "images/fabrizio/raw_images/neutral/neutral (104).jpg written!\n",
      "images/fabrizio/raw_images/neutral/neutral (105).jpg written!\n",
      "images/fabrizio/raw_images/neutral/neutral (106).jpg written!\n",
      "images/fabrizio/raw_images/neutral/neutral (107).jpg written!\n",
      "images/fabrizio/raw_images/neutral/neutral (108).jpg written!\n",
      "images/fabrizio/raw_images/neutral/neutral (109).jpg written!\n",
      "Counter limit reached:110\n"
     ]
    }
   ],
   "source": [
    "acquisition_cam(directory = from_directory, subject = \"neutral\", init_number = 0,\n",
    "                counter_limit = 110, time_sleep = 0.5, numbered = True)"
   ]
  },
  {
   "cell_type": "code",
   "execution_count": 54,
   "metadata": {},
   "outputs": [
    {
     "name": "stdout",
     "output_type": "stream",
     "text": [
      "Created 95/110 images cropped\n"
     ]
    }
   ],
   "source": [
    "write_imgs(from_directory = from_directory, to_directory = to_directory, color = \"RGB\",\n",
    "           scale_factor = 1.2, classifier = 'haarCascade/haarcascade_frontalface_alt2.xml', minNeighbors = 8)"
   ]
  },
  {
   "cell_type": "markdown",
   "metadata": {},
   "source": [
    "- ### Sad person images :("
   ]
  },
  {
   "cell_type": "code",
   "execution_count": 55,
   "metadata": {},
   "outputs": [],
   "source": [
    "from_directory = \"images/fabrizio/raw_images/sad/\"\n",
    "to_directory = \"images/fabrizio/sad/\""
   ]
  },
  {
   "cell_type": "code",
   "execution_count": 56,
   "metadata": {},
   "outputs": [
    {
     "name": "stdout",
     "output_type": "stream",
     "text": [
      "images/fabrizio/raw_images/sad/sad (0).jpg written!\n",
      "images/fabrizio/raw_images/sad/sad (1).jpg written!\n",
      "images/fabrizio/raw_images/sad/sad (2).jpg written!\n",
      "images/fabrizio/raw_images/sad/sad (3).jpg written!\n",
      "images/fabrizio/raw_images/sad/sad (4).jpg written!\n",
      "images/fabrizio/raw_images/sad/sad (5).jpg written!\n",
      "images/fabrizio/raw_images/sad/sad (6).jpg written!\n",
      "images/fabrizio/raw_images/sad/sad (7).jpg written!\n",
      "images/fabrizio/raw_images/sad/sad (8).jpg written!\n",
      "images/fabrizio/raw_images/sad/sad (9).jpg written!\n",
      "images/fabrizio/raw_images/sad/sad (10).jpg written!\n",
      "images/fabrizio/raw_images/sad/sad (11).jpg written!\n",
      "images/fabrizio/raw_images/sad/sad (12).jpg written!\n",
      "images/fabrizio/raw_images/sad/sad (13).jpg written!\n",
      "images/fabrizio/raw_images/sad/sad (14).jpg written!\n",
      "images/fabrizio/raw_images/sad/sad (15).jpg written!\n",
      "images/fabrizio/raw_images/sad/sad (16).jpg written!\n",
      "images/fabrizio/raw_images/sad/sad (17).jpg written!\n",
      "images/fabrizio/raw_images/sad/sad (18).jpg written!\n",
      "images/fabrizio/raw_images/sad/sad (19).jpg written!\n",
      "images/fabrizio/raw_images/sad/sad (20).jpg written!\n",
      "images/fabrizio/raw_images/sad/sad (21).jpg written!\n",
      "images/fabrizio/raw_images/sad/sad (22).jpg written!\n",
      "images/fabrizio/raw_images/sad/sad (23).jpg written!\n",
      "images/fabrizio/raw_images/sad/sad (24).jpg written!\n",
      "images/fabrizio/raw_images/sad/sad (25).jpg written!\n",
      "images/fabrizio/raw_images/sad/sad (26).jpg written!\n",
      "images/fabrizio/raw_images/sad/sad (27).jpg written!\n",
      "images/fabrizio/raw_images/sad/sad (28).jpg written!\n",
      "images/fabrizio/raw_images/sad/sad (29).jpg written!\n",
      "images/fabrizio/raw_images/sad/sad (30).jpg written!\n",
      "images/fabrizio/raw_images/sad/sad (31).jpg written!\n",
      "images/fabrizio/raw_images/sad/sad (32).jpg written!\n",
      "images/fabrizio/raw_images/sad/sad (33).jpg written!\n",
      "images/fabrizio/raw_images/sad/sad (34).jpg written!\n",
      "images/fabrizio/raw_images/sad/sad (35).jpg written!\n",
      "images/fabrizio/raw_images/sad/sad (36).jpg written!\n",
      "images/fabrizio/raw_images/sad/sad (37).jpg written!\n",
      "images/fabrizio/raw_images/sad/sad (38).jpg written!\n",
      "images/fabrizio/raw_images/sad/sad (39).jpg written!\n",
      "images/fabrizio/raw_images/sad/sad (40).jpg written!\n",
      "images/fabrizio/raw_images/sad/sad (41).jpg written!\n",
      "images/fabrizio/raw_images/sad/sad (42).jpg written!\n",
      "images/fabrizio/raw_images/sad/sad (43).jpg written!\n",
      "images/fabrizio/raw_images/sad/sad (44).jpg written!\n",
      "images/fabrizio/raw_images/sad/sad (45).jpg written!\n",
      "images/fabrizio/raw_images/sad/sad (46).jpg written!\n",
      "images/fabrizio/raw_images/sad/sad (47).jpg written!\n",
      "images/fabrizio/raw_images/sad/sad (48).jpg written!\n",
      "images/fabrizio/raw_images/sad/sad (49).jpg written!\n",
      "images/fabrizio/raw_images/sad/sad (50).jpg written!\n",
      "images/fabrizio/raw_images/sad/sad (51).jpg written!\n",
      "images/fabrizio/raw_images/sad/sad (52).jpg written!\n",
      "images/fabrizio/raw_images/sad/sad (53).jpg written!\n",
      "images/fabrizio/raw_images/sad/sad (54).jpg written!\n",
      "images/fabrizio/raw_images/sad/sad (55).jpg written!\n",
      "images/fabrizio/raw_images/sad/sad (56).jpg written!\n",
      "images/fabrizio/raw_images/sad/sad (57).jpg written!\n",
      "images/fabrizio/raw_images/sad/sad (58).jpg written!\n",
      "images/fabrizio/raw_images/sad/sad (59).jpg written!\n",
      "images/fabrizio/raw_images/sad/sad (60).jpg written!\n",
      "images/fabrizio/raw_images/sad/sad (61).jpg written!\n",
      "images/fabrizio/raw_images/sad/sad (62).jpg written!\n",
      "images/fabrizio/raw_images/sad/sad (63).jpg written!\n",
      "images/fabrizio/raw_images/sad/sad (64).jpg written!\n",
      "images/fabrizio/raw_images/sad/sad (65).jpg written!\n",
      "images/fabrizio/raw_images/sad/sad (66).jpg written!\n",
      "images/fabrizio/raw_images/sad/sad (67).jpg written!\n",
      "images/fabrizio/raw_images/sad/sad (68).jpg written!\n",
      "images/fabrizio/raw_images/sad/sad (69).jpg written!\n",
      "images/fabrizio/raw_images/sad/sad (70).jpg written!\n",
      "images/fabrizio/raw_images/sad/sad (71).jpg written!\n",
      "images/fabrizio/raw_images/sad/sad (72).jpg written!\n",
      "images/fabrizio/raw_images/sad/sad (73).jpg written!\n",
      "images/fabrizio/raw_images/sad/sad (74).jpg written!\n",
      "images/fabrizio/raw_images/sad/sad (75).jpg written!\n",
      "images/fabrizio/raw_images/sad/sad (76).jpg written!\n",
      "images/fabrizio/raw_images/sad/sad (77).jpg written!\n",
      "images/fabrizio/raw_images/sad/sad (78).jpg written!\n",
      "images/fabrizio/raw_images/sad/sad (79).jpg written!\n",
      "images/fabrizio/raw_images/sad/sad (80).jpg written!\n",
      "images/fabrizio/raw_images/sad/sad (81).jpg written!\n",
      "images/fabrizio/raw_images/sad/sad (82).jpg written!\n",
      "images/fabrizio/raw_images/sad/sad (83).jpg written!\n",
      "images/fabrizio/raw_images/sad/sad (84).jpg written!\n",
      "images/fabrizio/raw_images/sad/sad (85).jpg written!\n",
      "images/fabrizio/raw_images/sad/sad (86).jpg written!\n",
      "images/fabrizio/raw_images/sad/sad (87).jpg written!\n",
      "images/fabrizio/raw_images/sad/sad (88).jpg written!\n",
      "images/fabrizio/raw_images/sad/sad (89).jpg written!\n",
      "images/fabrizio/raw_images/sad/sad (90).jpg written!\n",
      "images/fabrizio/raw_images/sad/sad (91).jpg written!\n",
      "images/fabrizio/raw_images/sad/sad (92).jpg written!\n",
      "images/fabrizio/raw_images/sad/sad (93).jpg written!\n",
      "images/fabrizio/raw_images/sad/sad (94).jpg written!\n",
      "images/fabrizio/raw_images/sad/sad (95).jpg written!\n",
      "images/fabrizio/raw_images/sad/sad (96).jpg written!\n",
      "images/fabrizio/raw_images/sad/sad (97).jpg written!\n",
      "images/fabrizio/raw_images/sad/sad (98).jpg written!\n",
      "images/fabrizio/raw_images/sad/sad (99).jpg written!\n",
      "images/fabrizio/raw_images/sad/sad (100).jpg written!\n",
      "images/fabrizio/raw_images/sad/sad (101).jpg written!\n",
      "images/fabrizio/raw_images/sad/sad (102).jpg written!\n",
      "images/fabrizio/raw_images/sad/sad (103).jpg written!\n",
      "images/fabrizio/raw_images/sad/sad (104).jpg written!\n",
      "images/fabrizio/raw_images/sad/sad (105).jpg written!\n",
      "images/fabrizio/raw_images/sad/sad (106).jpg written!\n",
      "images/fabrizio/raw_images/sad/sad (107).jpg written!\n",
      "images/fabrizio/raw_images/sad/sad (108).jpg written!\n",
      "images/fabrizio/raw_images/sad/sad (109).jpg written!\n",
      "Counter limit reached:110\n"
     ]
    }
   ],
   "source": [
    "acquisition_cam(directory = from_directory, subject = \"sad\", init_number = 0,\n",
    "                counter_limit = 110, time_sleep = 0.5, numbered = True)"
   ]
  },
  {
   "cell_type": "code",
   "execution_count": 57,
   "metadata": {},
   "outputs": [
    {
     "name": "stdout",
     "output_type": "stream",
     "text": [
      "Created 108/110 images cropped\n"
     ]
    }
   ],
   "source": [
    "write_imgs(from_directory = from_directory, to_directory = to_directory, color = \"RGB\",\n",
    "           scale_factor = 1.2, classifier = 'haarCascade/haarcascade_frontalface_alt2.xml', minNeighbors = 8)"
   ]
  },
  {
   "cell_type": "markdown",
   "metadata": {},
   "source": [
    "- ### Angry person images è.é"
   ]
  },
  {
   "cell_type": "code",
   "execution_count": 58,
   "metadata": {},
   "outputs": [],
   "source": [
    "from_directory = \"images/fabrizio/raw_images/angry/\"\n",
    "to_directory = \"images/fabrizio/angry/\""
   ]
  },
  {
   "cell_type": "code",
   "execution_count": 59,
   "metadata": {},
   "outputs": [
    {
     "name": "stdout",
     "output_type": "stream",
     "text": [
      "images/fabrizio/raw_images/angry/angry (0).jpg written!\n",
      "images/fabrizio/raw_images/angry/angry (1).jpg written!\n",
      "images/fabrizio/raw_images/angry/angry (2).jpg written!\n",
      "images/fabrizio/raw_images/angry/angry (3).jpg written!\n",
      "images/fabrizio/raw_images/angry/angry (4).jpg written!\n",
      "images/fabrizio/raw_images/angry/angry (5).jpg written!\n",
      "images/fabrizio/raw_images/angry/angry (6).jpg written!\n",
      "images/fabrizio/raw_images/angry/angry (7).jpg written!\n",
      "images/fabrizio/raw_images/angry/angry (8).jpg written!\n",
      "images/fabrizio/raw_images/angry/angry (9).jpg written!\n",
      "images/fabrizio/raw_images/angry/angry (10).jpg written!\n",
      "images/fabrizio/raw_images/angry/angry (11).jpg written!\n",
      "images/fabrizio/raw_images/angry/angry (12).jpg written!\n",
      "images/fabrizio/raw_images/angry/angry (13).jpg written!\n",
      "images/fabrizio/raw_images/angry/angry (14).jpg written!\n",
      "images/fabrizio/raw_images/angry/angry (15).jpg written!\n",
      "images/fabrizio/raw_images/angry/angry (16).jpg written!\n",
      "images/fabrizio/raw_images/angry/angry (17).jpg written!\n",
      "images/fabrizio/raw_images/angry/angry (18).jpg written!\n",
      "images/fabrizio/raw_images/angry/angry (19).jpg written!\n",
      "images/fabrizio/raw_images/angry/angry (20).jpg written!\n",
      "images/fabrizio/raw_images/angry/angry (21).jpg written!\n",
      "images/fabrizio/raw_images/angry/angry (22).jpg written!\n",
      "images/fabrizio/raw_images/angry/angry (23).jpg written!\n",
      "images/fabrizio/raw_images/angry/angry (24).jpg written!\n",
      "images/fabrizio/raw_images/angry/angry (25).jpg written!\n",
      "images/fabrizio/raw_images/angry/angry (26).jpg written!\n",
      "images/fabrizio/raw_images/angry/angry (27).jpg written!\n",
      "images/fabrizio/raw_images/angry/angry (28).jpg written!\n",
      "images/fabrizio/raw_images/angry/angry (29).jpg written!\n",
      "images/fabrizio/raw_images/angry/angry (30).jpg written!\n",
      "images/fabrizio/raw_images/angry/angry (31).jpg written!\n",
      "images/fabrizio/raw_images/angry/angry (32).jpg written!\n",
      "images/fabrizio/raw_images/angry/angry (33).jpg written!\n",
      "images/fabrizio/raw_images/angry/angry (34).jpg written!\n",
      "images/fabrizio/raw_images/angry/angry (35).jpg written!\n",
      "images/fabrizio/raw_images/angry/angry (36).jpg written!\n",
      "images/fabrizio/raw_images/angry/angry (37).jpg written!\n",
      "images/fabrizio/raw_images/angry/angry (38).jpg written!\n",
      "images/fabrizio/raw_images/angry/angry (39).jpg written!\n",
      "images/fabrizio/raw_images/angry/angry (40).jpg written!\n",
      "images/fabrizio/raw_images/angry/angry (41).jpg written!\n",
      "images/fabrizio/raw_images/angry/angry (42).jpg written!\n",
      "images/fabrizio/raw_images/angry/angry (43).jpg written!\n",
      "images/fabrizio/raw_images/angry/angry (44).jpg written!\n",
      "images/fabrizio/raw_images/angry/angry (45).jpg written!\n",
      "images/fabrizio/raw_images/angry/angry (46).jpg written!\n",
      "images/fabrizio/raw_images/angry/angry (47).jpg written!\n",
      "images/fabrizio/raw_images/angry/angry (48).jpg written!\n",
      "images/fabrizio/raw_images/angry/angry (49).jpg written!\n",
      "images/fabrizio/raw_images/angry/angry (50).jpg written!\n",
      "images/fabrizio/raw_images/angry/angry (51).jpg written!\n",
      "images/fabrizio/raw_images/angry/angry (52).jpg written!\n",
      "images/fabrizio/raw_images/angry/angry (53).jpg written!\n",
      "images/fabrizio/raw_images/angry/angry (54).jpg written!\n",
      "images/fabrizio/raw_images/angry/angry (55).jpg written!\n",
      "images/fabrizio/raw_images/angry/angry (56).jpg written!\n",
      "images/fabrizio/raw_images/angry/angry (57).jpg written!\n",
      "images/fabrizio/raw_images/angry/angry (58).jpg written!\n",
      "images/fabrizio/raw_images/angry/angry (59).jpg written!\n",
      "images/fabrizio/raw_images/angry/angry (60).jpg written!\n",
      "images/fabrizio/raw_images/angry/angry (61).jpg written!\n",
      "images/fabrizio/raw_images/angry/angry (62).jpg written!\n",
      "images/fabrizio/raw_images/angry/angry (63).jpg written!\n",
      "images/fabrizio/raw_images/angry/angry (64).jpg written!\n",
      "images/fabrizio/raw_images/angry/angry (65).jpg written!\n",
      "images/fabrizio/raw_images/angry/angry (66).jpg written!\n",
      "images/fabrizio/raw_images/angry/angry (67).jpg written!\n",
      "images/fabrizio/raw_images/angry/angry (68).jpg written!\n",
      "images/fabrizio/raw_images/angry/angry (69).jpg written!\n",
      "images/fabrizio/raw_images/angry/angry (70).jpg written!\n",
      "images/fabrizio/raw_images/angry/angry (71).jpg written!\n",
      "images/fabrizio/raw_images/angry/angry (72).jpg written!\n",
      "images/fabrizio/raw_images/angry/angry (73).jpg written!\n",
      "images/fabrizio/raw_images/angry/angry (74).jpg written!\n",
      "images/fabrizio/raw_images/angry/angry (75).jpg written!\n",
      "images/fabrizio/raw_images/angry/angry (76).jpg written!\n",
      "images/fabrizio/raw_images/angry/angry (77).jpg written!\n",
      "images/fabrizio/raw_images/angry/angry (78).jpg written!\n",
      "images/fabrizio/raw_images/angry/angry (79).jpg written!\n",
      "images/fabrizio/raw_images/angry/angry (80).jpg written!\n",
      "images/fabrizio/raw_images/angry/angry (81).jpg written!\n",
      "images/fabrizio/raw_images/angry/angry (82).jpg written!\n",
      "images/fabrizio/raw_images/angry/angry (83).jpg written!\n",
      "images/fabrizio/raw_images/angry/angry (84).jpg written!\n",
      "images/fabrizio/raw_images/angry/angry (85).jpg written!\n",
      "images/fabrizio/raw_images/angry/angry (86).jpg written!\n",
      "images/fabrizio/raw_images/angry/angry (87).jpg written!\n",
      "images/fabrizio/raw_images/angry/angry (88).jpg written!\n",
      "images/fabrizio/raw_images/angry/angry (89).jpg written!\n",
      "images/fabrizio/raw_images/angry/angry (90).jpg written!\n",
      "images/fabrizio/raw_images/angry/angry (91).jpg written!\n",
      "images/fabrizio/raw_images/angry/angry (92).jpg written!\n",
      "images/fabrizio/raw_images/angry/angry (93).jpg written!\n",
      "images/fabrizio/raw_images/angry/angry (94).jpg written!\n",
      "images/fabrizio/raw_images/angry/angry (95).jpg written!\n",
      "images/fabrizio/raw_images/angry/angry (96).jpg written!\n",
      "images/fabrizio/raw_images/angry/angry (97).jpg written!\n",
      "images/fabrizio/raw_images/angry/angry (98).jpg written!\n",
      "images/fabrizio/raw_images/angry/angry (99).jpg written!\n",
      "images/fabrizio/raw_images/angry/angry (100).jpg written!\n",
      "images/fabrizio/raw_images/angry/angry (101).jpg written!\n",
      "images/fabrizio/raw_images/angry/angry (102).jpg written!\n",
      "images/fabrizio/raw_images/angry/angry (103).jpg written!\n",
      "images/fabrizio/raw_images/angry/angry (104).jpg written!\n",
      "images/fabrizio/raw_images/angry/angry (105).jpg written!\n",
      "images/fabrizio/raw_images/angry/angry (106).jpg written!\n",
      "images/fabrizio/raw_images/angry/angry (107).jpg written!\n",
      "images/fabrizio/raw_images/angry/angry (108).jpg written!\n",
      "images/fabrizio/raw_images/angry/angry (109).jpg written!\n",
      "Counter limit reached:110\n"
     ]
    }
   ],
   "source": [
    "acquisition_cam(directory = from_directory, subject = \"angry\", init_number = 0,\n",
    "                counter_limit = 110, time_sleep = 0.5, numbered = True)"
   ]
  },
  {
   "cell_type": "code",
   "execution_count": 60,
   "metadata": {},
   "outputs": [
    {
     "name": "stdout",
     "output_type": "stream",
     "text": [
      "Created 103/110 images cropped\n"
     ]
    }
   ],
   "source": [
    "write_imgs(from_directory = from_directory, to_directory = to_directory, color = \"RGB\",\n",
    "           scale_factor = 1.2, classifier = 'haarCascade/haarcascade_frontalface_alt2.xml', minNeighbors = 8)"
   ]
  },
  {
   "cell_type": "markdown",
   "metadata": {},
   "source": [
    "- ### Surprised person images :O"
   ]
  },
  {
   "cell_type": "code",
   "execution_count": 64,
   "metadata": {},
   "outputs": [],
   "source": [
    "from_directory = \"images/fabrizio/raw_images/surprise/\"\n",
    "to_directory = \"images/fabrizio/surprise/\""
   ]
  },
  {
   "cell_type": "code",
   "execution_count": 65,
   "metadata": {},
   "outputs": [
    {
     "name": "stdout",
     "output_type": "stream",
     "text": [
      "images/fabrizio/raw_images/surprise/surprise (0).jpg written!\n",
      "images/fabrizio/raw_images/surprise/surprise (1).jpg written!\n",
      "images/fabrizio/raw_images/surprise/surprise (2).jpg written!\n",
      "images/fabrizio/raw_images/surprise/surprise (3).jpg written!\n",
      "images/fabrizio/raw_images/surprise/surprise (4).jpg written!\n",
      "images/fabrizio/raw_images/surprise/surprise (5).jpg written!\n",
      "images/fabrizio/raw_images/surprise/surprise (6).jpg written!\n",
      "images/fabrizio/raw_images/surprise/surprise (7).jpg written!\n",
      "images/fabrizio/raw_images/surprise/surprise (8).jpg written!\n",
      "images/fabrizio/raw_images/surprise/surprise (9).jpg written!\n",
      "images/fabrizio/raw_images/surprise/surprise (10).jpg written!\n",
      "images/fabrizio/raw_images/surprise/surprise (11).jpg written!\n",
      "images/fabrizio/raw_images/surprise/surprise (12).jpg written!\n",
      "images/fabrizio/raw_images/surprise/surprise (13).jpg written!\n",
      "images/fabrizio/raw_images/surprise/surprise (14).jpg written!\n",
      "images/fabrizio/raw_images/surprise/surprise (15).jpg written!\n",
      "images/fabrizio/raw_images/surprise/surprise (16).jpg written!\n",
      "images/fabrizio/raw_images/surprise/surprise (17).jpg written!\n",
      "images/fabrizio/raw_images/surprise/surprise (18).jpg written!\n",
      "images/fabrizio/raw_images/surprise/surprise (19).jpg written!\n",
      "images/fabrizio/raw_images/surprise/surprise (20).jpg written!\n",
      "images/fabrizio/raw_images/surprise/surprise (21).jpg written!\n",
      "images/fabrizio/raw_images/surprise/surprise (22).jpg written!\n",
      "images/fabrizio/raw_images/surprise/surprise (23).jpg written!\n",
      "images/fabrizio/raw_images/surprise/surprise (24).jpg written!\n",
      "images/fabrizio/raw_images/surprise/surprise (25).jpg written!\n",
      "images/fabrizio/raw_images/surprise/surprise (26).jpg written!\n",
      "images/fabrizio/raw_images/surprise/surprise (27).jpg written!\n",
      "images/fabrizio/raw_images/surprise/surprise (28).jpg written!\n",
      "images/fabrizio/raw_images/surprise/surprise (29).jpg written!\n",
      "images/fabrizio/raw_images/surprise/surprise (30).jpg written!\n",
      "images/fabrizio/raw_images/surprise/surprise (31).jpg written!\n",
      "images/fabrizio/raw_images/surprise/surprise (32).jpg written!\n",
      "images/fabrizio/raw_images/surprise/surprise (33).jpg written!\n",
      "images/fabrizio/raw_images/surprise/surprise (34).jpg written!\n",
      "images/fabrizio/raw_images/surprise/surprise (35).jpg written!\n",
      "images/fabrizio/raw_images/surprise/surprise (36).jpg written!\n",
      "images/fabrizio/raw_images/surprise/surprise (37).jpg written!\n",
      "images/fabrizio/raw_images/surprise/surprise (38).jpg written!\n",
      "images/fabrizio/raw_images/surprise/surprise (39).jpg written!\n",
      "images/fabrizio/raw_images/surprise/surprise (40).jpg written!\n",
      "images/fabrizio/raw_images/surprise/surprise (41).jpg written!\n",
      "images/fabrizio/raw_images/surprise/surprise (42).jpg written!\n",
      "images/fabrizio/raw_images/surprise/surprise (43).jpg written!\n",
      "images/fabrizio/raw_images/surprise/surprise (44).jpg written!\n",
      "images/fabrizio/raw_images/surprise/surprise (45).jpg written!\n",
      "images/fabrizio/raw_images/surprise/surprise (46).jpg written!\n",
      "images/fabrizio/raw_images/surprise/surprise (47).jpg written!\n",
      "images/fabrizio/raw_images/surprise/surprise (48).jpg written!\n",
      "images/fabrizio/raw_images/surprise/surprise (49).jpg written!\n",
      "images/fabrizio/raw_images/surprise/surprise (50).jpg written!\n",
      "images/fabrizio/raw_images/surprise/surprise (51).jpg written!\n",
      "images/fabrizio/raw_images/surprise/surprise (52).jpg written!\n",
      "images/fabrizio/raw_images/surprise/surprise (53).jpg written!\n",
      "images/fabrizio/raw_images/surprise/surprise (54).jpg written!\n",
      "images/fabrizio/raw_images/surprise/surprise (55).jpg written!\n",
      "images/fabrizio/raw_images/surprise/surprise (56).jpg written!\n",
      "images/fabrizio/raw_images/surprise/surprise (57).jpg written!\n",
      "images/fabrizio/raw_images/surprise/surprise (58).jpg written!\n",
      "images/fabrizio/raw_images/surprise/surprise (59).jpg written!\n",
      "images/fabrizio/raw_images/surprise/surprise (60).jpg written!\n",
      "images/fabrizio/raw_images/surprise/surprise (61).jpg written!\n",
      "images/fabrizio/raw_images/surprise/surprise (62).jpg written!\n",
      "images/fabrizio/raw_images/surprise/surprise (63).jpg written!\n",
      "images/fabrizio/raw_images/surprise/surprise (64).jpg written!\n",
      "images/fabrizio/raw_images/surprise/surprise (65).jpg written!\n",
      "images/fabrizio/raw_images/surprise/surprise (66).jpg written!\n",
      "images/fabrizio/raw_images/surprise/surprise (67).jpg written!\n",
      "images/fabrizio/raw_images/surprise/surprise (68).jpg written!\n",
      "images/fabrizio/raw_images/surprise/surprise (69).jpg written!\n",
      "images/fabrizio/raw_images/surprise/surprise (70).jpg written!\n",
      "images/fabrizio/raw_images/surprise/surprise (71).jpg written!\n",
      "images/fabrizio/raw_images/surprise/surprise (72).jpg written!\n",
      "images/fabrizio/raw_images/surprise/surprise (73).jpg written!\n",
      "images/fabrizio/raw_images/surprise/surprise (74).jpg written!\n",
      "images/fabrizio/raw_images/surprise/surprise (75).jpg written!\n",
      "images/fabrizio/raw_images/surprise/surprise (76).jpg written!\n",
      "images/fabrizio/raw_images/surprise/surprise (77).jpg written!\n",
      "images/fabrizio/raw_images/surprise/surprise (78).jpg written!\n",
      "images/fabrizio/raw_images/surprise/surprise (79).jpg written!\n",
      "images/fabrizio/raw_images/surprise/surprise (80).jpg written!\n",
      "images/fabrizio/raw_images/surprise/surprise (81).jpg written!\n",
      "images/fabrizio/raw_images/surprise/surprise (82).jpg written!\n",
      "images/fabrizio/raw_images/surprise/surprise (83).jpg written!\n",
      "images/fabrizio/raw_images/surprise/surprise (84).jpg written!\n",
      "images/fabrizio/raw_images/surprise/surprise (85).jpg written!\n",
      "images/fabrizio/raw_images/surprise/surprise (86).jpg written!\n",
      "images/fabrizio/raw_images/surprise/surprise (87).jpg written!\n",
      "images/fabrizio/raw_images/surprise/surprise (88).jpg written!\n",
      "images/fabrizio/raw_images/surprise/surprise (89).jpg written!\n",
      "images/fabrizio/raw_images/surprise/surprise (90).jpg written!\n",
      "images/fabrizio/raw_images/surprise/surprise (91).jpg written!\n",
      "images/fabrizio/raw_images/surprise/surprise (92).jpg written!\n",
      "images/fabrizio/raw_images/surprise/surprise (93).jpg written!\n",
      "images/fabrizio/raw_images/surprise/surprise (94).jpg written!\n",
      "images/fabrizio/raw_images/surprise/surprise (95).jpg written!\n",
      "images/fabrizio/raw_images/surprise/surprise (96).jpg written!\n",
      "images/fabrizio/raw_images/surprise/surprise (97).jpg written!\n",
      "images/fabrizio/raw_images/surprise/surprise (98).jpg written!\n",
      "images/fabrizio/raw_images/surprise/surprise (99).jpg written!\n",
      "images/fabrizio/raw_images/surprise/surprise (100).jpg written!\n",
      "images/fabrizio/raw_images/surprise/surprise (101).jpg written!\n",
      "images/fabrizio/raw_images/surprise/surprise (102).jpg written!\n",
      "images/fabrizio/raw_images/surprise/surprise (103).jpg written!\n",
      "images/fabrizio/raw_images/surprise/surprise (104).jpg written!\n",
      "images/fabrizio/raw_images/surprise/surprise (105).jpg written!\n",
      "images/fabrizio/raw_images/surprise/surprise (106).jpg written!\n",
      "images/fabrizio/raw_images/surprise/surprise (107).jpg written!\n",
      "images/fabrizio/raw_images/surprise/surprise (108).jpg written!\n",
      "images/fabrizio/raw_images/surprise/surprise (109).jpg written!\n",
      "Counter limit reached:110\n"
     ]
    }
   ],
   "source": [
    "acquisition_cam(directory = from_directory, subject = \"surprise\", init_number = 0,\n",
    "                counter_limit = 110, time_sleep = 0.5, numbered = True)"
   ]
  },
  {
   "cell_type": "code",
   "execution_count": 66,
   "metadata": {},
   "outputs": [
    {
     "name": "stdout",
     "output_type": "stream",
     "text": [
      "Created 13/110 images cropped\n"
     ]
    }
   ],
   "source": [
    "write_imgs(from_directory = from_directory, to_directory = to_directory, color = \"RGB\",\n",
    "           scale_factor = 1.2, classifier = 'haarCascade/haarcascade_frontalface_alt2.xml', minNeighbors = 8)"
   ]
  },
  {
   "cell_type": "markdown",
   "metadata": {},
   "source": [
    "- ### Disgusted person images Dx"
   ]
  },
  {
   "cell_type": "code",
   "execution_count": 67,
   "metadata": {},
   "outputs": [],
   "source": [
    "from_directory = \"images/fabrizio/raw_images/disgust/\"\n",
    "to_directory = \"images/fabrizio/disgust/\""
   ]
  },
  {
   "cell_type": "code",
   "execution_count": 68,
   "metadata": {},
   "outputs": [
    {
     "name": "stdout",
     "output_type": "stream",
     "text": [
      "images/fabrizio/raw_images/disgust/disgust (0).jpg written!\n",
      "images/fabrizio/raw_images/disgust/disgust (1).jpg written!\n",
      "images/fabrizio/raw_images/disgust/disgust (2).jpg written!\n",
      "images/fabrizio/raw_images/disgust/disgust (3).jpg written!\n",
      "images/fabrizio/raw_images/disgust/disgust (4).jpg written!\n",
      "images/fabrizio/raw_images/disgust/disgust (5).jpg written!\n",
      "images/fabrizio/raw_images/disgust/disgust (6).jpg written!\n",
      "images/fabrizio/raw_images/disgust/disgust (7).jpg written!\n",
      "images/fabrizio/raw_images/disgust/disgust (8).jpg written!\n",
      "images/fabrizio/raw_images/disgust/disgust (9).jpg written!\n",
      "images/fabrizio/raw_images/disgust/disgust (10).jpg written!\n",
      "images/fabrizio/raw_images/disgust/disgust (11).jpg written!\n",
      "images/fabrizio/raw_images/disgust/disgust (12).jpg written!\n",
      "images/fabrizio/raw_images/disgust/disgust (13).jpg written!\n",
      "images/fabrizio/raw_images/disgust/disgust (14).jpg written!\n",
      "images/fabrizio/raw_images/disgust/disgust (15).jpg written!\n",
      "images/fabrizio/raw_images/disgust/disgust (16).jpg written!\n",
      "images/fabrizio/raw_images/disgust/disgust (17).jpg written!\n",
      "images/fabrizio/raw_images/disgust/disgust (18).jpg written!\n",
      "images/fabrizio/raw_images/disgust/disgust (19).jpg written!\n",
      "images/fabrizio/raw_images/disgust/disgust (20).jpg written!\n",
      "images/fabrizio/raw_images/disgust/disgust (21).jpg written!\n",
      "images/fabrizio/raw_images/disgust/disgust (22).jpg written!\n",
      "images/fabrizio/raw_images/disgust/disgust (23).jpg written!\n",
      "images/fabrizio/raw_images/disgust/disgust (24).jpg written!\n",
      "images/fabrizio/raw_images/disgust/disgust (25).jpg written!\n",
      "images/fabrizio/raw_images/disgust/disgust (26).jpg written!\n",
      "images/fabrizio/raw_images/disgust/disgust (27).jpg written!\n",
      "images/fabrizio/raw_images/disgust/disgust (28).jpg written!\n",
      "images/fabrizio/raw_images/disgust/disgust (29).jpg written!\n",
      "images/fabrizio/raw_images/disgust/disgust (30).jpg written!\n",
      "images/fabrizio/raw_images/disgust/disgust (31).jpg written!\n",
      "images/fabrizio/raw_images/disgust/disgust (32).jpg written!\n",
      "images/fabrizio/raw_images/disgust/disgust (33).jpg written!\n",
      "images/fabrizio/raw_images/disgust/disgust (34).jpg written!\n",
      "images/fabrizio/raw_images/disgust/disgust (35).jpg written!\n",
      "images/fabrizio/raw_images/disgust/disgust (36).jpg written!\n",
      "images/fabrizio/raw_images/disgust/disgust (37).jpg written!\n",
      "images/fabrizio/raw_images/disgust/disgust (38).jpg written!\n",
      "images/fabrizio/raw_images/disgust/disgust (39).jpg written!\n",
      "images/fabrizio/raw_images/disgust/disgust (40).jpg written!\n",
      "images/fabrizio/raw_images/disgust/disgust (41).jpg written!\n",
      "images/fabrizio/raw_images/disgust/disgust (42).jpg written!\n",
      "images/fabrizio/raw_images/disgust/disgust (43).jpg written!\n",
      "images/fabrizio/raw_images/disgust/disgust (44).jpg written!\n",
      "images/fabrizio/raw_images/disgust/disgust (45).jpg written!\n",
      "images/fabrizio/raw_images/disgust/disgust (46).jpg written!\n",
      "images/fabrizio/raw_images/disgust/disgust (47).jpg written!\n",
      "images/fabrizio/raw_images/disgust/disgust (48).jpg written!\n",
      "images/fabrizio/raw_images/disgust/disgust (49).jpg written!\n",
      "images/fabrizio/raw_images/disgust/disgust (50).jpg written!\n",
      "images/fabrizio/raw_images/disgust/disgust (51).jpg written!\n",
      "images/fabrizio/raw_images/disgust/disgust (52).jpg written!\n",
      "images/fabrizio/raw_images/disgust/disgust (53).jpg written!\n",
      "images/fabrizio/raw_images/disgust/disgust (54).jpg written!\n",
      "images/fabrizio/raw_images/disgust/disgust (55).jpg written!\n",
      "images/fabrizio/raw_images/disgust/disgust (56).jpg written!\n",
      "images/fabrizio/raw_images/disgust/disgust (57).jpg written!\n",
      "images/fabrizio/raw_images/disgust/disgust (58).jpg written!\n",
      "images/fabrizio/raw_images/disgust/disgust (59).jpg written!\n",
      "images/fabrizio/raw_images/disgust/disgust (60).jpg written!\n",
      "images/fabrizio/raw_images/disgust/disgust (61).jpg written!\n",
      "images/fabrizio/raw_images/disgust/disgust (62).jpg written!\n",
      "images/fabrizio/raw_images/disgust/disgust (63).jpg written!\n",
      "images/fabrizio/raw_images/disgust/disgust (64).jpg written!\n",
      "images/fabrizio/raw_images/disgust/disgust (65).jpg written!\n",
      "images/fabrizio/raw_images/disgust/disgust (66).jpg written!\n",
      "images/fabrizio/raw_images/disgust/disgust (67).jpg written!\n",
      "images/fabrizio/raw_images/disgust/disgust (68).jpg written!\n",
      "images/fabrizio/raw_images/disgust/disgust (69).jpg written!\n",
      "images/fabrizio/raw_images/disgust/disgust (70).jpg written!\n",
      "images/fabrizio/raw_images/disgust/disgust (71).jpg written!\n",
      "images/fabrizio/raw_images/disgust/disgust (72).jpg written!\n",
      "images/fabrizio/raw_images/disgust/disgust (73).jpg written!\n",
      "images/fabrizio/raw_images/disgust/disgust (74).jpg written!\n",
      "images/fabrizio/raw_images/disgust/disgust (75).jpg written!\n",
      "images/fabrizio/raw_images/disgust/disgust (76).jpg written!\n",
      "images/fabrizio/raw_images/disgust/disgust (77).jpg written!\n",
      "images/fabrizio/raw_images/disgust/disgust (78).jpg written!\n",
      "images/fabrizio/raw_images/disgust/disgust (79).jpg written!\n",
      "images/fabrizio/raw_images/disgust/disgust (80).jpg written!\n",
      "images/fabrizio/raw_images/disgust/disgust (81).jpg written!\n",
      "images/fabrizio/raw_images/disgust/disgust (82).jpg written!\n",
      "images/fabrizio/raw_images/disgust/disgust (83).jpg written!\n",
      "images/fabrizio/raw_images/disgust/disgust (84).jpg written!\n",
      "images/fabrizio/raw_images/disgust/disgust (85).jpg written!\n",
      "images/fabrizio/raw_images/disgust/disgust (86).jpg written!\n",
      "images/fabrizio/raw_images/disgust/disgust (87).jpg written!\n",
      "images/fabrizio/raw_images/disgust/disgust (88).jpg written!\n",
      "images/fabrizio/raw_images/disgust/disgust (89).jpg written!\n",
      "images/fabrizio/raw_images/disgust/disgust (90).jpg written!\n",
      "images/fabrizio/raw_images/disgust/disgust (91).jpg written!\n",
      "images/fabrizio/raw_images/disgust/disgust (92).jpg written!\n",
      "images/fabrizio/raw_images/disgust/disgust (93).jpg written!\n",
      "images/fabrizio/raw_images/disgust/disgust (94).jpg written!\n",
      "images/fabrizio/raw_images/disgust/disgust (95).jpg written!\n",
      "images/fabrizio/raw_images/disgust/disgust (96).jpg written!\n",
      "images/fabrizio/raw_images/disgust/disgust (97).jpg written!\n",
      "images/fabrizio/raw_images/disgust/disgust (98).jpg written!\n",
      "images/fabrizio/raw_images/disgust/disgust (99).jpg written!\n",
      "images/fabrizio/raw_images/disgust/disgust (100).jpg written!\n",
      "images/fabrizio/raw_images/disgust/disgust (101).jpg written!\n",
      "images/fabrizio/raw_images/disgust/disgust (102).jpg written!\n",
      "images/fabrizio/raw_images/disgust/disgust (103).jpg written!\n",
      "images/fabrizio/raw_images/disgust/disgust (104).jpg written!\n",
      "images/fabrizio/raw_images/disgust/disgust (105).jpg written!\n",
      "images/fabrizio/raw_images/disgust/disgust (106).jpg written!\n",
      "images/fabrizio/raw_images/disgust/disgust (107).jpg written!\n",
      "images/fabrizio/raw_images/disgust/disgust (108).jpg written!\n",
      "images/fabrizio/raw_images/disgust/disgust (109).jpg written!\n",
      "Counter limit reached:110\n"
     ]
    }
   ],
   "source": [
    "acquisition_cam(directory = from_directory, subject = \"disgust\", init_number = 0,\n",
    "                counter_limit = 110, time_sleep = 0.5, numbered = True)"
   ]
  },
  {
   "cell_type": "code",
   "execution_count": 69,
   "metadata": {},
   "outputs": [
    {
     "name": "stdout",
     "output_type": "stream",
     "text": [
      "Created 57/110 images cropped\n"
     ]
    }
   ],
   "source": [
    "write_imgs(from_directory = from_directory, to_directory = to_directory, color = \"RGB\",\n",
    "           scale_factor = 1.2, classifier = 'haarCascade/haarcascade_frontalface_alt2.xml', minNeighbors = 8)"
   ]
  },
  {
   "cell_type": "markdown",
   "metadata": {},
   "source": [
    "- ### Fearful person images :S"
   ]
  },
  {
   "cell_type": "code",
   "execution_count": 74,
   "metadata": {},
   "outputs": [],
   "source": [
    "from_directory = \"images/fabrizio/raw_images/fear/\"\n",
    "to_directory = \"images/fabrizio/fear/\""
   ]
  },
  {
   "cell_type": "code",
   "execution_count": 75,
   "metadata": {},
   "outputs": [
    {
     "name": "stdout",
     "output_type": "stream",
     "text": [
      "images/fabrizio/raw_images/fear/fear (0).jpg written!\n",
      "images/fabrizio/raw_images/fear/fear (1).jpg written!\n",
      "images/fabrizio/raw_images/fear/fear (2).jpg written!\n",
      "images/fabrizio/raw_images/fear/fear (3).jpg written!\n",
      "images/fabrizio/raw_images/fear/fear (4).jpg written!\n",
      "images/fabrizio/raw_images/fear/fear (5).jpg written!\n",
      "images/fabrizio/raw_images/fear/fear (6).jpg written!\n",
      "images/fabrizio/raw_images/fear/fear (7).jpg written!\n",
      "images/fabrizio/raw_images/fear/fear (8).jpg written!\n",
      "images/fabrizio/raw_images/fear/fear (9).jpg written!\n",
      "images/fabrizio/raw_images/fear/fear (10).jpg written!\n",
      "images/fabrizio/raw_images/fear/fear (11).jpg written!\n",
      "images/fabrizio/raw_images/fear/fear (12).jpg written!\n",
      "images/fabrizio/raw_images/fear/fear (13).jpg written!\n",
      "images/fabrizio/raw_images/fear/fear (14).jpg written!\n",
      "images/fabrizio/raw_images/fear/fear (15).jpg written!\n",
      "images/fabrizio/raw_images/fear/fear (16).jpg written!\n",
      "images/fabrizio/raw_images/fear/fear (17).jpg written!\n",
      "images/fabrizio/raw_images/fear/fear (18).jpg written!\n",
      "images/fabrizio/raw_images/fear/fear (19).jpg written!\n",
      "images/fabrizio/raw_images/fear/fear (20).jpg written!\n",
      "images/fabrizio/raw_images/fear/fear (21).jpg written!\n",
      "images/fabrizio/raw_images/fear/fear (22).jpg written!\n",
      "images/fabrizio/raw_images/fear/fear (23).jpg written!\n",
      "images/fabrizio/raw_images/fear/fear (24).jpg written!\n",
      "images/fabrizio/raw_images/fear/fear (25).jpg written!\n",
      "images/fabrizio/raw_images/fear/fear (26).jpg written!\n",
      "images/fabrizio/raw_images/fear/fear (27).jpg written!\n",
      "images/fabrizio/raw_images/fear/fear (28).jpg written!\n",
      "images/fabrizio/raw_images/fear/fear (29).jpg written!\n",
      "images/fabrizio/raw_images/fear/fear (30).jpg written!\n",
      "images/fabrizio/raw_images/fear/fear (31).jpg written!\n",
      "images/fabrizio/raw_images/fear/fear (32).jpg written!\n",
      "images/fabrizio/raw_images/fear/fear (33).jpg written!\n",
      "images/fabrizio/raw_images/fear/fear (34).jpg written!\n",
      "images/fabrizio/raw_images/fear/fear (35).jpg written!\n",
      "images/fabrizio/raw_images/fear/fear (36).jpg written!\n",
      "images/fabrizio/raw_images/fear/fear (37).jpg written!\n",
      "images/fabrizio/raw_images/fear/fear (38).jpg written!\n",
      "images/fabrizio/raw_images/fear/fear (39).jpg written!\n",
      "images/fabrizio/raw_images/fear/fear (40).jpg written!\n",
      "images/fabrizio/raw_images/fear/fear (41).jpg written!\n",
      "images/fabrizio/raw_images/fear/fear (42).jpg written!\n",
      "images/fabrizio/raw_images/fear/fear (43).jpg written!\n",
      "images/fabrizio/raw_images/fear/fear (44).jpg written!\n",
      "images/fabrizio/raw_images/fear/fear (45).jpg written!\n",
      "images/fabrizio/raw_images/fear/fear (46).jpg written!\n",
      "images/fabrizio/raw_images/fear/fear (47).jpg written!\n",
      "images/fabrizio/raw_images/fear/fear (48).jpg written!\n",
      "images/fabrizio/raw_images/fear/fear (49).jpg written!\n",
      "images/fabrizio/raw_images/fear/fear (50).jpg written!\n",
      "images/fabrizio/raw_images/fear/fear (51).jpg written!\n",
      "images/fabrizio/raw_images/fear/fear (52).jpg written!\n",
      "images/fabrizio/raw_images/fear/fear (53).jpg written!\n",
      "images/fabrizio/raw_images/fear/fear (54).jpg written!\n",
      "images/fabrizio/raw_images/fear/fear (55).jpg written!\n",
      "images/fabrizio/raw_images/fear/fear (56).jpg written!\n",
      "images/fabrizio/raw_images/fear/fear (57).jpg written!\n",
      "images/fabrizio/raw_images/fear/fear (58).jpg written!\n",
      "images/fabrizio/raw_images/fear/fear (59).jpg written!\n",
      "images/fabrizio/raw_images/fear/fear (60).jpg written!\n",
      "images/fabrizio/raw_images/fear/fear (61).jpg written!\n",
      "images/fabrizio/raw_images/fear/fear (62).jpg written!\n",
      "images/fabrizio/raw_images/fear/fear (63).jpg written!\n",
      "images/fabrizio/raw_images/fear/fear (64).jpg written!\n",
      "images/fabrizio/raw_images/fear/fear (65).jpg written!\n",
      "images/fabrizio/raw_images/fear/fear (66).jpg written!\n",
      "images/fabrizio/raw_images/fear/fear (67).jpg written!\n",
      "images/fabrizio/raw_images/fear/fear (68).jpg written!\n",
      "images/fabrizio/raw_images/fear/fear (69).jpg written!\n",
      "images/fabrizio/raw_images/fear/fear (70).jpg written!\n",
      "images/fabrizio/raw_images/fear/fear (71).jpg written!\n",
      "images/fabrizio/raw_images/fear/fear (72).jpg written!\n",
      "images/fabrizio/raw_images/fear/fear (73).jpg written!\n",
      "images/fabrizio/raw_images/fear/fear (74).jpg written!\n",
      "images/fabrizio/raw_images/fear/fear (75).jpg written!\n",
      "images/fabrizio/raw_images/fear/fear (76).jpg written!\n",
      "images/fabrizio/raw_images/fear/fear (77).jpg written!\n",
      "images/fabrizio/raw_images/fear/fear (78).jpg written!\n",
      "images/fabrizio/raw_images/fear/fear (79).jpg written!\n",
      "images/fabrizio/raw_images/fear/fear (80).jpg written!\n",
      "images/fabrizio/raw_images/fear/fear (81).jpg written!\n",
      "images/fabrizio/raw_images/fear/fear (82).jpg written!\n",
      "images/fabrizio/raw_images/fear/fear (83).jpg written!\n",
      "images/fabrizio/raw_images/fear/fear (84).jpg written!\n",
      "images/fabrizio/raw_images/fear/fear (85).jpg written!\n",
      "images/fabrizio/raw_images/fear/fear (86).jpg written!\n",
      "images/fabrizio/raw_images/fear/fear (87).jpg written!\n",
      "images/fabrizio/raw_images/fear/fear (88).jpg written!\n",
      "images/fabrizio/raw_images/fear/fear (89).jpg written!\n",
      "images/fabrizio/raw_images/fear/fear (90).jpg written!\n",
      "images/fabrizio/raw_images/fear/fear (91).jpg written!\n",
      "images/fabrizio/raw_images/fear/fear (92).jpg written!\n",
      "images/fabrizio/raw_images/fear/fear (93).jpg written!\n",
      "images/fabrizio/raw_images/fear/fear (94).jpg written!\n",
      "images/fabrizio/raw_images/fear/fear (95).jpg written!\n",
      "images/fabrizio/raw_images/fear/fear (96).jpg written!\n",
      "images/fabrizio/raw_images/fear/fear (97).jpg written!\n",
      "images/fabrizio/raw_images/fear/fear (98).jpg written!\n",
      "images/fabrizio/raw_images/fear/fear (99).jpg written!\n",
      "images/fabrizio/raw_images/fear/fear (100).jpg written!\n",
      "images/fabrizio/raw_images/fear/fear (101).jpg written!\n",
      "images/fabrizio/raw_images/fear/fear (102).jpg written!\n",
      "images/fabrizio/raw_images/fear/fear (103).jpg written!\n",
      "images/fabrizio/raw_images/fear/fear (104).jpg written!\n",
      "images/fabrizio/raw_images/fear/fear (105).jpg written!\n",
      "images/fabrizio/raw_images/fear/fear (106).jpg written!\n",
      "images/fabrizio/raw_images/fear/fear (107).jpg written!\n",
      "images/fabrizio/raw_images/fear/fear (108).jpg written!\n",
      "images/fabrizio/raw_images/fear/fear (109).jpg written!\n",
      "Counter limit reached:110\n"
     ]
    }
   ],
   "source": [
    "acquisition_cam(directory = from_directory, subject = \"fear\", init_number = 0,\n",
    "                counter_limit = 110, time_sleep = 0.5, numbered = True)"
   ]
  },
  {
   "cell_type": "code",
   "execution_count": 76,
   "metadata": {},
   "outputs": [
    {
     "name": "stdout",
     "output_type": "stream",
     "text": [
      "Created 109/110 images cropped\n"
     ]
    }
   ],
   "source": [
    "write_imgs(from_directory = from_directory, to_directory = to_directory, color = \"RGB\",\n",
    "           scale_factor = 1.2, classifier = 'haarCascade/haarcascade_frontalface_alt2.xml', minNeighbors = 8)"
   ]
  },
  {
   "cell_type": "markdown",
   "metadata": {},
   "source": [
    "&nbsp;"
   ]
  },
  {
   "cell_type": "markdown",
   "metadata": {},
   "source": [
    "## Cropping Google images"
   ]
  },
  {
   "cell_type": "code",
   "execution_count": 2,
   "metadata": {},
   "outputs": [],
   "source": [
    "def write_imgs(from_directory, to_directory, init_number = 1,\n",
    "              classifier = 'haarcascade_frontalface_default.xml', scale_factor = 1.1, minNeighbors = 5,\n",
    "              size = (224, 224), color = \"RGB\"):\n",
    "    '''\n",
    "    This function takes in input images and after face detection apply a crop and a resize to that images.\n",
    "    \n",
    "    @params:\n",
    "    from_directory = where to find the photos\n",
    "    to_directory = where to save the photos\n",
    "    init_number = first number to start naming photos\n",
    "    classifier = face detector pre-trained (XML file)\n",
    "    scale_factor = value for classifier (from (1,inf), low values increase false positives)\n",
    "    minNeighbors = value for classifier (high values decrease false positives)\n",
    "    size = tuple, format of the saved image\n",
    "    color = RGB or BW (to save)\n",
    "    \n",
    "    '''\n",
    "    # viene assegnato il classificatore\n",
    "    face_cascade = cv.CascadeClassifier(classifier)\n",
    "    \n",
    "    # variabili per conteggio ed errori\n",
    "    flag = init_number\n",
    "    error = 0\n",
    "    \n",
    "    for filename in os.listdir(from_directory):\n",
    "        # check per leggere solamente file jpg o jpeg\n",
    "        if filename.endswith(\".jpg\") or filename.endswith(\".jpeg\"):\n",
    "            # lettura dell'immagine            \n",
    "            img = cv.imread(os.path.join(from_directory, filename))\n",
    "            # conversione immagine necessaria per il face detector\n",
    "            gray = cv.cvtColor(img, cv.COLOR_RGB2GRAY)\n",
    "            # esecuzione face detector\n",
    "            faces = face_cascade.detectMultiScale(gray, scale_factor, minNeighbors)\n",
    "            # check necessario per assegnare solo immagini in cui vengono trovati volti (altrimenti doppioni a catena!)\n",
    "            if len(faces) == 1:\n",
    "                for (x, y, w, h) in faces:\n",
    "                    # ritaglio dell'immagine rispetto al \"quadrato\" trovato\n",
    "                    roi_color = img[y:y+h, x:x+w]\n",
    "                    # resize dell'immagine\n",
    "                    n_img = cv.resize(roi_color, size)\n",
    "                    \n",
    "                    # salvataggio immagine\n",
    "                    if color == \"RGB\":\n",
    "                        cv.imwrite(os.path.join(to_directory, str(flag))+\"google_rgb.jpg\", n_img)\n",
    "                        flag += 1\n",
    "                    elif color == \"BW\":\n",
    "                        cv.imwrite(os.path.join(to_directory, str(flag))+\"google_bw.jpg\", cv.cvtColor(n_img, cv.COLOR_RGB2GRAY))\n",
    "                        flag += 1\n",
    "                        \n",
    "            # se non trova volti, prosegue qui            \n",
    "            else:\n",
    "                error += 1\n",
    "                try:\n",
    "                    # delete immagine per non creare doppioni (more safe!)\n",
    "                    del faces, n_img\n",
    "                # necessaria se non ha trovato volti (evitare crash code)\n",
    "                except:\n",
    "                    pass\n",
    "                \n",
    "    # output finale           \n",
    "    print('Created {}/{} images cropped'.format(flag-1, flag+error-1))\n",
    "                    \n",
    "    "
   ]
  },
  {
   "cell_type": "markdown",
   "metadata": {},
   "source": [
    "- ### Happy Google :) "
   ]
  },
  {
   "cell_type": "code",
   "execution_count": 22,
   "metadata": {
    "ExecuteTime": {
     "end_time": "2019-12-10T22:28:49.663211Z",
     "start_time": "2019-12-10T22:28:49.658256Z"
    }
   },
   "outputs": [],
   "source": [
    "from_directory = \"images/google_dataset/raw_images/happy/\"\n",
    "to_directory = \"images/google_dataset/happy/\""
   ]
  },
  {
   "cell_type": "code",
   "execution_count": 24,
   "metadata": {
    "ExecuteTime": {
     "end_time": "2019-12-10T22:30:21.857673Z",
     "start_time": "2019-12-10T22:28:51.219906Z"
    }
   },
   "outputs": [
    {
     "name": "stdout",
     "output_type": "stream",
     "text": [
      "Created 56/102 images cropped\n"
     ]
    }
   ],
   "source": [
    "# Image cropping\n",
    "\n",
    "write_imgs(from_directory = from_directory, to_directory = to_directory, color = \"RGB\",\n",
    "           scale_factor = 1.2, classifier = 'haarCascade/haarcascade_frontalface_alt2.xml', minNeighbors = 8)"
   ]
  },
  {
   "cell_type": "markdown",
   "metadata": {},
   "source": [
    "- ### Neutral Google :|"
   ]
  },
  {
   "cell_type": "code",
   "execution_count": 7,
   "metadata": {},
   "outputs": [],
   "source": [
    "from_directory = \"images/google_dataset/raw_images/neutral/\"\n",
    "to_directory = \"images/google_dataset/neutral/\""
   ]
  },
  {
   "cell_type": "code",
   "execution_count": 9,
   "metadata": {},
   "outputs": [
    {
     "name": "stdout",
     "output_type": "stream",
     "text": [
      "Created 74/98 images cropped\n"
     ]
    }
   ],
   "source": [
    "write_imgs(from_directory = from_directory, to_directory = to_directory, color = \"RGB\",\n",
    "           scale_factor = 1.2, classifier = 'haarCascade/haarcascade_frontalface_alt2.xml', minNeighbors = 8)"
   ]
  },
  {
   "cell_type": "markdown",
   "metadata": {},
   "source": [
    "- ### Sad Google :("
   ]
  },
  {
   "cell_type": "code",
   "execution_count": 14,
   "metadata": {},
   "outputs": [],
   "source": [
    "from_directory = \"images/google_dataset/raw_images/sad/\"\n",
    "to_directory = \"images/google_dataset/sad/\""
   ]
  },
  {
   "cell_type": "code",
   "execution_count": 15,
   "metadata": {},
   "outputs": [
    {
     "name": "stdout",
     "output_type": "stream",
     "text": [
      "Created 64/122 images cropped\n"
     ]
    }
   ],
   "source": [
    "write_imgs(from_directory = from_directory, to_directory = to_directory, color = \"RGB\",\n",
    "           scale_factor = 1.2, classifier = 'haarCascade/haarcascade_frontalface_alt2.xml', minNeighbors = 8)"
   ]
  },
  {
   "cell_type": "markdown",
   "metadata": {},
   "source": [
    "- ### Angry Google è.é"
   ]
  },
  {
   "cell_type": "code",
   "execution_count": 12,
   "metadata": {},
   "outputs": [],
   "source": [
    "from_directory = \"images/google_dataset/raw_images/angry/\"\n",
    "to_directory = \"images/google_dataset/angry/\""
   ]
  },
  {
   "cell_type": "code",
   "execution_count": 13,
   "metadata": {},
   "outputs": [
    {
     "name": "stdout",
     "output_type": "stream",
     "text": [
      "Created 88/148 images cropped\n"
     ]
    }
   ],
   "source": [
    "write_imgs(from_directory = from_directory, to_directory = to_directory, color = \"RGB\",\n",
    "           scale_factor = 1.2, classifier = 'haarCascade/haarcascade_frontalface_alt2.xml', minNeighbors = 8)"
   ]
  },
  {
   "cell_type": "markdown",
   "metadata": {},
   "source": [
    "- ### Surprised Google :O"
   ]
  },
  {
   "cell_type": "code",
   "execution_count": 3,
   "metadata": {},
   "outputs": [],
   "source": [
    "from_directory = \"images/google_dataset/raw_images/surprise/\"\n",
    "to_directory = \"images/google_dataset/surprise/\""
   ]
  },
  {
   "cell_type": "code",
   "execution_count": null,
   "metadata": {},
   "outputs": [],
   "source": [
    "write_imgs(from_directory = from_directory, to_directory = to_directory, color = \"RGB\",\n",
    "           scale_factor = 1.2, classifier = 'haarCascade/haarcascade_frontalface_alt2.xml', minNeighbors = 8)"
   ]
  },
  {
   "cell_type": "markdown",
   "metadata": {},
   "source": [
    "- ### Disgusted Google Dx"
   ]
  },
  {
   "cell_type": "code",
   "execution_count": 18,
   "metadata": {},
   "outputs": [],
   "source": [
    "from_directory = \"images/google_dataset/raw_images/disgust/\"\n",
    "to_directory = \"images/google_dataset/disgust/\""
   ]
  },
  {
   "cell_type": "code",
   "execution_count": 19,
   "metadata": {},
   "outputs": [
    {
     "name": "stdout",
     "output_type": "stream",
     "text": [
      "Created 68/100 images cropped\n"
     ]
    }
   ],
   "source": [
    "write_imgs(from_directory = from_directory, to_directory = to_directory, color = \"RGB\",\n",
    "           scale_factor = 1.2, classifier = 'haarCascade/haarcascade_frontalface_alt2.xml', minNeighbors = 8)"
   ]
  },
  {
   "cell_type": "markdown",
   "metadata": {},
   "source": [
    "- ### Fearful Google :S"
   ]
  },
  {
   "cell_type": "code",
   "execution_count": 20,
   "metadata": {},
   "outputs": [],
   "source": [
    "from_directory = \"images/google_dataset/raw_images/fear/\"\n",
    "to_directory = \"images/google_dataset/fear/\""
   ]
  },
  {
   "cell_type": "code",
   "execution_count": 21,
   "metadata": {},
   "outputs": [
    {
     "name": "stdout",
     "output_type": "stream",
     "text": [
      "Created 44/91 images cropped\n"
     ]
    }
   ],
   "source": [
    "write_imgs(from_directory = from_directory, to_directory = to_directory, color = \"RGB\",\n",
    "           scale_factor = 1.2, classifier = 'haarCascade/haarcascade_frontalface_alt2.xml', minNeighbors = 8)"
   ]
  },
  {
   "cell_type": "markdown",
   "metadata": {},
   "source": [
    "&nbsp;"
   ]
  },
  {
   "cell_type": "markdown",
   "metadata": {},
   "source": [
    "## Cropping test images"
   ]
  },
  {
   "cell_type": "code",
   "execution_count": 2,
   "metadata": {},
   "outputs": [],
   "source": [
    "def write_imgs(from_directory, to_directory, init_number = 1,\n",
    "              classifier = 'haarcascade_frontalface_default.xml', scale_factor = 1.1, minNeighbors = 5,\n",
    "              size = (224, 224), color = \"RGB\"):\n",
    "    '''\n",
    "    This function takes in input images and after face detection apply a crop and a resize to that images.\n",
    "    \n",
    "    @params:\n",
    "    from_directory = where to find the photos\n",
    "    to_directory = where to save the photos\n",
    "    init_number = first number to start naming photos\n",
    "    classifier = face detector pre-trained (XML file)\n",
    "    scale_factor = value for classifier (from (1,inf), low values increase false positives)\n",
    "    minNeighbors = value for classifier (high values decrease false positives)\n",
    "    size = tuple, format of the saved image\n",
    "    color = RGB or BW (to save)\n",
    "    \n",
    "    '''\n",
    "    # viene assegnato il classificatore\n",
    "    face_cascade = cv.CascadeClassifier(classifier)\n",
    "    \n",
    "    # variabili per conteggio ed errori\n",
    "    flag = init_number\n",
    "    error = 0\n",
    "    \n",
    "    for filename in os.listdir(from_directory):\n",
    "        # check per leggere solamente file jpg o jpeg\n",
    "        if filename.endswith(\".jpg\") or filename.endswith(\".jpeg\") or filename.endswith(\".JPG\"):\n",
    "            # lettura dell'immagine            \n",
    "            img = cv.imread(os.path.join(from_directory, filename))\n",
    "            # conversione immagine necessaria per il face detector\n",
    "            gray = cv.cvtColor(img, cv.COLOR_RGB2GRAY)\n",
    "            # esecuzione face detector\n",
    "            faces = face_cascade.detectMultiScale(gray, scale_factor, minNeighbors)\n",
    "            # check necessario per assegnare solo immagini in cui vengono trovati volti (altrimenti doppioni a catena!)\n",
    "            if len(faces) == 1:\n",
    "                for (x, y, w, h) in faces:\n",
    "                    # ritaglio dell'immagine rispetto al \"quadrato\" trovato\n",
    "                    roi_color = img[y:y+h, x:x+w]\n",
    "                    # resize dell'immagine\n",
    "                    n_img = cv.resize(roi_color, size)\n",
    "                    \n",
    "                    # salvataggio immagine\n",
    "                    if color == \"RGB\":\n",
    "                        cv.imwrite(os.path.join(to_directory, str(flag))+\"test_rgb.jpg\", n_img)\n",
    "                        flag += 1\n",
    "                    elif color == \"BW\":\n",
    "                        cv.imwrite(os.path.join(to_directory, str(flag))+\"test_bw.jpg\", cv.cvtColor(n_img, cv.COLOR_RGB2GRAY))\n",
    "                        flag += 1\n",
    "                        \n",
    "            # se non trova volti, prosegue qui            \n",
    "            else:\n",
    "                error += 1\n",
    "                try:\n",
    "                    # delete immagine per non creare doppioni (more safe!)\n",
    "                    del faces, n_img\n",
    "                # necessaria se non ha trovato volti (evitare crash code)\n",
    "                except:\n",
    "                    pass\n",
    "                \n",
    "    # output finale           \n",
    "    print('Created {}/{} images cropped'.format(flag-1, flag+error-1))\n",
    "                    \n",
    "    "
   ]
  },
  {
   "cell_type": "markdown",
   "metadata": {},
   "source": [
    "- ### Test :) "
   ]
  },
  {
   "cell_type": "code",
   "execution_count": 22,
   "metadata": {
    "ExecuteTime": {
     "end_time": "2019-12-10T22:28:49.663211Z",
     "start_time": "2019-12-10T22:28:49.658256Z"
    }
   },
   "outputs": [],
   "source": [
    "from_directory = \"images/test/raw_images/happy/\"\n",
    "to_directory = \"images/test/happy/\""
   ]
  },
  {
   "cell_type": "code",
   "execution_count": 23,
   "metadata": {
    "ExecuteTime": {
     "end_time": "2019-12-10T22:30:21.857673Z",
     "start_time": "2019-12-10T22:28:51.219906Z"
    }
   },
   "outputs": [
    {
     "name": "stdout",
     "output_type": "stream",
     "text": [
      "Created 15/15 images cropped\n"
     ]
    }
   ],
   "source": [
    "# Image cropping\n",
    "\n",
    "write_imgs(from_directory = from_directory, to_directory = to_directory, color = \"RGB\",\n",
    "           scale_factor = 1.2, classifier = 'haarCascade/haarcascade_frontalface_alt2.xml', minNeighbors = 8)"
   ]
  },
  {
   "cell_type": "markdown",
   "metadata": {},
   "source": [
    "- ### Test :|"
   ]
  },
  {
   "cell_type": "code",
   "execution_count": 25,
   "metadata": {},
   "outputs": [],
   "source": [
    "from_directory = \"images/test/raw_images/neutral/\"\n",
    "to_directory = \"images/test/neutral/\""
   ]
  },
  {
   "cell_type": "code",
   "execution_count": 26,
   "metadata": {},
   "outputs": [
    {
     "name": "stdout",
     "output_type": "stream",
     "text": [
      "Created 15/15 images cropped\n"
     ]
    }
   ],
   "source": [
    "write_imgs(from_directory = from_directory, to_directory = to_directory, color = \"RGB\",\n",
    "           scale_factor = 1.2, classifier = 'haarCascade/haarcascade_frontalface_alt2.xml', minNeighbors = 8)"
   ]
  },
  {
   "cell_type": "markdown",
   "metadata": {},
   "source": [
    "- ### Test :("
   ]
  },
  {
   "cell_type": "code",
   "execution_count": 33,
   "metadata": {},
   "outputs": [],
   "source": [
    "from_directory = \"images/test/raw_images/sad/\"\n",
    "to_directory = \"images/test/sad/\""
   ]
  },
  {
   "cell_type": "code",
   "execution_count": 34,
   "metadata": {},
   "outputs": [
    {
     "name": "stdout",
     "output_type": "stream",
     "text": [
      "Created 15/15 images cropped\n"
     ]
    }
   ],
   "source": [
    "write_imgs(from_directory = from_directory, to_directory = to_directory, color = \"RGB\",\n",
    "           scale_factor = 1.1, classifier = 'haarCascade/haarcascade_frontalface_alt2.xml', minNeighbors = 8)"
   ]
  },
  {
   "cell_type": "markdown",
   "metadata": {},
   "source": [
    "- ### Test è.é"
   ]
  },
  {
   "cell_type": "code",
   "execution_count": 29,
   "metadata": {},
   "outputs": [],
   "source": [
    "from_directory = \"images/test/raw_images/angry/\"\n",
    "to_directory = \"images/test/angry/\""
   ]
  },
  {
   "cell_type": "code",
   "execution_count": 30,
   "metadata": {},
   "outputs": [
    {
     "name": "stdout",
     "output_type": "stream",
     "text": [
      "Created 15/15 images cropped\n"
     ]
    }
   ],
   "source": [
    "write_imgs(from_directory = from_directory, to_directory = to_directory, color = \"RGB\",\n",
    "           scale_factor = 1.2, classifier = 'haarCascade/haarcascade_frontalface_alt2.xml', minNeighbors = 8)"
   ]
  },
  {
   "cell_type": "markdown",
   "metadata": {},
   "source": [
    "- ### Test :O"
   ]
  },
  {
   "cell_type": "code",
   "execution_count": 7,
   "metadata": {},
   "outputs": [],
   "source": [
    "from_directory = \"images/test/raw_images/surprise/\"\n",
    "to_directory = \"images/test/surprise/\""
   ]
  },
  {
   "cell_type": "code",
   "execution_count": 8,
   "metadata": {},
   "outputs": [
    {
     "name": "stdout",
     "output_type": "stream",
     "text": [
      "Created 1/1 images cropped\n"
     ]
    }
   ],
   "source": [
    "write_imgs(from_directory = from_directory, to_directory = to_directory, color = \"RGB\",\n",
    "           scale_factor = 1.01, classifier = 'haarCascade/haarcascade_frontalface_alt2.xml', minNeighbors = 11)"
   ]
  },
  {
   "cell_type": "markdown",
   "metadata": {},
   "source": [
    "- ### Test Dx"
   ]
  },
  {
   "cell_type": "code",
   "execution_count": 40,
   "metadata": {},
   "outputs": [],
   "source": [
    "from_directory = \"images/test/raw_images/disgust/\"\n",
    "to_directory = \"images/test/disgust/\""
   ]
  },
  {
   "cell_type": "code",
   "execution_count": 42,
   "metadata": {},
   "outputs": [
    {
     "name": "stdout",
     "output_type": "stream",
     "text": [
      "Created 15/15 images cropped\n"
     ]
    }
   ],
   "source": [
    "write_imgs(from_directory = from_directory, to_directory = to_directory, color = \"RGB\",\n",
    "           scale_factor = 1.1, classifier = 'haarCascade/haarcascade_frontalface_alt2.xml', minNeighbors = 8)"
   ]
  },
  {
   "cell_type": "markdown",
   "metadata": {},
   "source": [
    "- ### Test :S"
   ]
  },
  {
   "cell_type": "code",
   "execution_count": 45,
   "metadata": {},
   "outputs": [],
   "source": [
    "from_directory = \"images/test/raw_images/fear/\"\n",
    "to_directory = \"images/test/fear/\""
   ]
  },
  {
   "cell_type": "code",
   "execution_count": 46,
   "metadata": {},
   "outputs": [
    {
     "name": "stdout",
     "output_type": "stream",
     "text": [
      "Created 15/15 images cropped\n"
     ]
    }
   ],
   "source": [
    "write_imgs(from_directory = from_directory, to_directory = to_directory, color = \"RGB\",\n",
    "           scale_factor = 1.2, classifier = 'haarCascade/haarcascade_frontalface_alt2.xml', minNeighbors = 8)"
   ]
  },
  {
   "cell_type": "markdown",
   "metadata": {},
   "source": [
    "&nbsp;"
   ]
  }
 ],
 "metadata": {
  "kernelspec": {
   "display_name": "Python 3",
   "language": "python",
   "name": "python3"
  },
  "language_info": {
   "codemirror_mode": {
    "name": "ipython",
    "version": 3
   },
   "file_extension": ".py",
   "mimetype": "text/x-python",
   "name": "python",
   "nbconvert_exporter": "python",
   "pygments_lexer": "ipython3",
   "version": "3.6.9"
  }
 },
 "nbformat": 4,
 "nbformat_minor": 2
}
