{
  "nbformat": 4,
  "nbformat_minor": 0,
  "metadata": {
    "colab": {
      "name": "K-fold.ipynb",
      "provenance": [],
      "collapsed_sections": [],
      "toc_visible": true,
      "machine_shape": "hm",
      "include_colab_link": true
    },
    "kernelspec": {
      "name": "python3",
      "display_name": "Python 3"
    },
    "accelerator": "GPU"
  },
  "cells": [
    {
      "cell_type": "markdown",
      "metadata": {
        "id": "view-in-github",
        "colab_type": "text"
      },
      "source": [
        "<a href=\"https://colab.research.google.com/github/malborroni/RECMojion/blob/master/Model_NN.ipynb\" target=\"_parent\"><img src=\"https://colab.research.google.com/assets/colab-badge.svg\" alt=\"Open In Colab\"/></a>"
      ]
    },
    {
      "cell_type": "markdown",
      "metadata": {
        "id": "kui2vE2WuFh2",
        "colab_type": "text"
      },
      "source": [
        "# CNN + Fully Connected"
      ]
    },
    {
      "cell_type": "markdown",
      "metadata": {
        "id": "s5J3aj9wuMg6",
        "colab_type": "text"
      },
      "source": [
        "Valutazione in 5-fold cross validation dei modelli\n",
        "- feature extraction + CNN  \n",
        "- feature extraction + Fully Connected"
      ]
    },
    {
      "cell_type": "markdown",
      "metadata": {
        "id": "RLDHG0X9zF1_",
        "colab_type": "text"
      },
      "source": [
        "# Librerie"
      ]
    },
    {
      "cell_type": "code",
      "metadata": {
        "id": "8qN64RcDITqM",
        "colab_type": "code",
        "colab": {}
      },
      "source": [
        "! sudo pip install git+https://github.com/rcmalli/keras-vggface.git\n",
        "\n",
        "# Example of face detection with a vggface2 model\n",
        "import numpy as np\n",
        "import cv2 as cv\n",
        "import matplotlib.pyplot as plt\n",
        "import pandas as pd\n",
        "import random as rnd\n",
        "\n",
        "import seaborn as sns\n",
        "from matplotlib import style\n",
        "style.use('seaborn-pastel')\n",
        "\n",
        "import keras\n",
        "from keras.layers import Dense, Dropout, Flatten, Activation, Conv2D, MaxPooling2D\n",
        "from keras.models import Model, Sequential, load_model\n",
        "from keras.utils import to_categorical\n",
        "from keras.applications.mobilenet_v2 import MobileNetV2, preprocess_input\n",
        "import keras_vggface\n",
        "from keras_vggface.vggface import VGGFace\n",
        "from keras_vggface.utils import preprocess_input, decode_predictions\n",
        "from keras import regularizers\n",
        "from keras.callbacks import EarlyStopping, ModelCheckpoint \n",
        "from sklearn.metrics import accuracy_score\n",
        "\n",
        "import os\n",
        "from sklearn.preprocessing import LabelEncoder\n",
        "from sklearn.model_selection import train_test_split,StratifiedKFold\n",
        "\n",
        "import random\n",
        "import pickle"
      ],
      "execution_count": 0,
      "outputs": []
    },
    {
      "cell_type": "markdown",
      "metadata": {
        "id": "wImN4Bm8FyeX",
        "colab_type": "text"
      },
      "source": [
        "# Funzioni"
      ]
    },
    {
      "cell_type": "code",
      "metadata": {
        "id": "wZnf56LVu-Tn",
        "colab_type": "code",
        "colab": {}
      },
      "source": [
        "def graph(history):\n",
        "  # funzione che prende in input il modello fittato e fa un plot della loss in validation e train\n",
        "  epochs=len(history.history['loss'])\n",
        "  x_plot = list(range(1,epochs+1))\n",
        "  plt.figure()\n",
        "  \n",
        "  plt.subplot(1, 2, 1)\n",
        "  plt.xlabel('Epochs')\n",
        "  plt.ylabel('Loss')\n",
        "  plt.plot(x_plot, history.history['loss'])\n",
        "  plt.plot(x_plot, history.history['val_loss'])\n",
        "  plt.legend(['Training', 'Validation'])\n",
        "\n",
        "  \n",
        "  plt.subplot(1, 2, 2)\n",
        "  plt.xlabel('Epochs')\n",
        "  plt.ylabel('Acc')\n",
        "  plt.plot(x_plot, history.history['acc'])\n",
        "  plt.plot(x_plot, history.history['val_acc'])\n",
        "  plt.legend(['Training', 'Validation'])\n",
        "  \n",
        "  plt.tight_layout()\n",
        "  plt.show()\n"
      ],
      "execution_count": 0,
      "outputs": []
    },
    {
      "cell_type": "markdown",
      "metadata": {
        "id": "HBb8ltGpzJZ4",
        "colab_type": "text"
      },
      "source": [
        "#Dataset"
      ]
    },
    {
      "cell_type": "markdown",
      "metadata": {
        "id": "QSU2PFz-HMpI",
        "colab_type": "text"
      },
      "source": [
        "Il dataset si trova in un file chiamato XY.pkl nel drive "
      ]
    },
    {
      "cell_type": "code",
      "metadata": {
        "id": "_cxeiY2HG5BH",
        "colab_type": "code",
        "outputId": "94ec6564-329d-4a06-d65e-2140d5bd3ab5",
        "colab": {
          "base_uri": "https://localhost:8080/",
          "height": 126
        }
      },
      "source": [
        "from google.colab import drive\n",
        "drive.mount('/content/drive')"
      ],
      "execution_count": 0,
      "outputs": [
        {
          "output_type": "stream",
          "text": [
            "Go to this URL in a browser: https://accounts.google.com/o/oauth2/auth?client_id=947318989803-6bn6qk8qdgf4n4g3pfee6491hc0brc4i.apps.googleusercontent.com&redirect_uri=urn%3aietf%3awg%3aoauth%3a2.0%3aoob&response_type=code&scope=email%20https%3a%2f%2fwww.googleapis.com%2fauth%2fdocs.test%20https%3a%2f%2fwww.googleapis.com%2fauth%2fdrive%20https%3a%2f%2fwww.googleapis.com%2fauth%2fdrive.photos.readonly%20https%3a%2f%2fwww.googleapis.com%2fauth%2fpeopleapi.readonly\n",
            "\n",
            "Enter your authorization code:\n",
            "··········\n",
            "Mounted at /content/drive\n"
          ],
          "name": "stdout"
        }
      ]
    },
    {
      "cell_type": "markdown",
      "metadata": {
        "id": "zvwQJlr9C-US",
        "colab_type": "text"
      },
      "source": [
        "Import del dataset:\n",
        "\n",
        "    - X : immagini (senza preprocessing)\n",
        "    - Y : labels (\"fear\",\"happy\",ect)"
      ]
    },
    {
      "cell_type": "code",
      "metadata": {
        "id": "nIDLsPlfbLvG",
        "colab_type": "code",
        "colab": {}
      },
      "source": [
        "with open('/content/drive/My Drive/AML/XY.pkl', 'rb') as infile:\n",
        "    result = pickle.load(infile)\n",
        "X,Y=result"
      ],
      "execution_count": 0,
      "outputs": []
    },
    {
      "cell_type": "code",
      "metadata": {
        "id": "xs-6IWngzoWK",
        "colab_type": "code",
        "outputId": "07866d22-21ca-418a-8fa3-5a4c3bae9db0",
        "colab": {
          "base_uri": "https://localhost:8080/",
          "height": 35
        }
      },
      "source": [
        "X.shape, Y.shape"
      ],
      "execution_count": 0,
      "outputs": [
        {
          "output_type": "execute_result",
          "data": {
            "text/plain": [
              "((2590, 224, 224, 3), (2590,))"
            ]
          },
          "metadata": {
            "tags": []
          },
          "execution_count": 6
        }
      ]
    },
    {
      "cell_type": "code",
      "metadata": {
        "id": "fP9FTHIdcIOt",
        "colab_type": "code",
        "colab": {}
      },
      "source": [
        "X = np.array(X).astype('float64')\n",
        "Y = np.array(Y)"
      ],
      "execution_count": 0,
      "outputs": []
    },
    {
      "cell_type": "code",
      "metadata": {
        "id": "ulguUoVgcdnI",
        "colab_type": "code",
        "colab": {}
      },
      "source": [
        "le = LabelEncoder()\n",
        "Y = le.fit_transform(Y) # Encoding dei labels"
      ],
      "execution_count": 0,
      "outputs": []
    },
    {
      "cell_type": "markdown",
      "metadata": {
        "id": "RknC_UkCGY5M",
        "colab_type": "text"
      },
      "source": [
        "# Feature Extration"
      ]
    },
    {
      "cell_type": "code",
      "metadata": {
        "id": "5ipb1Jr-IelL",
        "colab_type": "code",
        "colab": {}
      },
      "source": [
        "# Import dei pesi della rete \n",
        "base_model = VGGFace(include_top = False, input_shape = (224, 224, 3), model='senet50')"
      ],
      "execution_count": 0,
      "outputs": []
    },
    {
      "cell_type": "code",
      "metadata": {
        "id": "gOkrwBajIux8",
        "colab_type": "code",
        "colab": {}
      },
      "source": [
        "X = preprocess_input(X,version=2) # preprocessing per la vggface, in particolare version 2 per la senet50"
      ],
      "execution_count": 0,
      "outputs": []
    },
    {
      "cell_type": "code",
      "metadata": {
        "id": "iwYXvS8xAYJu",
        "colab_type": "code",
        "colab": {}
      },
      "source": [
        "base_model.summary()"
      ],
      "execution_count": 0,
      "outputs": []
    },
    {
      "cell_type": "code",
      "metadata": {
        "id": "_KNCDtsHbi1O",
        "colab_type": "code",
        "colab": {}
      },
      "source": [
        "layer_cut = \"activation_66\" \n",
        "# Creazione del modello con output al layer scelto \n",
        "model = Model(inputs=base_model.input, outputs=base_model.get_layer(layer_cut).output)"
      ],
      "execution_count": 0,
      "outputs": []
    },
    {
      "cell_type": "code",
      "metadata": {
        "id": "GL0OPnrgeoYU",
        "colab_type": "code",
        "colab": {}
      },
      "source": [
        "X = model.predict(X) # feature extraction"
      ],
      "execution_count": 0,
      "outputs": []
    },
    {
      "cell_type": "markdown",
      "metadata": {
        "id": "2yCVF8gvzYuU",
        "colab_type": "text"
      },
      "source": [
        "# CNN"
      ]
    },
    {
      "cell_type": "code",
      "metadata": {
        "id": "C__a-Uam2wZ4",
        "colab_type": "code",
        "colab": {}
      },
      "source": [
        "# fix random seed for reproducibility\n",
        "seed = 42\n",
        "np.random.seed(seed)\n",
        "# define 5-fold cross validation \n",
        "kfold = StratifiedKFold(n_splits=5, shuffle=True, random_state=seed)\n",
        "cvscores = []"
      ],
      "execution_count": 0,
      "outputs": []
    },
    {
      "cell_type": "code",
      "metadata": {
        "id": "F0K33rEE34Vu",
        "colab_type": "code",
        "colab": {}
      },
      "source": [
        "batch_size = 128\n",
        "num_epoch = 100\n",
        "filepath = \"/content/drive/My Drive/AML/cnn.h5\"\n",
        "checkpoint = ModelCheckpoint(filepath, monitor='val_acc', verbose=1, save_best_only=True, mode='max')\n",
        "early_stop = EarlyStopping(monitor='val_loss', patience=4, verbose=1,restore_best_weights=True) "
      ],
      "execution_count": 0,
      "outputs": []
    },
    {
      "cell_type": "code",
      "metadata": {
        "id": "cKVeLG5x2ONj",
        "colab_type": "code",
        "colab": {}
      },
      "source": [
        "for train, test in kfold.split(X, Y):\n",
        "  #create data\n",
        "    x_train = X[train]\n",
        "    x_test = X[test]\n",
        "    y_train = to_categorical(Y[train], num_classes = 7)\n",
        "    y_test = to_categorical(Y[test], num_classes = 7)\n",
        "\n",
        "# Create model\n",
        "    model = Sequential()\n",
        "    # C1\n",
        "    model.add(Conv2D(32, kernel_size=1, activation='relu', input_shape= (14, 14, 1024)))\n",
        "    model.add(Conv2D(128, kernel_size=3, activation='relu'))\n",
        "    model.add(Conv2D(32, kernel_size=1, activation='relu'))\n",
        "    model.add(MaxPooling2D(pool_size=(2, 2)))\n",
        "    model.add(Flatten())\n",
        "    # D\n",
        "    model.add(Dense(210, activation='relu')) \n",
        "    model.add(Dropout(0.5)) \n",
        "    model.add(Dense(7, activation='softmax'))\n",
        "# Compile model\n",
        "    model.compile(loss=keras.losses.categorical_crossentropy,\n",
        "                optimizer=keras.optimizers.Adam(),\n",
        "                metrics=['accuracy'])\t\n",
        "# Fit the model\n",
        "    x_train, x_val, y_train, y_val = train_test_split(x_train, y_train, test_size = .2, random_state = 42, stratify = y_train)\n",
        "\n",
        "    model_log = model.fit(x_train, y_train,\n",
        "          batch_size=batch_size,\n",
        "          epochs=num_epoch,\n",
        "          verbose=1,\n",
        "          validation_data=(x_val, y_val),\n",
        "          callbacks=[early_stop,checkpoint])\n",
        "    graph(model_log)\n",
        "# Evaluate the model\n",
        "    scores = model.evaluate(x_test, y_test, verbose=0)\n",
        "    print(\"%s: %.2f%%\" % (model.metrics_names[1], scores[1]*100))\n",
        "    cvscores.append(scores[1] * 100)\n",
        "print(\"%.2f%% (+/- %.2f%%)\" % (np.mean(cvscores), np.std(cvscores)))\n"
      ],
      "execution_count": 0,
      "outputs": []
    },
    {
      "cell_type": "markdown",
      "metadata": {
        "id": "gsH2BkRfCW0b",
        "colab_type": "text"
      },
      "source": [
        "Salvataggio accuracy"
      ]
    },
    {
      "cell_type": "code",
      "metadata": {
        "id": "CPkIhTvR4m5r",
        "colab_type": "code",
        "colab": {}
      },
      "source": [
        "kfold_acc = {}\n",
        "kfold_acc[\"CNN\"]=(np.mean(cvscores), np.std(cvscores))"
      ],
      "execution_count": 0,
      "outputs": []
    },
    {
      "cell_type": "markdown",
      "metadata": {
        "id": "ynzXwqK0pDbE",
        "colab_type": "text"
      },
      "source": [
        "# Fully Connected"
      ]
    },
    {
      "cell_type": "code",
      "metadata": {
        "colab_type": "code",
        "id": "LOFBCRXVpvsV",
        "colab": {}
      },
      "source": [
        "batch_size = 256\n",
        "num_epoch = 100\n",
        "filepath = \"/content/drive/My Drive/AML/fully.h5\"\n",
        "checkpoint = ModelCheckpoint(filepath, monitor='val_acc', verbose=1, save_best_only=True, mode='max')\n",
        "early_stop = EarlyStopping(monitor='val_loss', patience=5, verbose=1,restore_best_weights=True) "
      ],
      "execution_count": 0,
      "outputs": []
    },
    {
      "cell_type": "code",
      "metadata": {
        "id": "2gEQSiIelkU0",
        "colab_type": "code",
        "colab": {}
      },
      "source": [
        "from keras.utils import to_categorical\n",
        "for train, test in kfold.split(X, Y):\n",
        "  #create data\n",
        "    x_train = X[train]\n",
        "    x_test = X[test]\n",
        "    y_train = to_categorical(Y[train], num_classes = 7)\n",
        "    y_test = to_categorical(Y[test], num_classes = 7)\n",
        "\n",
        "# Create model\n",
        "    model = Sequential()\n",
        "    model.add(Flatten())\n",
        "    # D\n",
        "    model.add(Dense(512, activation='relu'))\n",
        "    model.add(Dropout(0.4))\n",
        "    model.add(Dense(128, activation='relu'))\n",
        "    model.add(Dropout(0.4))\n",
        "    model.add(Dense(56, activation='relu'))\n",
        "    model.add(Dropout(0.4))\n",
        "    model.add(Dense(7, activation='softmax'))\n",
        "# Compile model\n",
        "    model.compile(loss=keras.losses.categorical_crossentropy,\n",
        "                optimizer=keras.optimizers.Adam(),\n",
        "                metrics=['accuracy'])\t\n",
        "# Fit the model\n",
        "    x_train, x_val, y_train, y_val = train_test_split(x_train, y_train, test_size = .2, random_state = 42, stratify = y_train)\n",
        "\n",
        "    model_log = model.fit(x_train, y_train,\n",
        "          batch_size=batch_size,\n",
        "          epochs=num_epoch,\n",
        "          verbose=1,\n",
        "          validation_data=(x_val, y_val),\n",
        "          callbacks=[early_stop,checkpoint])\n",
        "    graph(model_log)\n",
        "# Evaluate the model\n",
        "    scores = model.evaluate(x_test, y_test, verbose=0)\n",
        "    print(\"%s: %.2f%%\" % (model.metrics_names[1], scores[1]*100))\n",
        "    cvscores.append(scores[1] * 100)\n",
        "print(\"%.2f%% (+/- %.2f%%)\" % (np.mean(cvscores), np.std(cvscores)))"
      ],
      "execution_count": 0,
      "outputs": []
    },
    {
      "cell_type": "markdown",
      "metadata": {
        "id": "oLBdhxGqyMH7",
        "colab_type": "text"
      },
      "source": [
        "Salvataggio accuracy"
      ]
    },
    {
      "cell_type": "code",
      "metadata": {
        "id": "IijuhjJH_H95",
        "colab_type": "code",
        "colab": {}
      },
      "source": [
        "kfold_acc[\"FC\"]=(np.mean(cvscores), np.std(cvscores))\n",
        "\n",
        "json = json.dumps(kfold_acc)\n",
        "f = open(\"/content/drive/My Drive/AML/kfold_acc.json\",\"w\")\n",
        "f.write(json)\n",
        "f.close()"
      ],
      "execution_count": 0,
      "outputs": []
    }
  ]
}