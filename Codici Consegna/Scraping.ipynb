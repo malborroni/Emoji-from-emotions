{
  "nbformat": 4,
  "nbformat_minor": 0,
  "metadata": {
    "colab": {
      "name": "Scraping.ipynb",
      "provenance": [],
      "collapsed_sections": [],
      "include_colab_link": true
    },
    "kernelspec": {
      "name": "python3",
      "display_name": "Python 3"
    }
  },
  "cells": [
    {
      "cell_type": "markdown",
      "metadata": {
        "id": "view-in-github",
        "colab_type": "text"
      },
      "source": [
        "<a href=\"https://colab.research.google.com/github/malborroni/Emojis-from-emotions/blob/master/Scripts/Scraping.ipynb\" target=\"_parent\"><img src=\"https://colab.research.google.com/assets/colab-badge.svg\" alt=\"Open In Colab\"/></a>"
      ]
    },
    {
      "cell_type": "markdown",
      "metadata": {
        "id": "gK9LCslDsel6",
        "colab_type": "text"
      },
      "source": [
        "Set up enviroment per google chrome su colab"
      ]
    },
    {
      "cell_type": "markdown",
      "metadata": {
        "id": "RFf7NwJtu4hC",
        "colab_type": "text"
      },
      "source": [
        "[link opzioni download](https://google-images-download.readthedocs.io/en/latest/arguments.html)"
      ]
    },
    {
      "cell_type": "code",
      "metadata": {
        "id": "iGO48PtbkgOH",
        "colab_type": "code",
        "colab": {}
      },
      "source": [
        "!pip install selenium\n",
        "!apt-get update # to update ubuntu to correctly run apt install\n",
        "!apt install chromium-chromedriver\n",
        "!cp /usr/lib/chromium-browser/chromedriver /usr/bin\n",
        "import sys\n",
        "sys.path.insert(0,'/usr/lib/chromium-browser/chromedriver')\n",
        "from selenium import webdriver\n",
        "chrome_options = webdriver.ChromeOptions()\n",
        "chrome_options.add_argument('--headless')\n",
        "chrome_options.add_argument('--no-sandbox')\n",
        "chrome_options.add_argument('--disable-dev-shm-usage')\n",
        "wd = webdriver.Chrome('chromedriver',chrome_options=chrome_options)\n",
        "wd.get(\"https://www.webite-url.com\")"
      ],
      "execution_count": 0,
      "outputs": []
    },
    {
      "cell_type": "code",
      "metadata": {
        "id": "d_HGoK7MwNsn",
        "colab_type": "code",
        "colab": {
          "base_uri": "https://localhost:8080/",
          "height": 126
        },
        "outputId": "1795bda7-e4c3-4c35-c813-eea76d8ae514"
      },
      "source": [
        "from google.colab import drive\n",
        "drive.mount('/content/drive')"
      ],
      "execution_count": 2,
      "outputs": [
        {
          "output_type": "stream",
          "text": [
            "Go to this URL in a browser: https://accounts.google.com/o/oauth2/auth?client_id=947318989803-6bn6qk8qdgf4n4g3pfee6491hc0brc4i.apps.googleusercontent.com&redirect_uri=urn%3aietf%3awg%3aoauth%3a2.0%3aoob&response_type=code&scope=email%20https%3a%2f%2fwww.googleapis.com%2fauth%2fdocs.test%20https%3a%2f%2fwww.googleapis.com%2fauth%2fdrive%20https%3a%2f%2fwww.googleapis.com%2fauth%2fdrive.photos.readonly%20https%3a%2f%2fwww.googleapis.com%2fauth%2fpeopleapi.readonly\n",
            "\n",
            "Enter your authorization code:\n",
            "··········\n",
            "Mounted at /content/drive\n"
          ],
          "name": "stdout"
        }
      ]
    },
    {
      "cell_type": "code",
      "metadata": {
        "id": "5heJTUNlZXRd",
        "colab_type": "code",
        "outputId": "19c752d0-5dcd-4d01-e08c-8906051a56e9",
        "colab": {
          "base_uri": "https://localhost:8080/",
          "height": 304
        }
      },
      "source": [
        "!pip install google_images_download\n",
        "from google_images_download import google_images_download\n",
        "DRIVER_PATH = '/usr/lib/chromium-browser/chromedriver'\n",
        "args = {'keywords': 'sad human face',               # the query to search in Google Images\n",
        "        'output_directory': '/content/drive/My Drive/AML',   # Cartella di destinazione delle immagini scaricate\n",
        "        'image_directory': 'Sad',                   # Nome della sotto-cartella di destinazione\n",
        "        'color_type': 'full-color',\n",
        "        'silent_mode': True,                          # limits the number of lines printed to stdout\n",
        "        'limit': 10,                                # limit for the number of images returned\n",
        "        'chromedriver': DRIVER_PATH}\n",
        "\n",
        "response = google_images_download.googleimagesdownload()\n",
        "response.download(args)"
      ],
      "execution_count": 4,
      "outputs": [
        {
          "output_type": "stream",
          "text": [
            "Requirement already satisfied: google_images_download in /usr/local/lib/python3.6/dist-packages (2.8.0)\n",
            "Requirement already satisfied: selenium in /usr/local/lib/python3.6/dist-packages (from google_images_download) (3.141.0)\n",
            "Requirement already satisfied: urllib3 in /usr/local/lib/python3.6/dist-packages (from selenium->google_images_download) (1.24.3)\n",
            "Downloading images for: sad human face ...\n"
          ],
          "name": "stdout"
        },
        {
          "output_type": "execute_result",
          "data": {
            "text/plain": [
              "({'sad human face': ['/content/drive/My Drive/AML/Sad/1.human-expressions-emotions-young-attractive-woman-depressed-face-looking-sad-unhappy-close-up-portrait-beautiful-117693906.jpg',\n",
              "   '/content/drive/My Drive/AML/Sad/2.depositphotos_218926456-stock-photo-human-face-can-different-strong.jpg',\n",
              "   '/content/drive/My Drive/AML/Sad/3.096b101cd34c08b79bb0e6aec2b3afb5.jpg',\n",
              "   '/content/drive/My Drive/AML/Sad/4.portrait-beautiful-sad-young-woman-unhappy-face-looking-miserable-melancholy-human-facial-expressions-negative-139155053.jpg',\n",
              "   '/content/drive/My Drive/AML/Sad/5.113219420-human-face-can-be-different-with-strong-expressions-and-emotions-depressed-sad-squinting-man-facial-.jpg',\n",
              "   '/content/drive/My Drive/AML/Sad/6.portrait-of-older-adult-senior-man-in-pain-with-sad-and-exhausted-face-in-human-emotions-facial-expression-retirement-and-depression-concept-isolated-R17R29.jpg',\n",
              "   '/content/drive/My Drive/AML/Sad/7.human-expressions-emotions-young-attractive-man-sad-face-looking-depressed-unhappy-close-up-portrait-handsome-crying-139799711.jpg',\n",
              "   '/content/drive/My Drive/AML/Sad/8.117279289-close-up-portrait-of-beautiful-young-woman-with-sad-face-looking-miserable-and-melancholy-human-faci.jpg',\n",
              "   '/content/drive/My Drive/AML/Sad/9.c780229548ea12b52c1335b4e7583df0.jpg',\n",
              "   '/content/drive/My Drive/AML/Sad/10.44519840732_c67b4ac581_b.jpg']},\n",
              " 1)"
            ]
          },
          "metadata": {
            "tags": []
          },
          "execution_count": 4
        }
      ]
    }
  ]
}