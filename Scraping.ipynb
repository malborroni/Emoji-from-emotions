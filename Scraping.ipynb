{
  "nbformat": 4,
  "nbformat_minor": 0,
  "metadata": {
    "colab": {
      "name": "Scraping.ipynb",
      "provenance": [],
      "collapsed_sections": [],
      "include_colab_link": true
    },
    "kernelspec": {
      "name": "python3",
      "display_name": "Python 3"
    }
  },
  "cells": [
    {
      "cell_type": "markdown",
      "metadata": {
        "id": "view-in-github",
        "colab_type": "text"
      },
      "source": [
        "<a href=\"https://colab.research.google.com/github/malborroni/Emojis-from-emotions/blob/master/Scraping.ipynb\" target=\"_parent\"><img src=\"https://colab.research.google.com/assets/colab-badge.svg\" alt=\"Open In Colab\"/></a>"
      ]
    },
    {
      "cell_type": "markdown",
      "metadata": {
        "id": "gK9LCslDsel6",
        "colab_type": "text"
      },
      "source": [
        "Set up enviroment per google chrome su colab"
      ]
    },
    {
      "cell_type": "code",
      "metadata": {
        "id": "iGO48PtbkgOH",
        "colab_type": "code",
        "colab": {}
      },
      "source": [
        "!pip install selenium\n",
        "!apt-get update # to update ubuntu to correctly run apt install\n",
        "!apt install chromium-chromedriver\n",
        "!cp /usr/lib/chromium-browser/chromedriver /usr/bin\n",
        "import sys\n",
        "sys.path.insert(0,'/usr/lib/chromium-browser/chromedriver')\n",
        "from selenium import webdriver\n",
        "chrome_options = webdriver.ChromeOptions()\n",
        "chrome_options.add_argument('--headless')\n",
        "chrome_options.add_argument('--no-sandbox')\n",
        "chrome_options.add_argument('--disable-dev-shm-usage')\n",
        "wd = webdriver.Chrome('chromedriver',chrome_options=chrome_options)\n",
        "wd.get(\"https://www.webite-url.com\")"
      ],
      "execution_count": 0,
      "outputs": []
    },
    {
      "cell_type": "code",
      "metadata": {
        "id": "5heJTUNlZXRd",
        "colab_type": "code",
        "outputId": "f4a672ba-33a9-49bc-f1df-5d5f3f653764",
        "colab": {
          "base_uri": "https://localhost:8080/",
          "height": 70
        }
      },
      "source": [
        "!pip install google_images_download\n",
        "from google_images_download import google_images_download\n",
        "DRIVER_PATH = '/usr/lib/chromium-browser/chromedriver'\n",
        "args = {'keywords': 'disgusted human face',               # the query to search in Google Images\n",
        "        'output_directory': '/content/drive/My Drive/AML',   # Cartella di destinazione delle immagini scaricate\n",
        "        'image_directory': 'Disgust',                   # Nome della sotto-cartella di destinazione\n",
        "        'silent_mode': True,                          # limits the number of lines printed to stdout\n",
        "        'limit': 1000,                                # limit for the number of images returned\n",
        "        'chromedriver': DRIVER_PATH}\n",
        "\n",
        "response = google_images_download.googleimagesdownload()\n",
        "response.download(args)"
      ],
      "execution_count": 0,
      "outputs": [
        {
          "output_type": "stream",
          "text": [
            "Downloading images for: disgusted human face ...\n",
            "Getting you a lot of images. This may take a few moments...\n",
            "Reached end of Page.\n"
          ],
          "name": "stdout"
        }
      ]
    }
  ]
}